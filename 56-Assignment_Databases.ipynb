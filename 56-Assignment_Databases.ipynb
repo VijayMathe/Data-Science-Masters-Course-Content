{
 "cells": [
  {
   "cell_type": "markdown",
   "id": "889b9c14-8fe0-4e58-a4fe-ffdd2a1ed7bf",
   "metadata": {},
   "source": [
    "## Q1. What is a database? Differentiate between SQL and NoSQL databases."
   ]
  },
  {
   "cell_type": "markdown",
   "id": "d371e70e-2f65-4c75-9d45-7eda6f86650a",
   "metadata": {},
   "source": [
    "### Ans:\n",
    "### The database is an electronic space where the data can be stored in such a manner that the data which is stored cabe be accessible easilyh by the authorized persons\n",
    "### The CRUD operations can be performed with the database (C- Create, R- Read, U- Update, D- Delete)"
   ]
  },
  {
   "cell_type": "markdown",
   "id": "706f0084-9de8-4fe8-b0d0-7a9eab7afb66",
   "metadata": {},
   "source": [
    "### SQl Database:\n",
    "### The SQL Database stores the data in a tabular format\n",
    "### The SQL database can only store the current data and huge amount of data cannot be stored in the database\n",
    "### The tables in SQL Databases are connected with each other\n",
    "### SQL databases follow a structured, relational model with predefined schemas and use SQL as the query language.\n",
    "\n",
    "### NoSQL Databases\n",
    "### The NoSQL Databases stote the data in the form of document, graph, key-value\n",
    "### The NoSQL Databases can store huge amounts of a data\n",
    "### The NoSQL Databases can store data about multiple years of history\n",
    "### NoSQL databases provide more flexibility in data organization, handle various data formats, and offer high scalability and performance."
   ]
  },
  {
   "cell_type": "code",
   "execution_count": null,
   "id": "ee6c3181-1562-4edc-a092-cecc78e68ba0",
   "metadata": {},
   "outputs": [],
   "source": []
  },
  {
   "cell_type": "markdown",
   "id": "5bcdf22f-efe1-4e57-b403-f9273ee6fa14",
   "metadata": {},
   "source": [
    "## Q2. What is DDL? Explain why CREATE, DROP, ALTER, and TRUNCATE are used with an example."
   ]
  },
  {
   "cell_type": "markdown",
   "id": "ecab2411-95db-41ba-adee-7843e963ae62",
   "metadata": {},
   "source": [
    "### Ans:\n",
    "### DDL meand Data Definition Language used to define and manage the structure of a database.\n",
    "### The DDL is used to define the schema of the database\n",
    "### DDL statements are used to create, modify, and delete database objects such as tables, indexes, views, and constraints.\n",
    "### CREATE - it is used to create new databse objects in the database\n",
    "### DROP - The DROP statement is used to remove an existing database object.\n",
    "### ALTER - The ALTER statement is used to modify the structure of an existing database object.\n",
    "### TRUNCATE - The TRUNCATE statement is used to remove all data from an existing table while keeping its structure intact."
   ]
  },
  {
   "cell_type": "code",
   "execution_count": null,
   "id": "b8cff213-2b0e-47a6-ad5c-ee9fc6d4be01",
   "metadata": {},
   "outputs": [],
   "source": []
  },
  {
   "cell_type": "markdown",
   "id": "c9a946dc-e469-4162-a0c0-9e17cb56ed07",
   "metadata": {},
   "source": [
    "## Q3. What is DML? Explain INSERT, UPDATE, and DELETE with an example."
   ]
  },
  {
   "cell_type": "markdown",
   "id": "46a5e1ac-f58e-4b24-ba7c-ed1b5b40738e",
   "metadata": {},
   "source": [
    "### Ans:\n",
    "### DML means Data Manipulation Language used to retrieve, modify, and delete data within a database.\n",
    "### INSERT - The INSERT statement is used to insert new data into a table.\n",
    "### UPDATE - The UPDATE statement is used to modify existing data in a table.\n",
    "### DELETE - The DELETE statement is used to delete existing data from a table."
   ]
  },
  {
   "cell_type": "code",
   "execution_count": null,
   "id": "6e086489-58ec-47a0-906a-48be9c4d91d4",
   "metadata": {},
   "outputs": [],
   "source": []
  },
  {
   "cell_type": "markdown",
   "id": "6344bb3a-55ae-43b3-8cd8-5612aecb6b6e",
   "metadata": {},
   "source": [
    "## Q4. What is DQL? Explain SELECT with an example."
   ]
  },
  {
   "cell_type": "markdown",
   "id": "17157419-186b-4fc6-a200-639606ac23bc",
   "metadata": {},
   "source": [
    "### Ans:\n",
    "### DQL means Data Query Language used to retrive the data from the databse.\n",
    "### DQL Includes the SELECT statement\n",
    "### The SELECT statement is used to retrieve data from a database table or multiple tables. It allows you to specify the columns you want to retrieve, the table(s) from which to retrieve the data, and optional conditions to filter the data."
   ]
  },
  {
   "cell_type": "code",
   "execution_count": null,
   "id": "b195e2fd-908a-4ae4-b739-0bbbabfc600b",
   "metadata": {},
   "outputs": [],
   "source": []
  },
  {
   "cell_type": "markdown",
   "id": "bf04022b-044b-4da7-b7bb-84a7248f824f",
   "metadata": {},
   "source": [
    "## Q5. Explain Primary Key and Foreign Key."
   ]
  },
  {
   "cell_type": "markdown",
   "id": "4d772138-f584-43f7-9e58-ec3fd3da4d2d",
   "metadata": {},
   "source": [
    "### Ans:\n",
    "### The Primary key is the attribute or the set of attributes that uniquely identifies each instance of the entity\n",
    "### The Feraign key is used to connect two tables."
   ]
  },
  {
   "cell_type": "code",
   "execution_count": null,
   "id": "90672955-28e8-4625-9b31-7f3cba384acd",
   "metadata": {},
   "outputs": [],
   "source": []
  },
  {
   "cell_type": "markdown",
   "id": "288a9231-51f0-465f-b9c3-593a678a044e",
   "metadata": {},
   "source": [
    "## Q6. Write a python code to connect MySQL to python. Explain the cursor() and execute() method."
   ]
  },
  {
   "cell_type": "code",
   "execution_count": 2,
   "id": "45096b51-025a-4929-b6e3-1bd38eab0919",
   "metadata": {},
   "outputs": [],
   "source": [
    "import mysql.connector\n",
    "\n",
    "connection = mysql.connector.connect(\n",
    "    host=\"localhost\",\n",
    "    user=\"your_username\",\n",
    "    password=\"your_password\",\n",
    "    database=\"your_database\"\n",
    ")"
   ]
  },
  {
   "cell_type": "markdown",
   "id": "638fa292-3713-4408-aef5-800ccd07bc6c",
   "metadata": {},
   "source": [
    "### cursor():\n",
    "### The cursor() method is used to create a cursor object. The cursor acts as a pointer or handle to the result set of a query."
   ]
  },
  {
   "cell_type": "markdown",
   "id": "4aed4cf1-f892-4bcf-8390-83d87b197e09",
   "metadata": {},
   "source": [
    "### execute():\n",
    "### The execute() method is used to execute SQL queries or statements. It takes the SQL query as a parameter and executes it on the database."
   ]
  },
  {
   "cell_type": "code",
   "execution_count": null,
   "id": "50303881-c11a-4e49-a798-0964eb27926e",
   "metadata": {},
   "outputs": [],
   "source": []
  },
  {
   "cell_type": "markdown",
   "id": "6fc4ce44-dcba-496a-88ae-100c2ad17788",
   "metadata": {},
   "source": [
    "## Q7. Give the order of execution of SQL clauses in an SQL query."
   ]
  },
  {
   "cell_type": "markdown",
   "id": "764582fa-5ea4-4dfa-96ff-5aa4eebf0609",
   "metadata": {},
   "source": [
    "### Ans:\n",
    "### The order of execution of SQL clauses in an SQL query is as follows"
   ]
  },
  {
   "cell_type": "raw",
   "id": "b3d1c749-21e9-4915-bb73-09bdbd481441",
   "metadata": {},
   "source": [
    "FROM: Specifies the table(s) from which data is being retrieved.\n",
    "\n",
    "JOIN: Specifies any join operations to combine data from multiple tables.\n",
    "\n",
    "WHERE: Filters the data based on specified conditions.\n",
    "\n",
    "GROUP BY: Groups the data based on specified columns.\n",
    "\n",
    "HAVING: Filters the grouped data based on specified conditions.\n",
    "\n",
    "SELECT: Specifies the columns to retrieve from the table(s).\n",
    "\n",
    "DISTINCT: Removes duplicate rows from the result set.\n",
    "\n",
    "ORDER BY: Sorts the result set based on specified columns.\n",
    "\n",
    "LIMIT/OFFSET: Limits the number of rows returned or skips a specified number of rows."
   ]
  },
  {
   "cell_type": "code",
   "execution_count": null,
   "id": "c6cfab75-2667-45b0-a94e-bcc1ed457f17",
   "metadata": {},
   "outputs": [],
   "source": []
  }
 ],
 "metadata": {
  "kernelspec": {
   "display_name": "Python 3 (ipykernel)",
   "language": "python",
   "name": "python3"
  },
  "language_info": {
   "codemirror_mode": {
    "name": "ipython",
    "version": 3
   },
   "file_extension": ".py",
   "mimetype": "text/x-python",
   "name": "python",
   "nbconvert_exporter": "python",
   "pygments_lexer": "ipython3",
   "version": "3.10.8"
  }
 },
 "nbformat": 4,
 "nbformat_minor": 5
}
