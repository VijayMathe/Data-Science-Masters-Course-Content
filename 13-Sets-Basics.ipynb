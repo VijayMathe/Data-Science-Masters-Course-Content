{
 "cells": [
  {
   "cell_type": "code",
   "execution_count": 3,
   "id": "f681e539-289d-46ef-b6a6-57b8ba14a1cc",
   "metadata": {},
   "outputs": [],
   "source": [
    "s = {}"
   ]
  },
  {
   "cell_type": "code",
   "execution_count": 4,
   "id": "8b923de7-39fb-4592-b9f1-a6520da9e406",
   "metadata": {},
   "outputs": [
    {
     "data": {
      "text/plain": [
       "dict"
      ]
     },
     "execution_count": 4,
     "metadata": {},
     "output_type": "execute_result"
    }
   ],
   "source": [
    "type(s)"
   ]
  },
  {
   "cell_type": "code",
   "execution_count": 5,
   "id": "bb8a489c-324d-4ab8-8d6f-b8cdf3cdf73d",
   "metadata": {},
   "outputs": [],
   "source": [
    "s1 = {4, 5}"
   ]
  },
  {
   "cell_type": "code",
   "execution_count": 6,
   "id": "8f8979eb-3aae-40a7-9b86-cddaf1d0493d",
   "metadata": {},
   "outputs": [
    {
     "data": {
      "text/plain": [
       "set"
      ]
     },
     "execution_count": 6,
     "metadata": {},
     "output_type": "execute_result"
    }
   ],
   "source": [
    "type(s1)"
   ]
  },
  {
   "cell_type": "markdown",
   "id": "7d794aa4-7975-4c10-b0d6-8bc10e720430",
   "metadata": {},
   "source": [
    "## Tuples removes all the duplicates"
   ]
  },
  {
   "cell_type": "code",
   "execution_count": 7,
   "id": "29dbeb13-9897-4b7b-b375-9bc680d6754c",
   "metadata": {},
   "outputs": [],
   "source": [
    "s2 = {1, 1, 1, 1, 2, 2, 245, 45, 4, 2, 9, 000, 0, 0, 0, 3}"
   ]
  },
  {
   "cell_type": "code",
   "execution_count": 8,
   "id": "d46a2f55-b9d8-4c56-9f51-7826b9831f2a",
   "metadata": {},
   "outputs": [
    {
     "data": {
      "text/plain": [
       "{0, 1, 2, 3, 4, 9, 45, 245}"
      ]
     },
     "execution_count": 8,
     "metadata": {},
     "output_type": "execute_result"
    }
   ],
   "source": [
    "s2"
   ]
  },
  {
   "cell_type": "code",
   "execution_count": 10,
   "id": "a8f2edd9-93e1-45f6-8a51-8e304a80b186",
   "metadata": {},
   "outputs": [
    {
     "data": {
      "text/plain": [
       "[0, 1, 2, 3, 4, 9, 45, 245]"
      ]
     },
     "execution_count": 10,
     "metadata": {},
     "output_type": "execute_result"
    }
   ],
   "source": [
    "list(s2)"
   ]
  },
  {
   "cell_type": "code",
   "execution_count": 11,
   "id": "a05a4fb0-7a5d-471b-92d6-cf2cbe025d8d",
   "metadata": {},
   "outputs": [
    {
     "data": {
      "text/plain": [
       "(0, 1, 2, 3, 4, 9, 45, 245)"
      ]
     },
     "execution_count": 11,
     "metadata": {},
     "output_type": "execute_result"
    }
   ],
   "source": [
    "tuple(s2)"
   ]
  },
  {
   "cell_type": "code",
   "execution_count": 12,
   "id": "60b813a4-554c-4063-8343-98e23d0ac904",
   "metadata": {},
   "outputs": [
    {
     "data": {
      "text/plain": [
       "{0, 1, 2, 3, 4, 9, 45, 245}"
      ]
     },
     "execution_count": 12,
     "metadata": {},
     "output_type": "execute_result"
    }
   ],
   "source": [
    "set(s2)"
   ]
  },
  {
   "cell_type": "code",
   "execution_count": 21,
   "id": "262ab162-34c9-4e3d-ba40-ad60a5dc124e",
   "metadata": {},
   "outputs": [],
   "source": [
    "s3 = {1, 2, 3, 4, (3, 4, 6, 7,3)}"
   ]
  },
  {
   "cell_type": "code",
   "execution_count": 22,
   "id": "6eea3d82-dbb4-4a95-825a-bfa19b15b9d8",
   "metadata": {},
   "outputs": [
    {
     "data": {
      "text/plain": [
       "{(3, 4, 6, 7, 3), 1, 2, 3, 4}"
      ]
     },
     "execution_count": 22,
     "metadata": {},
     "output_type": "execute_result"
    }
   ],
   "source": [
    "s3"
   ]
  },
  {
   "cell_type": "code",
   "execution_count": 23,
   "id": "c5596f58-2d2d-49ed-b2bf-929dd4101588",
   "metadata": {},
   "outputs": [
    {
     "data": {
      "text/plain": [
       "set"
      ]
     },
     "execution_count": 23,
     "metadata": {},
     "output_type": "execute_result"
    }
   ],
   "source": [
    "type(s3)"
   ]
  },
  {
   "cell_type": "code",
   "execution_count": 24,
   "id": "c4ac4646-3e91-411c-b9c0-3d301385c672",
   "metadata": {},
   "outputs": [],
   "source": [
    "s4 = {\"Vijay\", \"Mathe\", \"vijay\", \"mathe\"}"
   ]
  },
  {
   "cell_type": "code",
   "execution_count": 25,
   "id": "a77cbabf-e00e-4840-8ac7-75f17006d17b",
   "metadata": {},
   "outputs": [
    {
     "data": {
      "text/plain": [
       "{'Mathe', 'Vijay', 'mathe', 'vijay'}"
      ]
     },
     "execution_count": 25,
     "metadata": {},
     "output_type": "execute_result"
    }
   ],
   "source": [
    "s4"
   ]
  },
  {
   "cell_type": "markdown",
   "id": "c28fca5d-c2e8-452d-856d-9be15a6f970d",
   "metadata": {},
   "source": [
    "### There is no indexing in case of set"
   ]
  },
  {
   "cell_type": "code",
   "execution_count": 26,
   "id": "3f38e617-c9bb-4d9c-a6a2-bd5c09c95205",
   "metadata": {},
   "outputs": [
    {
     "ename": "TypeError",
     "evalue": "'set' object is not subscriptable",
     "output_type": "error",
     "traceback": [
      "\u001b[0;31m---------------------------------------------------------------------------\u001b[0m",
      "\u001b[0;31mTypeError\u001b[0m                                 Traceback (most recent call last)",
      "Cell \u001b[0;32mIn[26], line 1\u001b[0m\n\u001b[0;32m----> 1\u001b[0m \u001b[43ms4\u001b[49m\u001b[43m[\u001b[49m\u001b[38;5;241;43m0\u001b[39;49m\u001b[43m]\u001b[49m\n",
      "\u001b[0;31mTypeError\u001b[0m: 'set' object is not subscriptable"
     ]
    }
   ],
   "source": [
    "s4[0]"
   ]
  },
  {
   "cell_type": "code",
   "execution_count": 27,
   "id": "6b729f6a-8539-4c50-a1b4-1a41b8725f23",
   "metadata": {},
   "outputs": [
    {
     "ename": "TypeError",
     "evalue": "'set' object is not subscriptable",
     "output_type": "error",
     "traceback": [
      "\u001b[0;31m---------------------------------------------------------------------------\u001b[0m",
      "\u001b[0;31mTypeError\u001b[0m                                 Traceback (most recent call last)",
      "Cell \u001b[0;32mIn[27], line 1\u001b[0m\n\u001b[0;32m----> 1\u001b[0m \u001b[43ms4\u001b[49m\u001b[43m[\u001b[49m\u001b[43m:\u001b[49m\u001b[43m:\u001b[49m\u001b[38;5;241;43m-\u001b[39;49m\u001b[38;5;241;43m1\u001b[39;49m\u001b[43m]\u001b[49m\n",
      "\u001b[0;31mTypeError\u001b[0m: 'set' object is not subscriptable"
     ]
    }
   ],
   "source": [
    "s4[::-1]"
   ]
  },
  {
   "cell_type": "code",
   "execution_count": 28,
   "id": "2539cad1-6c5c-4d30-b395-d58c1aa997aa",
   "metadata": {},
   "outputs": [
    {
     "name": "stdout",
     "output_type": "stream",
     "text": [
      "1\n",
      "2\n",
      "3\n",
      "4\n",
      "(3, 4, 6, 7, 3)\n"
     ]
    }
   ],
   "source": [
    "for i in s3:\n",
    "    print(i)"
   ]
  },
  {
   "cell_type": "code",
   "execution_count": 29,
   "id": "8ae71378-7259-43a2-867b-a5bafb5b3db4",
   "metadata": {},
   "outputs": [],
   "source": [
    "s4.add(\"Boll\")"
   ]
  },
  {
   "cell_type": "code",
   "execution_count": 30,
   "id": "450282c7-621a-4560-a68d-31acf3ad3eca",
   "metadata": {},
   "outputs": [
    {
     "data": {
      "text/plain": [
       "{'Boll', 'Mathe', 'Vijay', 'mathe', 'vijay'}"
      ]
     },
     "execution_count": 30,
     "metadata": {},
     "output_type": "execute_result"
    }
   ],
   "source": [
    "s4"
   ]
  },
  {
   "cell_type": "code",
   "execution_count": 32,
   "id": "3e01d6c4-a19d-4e65-8f61-e5a1191cede4",
   "metadata": {},
   "outputs": [
    {
     "ename": "TypeError",
     "evalue": "set.clear() takes no arguments (1 given)",
     "output_type": "error",
     "traceback": [
      "\u001b[0;31m---------------------------------------------------------------------------\u001b[0m",
      "\u001b[0;31mTypeError\u001b[0m                                 Traceback (most recent call last)",
      "Cell \u001b[0;32mIn[32], line 1\u001b[0m\n\u001b[0;32m----> 1\u001b[0m \u001b[43ms4\u001b[49m\u001b[38;5;241;43m.\u001b[39;49m\u001b[43mclear\u001b[49m\u001b[43m(\u001b[49m\u001b[38;5;124;43m\"\u001b[39;49m\u001b[38;5;124;43mmathe\u001b[39;49m\u001b[38;5;124;43m\"\u001b[39;49m\u001b[43m)\u001b[49m\n",
      "\u001b[0;31mTypeError\u001b[0m: set.clear() takes no arguments (1 given)"
     ]
    }
   ],
   "source": [
    "s4.clear(\"mathe\")"
   ]
  },
  {
   "cell_type": "code",
   "execution_count": 33,
   "id": "add0f3c7-9a6f-4278-848f-2ae84570602b",
   "metadata": {},
   "outputs": [
    {
     "data": {
      "text/plain": [
       "5"
      ]
     },
     "execution_count": 33,
     "metadata": {},
     "output_type": "execute_result"
    }
   ],
   "source": [
    "len(s4)"
   ]
  },
  {
   "cell_type": "markdown",
   "id": "7a83a472-a2d2-4f88-ae62-f616229abf14",
   "metadata": {},
   "source": [
    "### Randomely popping elements"
   ]
  },
  {
   "cell_type": "code",
   "execution_count": 34,
   "id": "0a7405b2-4cb9-4abe-84b7-62eba247b737",
   "metadata": {},
   "outputs": [
    {
     "data": {
      "text/plain": [
       "'Mathe'"
      ]
     },
     "execution_count": 34,
     "metadata": {},
     "output_type": "execute_result"
    }
   ],
   "source": [
    "s4.pop()"
   ]
  },
  {
   "cell_type": "code",
   "execution_count": 35,
   "id": "16e8c0fc-f90b-4361-ba6e-32ae6809feb9",
   "metadata": {},
   "outputs": [
    {
     "data": {
      "text/plain": [
       "'mathe'"
      ]
     },
     "execution_count": 35,
     "metadata": {},
     "output_type": "execute_result"
    }
   ],
   "source": [
    "s4.pop()"
   ]
  },
  {
   "cell_type": "code",
   "execution_count": 36,
   "id": "5a674495-932f-4c0c-bf47-786fbebab773",
   "metadata": {},
   "outputs": [
    {
     "data": {
      "text/plain": [
       "'Vijay'"
      ]
     },
     "execution_count": 36,
     "metadata": {},
     "output_type": "execute_result"
    }
   ],
   "source": [
    "s4.pop()"
   ]
  },
  {
   "cell_type": "markdown",
   "id": "4ff3c8bf-5e55-44f3-9846-d3b4ac7d3da7",
   "metadata": {},
   "source": [
    "### clear() removes all the elements from the set"
   ]
  },
  {
   "cell_type": "code",
   "execution_count": 37,
   "id": "d4c829dd-3012-43f2-8712-df9d628efc58",
   "metadata": {},
   "outputs": [],
   "source": [
    "s4.clear()"
   ]
  },
  {
   "cell_type": "code",
   "execution_count": 38,
   "id": "a024ebe1-f819-4462-93b4-e4737bab7e3d",
   "metadata": {},
   "outputs": [
    {
     "data": {
      "text/plain": [
       "set()"
      ]
     },
     "execution_count": 38,
     "metadata": {},
     "output_type": "execute_result"
    }
   ],
   "source": [
    "s4"
   ]
  },
  {
   "cell_type": "code",
   "execution_count": 39,
   "id": "2237f660-451c-4299-9fe0-bf0f7429479b",
   "metadata": {},
   "outputs": [],
   "source": [
    "s4 = {\"Vijay\", \"Mathe\", \"vijay\", \"mathe\"}"
   ]
  },
  {
   "cell_type": "code",
   "execution_count": 40,
   "id": "007983dd-c2b4-4d75-aab9-80d23770b98d",
   "metadata": {},
   "outputs": [],
   "source": [
    "s4.remove(\"Mathe\")"
   ]
  },
  {
   "cell_type": "code",
   "execution_count": 41,
   "id": "4957bd0e-9135-43d6-a410-28905c08f8e3",
   "metadata": {},
   "outputs": [
    {
     "data": {
      "text/plain": [
       "{'Vijay', 'mathe', 'vijay'}"
      ]
     },
     "execution_count": 41,
     "metadata": {},
     "output_type": "execute_result"
    }
   ],
   "source": [
    "s4"
   ]
  },
  {
   "cell_type": "code",
   "execution_count": 42,
   "id": "34c04504-006f-4ca7-b398-699dc7fd7d2f",
   "metadata": {},
   "outputs": [
    {
     "data": {
      "text/plain": [
       "{'Vijay', 'mathe', 'vijay'}"
      ]
     },
     "execution_count": 42,
     "metadata": {},
     "output_type": "execute_result"
    }
   ],
   "source": [
    "s4.difference(s2)"
   ]
  },
  {
   "cell_type": "code",
   "execution_count": 43,
   "id": "447099ca-a675-46ee-ba8d-0422fdd31f78",
   "metadata": {},
   "outputs": [
    {
     "data": {
      "text/plain": [
       "{0, 1, 2, 3, 4, 9, 45, 245}"
      ]
     },
     "execution_count": 43,
     "metadata": {},
     "output_type": "execute_result"
    }
   ],
   "source": [
    "s2.difference(s4)"
   ]
  },
  {
   "cell_type": "code",
   "execution_count": null,
   "id": "385f903d-0061-41c0-b6f8-a793f2c2c52a",
   "metadata": {},
   "outputs": [],
   "source": []
  }
 ],
 "metadata": {
  "kernelspec": {
   "display_name": "Python 3 (ipykernel)",
   "language": "python",
   "name": "python3"
  },
  "language_info": {
   "codemirror_mode": {
    "name": "ipython",
    "version": 3
   },
   "file_extension": ".py",
   "mimetype": "text/x-python",
   "name": "python",
   "nbconvert_exporter": "python",
   "pygments_lexer": "ipython3",
   "version": "3.10.8"
  }
 },
 "nbformat": 4,
 "nbformat_minor": 5
}
