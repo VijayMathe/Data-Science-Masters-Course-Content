{
 "cells": [
  {
   "cell_type": "markdown",
   "id": "75045677-a2f2-4da5-b90e-1c26f151f761",
   "metadata": {},
   "source": [
    "## Q1. In order to predict house price based on several characteristics, such as location, square footage, number of bedrooms, etc., you are developing an SVM regression model. Which regression metric in this situation would be the best to employ?"
   ]
  },
  {
   "cell_type": "markdown",
   "id": "b442dad2-f068-4e69-98b5-69545d76d927",
   "metadata": {},
   "source": [
    "### Ans:\n",
    "\n",
    "### Mean Squared Error (MSE): MSE measures the average squared difference between the predicted and actual house prices. It penalizes larger errors more heavily.\n",
    "\n",
    "### Root Mean Squared Error (RMSE): RMSE is the square root of the MSE and represents the average magnitude of the prediction errors in the original unit of the target variable (house price in this case).\n",
    "\n",
    "### Mean Absolute Error (MAE): MAE measures the average absolute difference between the predicted and actual house prices.\n",
    "\n",
    "### R-squared (R^2) Score: R^2 score represents the proportion of the variance in the house prices that is explained by the model. It ranges from 0 to 1, where a higher value indicates a better fit."
   ]
  },
  {
   "cell_type": "code",
   "execution_count": null,
   "id": "68694599-315d-48d8-b8c7-851614a4de38",
   "metadata": {},
   "outputs": [],
   "source": []
  },
  {
   "cell_type": "markdown",
   "id": "f77b10fb-0dd3-4b92-a22b-f94fb41f9db9",
   "metadata": {},
   "source": [
    "## Q2. You have built an SVM regression model and are trying to decide between using MSE or R-squared as your evaluation metric. Which metric would be more appropriate if your goal is to predict the actual price of a house as accurately as possible?"
   ]
  },
  {
   "cell_type": "markdown",
   "id": "e5967ac4-b16c-48a7-be16-fc72c527d892",
   "metadata": {},
   "source": [
    "### Ans:\n",
    "### If the goal is to predict the actual price of a house as accurately as possible, the Mean Squared Error (MSE) would be a more appropriate evaluation metric than R-squared (R^2).\n",
    "\n",
    "### MSE measures the average squared difference between the predicted house prices and the actual house prices. By squaring the errors, it gives higher weights to larger errors, making it a suitable metric when the magnitude of the errors is crucial."
   ]
  },
  {
   "cell_type": "code",
   "execution_count": null,
   "id": "ede141df-31fa-4736-8a68-8e8d952abc96",
   "metadata": {},
   "outputs": [],
   "source": []
  },
  {
   "cell_type": "markdown",
   "id": "c3d3067b-1032-4022-a731-bb959b69f5de",
   "metadata": {},
   "source": [
    "## Q3. You have a dataset with a significant number of outliers and are trying to select an appropriate regression metric to use with your SVM model. Which metric would be the most appropriate in this scenario?"
   ]
  },
  {
   "cell_type": "markdown",
   "id": "56b7387b-55d8-4147-ab55-aa0b981fd487",
   "metadata": {},
   "source": [
    "### Ans:\n",
    "### When dealing with a dataset that contains a significant number of outliers, it is generally advisable to use regression metrics that are robust to outliers. In this scenario, the most appropriate regression metric to use with an SVM model would be the Mean Absolute Error (MAE).\n",
    "\n",
    "### MAE measures the average absolute difference between the predicted values and the actual values. Unlike the Mean Squared Error (MSE), which squares the errors, the MAE is not sensitive to the magnitude of the errors. This makes it more robust to outliers, as outliers typically have larger residuals, and squaring them in the MSE can heavily influence the metric."
   ]
  },
  {
   "cell_type": "code",
   "execution_count": null,
   "id": "979479ec-1fc0-4ce5-a8ee-3ebf593f3ca5",
   "metadata": {},
   "outputs": [],
   "source": []
  },
  {
   "cell_type": "markdown",
   "id": "876a6fab-92f5-4933-b53a-d5dfe98e31a3",
   "metadata": {},
   "source": [
    "## Q4. You have built an SVM regression model using a polynomial kernel and are trying to select the best metric to evaluate its performance. You have calculated both MSE and RMSE and found that both values are very close. Which metric should you choose to use in this case?"
   ]
  },
  {
   "cell_type": "markdown",
   "id": "eacff68d-40f0-449a-b752-f0baa7d4a3f8",
   "metadata": {},
   "source": [
    "### Ans:\n",
    "### choose the RMSE as the metric to evaluate the performance of your model.\n",
    "### The reason for this is that RMSE has an intuitive interpretation as it represents the average magnitude of the prediction errors in the original unit of the target variable. It provides a measure of the typical size of the residuals and allows for a direct comparison to the scale of the target variable."
   ]
  },
  {
   "cell_type": "code",
   "execution_count": null,
   "id": "24e2ccad-b7b6-494e-9c4e-f4f77ede588d",
   "metadata": {},
   "outputs": [],
   "source": []
  },
  {
   "cell_type": "markdown",
   "id": "de85c4b5-fdcc-461e-9340-9d9c8813cb16",
   "metadata": {},
   "source": [
    "## Q5. You are comparing the performance of different SVM regression models using different kernels (linear, polynomial, and RBF) and are trying to select the best evaluation metric. Which metric would be most appropriate if your goal is to measure how well the model explains the variance in the target variable?"
   ]
  },
  {
   "cell_type": "markdown",
   "id": "7d0b165e-de87-4c2d-8512-4f3320c3f598",
   "metadata": {},
   "source": [
    "### Ans:\n",
    "### the most appropriate evaluation metric to use is the R-squared (R^2).\n",
    "### R-squared measures the proportion of the variance in the target variable that is explained by the model. It ranges from 0 to 1, where a higher value indicates a better fit. R-squared provides an indication of how well the model captures the underlying patterns and variability in the data. "
   ]
  },
  {
   "cell_type": "code",
   "execution_count": null,
   "id": "1cc79705-907a-488a-8949-c3298ca57d4a",
   "metadata": {},
   "outputs": [],
   "source": []
  },
  {
   "cell_type": "code",
   "execution_count": null,
   "id": "965b2333-107b-4a19-818f-5de1e3268f98",
   "metadata": {},
   "outputs": [],
   "source": []
  }
 ],
 "metadata": {
  "kernelspec": {
   "display_name": "Python 3 (ipykernel)",
   "language": "python",
   "name": "python3"
  },
  "language_info": {
   "codemirror_mode": {
    "name": "ipython",
    "version": 3
   },
   "file_extension": ".py",
   "mimetype": "text/x-python",
   "name": "python",
   "nbconvert_exporter": "python",
   "pygments_lexer": "ipython3",
   "version": "3.10.8"
  }
 },
 "nbformat": 4,
 "nbformat_minor": 5
}
