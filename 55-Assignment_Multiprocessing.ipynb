{
 "cells": [
  {
   "cell_type": "markdown",
   "id": "d16c9246-1a1a-4de9-8389-f51ba0e60eaa",
   "metadata": {},
   "source": [
    "## Q1. What is multiprocessing in python? Why is it useful?"
   ]
  },
  {
   "cell_type": "markdown",
   "id": "83a4581d-de99-4f7a-bf00-f0282b03ad08",
   "metadata": {},
   "source": [
    "### Ans:\n",
    "### Multiprocessing in Python is a technique that allows the execution of multiple processes simultaneously, leveraging the full potential of multi-core processors\n",
    "### The multiprocessing module in Python provides a high-level interface for creating and managing processes."
   ]
  },
  {
   "cell_type": "markdown",
   "id": "c44fbf85-e1ec-48b7-9b5a-04183c5a685c",
   "metadata": {},
   "source": [
    "### The multiprocessing is usefull because it provides the following features\n",
    "### 1) Improved Performance\n",
    "### 2) Utilizing multiple cores\n",
    "### 3) Enhanced responsiveness\n",
    "### 4) Resource Isolation\n",
    "### 5) Support for CPU-Bound Tasks"
   ]
  },
  {
   "cell_type": "code",
   "execution_count": null,
   "id": "4fab7ba1-4d6b-444e-a9de-9e4d5ec0b0cb",
   "metadata": {},
   "outputs": [],
   "source": []
  },
  {
   "cell_type": "markdown",
   "id": "6dc5217e-8cd8-4e69-bc93-5bebc4a0da52",
   "metadata": {},
   "source": [
    "## Q2. What are the differences between multiprocessing and multithreading?"
   ]
  },
  {
   "cell_type": "markdown",
   "id": "4b78d848-5bf2-4b53-a01d-fd074337015a",
   "metadata": {},
   "source": [
    "### Ans:\n",
    "### Multiprocessing: In multiprocessing, multiple processes are created, and each process has its own memory space and resources. Processes run independently and can execute in parallel on different CPU cores.\n",
    "### Multithreading: In multithreading, multiple threads are created within a single process. Threads share the same memory space and resources of the parent process and run concurrently."
   ]
  },
  {
   "cell_type": "markdown",
   "id": "36b229a5-e1cb-4cee-acbb-79d945739213",
   "metadata": {},
   "source": [
    "### Processes do not share memory by default, which avoids issues like shared data corruption\n",
    "### Threads within a single process share the same memory space. They can directly access and modify shared data, which simplifies data sharing but also requires careful synchronization to avoid race conditions and ensure data consistency."
   ]
  },
  {
   "cell_type": "code",
   "execution_count": null,
   "id": "7ec07208-8331-4e12-9b60-adefcdf46cac",
   "metadata": {},
   "outputs": [],
   "source": []
  },
  {
   "cell_type": "markdown",
   "id": "a547ca3e-9579-4bfe-a5bf-274be48e5e88",
   "metadata": {},
   "source": [
    "## Q3. Write a python code to create a process using the multiprocessing module."
   ]
  },
  {
   "cell_type": "code",
   "execution_count": 2,
   "id": "593ea509-7cec-476e-bc0d-dc2fe3001bbc",
   "metadata": {},
   "outputs": [
    {
     "name": "stdout",
     "output_type": "stream",
     "text": [
      "this is the fun1\n"
     ]
    }
   ],
   "source": [
    "import multiprocessing\n",
    "\n",
    "def fun1():\n",
    "    print(\"this is the fun1\")\n",
    "    \n",
    "if __name__ == '__main__':\n",
    "    process = multiprocessing.Process(target=fun1)\n",
    "    \n",
    "    process.start()"
   ]
  },
  {
   "cell_type": "markdown",
   "id": "92cfa3c7-6a75-4b39-ab11-966ecefde3a9",
   "metadata": {},
   "source": [
    "## Q4. What is a multiprocessing pool in python? Why is it used?"
   ]
  },
  {
   "cell_type": "markdown",
   "id": "057cb82b-f7d9-4308-b86f-312dc86b9462",
   "metadata": {},
   "source": [
    "### A multiprocessing pool is useful in scenarios where you have a large number of tasks that can be executed independently and in parallel. It helps in achieving parallelism and optimizing the utilization of available CPU resources. Here's why a multiprocessing pool is used:"
   ]
  },
  {
   "cell_type": "markdown",
   "id": "984ddce7-be3a-42d7-87f3-e15ed974b0fb",
   "metadata": {},
   "source": [
    "### By using a multiprocessing pool, you can simplify the management of parallel tasks, achieve efficient utilization of resources, and improve the overall performance of your Python programs.\n",
    "### It provides a higher-level abstraction for concurrent and parallel programming, making it easier to distribute tasks, handle results, and manage errors in a multiprocessing environment."
   ]
  },
  {
   "cell_type": "code",
   "execution_count": null,
   "id": "1ab33595-fb5c-4c98-80ec-651b63ede26a",
   "metadata": {},
   "outputs": [],
   "source": []
  },
  {
   "cell_type": "markdown",
   "id": "7a8b3035-a002-4c1b-9c74-a9a3173f0b9a",
   "metadata": {},
   "source": [
    "## Q5. How can we create a pool of worker processes in python using the multiprocessing module?"
   ]
  },
  {
   "cell_type": "code",
   "execution_count": 4,
   "id": "a8d58d2d-32ad-4403-abfb-7ca7a9bb53a6",
   "metadata": {},
   "outputs": [
    {
     "name": "stdout",
     "output_type": "stream",
     "text": [
      "Results: [2, 4, 6, 8, 10]\n"
     ]
    }
   ],
   "source": [
    "import multiprocessing\n",
    "\n",
    "def worker(task):\n",
    "    result = task * 2\n",
    "    return result\n",
    "\n",
    "if __name__ == '__main__':\n",
    "    pool = multiprocessing.Pool(processes=4)\n",
    "    tasks = [1, 2, 3, 4, 5]\n",
    "    results = pool.map(worker, tasks)\n",
    "    pool.close()\n",
    "    pool.join()\n",
    "    print(\"Results:\", results)"
   ]
  },
  {
   "cell_type": "markdown",
   "id": "0cefd91d-7c35-4039-bb38-790c2c273848",
   "metadata": {},
   "source": [
    "## Q6. Write a python program to create 4 processes, each process should print a different number using the multiprocessing module in python."
   ]
  },
  {
   "cell_type": "code",
   "execution_count": 16,
   "id": "83e0edea-3534-47ef-9329-12d544bb4af4",
   "metadata": {},
   "outputs": [
    {
     "name": "stdout",
     "output_type": "stream",
     "text": [
      "Number:  1\n",
      "Number:  2\n",
      "Number:  3Number: \n",
      " 4\n"
     ]
    }
   ],
   "source": [
    "import multiprocessing\n",
    "\n",
    "def print_number(number):\n",
    "    print(\"Number: \", number)\n",
    "\n",
    "if __name__ == '__main__':\n",
    "    numbers = [1, 2, 3, 4]\n",
    "\n",
    "    processes = [multiprocessing.Process(target=print_number, args=(number,)) for number in numbers]\n",
    "\n",
    "    for process in processes:\n",
    "        process.start()\n",
    "\n",
    "    for process in processes:\n",
    "        process.join()"
   ]
  },
  {
   "cell_type": "code",
   "execution_count": null,
   "id": "64d1abe5-d260-4df2-826a-4cd1476decb5",
   "metadata": {},
   "outputs": [],
   "source": []
  },
  {
   "cell_type": "code",
   "execution_count": null,
   "id": "83452f6f-8c20-4883-af15-1da0fbe3434a",
   "metadata": {},
   "outputs": [],
   "source": []
  }
 ],
 "metadata": {
  "kernelspec": {
   "display_name": "Python 3 (ipykernel)",
   "language": "python",
   "name": "python3"
  },
  "language_info": {
   "codemirror_mode": {
    "name": "ipython",
    "version": 3
   },
   "file_extension": ".py",
   "mimetype": "text/x-python",
   "name": "python",
   "nbconvert_exporter": "python",
   "pygments_lexer": "ipython3",
   "version": "3.10.8"
  }
 },
 "nbformat": 4,
 "nbformat_minor": 5
}
