{
 "cells": [
  {
   "cell_type": "markdown",
   "id": "9c4be8c0-95a0-4738-87a3-d9878cc2b023",
   "metadata": {},
   "source": [
    "## Q 1). What is multithreading in python? Why is it used? Name the module used to handle threads in python"
   ]
  },
  {
   "cell_type": "markdown",
   "id": "fef21dce-1b56-4d5f-9624-9712a0fbee91",
   "metadata": {},
   "source": [
    "### Ans:\n",
    "### Multithreading in Python refers to the ability of a program to execute multiple threads concurrently.\n",
    "### A thread is a separate flow of execution within a program, and multithreading allows different parts of a program to run concurrently, making it possible to perform multiple tasks at the same time."
   ]
  },
  {
   "cell_type": "markdown",
   "id": "ca8782d6-3bd5-45f9-9c2c-42a4180e0fa0",
   "metadata": {},
   "source": [
    "### Multithreading is used for various perposes in python like\n",
    "### 1) Improved Performance\n",
    "### 2) Responsiveness\n",
    "### 3) Asynchronous Programming"
   ]
  },
  {
   "cell_type": "markdown",
   "id": "03307880-11bf-4063-89aa-7245b52b58f5",
   "metadata": {},
   "source": [
    "### There is a threading built in module in python used to handle threads"
   ]
  },
  {
   "cell_type": "code",
   "execution_count": null,
   "id": "f22580d9-f0a4-4b76-8b01-08cb65d317d9",
   "metadata": {},
   "outputs": [],
   "source": []
  },
  {
   "cell_type": "markdown",
   "id": "4b51434f-35f5-4d04-bdf0-dd4b6d5bb9af",
   "metadata": {},
   "source": [
    "## Q2) Why threading module used? write the use of the following functions\n",
    "### 1)activeCount()\n",
    "### 2)currentThread()\n",
    "### 3)enumerate()"
   ]
  },
  {
   "cell_type": "markdown",
   "id": "8063ab9e-d34e-4361-b12d-ccb5d5c39dff",
   "metadata": {},
   "source": [
    "### Ans:\n",
    "### The threading module in Python is used to handle threads and provides a high-level interface for creating, managing, and synchronizing threads. "
   ]
  },
  {
   "cell_type": "markdown",
   "id": "58d343fa-3aae-4eef-87ff-e8bdcc6f3051",
   "metadata": {},
   "source": [
    "### 1) activeCount(): This function returns the number of Thread objects currently alive.\n",
    "### 2) currentThread(): This function returns the current Thread object corresponding to the caller's thread of execution.\n",
    "### 3) enumerate(): This function returns a list of all currently active Thread objects."
   ]
  },
  {
   "cell_type": "code",
   "execution_count": null,
   "id": "ddc16b05-5693-40f8-8ef3-a8adf88c9e6b",
   "metadata": {},
   "outputs": [],
   "source": []
  },
  {
   "cell_type": "markdown",
   "id": "0339845c-6d44-4a58-adfd-3059dd175759",
   "metadata": {},
   "source": [
    "## Q3 Explain the following functions\n",
    "### 1) run()\n",
    "### 2) start()\n",
    "### 3) join()\n",
    "### 4) isAlive()"
   ]
  },
  {
   "cell_type": "markdown",
   "id": "9f2cdfbe-ad5f-4772-93e2-0c370beca360",
   "metadata": {},
   "source": [
    "### Ans:\n",
    "### 1) run(): It contains the code that will be executed when the thread is started.\n",
    "### 2) start(): The start() method is used to start a thread's activity.\n",
    "### 3) join(): The join() method is used to wait for a thread to complete its execution.\n",
    "### 4) isAlive(): The isAlive() method is used to check whether a thread is currently alive or running. t returns True if the thread is active and False otherwise."
   ]
  },
  {
   "cell_type": "code",
   "execution_count": null,
   "id": "2be6668e-5aa0-4715-a8be-d9743f572154",
   "metadata": {},
   "outputs": [],
   "source": []
  },
  {
   "cell_type": "markdown",
   "id": "592cb6e5-4f6f-4344-8d2b-79acff3e22c4",
   "metadata": {},
   "source": [
    "## 4. Write a python program to create two threads. Thread one must print the list of squares and thread two must print the list of cubes"
   ]
  },
  {
   "cell_type": "code",
   "execution_count": 2,
   "id": "0892d499-2441-4940-b2eb-647e3d5d84c3",
   "metadata": {},
   "outputs": [
    {
     "name": "stdout",
     "output_type": "stream",
     "text": [
      "Square of 1 is 1\n",
      "Square of 2 is 4\n",
      "Square of 3 is 9\n",
      "Square of 4 is 16\n",
      "Square of 5 is 25\n",
      "Square of 6 is 36\n",
      "Square of 7 is 49\n",
      "Square of 8 is 64\n",
      "Square of 9 is 81\n",
      "Square of 10 is 100\n",
      "Cube of 1 is 1\n",
      "Cube of 2 is 8\n",
      "Cube of 3 is 27\n",
      "Cube of 4 is 64\n",
      "Cube of 5 is 125\n",
      "Cube of 6 is 216\n",
      "Cube of 7 is 343\n",
      "Cube of 8 is 512\n",
      "Cube of 9 is 729\n",
      "Cube of 10 is 1000\n"
     ]
    }
   ],
   "source": [
    "import threading\n",
    "\n",
    "def print_squares():\n",
    "    for i in range(1, 11):\n",
    "        print(\"Square of\", i, \"is\", i**2)\n",
    "\n",
    "def print_cubes():\n",
    "    for i in range(1, 11):\n",
    "        print(\"Cube of\", i, \"is\", i**3)\n",
    "\n",
    "thread1 = threading.Thread(target=print_squares)\n",
    "thread2 = threading.Thread(target=print_cubes)\n",
    "\n",
    "thread1.start()\n",
    "thread2.start()"
   ]
  },
  {
   "cell_type": "code",
   "execution_count": null,
   "id": "346de82f-beed-4708-bc12-bd1ee3faa542",
   "metadata": {},
   "outputs": [],
   "source": []
  },
  {
   "cell_type": "markdown",
   "id": "10dfd179-376a-4901-bcb1-d0c92335aa09",
   "metadata": {},
   "source": [
    "## Q5. State advantages and disadvantages of multithreading"
   ]
  },
  {
   "cell_type": "markdown",
   "id": "383b4ab2-2e1e-4af9-9f17-796db30d6e20",
   "metadata": {},
   "source": [
    "### Advantages of multithreading\n",
    "### 1) Improved Performance\n",
    "### 2) Responsiveness\n",
    "### 3) Resource Sharing"
   ]
  },
  {
   "cell_type": "markdown",
   "id": "d241752b-6c04-4cd0-81d4-0fd9d2bb913a",
   "metadata": {},
   "source": [
    "### Disadvantages of Multithreading\n",
    "### 1) Complexity\n",
    "### 2) Increased resource consumption\n",
    "### 3) Synchronization overhead"
   ]
  },
  {
   "cell_type": "code",
   "execution_count": null,
   "id": "b0f5c15f-9fe1-4728-9406-edd58b323a93",
   "metadata": {},
   "outputs": [],
   "source": []
  },
  {
   "cell_type": "markdown",
   "id": "8159a58a-3bb7-4b9c-898f-a605ac7454f1",
   "metadata": {},
   "source": [
    "## Q6. Explain deadlocks and race conditions."
   ]
  },
  {
   "cell_type": "markdown",
   "id": "f034fdd8-fec6-401e-af83-a4a2184609ba",
   "metadata": {},
   "source": [
    "### Ans:\n",
    "### A deadlock is a situation in which two or more threads are blocked indefinitely, waiting for each other to release resources.\n",
    "### A race condition occurs when multiple threads access shared resources concurrently, leading to unpredictable and erroneous behavior."
   ]
  },
  {
   "cell_type": "code",
   "execution_count": null,
   "id": "7a599801-2e64-4d2b-8f50-c13aeecf59f2",
   "metadata": {},
   "outputs": [],
   "source": []
  }
 ],
 "metadata": {
  "kernelspec": {
   "display_name": "Python 3 (ipykernel)",
   "language": "python",
   "name": "python3"
  },
  "language_info": {
   "codemirror_mode": {
    "name": "ipython",
    "version": 3
   },
   "file_extension": ".py",
   "mimetype": "text/x-python",
   "name": "python",
   "nbconvert_exporter": "python",
   "pygments_lexer": "ipython3",
   "version": "3.10.8"
  }
 },
 "nbformat": 4,
 "nbformat_minor": 5
}
