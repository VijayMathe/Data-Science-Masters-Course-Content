{
 "cells": [
  {
   "cell_type": "code",
   "execution_count": 7,
   "id": "964a3109-e03a-4f79-82b2-f01169c5c5fe",
   "metadata": {},
   "outputs": [],
   "source": [
    "data = {\n",
    "    \"name\" : \"Vijay\",\n",
    "    \"surname\" : \"Mathe\",\n",
    "    \"village\" : \"Sangwa\",\n",
    "    \"Number\" : 8020154967,\n",
    "    \"subjects\" :[\"marathi\", \"hindi\", \"english\", \"data Science\"]\n",
    "}"
   ]
  },
  {
   "cell_type": "code",
   "execution_count": 8,
   "id": "f0368359-0345-4c29-99bd-6f0c49f9f41b",
   "metadata": {},
   "outputs": [],
   "source": [
    "import json"
   ]
  },
  {
   "cell_type": "code",
   "execution_count": 9,
   "id": "248ca42a-e71a-4ee1-b7e2-cda8b9d4876f",
   "metadata": {},
   "outputs": [],
   "source": [
    "with open(\"test1.json\", \"w\") as f:\n",
    "    json.dump(data, f)"
   ]
  },
  {
   "cell_type": "code",
   "execution_count": 10,
   "id": "db22becd-dbb9-4e3a-916d-ca7dfbd4e643",
   "metadata": {},
   "outputs": [],
   "source": [
    "with open(\"test1.json\", \"r\") as f:\n",
    "    data1 = json.load(f)"
   ]
  },
  {
   "cell_type": "code",
   "execution_count": 11,
   "id": "2768b286-694b-4c15-8d8b-6e118650aacc",
   "metadata": {},
   "outputs": [
    {
     "data": {
      "text/plain": [
       "{'name': 'Vijay',\n",
       " 'surname': 'Mathe',\n",
       " 'village': 'Sangwa',\n",
       " 'Number': 8020154967,\n",
       " 'subjects': ['marathi', 'hindi', 'english', 'data Science']}"
      ]
     },
     "execution_count": 11,
     "metadata": {},
     "output_type": "execute_result"
    }
   ],
   "source": [
    "data1"
   ]
  },
  {
   "cell_type": "code",
   "execution_count": 12,
   "id": "8a2a3234-2170-4dd9-b21b-f088948db32a",
   "metadata": {},
   "outputs": [
    {
     "data": {
      "text/plain": [
       "'hindi'"
      ]
     },
     "execution_count": 12,
     "metadata": {},
     "output_type": "execute_result"
    }
   ],
   "source": [
    "data['subjects'][1]"
   ]
  },
  {
   "cell_type": "code",
   "execution_count": 14,
   "id": "9f4c33fb-9a45-4830-8fa7-13620bba737f",
   "metadata": {},
   "outputs": [],
   "source": [
    "data = [[\"name\", \"surname\", \"number\"], \n",
    "        [\"ram\", \"gaikwad\", 5236897412],\n",
    "        [\"Krish\", \"naik\", 8563294175]]"
   ]
  },
  {
   "cell_type": "code",
   "execution_count": 15,
   "id": "9fe8fe2a-ffe4-4933-9509-3753cc8fa23a",
   "metadata": {},
   "outputs": [],
   "source": [
    "import csv"
   ]
  },
  {
   "cell_type": "code",
   "execution_count": 17,
   "id": "77f43833-6d50-490c-8d9e-015ecbaa9ad7",
   "metadata": {},
   "outputs": [],
   "source": [
    "with open(\"test3.csv\", \"w\") as f:\n",
    "    w = csv.writer(f)\n",
    "    for i in data:\n",
    "        w.writerow(i)"
   ]
  },
  {
   "cell_type": "code",
   "execution_count": 19,
   "id": "7fbe2e7c-6392-4989-83d2-fbb982ba10ca",
   "metadata": {},
   "outputs": [
    {
     "name": "stdout",
     "output_type": "stream",
     "text": [
      "['name', 'surname', 'number']\n",
      "['ram', 'gaikwad', '5236897412']\n",
      "['Krish', 'naik', '8563294175']\n"
     ]
    }
   ],
   "source": [
    "with open(\"test3.csv\", \"r\") as f:\n",
    "    read = csv.reader(f)\n",
    "    for i in read:\n",
    "        print(i)"
   ]
  },
  {
   "cell_type": "code",
   "execution_count": 20,
   "id": "909f73fa-9c0c-4937-88b2-07df8f9e53df",
   "metadata": {},
   "outputs": [],
   "source": [
    "with open(\"test4.bin\", \"wb\") as f:\n",
    "    f.write(b\"\\x01\\x02\\x03\")"
   ]
  },
  {
   "cell_type": "code",
   "execution_count": 22,
   "id": "f29a2f11-de49-41cc-b914-e34f47088319",
   "metadata": {},
   "outputs": [
    {
     "name": "stdout",
     "output_type": "stream",
     "text": [
      "b'\\x01\\x02\\x03'\n"
     ]
    }
   ],
   "source": [
    "with open(\"test4.bin\", \"rb\") as f:\n",
    "    print(f.read())"
   ]
  },
  {
   "cell_type": "code",
   "execution_count": null,
   "id": "8e84e1be-53bc-4a1f-9984-b2301e2c40c0",
   "metadata": {},
   "outputs": [],
   "source": []
  }
 ],
 "metadata": {
  "kernelspec": {
   "display_name": "Python 3 (ipykernel)",
   "language": "python",
   "name": "python3"
  },
  "language_info": {
   "codemirror_mode": {
    "name": "ipython",
    "version": 3
   },
   "file_extension": ".py",
   "mimetype": "text/x-python",
   "name": "python",
   "nbconvert_exporter": "python",
   "pygments_lexer": "ipython3",
   "version": "3.10.8"
  }
 },
 "nbformat": 4,
 "nbformat_minor": 5
}
