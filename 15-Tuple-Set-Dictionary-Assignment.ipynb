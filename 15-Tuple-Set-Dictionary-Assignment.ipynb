{
 "cells": [
  {
   "cell_type": "markdown",
   "id": "86a5eb21-6ebe-40c2-8edc-e6607922a919",
   "metadata": {},
   "source": [
    "## Q1. What are the characteristics of the tuples? Is tuple immutable?"
   ]
  },
  {
   "cell_type": "markdown",
   "id": "8fda6dce-cce1-4c17-b5de-c2252608e87a",
   "metadata": {},
   "source": [
    "### Characteristics of tuple are as follows\n",
    "### 1. Tupples are represented in parantheses\n",
    "### 2. Tuples are immutable\n",
    "### 3. Tuples are ordered"
   ]
  },
  {
   "cell_type": "markdown",
   "id": "d17a511e-d5a8-4c3f-acb3-96541fb06643",
   "metadata": {},
   "source": [
    "## Q2. What are the two tuple methods in python? Give an example of each method. Give a reason why tuples have only two in-built methods as compared to Lists."
   ]
  },
  {
   "cell_type": "markdown",
   "id": "72ef5ab4-9741-4551-90dd-3d308504ca82",
   "metadata": {},
   "source": [
    "### Ans:\n",
    "### There are two tuple methods \n",
    "### 1) count()\n",
    "### 2) index()\n",
    "### As list is mutable we can change the list elements by passing index but in case of tuples they are immutable and we can't change thier elements by passing indexes. That is why the list has an extra functions like pop(), append(), extend(), insert(), remove() which are not applicable for tuples"
   ]
  },
  {
   "cell_type": "markdown",
   "id": "3a75bf38-3e43-4a95-afbb-3acda45fffa4",
   "metadata": {},
   "source": [
    "## Q3. Which collection datatypes in python do not allow duplicate items? Write a code using a set to remove duplicates from the given list."
   ]
  },
  {
   "cell_type": "markdown",
   "id": "0075e695-db07-4c54-acaa-27161fe57198",
   "metadata": {},
   "source": [
    "## List=[1, 1, 1, 2, 1, 3, 1, 4, 2, 1, 2, 2, 2, 3, 2, 4, 3, 1, 3, 2, 3, 3, 3, 4, 4, 1, 4, 2, 4, 3, 4, 4]"
   ]
  },
  {
   "cell_type": "markdown",
   "id": "a90f50b2-4be3-4ea3-9195-b2bbe31e6c6f",
   "metadata": {},
   "source": [
    "### Ans : \n",
    "### In python set is a data structure which not allows duplicate values\n",
    "### Bellow is the code which will remove all the duplicates from the list List"
   ]
  },
  {
   "cell_type": "code",
   "execution_count": 14,
   "id": "563d6b44-6474-4e27-b175-06af926796b3",
   "metadata": {},
   "outputs": [],
   "source": [
    "List = [1, 1, 1, 2, 1, 3, 1, 4, 2, 1, 2, 2, 2, 3, 2, 4, 3, 1, 3, 2, 3, 3, 3, 4, 4, 1, 4, 2, 4, 3, 4, 4]\n",
    "\n",
    "s = list(set(List))"
   ]
  },
  {
   "cell_type": "code",
   "execution_count": 15,
   "id": "0515174b-f6a1-40b7-bbcb-e6f280706e57",
   "metadata": {},
   "outputs": [
    {
     "data": {
      "text/plain": [
       "[1, 2, 3, 4]"
      ]
     },
     "execution_count": 15,
     "metadata": {},
     "output_type": "execute_result"
    }
   ],
   "source": [
    "s"
   ]
  },
  {
   "cell_type": "markdown",
   "id": "6396fdd9-e284-4d6b-9c55-b6f382891351",
   "metadata": {},
   "source": [
    "### The output of the code is a list which contains only unique elements from the list List"
   ]
  },
  {
   "cell_type": "markdown",
   "id": "5d19a17b-ce3d-4f2f-b858-6311ec4adbd1",
   "metadata": {},
   "source": [
    "## Q4. Explain the difference between the union() and update() methods for a set. Give an example of each method."
   ]
  },
  {
   "cell_type": "markdown",
   "id": "571affb4-7e3d-46db-8e8f-4ba7f79349f8",
   "metadata": {},
   "source": [
    "### Ans:\n",
    "### The union() method in sets is used to add missing elements and the resultant set will be stored in new set at the new location\n",
    "### The update() method is also used to add missing elements in one set but here the new set will be formed at the same location only\n",
    "### bellow code explains the same"
   ]
  },
  {
   "cell_type": "code",
   "execution_count": 17,
   "id": "df9773b7-f02f-471e-960b-842a925df79d",
   "metadata": {},
   "outputs": [],
   "source": [
    "s = {5, 8, 0, 2, 1, 3}"
   ]
  },
  {
   "cell_type": "code",
   "execution_count": 18,
   "id": "fd826b95-52fb-446a-935a-5469ad3e8f1f",
   "metadata": {},
   "outputs": [
    {
     "data": {
      "text/plain": [
       "{0, 1, 2, 3, 5, 8}"
      ]
     },
     "execution_count": 18,
     "metadata": {},
     "output_type": "execute_result"
    }
   ],
   "source": [
    "s"
   ]
  },
  {
   "cell_type": "code",
   "execution_count": 19,
   "id": "2ca152cf-3ce4-4055-99fd-a9caa5354fac",
   "metadata": {},
   "outputs": [],
   "source": [
    "s1 = {\"Vijay\", \"mathe\", \"PWSkills\"}"
   ]
  },
  {
   "cell_type": "code",
   "execution_count": 20,
   "id": "10241370-d91f-4bee-a154-21b5ba3eccc7",
   "metadata": {},
   "outputs": [],
   "source": [
    "s.update(s1)"
   ]
  },
  {
   "cell_type": "code",
   "execution_count": 21,
   "id": "9840ae17-52df-48fe-8fea-c0e63a26fb26",
   "metadata": {},
   "outputs": [
    {
     "data": {
      "text/plain": [
       "{0, 1, 2, 3, 5, 8, 'PWSkills', 'Vijay', 'mathe'}"
      ]
     },
     "execution_count": 21,
     "metadata": {},
     "output_type": "execute_result"
    }
   ],
   "source": [
    "s"
   ]
  },
  {
   "cell_type": "code",
   "execution_count": 22,
   "id": "8539ccc0-e59a-4f01-a189-f30dbcda985d",
   "metadata": {},
   "outputs": [],
   "source": [
    "s2 = s.union(s1)"
   ]
  },
  {
   "cell_type": "code",
   "execution_count": 23,
   "id": "619b9959-d50f-4660-9ac3-7c62e98806a3",
   "metadata": {},
   "outputs": [
    {
     "data": {
      "text/plain": [
       "{0, 1, 2, 3, 5, 8, 'PWSkills', 'Vijay', 'mathe'}"
      ]
     },
     "execution_count": 23,
     "metadata": {},
     "output_type": "execute_result"
    }
   ],
   "source": [
    "s2"
   ]
  },
  {
   "cell_type": "markdown",
   "id": "58d97cd7-dbfc-450d-9476-8385b36ea761",
   "metadata": {},
   "source": [
    "## Q5. What is a dictionary? Give an example. Also, state whether a dictionary is ordered or unordered."
   ]
  },
  {
   "cell_type": "markdown",
   "id": "fb68d996-34aa-4dc8-8c15-c49ba82d9e84",
   "metadata": {},
   "source": [
    "### Ans:\n",
    "### A dictionary contains data in the form of key and value pairs\n",
    "### Dictionary is ordered if we want to pop pair from the dictionary we have to pass key related to that pair"
   ]
  },
  {
   "cell_type": "code",
   "execution_count": 12,
   "id": "cf9c3f9c-48cd-45a6-8e8b-dadcb5523531",
   "metadata": {},
   "outputs": [],
   "source": [
    "t = { \"int\" : 3, \"Name\" : \"Vijay\", \"surname\" : \"Mathe\", 9 : \"3\"}"
   ]
  },
  {
   "cell_type": "code",
   "execution_count": 14,
   "id": "17bc1fae-b10f-4b61-9a04-a8e41fb750ad",
   "metadata": {},
   "outputs": [
    {
     "data": {
      "text/plain": [
       "'Vijay'"
      ]
     },
     "execution_count": 14,
     "metadata": {},
     "output_type": "execute_result"
    }
   ],
   "source": [
    "t.pop(\"Name\")"
   ]
  },
  {
   "cell_type": "code",
   "execution_count": 15,
   "id": "8ccebb5d-e221-44e7-8815-b3ced3261f0b",
   "metadata": {},
   "outputs": [
    {
     "data": {
      "text/plain": [
       "{'int': 3, 'surname': 'Mathe', 9: '3'}"
      ]
     },
     "execution_count": 15,
     "metadata": {},
     "output_type": "execute_result"
    }
   ],
   "source": [
    "t"
   ]
  },
  {
   "cell_type": "code",
   "execution_count": 13,
   "id": "93b03094-57a6-4904-b1d0-988483810828",
   "metadata": {},
   "outputs": [
    {
     "name": "stdout",
     "output_type": "stream",
     "text": [
      "int\n",
      "Name\n",
      "surname\n",
      "9\n"
     ]
    }
   ],
   "source": [
    "for i in t:\n",
    "    print(i)"
   ]
  },
  {
   "cell_type": "markdown",
   "id": "17273813-2c4a-4c45-8cae-d294318b8754",
   "metadata": {},
   "source": [
    "## Q6. Can we create a nested dictionary? If so, please give an example by creating a simple one-level nested dictionary."
   ]
  },
  {
   "cell_type": "markdown",
   "id": "424fc3d6-7893-41ef-a938-6295f0ad05a7",
   "metadata": {},
   "source": [
    "### Yes, we can create a nested dictionary by passing the value as another dictionary \n",
    "### Bellow is the code in which simple nested dictionary is formed"
   ]
  },
  {
   "cell_type": "code",
   "execution_count": 29,
   "id": "063b9b5e-b031-4e27-a40e-fd31aa39246c",
   "metadata": {},
   "outputs": [],
   "source": [
    "dict1 = {\"name\" : \"Vijay\", \"Surname\" : \"Mathe\", \"Village\" : \"Sangwa\", \"NewDict\" : {\"name1\" : \"vijay\", \"Sur\" : \"Mathe\"}}"
   ]
  },
  {
   "cell_type": "code",
   "execution_count": 30,
   "id": "c04a3d46-0088-4c83-b454-50daa3fdffa1",
   "metadata": {},
   "outputs": [
    {
     "data": {
      "text/plain": [
       "{'name': 'Vijay',\n",
       " 'Surname': 'Mathe',\n",
       " 'Village': 'Sangwa',\n",
       " 'NewDict': {'name1': 'vijay', 'Sur': 'Mathe'}}"
      ]
     },
     "execution_count": 30,
     "metadata": {},
     "output_type": "execute_result"
    }
   ],
   "source": [
    "dict1"
   ]
  },
  {
   "cell_type": "markdown",
   "id": "de472bad-b80e-4c4f-baae-71f3c7b14ce7",
   "metadata": {},
   "source": [
    "### Q7. Using setdefault() method, create key named topics in the given dictionary and also add the value of the key as this list ['Python', 'Machine Learning’, 'Deep Learning']\n",
    "### dict1 = {'language' : 'Python', 'course': 'Data Science Masters'}"
   ]
  },
  {
   "cell_type": "code",
   "execution_count": 1,
   "id": "481fc1da-72eb-46eb-afe3-caba2622f803",
   "metadata": {},
   "outputs": [],
   "source": [
    "dict1 = {\"Language\" : \"Python\", \"Course\" : \"Data Science Masters\" }"
   ]
  },
  {
   "cell_type": "code",
   "execution_count": 2,
   "id": "54ce4eb6-0899-4110-860c-c9e635ee2120",
   "metadata": {},
   "outputs": [
    {
     "data": {
      "text/plain": [
       "{'Language': 'Python', 'Course': 'Data Science Masters'}"
      ]
     },
     "execution_count": 2,
     "metadata": {},
     "output_type": "execute_result"
    }
   ],
   "source": [
    "dict1"
   ]
  },
  {
   "cell_type": "code",
   "execution_count": 3,
   "id": "660bd50b-422f-4330-8923-fe16f1d9281c",
   "metadata": {},
   "outputs": [
    {
     "data": {
      "text/plain": [
       "['Python', 'Machine Learning', 'Deep learning']"
      ]
     },
     "execution_count": 3,
     "metadata": {},
     "output_type": "execute_result"
    }
   ],
   "source": [
    "dict1.setdefault(\"topics\", [\"Python\", \"Machine Learning\", \"Deep learning\"])"
   ]
  },
  {
   "cell_type": "code",
   "execution_count": 4,
   "id": "aca58876-950e-422b-ba44-e0d4a8726822",
   "metadata": {},
   "outputs": [
    {
     "data": {
      "text/plain": [
       "{'Language': 'Python',\n",
       " 'Course': 'Data Science Masters',\n",
       " 'topics': ['Python', 'Machine Learning', 'Deep learning']}"
      ]
     },
     "execution_count": 4,
     "metadata": {},
     "output_type": "execute_result"
    }
   ],
   "source": [
    "dict1"
   ]
  },
  {
   "cell_type": "markdown",
   "id": "a15beb08-3484-4e18-964a-2468aae522a0",
   "metadata": {},
   "source": [
    "## Q8. What are the three view objects in dictionaries? Use the three in-built methods in python to display these three view objects for the given dictionary.\n",
    "## dict1 = {'Sport': 'Cricket' , 'Teams': ['India', 'Australia', 'England', 'South Africa', 'Sri Lanka', 'New Zealand']}\n",
    "\n",
    "\n",
    "### Ans:\n",
    "\n",
    "### There are three vie methods for dictionaries in python these are keys(), values() and items()\n",
    "### The keys() method add all the keys of the dictinary in the tuple and will print that tuple\n",
    "### The values() method add all the values of the dictinary in the tuple and will print that tuple\n",
    "### The items() method add all the items of the dictinary in the tuple and will print that tuple\n",
    "### These methodes are used in the bellow code to show the output"
   ]
  },
  {
   "cell_type": "code",
   "execution_count": 48,
   "id": "e4f08c84-5357-4496-80be-41d14df4aac3",
   "metadata": {},
   "outputs": [],
   "source": [
    "dict2 = {\"Sport\" : \"Cricket\", \"Teams\" : [\"India\", \"Austrelia\", \"England\", \"South Africa\", \"Sri Lanka\", \"New Zealand\"]}"
   ]
  },
  {
   "cell_type": "code",
   "execution_count": 49,
   "id": "fab7101c-3887-49b5-9f01-f8004e1b11aa",
   "metadata": {},
   "outputs": [
    {
     "data": {
      "text/plain": [
       "{'Sport': 'Cricket',\n",
       " 'Teams': ['India',\n",
       "  'Austrelia',\n",
       "  'England',\n",
       "  'South Africa',\n",
       "  'Sri Lanka',\n",
       "  'New Zealand']}"
      ]
     },
     "execution_count": 49,
     "metadata": {},
     "output_type": "execute_result"
    }
   ],
   "source": [
    "dict2"
   ]
  },
  {
   "cell_type": "code",
   "execution_count": 50,
   "id": "34df01c8-61ba-41e1-9590-c7ff9b7b7a4b",
   "metadata": {},
   "outputs": [
    {
     "data": {
      "text/plain": [
       "dict_keys(['Sport', 'Teams'])"
      ]
     },
     "execution_count": 50,
     "metadata": {},
     "output_type": "execute_result"
    }
   ],
   "source": [
    "dict2.keys()"
   ]
  },
  {
   "cell_type": "code",
   "execution_count": 51,
   "id": "afc91839-a1fe-4a45-ac8e-286fce4d9dcd",
   "metadata": {},
   "outputs": [
    {
     "data": {
      "text/plain": [
       "dict_values(['Cricket', ['India', 'Austrelia', 'England', 'South Africa', 'Sri Lanka', 'New Zealand']])"
      ]
     },
     "execution_count": 51,
     "metadata": {},
     "output_type": "execute_result"
    }
   ],
   "source": [
    "dict2.values()"
   ]
  },
  {
   "cell_type": "code",
   "execution_count": 52,
   "id": "e56b3c0a-e83f-4b41-8ad8-ea433c4b5215",
   "metadata": {},
   "outputs": [
    {
     "data": {
      "text/plain": [
       "dict_items([('Sport', 'Cricket'), ('Teams', ['India', 'Austrelia', 'England', 'South Africa', 'Sri Lanka', 'New Zealand'])])"
      ]
     },
     "execution_count": 52,
     "metadata": {},
     "output_type": "execute_result"
    }
   ],
   "source": [
    "dict2.items()"
   ]
  }
 ],
 "metadata": {
  "kernelspec": {
   "display_name": "Python 3 (ipykernel)",
   "language": "python",
   "name": "python3"
  },
  "language_info": {
   "codemirror_mode": {
    "name": "ipython",
    "version": 3
   },
   "file_extension": ".py",
   "mimetype": "text/x-python",
   "name": "python",
   "nbconvert_exporter": "python",
   "pygments_lexer": "ipython3",
   "version": "3.10.8"
  }
 },
 "nbformat": 4,
 "nbformat_minor": 5
}
