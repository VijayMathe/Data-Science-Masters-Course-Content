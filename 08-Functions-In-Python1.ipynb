{
 "cells": [
  {
   "cell_type": "code",
   "execution_count": 11,
   "id": "e3794f00-34f2-4396-9cd0-3160ca4bf4a8",
   "metadata": {},
   "outputs": [],
   "source": [
    "def test1():\n",
    "    print(\"This is my first function\")"
   ]
  },
  {
   "cell_type": "code",
   "execution_count": 13,
   "id": "a31dfe19-2cec-476a-8e00-9a3ab109bc6b",
   "metadata": {},
   "outputs": [
    {
     "name": "stdout",
     "output_type": "stream",
     "text": [
      "This is my first function\n"
     ]
    }
   ],
   "source": [
    "test1()"
   ]
  },
  {
   "cell_type": "code",
   "execution_count": 19,
   "id": "c501632b-0a4d-46ed-bc65-780c890a8d59",
   "metadata": {},
   "outputs": [],
   "source": [
    "def test1():\n",
    "    pass\n",
    "    print(\"my funct\")"
   ]
  },
  {
   "cell_type": "code",
   "execution_count": 20,
   "id": "91427a62-e555-4b29-a1d2-52f6357da849",
   "metadata": {},
   "outputs": [
    {
     "name": "stdout",
     "output_type": "stream",
     "text": [
      "my funct\n"
     ]
    }
   ],
   "source": [
    "test1()"
   ]
  },
  {
   "cell_type": "code",
   "execution_count": 21,
   "id": "c9f93708-ca49-4b53-ad66-2272332c786d",
   "metadata": {},
   "outputs": [],
   "source": [
    "def test2():\n",
    "    return \"the first\""
   ]
  },
  {
   "cell_type": "code",
   "execution_count": 24,
   "id": "93d2a624-0358-48d8-8c98-b49193986d80",
   "metadata": {},
   "outputs": [
    {
     "data": {
      "text/plain": [
       "'the first Vijay'"
      ]
     },
     "execution_count": 24,
     "metadata": {},
     "output_type": "execute_result"
    }
   ],
   "source": [
    "test2() + \" Vijay\""
   ]
  },
  {
   "cell_type": "code",
   "execution_count": 25,
   "id": "0b191690-6d92-4319-bed8-b15b47c7d854",
   "metadata": {},
   "outputs": [],
   "source": [
    "def test3():\n",
    "    return 2, 6, 8, \"Vijay\", [2, 5, 7, 9]"
   ]
  },
  {
   "cell_type": "code",
   "execution_count": 27,
   "id": "86fd4e58-9de0-41b9-9319-66fce72af50d",
   "metadata": {},
   "outputs": [
    {
     "data": {
      "text/plain": [
       "(2, 6, 8, 'Vijay', [2, 5, 7, 9])"
      ]
     },
     "execution_count": 27,
     "metadata": {},
     "output_type": "execute_result"
    }
   ],
   "source": [
    "test3()"
   ]
  },
  {
   "cell_type": "code",
   "execution_count": 28,
   "id": "8042654a-8698-4981-bf93-362dfe232983",
   "metadata": {},
   "outputs": [],
   "source": [
    "a, b, c, d = 2, 4, 7, \"Mathe\""
   ]
  },
  {
   "cell_type": "code",
   "execution_count": 29,
   "id": "1b670a26-1883-45b8-9cba-9d66306a10d6",
   "metadata": {},
   "outputs": [
    {
     "data": {
      "text/plain": [
       "2"
      ]
     },
     "execution_count": 29,
     "metadata": {},
     "output_type": "execute_result"
    }
   ],
   "source": [
    "a"
   ]
  },
  {
   "cell_type": "code",
   "execution_count": 30,
   "id": "a471b5c8-49b6-4926-8bc3-42ad4b2a7235",
   "metadata": {},
   "outputs": [
    {
     "data": {
      "text/plain": [
       "4"
      ]
     },
     "execution_count": 30,
     "metadata": {},
     "output_type": "execute_result"
    }
   ],
   "source": [
    "b"
   ]
  },
  {
   "cell_type": "code",
   "execution_count": 31,
   "id": "86db0cae-ed99-4665-9d34-3334684ffcf2",
   "metadata": {},
   "outputs": [
    {
     "data": {
      "text/plain": [
       "7"
      ]
     },
     "execution_count": 31,
     "metadata": {},
     "output_type": "execute_result"
    }
   ],
   "source": [
    "c"
   ]
  },
  {
   "cell_type": "code",
   "execution_count": 32,
   "id": "d5124e5b-aa8e-4f06-b63e-ee76f48ec17d",
   "metadata": {},
   "outputs": [
    {
     "data": {
      "text/plain": [
       "'Mathe'"
      ]
     },
     "execution_count": 32,
     "metadata": {},
     "output_type": "execute_result"
    }
   ],
   "source": [
    "d"
   ]
  },
  {
   "cell_type": "code",
   "execution_count": 33,
   "id": "c5730b46-dc10-4330-9f3d-a97f4588158e",
   "metadata": {},
   "outputs": [
    {
     "data": {
      "text/plain": [
       "2"
      ]
     },
     "execution_count": 33,
     "metadata": {},
     "output_type": "execute_result"
    }
   ],
   "source": [
    "test3()[0]"
   ]
  },
  {
   "cell_type": "code",
   "execution_count": 34,
   "id": "46e85a30-9e05-4c64-b71b-ade14d33b6f5",
   "metadata": {},
   "outputs": [
    {
     "data": {
      "text/plain": [
       "[2, 5, 7, 9]"
      ]
     },
     "execution_count": 34,
     "metadata": {},
     "output_type": "execute_result"
    }
   ],
   "source": [
    "test3()[4]"
   ]
  },
  {
   "cell_type": "code",
   "execution_count": 35,
   "id": "ed8b3a22-e5c1-4b72-999a-6b4401cc07b5",
   "metadata": {},
   "outputs": [],
   "source": [
    "def test4(a, b):\n",
    "    c = a+b\n",
    "    return c"
   ]
  },
  {
   "cell_type": "code",
   "execution_count": 36,
   "id": "564dafa1-82d0-4674-b92d-c769f0250766",
   "metadata": {},
   "outputs": [
    {
     "data": {
      "text/plain": [
       "17"
      ]
     },
     "execution_count": 36,
     "metadata": {},
     "output_type": "execute_result"
    }
   ],
   "source": [
    "test4(8, 9)"
   ]
  },
  {
   "cell_type": "code",
   "execution_count": 38,
   "id": "7794691b-c4ec-442a-badc-5fc1fc2161e6",
   "metadata": {},
   "outputs": [
    {
     "data": {
      "text/plain": [
       "tuple"
      ]
     },
     "execution_count": 38,
     "metadata": {},
     "output_type": "execute_result"
    }
   ],
   "source": [
    "type(test3())"
   ]
  },
  {
   "cell_type": "code",
   "execution_count": 39,
   "id": "ca7b6c7d-602a-45cd-9630-8016b257a2e6",
   "metadata": {},
   "outputs": [],
   "source": [
    "def test5(a, b):\n",
    "    return a+b"
   ]
  },
  {
   "cell_type": "code",
   "execution_count": 40,
   "id": "500c9841-6e32-4062-bc5b-89eb42b428d0",
   "metadata": {},
   "outputs": [],
   "source": [
    "a = [4, 6, 7, 8, 9]\n",
    "b = [11, 22, 33, 44]"
   ]
  },
  {
   "cell_type": "code",
   "execution_count": 41,
   "id": "fc35e4bc-528d-49f3-9e15-3d6083584f69",
   "metadata": {},
   "outputs": [
    {
     "data": {
      "text/plain": [
       "[4, 6, 7, 8, 9, 11, 22, 33, 44]"
      ]
     },
     "execution_count": 41,
     "metadata": {},
     "output_type": "execute_result"
    }
   ],
   "source": [
    "test5(a, b)"
   ]
  },
  {
   "cell_type": "code",
   "execution_count": 42,
   "id": "ed0bb99c-5843-4ee0-9e5c-831eade9f7ca",
   "metadata": {},
   "outputs": [],
   "source": [
    "t = \"Vijay\"\n",
    "u = \"Mathe\""
   ]
  },
  {
   "cell_type": "code",
   "execution_count": 43,
   "id": "84088bc0-814d-4301-b58f-342bf0c66cd3",
   "metadata": {},
   "outputs": [
    {
     "data": {
      "text/plain": [
       "'VijayMathe'"
      ]
     },
     "execution_count": 43,
     "metadata": {},
     "output_type": "execute_result"
    }
   ],
   "source": [
    "test4(t, u)"
   ]
  },
  {
   "cell_type": "markdown",
   "id": "ab8211cf-f696-46ce-a7c9-b634ae3314eb",
   "metadata": {},
   "source": [
    "# Create a function which will take list as a input and return the list with only integer values"
   ]
  },
  {
   "cell_type": "code",
   "execution_count": 45,
   "id": "a30c4a40-26b9-4174-97f7-74f87792d15c",
   "metadata": {},
   "outputs": [],
   "source": [
    "List = [2, 4, 7, 0, 1, \"Vijay\", \"PWSkill\", 73.29]"
   ]
  },
  {
   "cell_type": "code",
   "execution_count": 48,
   "id": "4345c188-fbbd-46b1-9bbf-a4d66d546d90",
   "metadata": {},
   "outputs": [],
   "source": [
    "res = []\n",
    "def listInt(a):\n",
    "    for i in a:\n",
    "        if type(i) == int:\n",
    "            res.append(i)\n",
    "    return res"
   ]
  },
  {
   "cell_type": "code",
   "execution_count": 49,
   "id": "e1e5d333-94ab-4306-b444-69ae14783da4",
   "metadata": {},
   "outputs": [
    {
     "data": {
      "text/plain": [
       "[2, 4, 7, 0, 1]"
      ]
     },
     "execution_count": 49,
     "metadata": {},
     "output_type": "execute_result"
    }
   ],
   "source": [
    "listInt(List)"
   ]
  },
  {
   "cell_type": "markdown",
   "id": "696c74e6-7ab9-490c-9716-fdeaebfb4eec",
   "metadata": {},
   "source": [
    "### Create a function which will return the integer elements of a list and also integer elements in the nested list"
   ]
  },
  {
   "cell_type": "code",
   "execution_count": 50,
   "id": "e98a65cf-0f35-4098-9f38-e184ae7bc789",
   "metadata": {},
   "outputs": [],
   "source": [
    "def test5(a):\n",
    "    res1 = []\n",
    "    for i in a:\n",
    "        if type(i) == list:\n",
    "            for j in i:\n",
    "                if type(j) == int:\n",
    "                    res1.append(j)\n",
    "        if type(i) == int:\n",
    "            res1.append(i)\n",
    "    return res1"
   ]
  },
  {
   "cell_type": "code",
   "execution_count": 51,
   "id": "a03fc48e-48bf-4d93-b37a-88ffed27e403",
   "metadata": {},
   "outputs": [],
   "source": [
    "a = [2, 3, 5, 6, \"Vijay\", \"PWSkills\", [3, 1, 2, 8, 9]]"
   ]
  },
  {
   "cell_type": "code",
   "execution_count": 52,
   "id": "2bdc2882-d493-45d2-8c06-08437539f416",
   "metadata": {},
   "outputs": [
    {
     "data": {
      "text/plain": [
       "[2, 3, 5, 6, 3, 1, 2, 8, 9]"
      ]
     },
     "execution_count": 52,
     "metadata": {},
     "output_type": "execute_result"
    }
   ],
   "source": [
    "test5(a)"
   ]
  },
  {
   "cell_type": "code",
   "execution_count": null,
   "id": "3bfd8749-968e-4c57-bd6d-36992d00dd49",
   "metadata": {},
   "outputs": [],
   "source": []
  }
 ],
 "metadata": {
  "kernelspec": {
   "display_name": "Python 3 (ipykernel)",
   "language": "python",
   "name": "python3"
  },
  "language_info": {
   "codemirror_mode": {
    "name": "ipython",
    "version": 3
   },
   "file_extension": ".py",
   "mimetype": "text/x-python",
   "name": "python",
   "nbconvert_exporter": "python",
   "pygments_lexer": "ipython3",
   "version": "3.10.8"
  }
 },
 "nbformat": 4,
 "nbformat_minor": 5
}
