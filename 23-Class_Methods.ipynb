{
 "cells": [
  {
   "cell_type": "markdown",
   "id": "b14301d2-9bc8-4788-afcd-019d3584f66b",
   "metadata": {
    "tags": []
   },
   "source": [
    "## Class methods"
   ]
  },
  {
   "cell_type": "code",
   "execution_count": 10,
   "id": "3a83abaf-9c21-489b-a777-2d692270d29e",
   "metadata": {},
   "outputs": [],
   "source": [
    "class pwSkill:\n",
    "    def __init__(self, name, email):\n",
    "        self.name = name\n",
    "        self.email = email\n",
    "        \n",
    "    def student_details(self):\n",
    "        print(self.name, self.email)"
   ]
  },
  {
   "cell_type": "code",
   "execution_count": 11,
   "id": "5df71766-1206-41f2-9f7a-a5669e4f0eaf",
   "metadata": {},
   "outputs": [],
   "source": [
    "pw = pwSkill(\"vijay\", \"Mathe@.com\")"
   ]
  },
  {
   "cell_type": "code",
   "execution_count": 12,
   "id": "67948e14-a28e-4162-acb5-4b08820b03c0",
   "metadata": {},
   "outputs": [
    {
     "data": {
      "text/plain": [
       "'vijay'"
      ]
     },
     "execution_count": 12,
     "metadata": {},
     "output_type": "execute_result"
    }
   ],
   "source": [
    "pw.name"
   ]
  },
  {
   "cell_type": "code",
   "execution_count": 7,
   "id": "946296a3-0879-4b6f-8cf9-7c84c60892fa",
   "metadata": {},
   "outputs": [],
   "source": [
    "class pwSkill:\n",
    "    def __init__(self, name, email):\n",
    "        self.name = name\n",
    "        self.email = email\n",
    "    \n",
    "    @classmethod\n",
    "    def details(cls, name1, email1):\n",
    "        return cls(name1, email1)\n",
    "        \n",
    "    def student_details(self):\n",
    "        print(self.name, self.email)"
   ]
  },
  {
   "cell_type": "code",
   "execution_count": 8,
   "id": "b04fe514-ecf0-4da7-af60-66a2df314164",
   "metadata": {},
   "outputs": [],
   "source": [
    "pw1 = pwSkill(\"Vijay\", \"email\")"
   ]
  },
  {
   "cell_type": "code",
   "execution_count": 9,
   "id": "856ab132-d150-416f-8449-420ab2838fc8",
   "metadata": {},
   "outputs": [
    {
     "data": {
      "text/plain": [
       "'Vijay'"
      ]
     },
     "execution_count": 9,
     "metadata": {},
     "output_type": "execute_result"
    }
   ],
   "source": [
    "pw1.name"
   ]
  },
  {
   "cell_type": "code",
   "execution_count": 13,
   "id": "816ea5fc-4cdc-48fb-bb04-e8b2e662ea60",
   "metadata": {},
   "outputs": [],
   "source": [
    "pw2 = pwSkill.details(\"mathe\", \"Vijay.com\")"
   ]
  },
  {
   "cell_type": "code",
   "execution_count": 14,
   "id": "1749b9a6-22c9-4d4a-944c-1da7bbc37882",
   "metadata": {},
   "outputs": [
    {
     "ename": "AttributeError",
     "evalue": "'pwSkill' object has no attribute 'name1'",
     "output_type": "error",
     "traceback": [
      "\u001b[0;31m---------------------------------------------------------------------------\u001b[0m",
      "\u001b[0;31mAttributeError\u001b[0m                            Traceback (most recent call last)",
      "Cell \u001b[0;32mIn[14], line 1\u001b[0m\n\u001b[0;32m----> 1\u001b[0m \u001b[43mpw2\u001b[49m\u001b[38;5;241;43m.\u001b[39;49m\u001b[43mname1\u001b[49m\n",
      "\u001b[0;31mAttributeError\u001b[0m: 'pwSkill' object has no attribute 'name1'"
     ]
    }
   ],
   "source": [
    "pw2.name1"
   ]
  },
  {
   "cell_type": "code",
   "execution_count": 15,
   "id": "8ed45efc-8cbd-4e25-b4bb-a0169b2ea61a",
   "metadata": {},
   "outputs": [],
   "source": [
    "class pwSkill1:\n",
    "    mobile_Number = 8010209256\n",
    "    def __init__(self, name, email):\n",
    "        self.name = name\n",
    "        self.email = email\n",
    "        \n",
    "    @classmethod\n",
    "    def change_number(cls, mobile):\n",
    "        pwSkill1.mobile_Number = mobile\n",
    "        \n",
    "    @classmethod\n",
    "    def details(cls, name, email):\n",
    "        return cls(name, email)\n",
    "    \n",
    "    def student_details(self):\n",
    "        print(self.name, self.email, pwSkill1.mobile_Number)"
   ]
  },
  {
   "cell_type": "code",
   "execution_count": 28,
   "id": "75a95966-fa72-4bd7-b5ef-6f5f759d5256",
   "metadata": {},
   "outputs": [],
   "source": [
    "pw1 = pwSkill1.details(\"Vijay\", \"Mathe@.com\")"
   ]
  },
  {
   "cell_type": "code",
   "execution_count": 20,
   "id": "13ed6e67-13c0-4a60-a0d4-34534b5e6561",
   "metadata": {},
   "outputs": [
    {
     "data": {
      "text/plain": [
       "'Vijay'"
      ]
     },
     "execution_count": 20,
     "metadata": {},
     "output_type": "execute_result"
    }
   ],
   "source": [
    "pw1.name"
   ]
  },
  {
   "cell_type": "code",
   "execution_count": 21,
   "id": "e5e2f554-2772-42ca-abf4-63d026ffe670",
   "metadata": {},
   "outputs": [
    {
     "data": {
      "text/plain": [
       "'email'"
      ]
     },
     "execution_count": 21,
     "metadata": {},
     "output_type": "execute_result"
    }
   ],
   "source": [
    "pw1.email"
   ]
  },
  {
   "cell_type": "code",
   "execution_count": 22,
   "id": "09854038-6e28-4410-8543-203ac402e6fe",
   "metadata": {},
   "outputs": [],
   "source": [
    "pwSkill1.change_number(8766928487)"
   ]
  },
  {
   "cell_type": "code",
   "execution_count": 23,
   "id": "8b8ef1f3-501d-4670-92a0-5e2984e8a84f",
   "metadata": {},
   "outputs": [
    {
     "data": {
      "text/plain": [
       "8766928487"
      ]
     },
     "execution_count": 23,
     "metadata": {},
     "output_type": "execute_result"
    }
   ],
   "source": [
    "pwSkill1.mobile_Number"
   ]
  },
  {
   "cell_type": "code",
   "execution_count": 24,
   "id": "e76c02f3-38ee-4732-a1e0-458e8479b75e",
   "metadata": {},
   "outputs": [],
   "source": [
    "pw2_obj = pwSkill1(\"Vijay\", \"Mathe\")"
   ]
  },
  {
   "cell_type": "code",
   "execution_count": 40,
   "id": "a0d46e35-e7c8-41ef-96f7-e1db19a9c67f",
   "metadata": {},
   "outputs": [
    {
     "data": {
      "text/plain": [
       "<__main__.pwSkill1 at 0x7faa00297700>"
      ]
     },
     "execution_count": 40,
     "metadata": {},
     "output_type": "execute_result"
    }
   ],
   "source": [
    "pw2_obj.details(\"Vijay\", \"Mtahe.com\")"
   ]
  },
  {
   "cell_type": "markdown",
   "id": "85200784-489c-4e83-9ca5-f9f1d63cc244",
   "metadata": {},
   "source": [
    "### Add external function to the class"
   ]
  },
  {
   "cell_type": "code",
   "execution_count": 25,
   "id": "ed5c6ad2-a7db-4fcb-8e74-5dda3896839f",
   "metadata": {},
   "outputs": [],
   "source": [
    "def extarnal(cls, courseName):\n",
    "    print(\"Course name is: \", courseName)"
   ]
  },
  {
   "cell_type": "code",
   "execution_count": 26,
   "id": "f9e7ee05-022c-446b-a213-52fe818ed8bb",
   "metadata": {},
   "outputs": [],
   "source": [
    "pwSkill1.extarnal = classmethod(extarnal)"
   ]
  },
  {
   "cell_type": "code",
   "execution_count": 27,
   "id": "90bffd94-dd85-4d79-a883-b6d6e0b2bae3",
   "metadata": {},
   "outputs": [
    {
     "name": "stdout",
     "output_type": "stream",
     "text": [
      "Course name is:  data science\n"
     ]
    }
   ],
   "source": [
    "pwSkill1.extarnal(\"data science\")"
   ]
  },
  {
   "cell_type": "markdown",
   "id": "01e7b8b9-dd99-4b4a-a73b-94bd9154e853",
   "metadata": {},
   "source": [
    "### Delete function from a class"
   ]
  },
  {
   "cell_type": "code",
   "execution_count": 30,
   "id": "6999592b-b21d-4b63-ac34-dd9fe105a550",
   "metadata": {},
   "outputs": [],
   "source": [
    "class pwSkill3:\n",
    "    mobile_Number = 8010209256\n",
    "    def __init__(self, name, email):\n",
    "        self.name = name\n",
    "        self.email = email\n",
    "        \n",
    "    @classmethod\n",
    "    def change_number(cls, mobile):\n",
    "        pwSkill1.mobile_Number = mobile\n",
    "        \n",
    "    @classmethod\n",
    "    def details(cls, name, email):\n",
    "        return cls(name, email)\n",
    "    \n",
    "    def student_details(self):\n",
    "        print(self.name, self.email, pwSkill1.mobile_Number)"
   ]
  },
  {
   "cell_type": "code",
   "execution_count": 32,
   "id": "b98f4e74-f8bb-42a9-93af-0dc266408871",
   "metadata": {},
   "outputs": [],
   "source": [
    "del pwSkill3.change_number"
   ]
  },
  {
   "cell_type": "code",
   "execution_count": 33,
   "id": "db2b25ac-7a7b-49c1-b57b-bc73ee5f21cc",
   "metadata": {},
   "outputs": [
    {
     "ename": "AttributeError",
     "evalue": "type object 'pwSkill3' has no attribute 'change_number'",
     "output_type": "error",
     "traceback": [
      "\u001b[0;31m---------------------------------------------------------------------------\u001b[0m",
      "\u001b[0;31mAttributeError\u001b[0m                            Traceback (most recent call last)",
      "Cell \u001b[0;32mIn[33], line 1\u001b[0m\n\u001b[0;32m----> 1\u001b[0m \u001b[43mpwSkill3\u001b[49m\u001b[38;5;241;43m.\u001b[39;49m\u001b[43mchange_number\u001b[49m(\u001b[38;5;241m8256314795\u001b[39m)\n",
      "\u001b[0;31mAttributeError\u001b[0m: type object 'pwSkill3' has no attribute 'change_number'"
     ]
    }
   ],
   "source": [
    "pwSkill3.change_number(8256314795)"
   ]
  },
  {
   "cell_type": "code",
   "execution_count": null,
   "id": "b3274682-452a-4e6c-8402-49e05a71ffed",
   "metadata": {},
   "outputs": [],
   "source": []
  }
 ],
 "metadata": {
  "kernelspec": {
   "display_name": "Python 3 (ipykernel)",
   "language": "python",
   "name": "python3"
  },
  "language_info": {
   "codemirror_mode": {
    "name": "ipython",
    "version": 3
   },
   "file_extension": ".py",
   "mimetype": "text/x-python",
   "name": "python",
   "nbconvert_exporter": "python",
   "pygments_lexer": "ipython3",
   "version": "3.10.8"
  }
 },
 "nbformat": 4,
 "nbformat_minor": 5
}
