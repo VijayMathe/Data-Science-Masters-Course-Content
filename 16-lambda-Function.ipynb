{
 "cells": [
  {
   "cell_type": "markdown",
   "id": "34768932-22a0-4f49-bab7-68033507d6c9",
   "metadata": {},
   "source": [
    "### Simple way to define any function"
   ]
  },
  {
   "cell_type": "code",
   "execution_count": 1,
   "id": "b9c59620-a94d-4325-b5de-813a984fb652",
   "metadata": {},
   "outputs": [],
   "source": [
    "def add(a, b):\n",
    "    return a+b"
   ]
  },
  {
   "cell_type": "code",
   "execution_count": 2,
   "id": "a1b6927f-a426-4921-a05d-d4181d43c9f7",
   "metadata": {},
   "outputs": [
    {
     "data": {
      "text/plain": [
       "16"
      ]
     },
     "execution_count": 2,
     "metadata": {},
     "output_type": "execute_result"
    }
   ],
   "source": [
    "add(9, 7)"
   ]
  },
  {
   "cell_type": "code",
   "execution_count": 3,
   "id": "9a48826e-c5f4-4ad0-a7ec-e384b9891b71",
   "metadata": {},
   "outputs": [],
   "source": [
    "def mul(a, b, c, d):\n",
    "    return a*b*c*d"
   ]
  },
  {
   "cell_type": "code",
   "execution_count": 4,
   "id": "7d7acd8b-9b48-4bac-8cf0-036031bde33b",
   "metadata": {},
   "outputs": [
    {
     "data": {
      "text/plain": [
       "378"
      ]
     },
     "execution_count": 4,
     "metadata": {},
     "output_type": "execute_result"
    }
   ],
   "source": [
    "mul(3, 7, 2, 9)"
   ]
  },
  {
   "cell_type": "markdown",
   "id": "01292d62-5154-481b-b4f7-b4b3840ec982",
   "metadata": {},
   "source": [
    "### lambda is an anonymous function coz it does not have a name at all\n",
    "###"
   ]
  },
  {
   "cell_type": "code",
   "execution_count": 5,
   "id": "71f69b23-bb8b-44ec-b73c-7dc811ed3e1f",
   "metadata": {},
   "outputs": [],
   "source": [
    "a = lambda x, y : x + y"
   ]
  },
  {
   "cell_type": "code",
   "execution_count": 6,
   "id": "84632f9b-2d68-4c6d-abee-c1b390ac78f8",
   "metadata": {},
   "outputs": [
    {
     "data": {
      "text/plain": [
       "15"
      ]
     },
     "execution_count": 6,
     "metadata": {},
     "output_type": "execute_result"
    }
   ],
   "source": [
    "a(8, 7)"
   ]
  },
  {
   "cell_type": "code",
   "execution_count": 7,
   "id": "f65e538a-24af-48e9-884f-6452b2e76c8c",
   "metadata": {},
   "outputs": [],
   "source": [
    "multiplication = lambda x, y : x * y"
   ]
  },
  {
   "cell_type": "code",
   "execution_count": 8,
   "id": "99e6e7d8-9d8e-4d4b-9dc6-a791fd5866a6",
   "metadata": {},
   "outputs": [
    {
     "data": {
      "text/plain": [
       "45"
      ]
     },
     "execution_count": 8,
     "metadata": {},
     "output_type": "execute_result"
    }
   ],
   "source": [
    "multiplication(5, 9)"
   ]
  },
  {
   "cell_type": "markdown",
   "id": "a65abcb4-ad14-4186-a2d6-0b691eafd937",
   "metadata": {},
   "source": [
    "### Celcius to farenheite conversion"
   ]
  },
  {
   "cell_type": "code",
   "execution_count": 9,
   "id": "37d448ac-d2f8-4c90-a972-e62f7e38c6e5",
   "metadata": {},
   "outputs": [],
   "source": [
    "celcius_to_farenheite = lambda c : (9/5)*c+32"
   ]
  },
  {
   "cell_type": "code",
   "execution_count": 10,
   "id": "20a0fbae-57ca-493c-b857-1d98de5a6343",
   "metadata": {},
   "outputs": [
    {
     "data": {
      "text/plain": [
       "93.2"
      ]
     },
     "execution_count": 10,
     "metadata": {},
     "output_type": "execute_result"
    }
   ],
   "source": [
    "celcius_to_farenheite(34)"
   ]
  },
  {
   "cell_type": "code",
   "execution_count": null,
   "id": "d7571d61-a6f1-40b5-b936-623110c43b99",
   "metadata": {},
   "outputs": [],
   "source": []
  }
 ],
 "metadata": {
  "kernelspec": {
   "display_name": "Python 3 (ipykernel)",
   "language": "python",
   "name": "python3"
  },
  "language_info": {
   "codemirror_mode": {
    "name": "ipython",
    "version": 3
   },
   "file_extension": ".py",
   "mimetype": "text/x-python",
   "name": "python",
   "nbconvert_exporter": "python",
   "pygments_lexer": "ipython3",
   "version": "3.10.8"
  }
 },
 "nbformat": 4,
 "nbformat_minor": 5
}
