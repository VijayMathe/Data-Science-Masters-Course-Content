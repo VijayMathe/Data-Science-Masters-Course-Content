{
 "cells": [
  {
   "cell_type": "code",
   "execution_count": 1,
   "id": "3b9713a6-7f49-4876-8650-f748189d2044",
   "metadata": {},
   "outputs": [],
   "source": [
    "def test(a, b):\n",
    "    return a+b"
   ]
  },
  {
   "cell_type": "code",
   "execution_count": 2,
   "id": "6bace029-4aaf-4018-b44d-4d188134bd23",
   "metadata": {},
   "outputs": [
    {
     "data": {
      "text/plain": [
       "13"
      ]
     },
     "execution_count": 2,
     "metadata": {},
     "output_type": "execute_result"
    }
   ],
   "source": [
    "test(4, 9)"
   ]
  },
  {
   "cell_type": "code",
   "execution_count": 3,
   "id": "afe0758f-9ce5-4815-9dd3-f719904b1f10",
   "metadata": {},
   "outputs": [
    {
     "data": {
      "text/plain": [
       "'Vijay Mathe'"
      ]
     },
     "execution_count": 3,
     "metadata": {},
     "output_type": "execute_result"
    }
   ],
   "source": [
    "test(\"Vijay \", \"Mathe\")"
   ]
  },
  {
   "cell_type": "code",
   "execution_count": 5,
   "id": "70566546-d718-43e0-bbdb-cedd186b5300",
   "metadata": {},
   "outputs": [
    {
     "data": {
      "text/plain": [
       "[1, 2, 3, 4, 5, 6, 7, 8, 9, 0]"
      ]
     },
     "execution_count": 5,
     "metadata": {},
     "output_type": "execute_result"
    }
   ],
   "source": [
    "test([1, 2, 3, 4, 5], [6, 7, 8, 9, 0])"
   ]
  },
  {
   "cell_type": "markdown",
   "id": "7ffac203-ed4c-4493-8def-ca3dc311b575",
   "metadata": {},
   "source": [
    "### The above codes shows that one function is behaving differently with different parameters andf that is what the polymorphism"
   ]
  },
  {
   "cell_type": "markdown",
   "id": "5e11bc10-a37f-460b-8cec-5bbe62be4eae",
   "metadata": {},
   "source": [
    "### The polymorphism can be defines as poly means many and morphs means forms (difference forms)"
   ]
  },
  {
   "cell_type": "code",
   "execution_count": 20,
   "id": "5ea3eebc-b63f-44fb-999c-9ffe15400041",
   "metadata": {},
   "outputs": [],
   "source": [
    "class data_Science:\n",
    "    def syllabus(self):\n",
    "        print(\"This is my method for data science syllabus\")"
   ]
  },
  {
   "cell_type": "code",
   "execution_count": 21,
   "id": "2b5cb694-1e08-4feb-8d91-e70606ef5270",
   "metadata": {},
   "outputs": [],
   "source": [
    "class web_dev:\n",
    "    def syllabus(self):\n",
    "        print(\"This is web dev class syllabus\")"
   ]
  },
  {
   "cell_type": "code",
   "execution_count": 22,
   "id": "c4164dcb-50dc-45ed-85b1-9d286e261d6a",
   "metadata": {},
   "outputs": [],
   "source": [
    "obj_Data_Science = data_Science()"
   ]
  },
  {
   "cell_type": "code",
   "execution_count": 23,
   "id": "ec47c91f-d623-4286-8178-0b1d42ba1c8a",
   "metadata": {},
   "outputs": [],
   "source": [
    "obj_web_dev = web_dev()"
   ]
  },
  {
   "cell_type": "code",
   "execution_count": 24,
   "id": "b25fdc7b-fee4-454d-a47a-57459a5b5494",
   "metadata": {},
   "outputs": [],
   "source": [
    "def funct(class_Obj):\n",
    "    for i in class_Obj:\n",
    "        i.syllabus()"
   ]
  },
  {
   "cell_type": "code",
   "execution_count": 25,
   "id": "36e042fb-0bd5-4fd8-aef1-8acae5eb0e77",
   "metadata": {},
   "outputs": [],
   "source": [
    "obj_both = [obj_Data_Science, obj_web_dev]"
   ]
  },
  {
   "cell_type": "code",
   "execution_count": 26,
   "id": "af162289-c0f8-4153-b456-507e137ddb75",
   "metadata": {},
   "outputs": [
    {
     "name": "stdout",
     "output_type": "stream",
     "text": [
      "This is my method for data science syllabus\n",
      "This is web dev class syllabus\n"
     ]
    }
   ],
   "source": [
    "funct(obj_both)"
   ]
  },
  {
   "cell_type": "code",
   "execution_count": null,
   "id": "5a104a47-6821-4c85-9eb5-d17e3aa8aee3",
   "metadata": {},
   "outputs": [],
   "source": []
  },
  {
   "cell_type": "code",
   "execution_count": null,
   "id": "11d3c855-5706-48cc-be6b-6767295c2578",
   "metadata": {},
   "outputs": [],
   "source": []
  }
 ],
 "metadata": {
  "kernelspec": {
   "display_name": "Python 3 (ipykernel)",
   "language": "python",
   "name": "python3"
  },
  "language_info": {
   "codemirror_mode": {
    "name": "ipython",
    "version": 3
   },
   "file_extension": ".py",
   "mimetype": "text/x-python",
   "name": "python",
   "nbconvert_exporter": "python",
   "pygments_lexer": "ipython3",
   "version": "3.10.8"
  }
 },
 "nbformat": 4,
 "nbformat_minor": 5
}
