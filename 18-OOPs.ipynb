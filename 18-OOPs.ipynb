{
 "cells": [
  {
   "cell_type": "code",
   "execution_count": 1,
   "id": "084ea1a7-27ed-4a64-b3fa-88887e1f997f",
   "metadata": {},
   "outputs": [],
   "source": [
    "a = 1"
   ]
  },
  {
   "cell_type": "code",
   "execution_count": 2,
   "id": "66ee72a8-bf73-4b9d-a32a-a69185e46f0d",
   "metadata": {},
   "outputs": [
    {
     "name": "stdout",
     "output_type": "stream",
     "text": [
      "<class 'int'>\n"
     ]
    }
   ],
   "source": [
    "print(type(a))"
   ]
  },
  {
   "cell_type": "code",
   "execution_count": 3,
   "id": "5835a0d5-2a25-41c3-a6c8-d3dc1444a751",
   "metadata": {},
   "outputs": [
    {
     "name": "stdout",
     "output_type": "stream",
     "text": [
      "<class 'str'>\n"
     ]
    }
   ],
   "source": [
    "print(type(\"PWSkills\"))"
   ]
  },
  {
   "cell_type": "code",
   "execution_count": 5,
   "id": "b675f679-df00-45cb-b816-d7b6c85b632e",
   "metadata": {},
   "outputs": [],
   "source": [
    "class test:\n",
    "    pass"
   ]
  },
  {
   "cell_type": "code",
   "execution_count": 6,
   "id": "cdb23892-662a-4cd2-9776-077376ac62e9",
   "metadata": {},
   "outputs": [],
   "source": [
    "a = test()"
   ]
  },
  {
   "cell_type": "code",
   "execution_count": 8,
   "id": "a67bc624-6336-4ba2-9582-2e4166a6c505",
   "metadata": {},
   "outputs": [
    {
     "name": "stdout",
     "output_type": "stream",
     "text": [
      "<class '__main__.test'>\n"
     ]
    }
   ],
   "source": [
    "print(type(a))"
   ]
  },
  {
   "cell_type": "code",
   "execution_count": 13,
   "id": "13764b08-ca6c-4777-a40c-face10c68ab7",
   "metadata": {},
   "outputs": [],
   "source": [
    "class pwskills:\n",
    "    def wellcome(self):\n",
    "        print(\"wellCome\")"
   ]
  },
  {
   "cell_type": "code",
   "execution_count": 14,
   "id": "8efce129-2f99-4020-a23a-5ea140a9b117",
   "metadata": {},
   "outputs": [],
   "source": [
    "rohan = pwskills()"
   ]
  },
  {
   "cell_type": "code",
   "execution_count": 15,
   "id": "2d3c3508-c8c8-4765-98e8-ebceb64bb93a",
   "metadata": {},
   "outputs": [
    {
     "name": "stdout",
     "output_type": "stream",
     "text": [
      "wellCome\n"
     ]
    }
   ],
   "source": [
    "rohan.wellcome()"
   ]
  },
  {
   "cell_type": "code",
   "execution_count": 16,
   "id": "d3b4fc55-ab76-4cad-a79e-4fb0ad35bd9d",
   "metadata": {},
   "outputs": [
    {
     "name": "stdout",
     "output_type": "stream",
     "text": [
      "wellCome\n"
     ]
    }
   ],
   "source": [
    "sohan = pwskills()\n",
    "sohan.wellcome()"
   ]
  },
  {
   "cell_type": "code",
   "execution_count": 22,
   "id": "417b34da-3852-45cb-bfbc-b1e05243366a",
   "metadata": {},
   "outputs": [],
   "source": [
    "class pwSkills:\n",
    "    def __init__(self, contact, name, roll, div):\n",
    "        self.contact = contact\n",
    "        self.name = name\n",
    "        self.roll = roll\n",
    "        self.div = div\n",
    "        \n",
    "    def return_details(self):\n",
    "        return self.contact, self.name, self.roll, self.div"
   ]
  },
  {
   "cell_type": "code",
   "execution_count": 23,
   "id": "392bef23-40bf-4c11-aaa7-a0f59571a1b8",
   "metadata": {},
   "outputs": [],
   "source": [
    "obj = pwSkills(8010209256, \"Vijay\", 22, \"ET-C\")"
   ]
  },
  {
   "cell_type": "code",
   "execution_count": 24,
   "id": "c06f612a-4816-442c-a411-05d39027c4a7",
   "metadata": {},
   "outputs": [
    {
     "data": {
      "text/plain": [
       "(8010209256, 'Vijay', 22, 'ET-C')"
      ]
     },
     "execution_count": 24,
     "metadata": {},
     "output_type": "execute_result"
    }
   ],
   "source": [
    "obj.return_details()"
   ]
  },
  {
   "cell_type": "code",
   "execution_count": 25,
   "id": "2da55089-8818-4dcc-83d6-e3e685f82206",
   "metadata": {},
   "outputs": [
    {
     "data": {
      "text/plain": [
       "22"
      ]
     },
     "execution_count": 25,
     "metadata": {},
     "output_type": "execute_result"
    }
   ],
   "source": [
    "obj.roll\n"
   ]
  },
  {
   "cell_type": "code",
   "execution_count": 26,
   "id": "359ffa7b-843b-4ea1-b484-4d73cf88ae52",
   "metadata": {},
   "outputs": [
    {
     "data": {
      "text/plain": [
       "'Vijay'"
      ]
     },
     "execution_count": 26,
     "metadata": {},
     "output_type": "execute_result"
    }
   ],
   "source": [
    "obj.name"
   ]
  },
  {
   "cell_type": "code",
   "execution_count": 27,
   "id": "9106e59f-d435-4d22-8602-8fdf396d5a00",
   "metadata": {},
   "outputs": [
    {
     "data": {
      "text/plain": [
       "8010209256"
      ]
     },
     "execution_count": 27,
     "metadata": {},
     "output_type": "execute_result"
    }
   ],
   "source": [
    "obj.contact"
   ]
  },
  {
   "cell_type": "code",
   "execution_count": 2,
   "id": "440c8a09-6e5f-4e63-96fe-a7bdcf46347a",
   "metadata": {},
   "outputs": [],
   "source": [
    "class MyClass:\n",
    "    def __init__(vijay, age, name, height, college, village):\n",
    "        vijay.age = age\n",
    "        vijay.name = name\n",
    "        vijay.height = height\n",
    "        vijay.college = college\n",
    "        vijay.village = village\n",
    "        \n",
    "    def return_Vijay_Details(vijay):\n",
    "        return vijay.age, vijay.name, vijay.height, vijay.college, vijay.village"
   ]
  },
  {
   "cell_type": "code",
   "execution_count": 3,
   "id": "9bb83a2f-c821-42f6-b55c-e1caf5448f6f",
   "metadata": {},
   "outputs": [],
   "source": [
    "vijay = MyClass(18, \"Vijay\", 625, \"VIT Pune\", \"Sangwa\")"
   ]
  },
  {
   "cell_type": "code",
   "execution_count": 4,
   "id": "097a3c7f-4d3f-4f04-8a22-73193b66531d",
   "metadata": {},
   "outputs": [
    {
     "data": {
      "text/plain": [
       "(18, 'Vijay', 625, 'VIT Pune', 'Sangwa')"
      ]
     },
     "execution_count": 4,
     "metadata": {},
     "output_type": "execute_result"
    }
   ],
   "source": [
    "vijay.return_Vijay_Details()"
   ]
  },
  {
   "cell_type": "code",
   "execution_count": 5,
   "id": "7daf5057-0f9b-4e98-8e44-bd6dfe7c2c60",
   "metadata": {},
   "outputs": [
    {
     "data": {
      "text/plain": [
       "18"
      ]
     },
     "execution_count": 5,
     "metadata": {},
     "output_type": "execute_result"
    }
   ],
   "source": [
    "vijay.age\n"
   ]
  },
  {
   "cell_type": "code",
   "execution_count": 7,
   "id": "a973d0f6-6d21-4e01-a755-679b72e31b79",
   "metadata": {},
   "outputs": [
    {
     "data": {
      "text/plain": [
       "625"
      ]
     },
     "execution_count": 7,
     "metadata": {},
     "output_type": "execute_result"
    }
   ],
   "source": [
    "vijay.height"
   ]
  },
  {
   "cell_type": "code",
   "execution_count": null,
   "id": "001f8867-7420-4ba3-98d1-0b86f8f85bbc",
   "metadata": {},
   "outputs": [],
   "source": []
  }
 ],
 "metadata": {
  "kernelspec": {
   "display_name": "Python 3 (ipykernel)",
   "language": "python",
   "name": "python3"
  },
  "language_info": {
   "codemirror_mode": {
    "name": "ipython",
    "version": 3
   },
   "file_extension": ".py",
   "mimetype": "text/x-python",
   "name": "python",
   "nbconvert_exporter": "python",
   "pygments_lexer": "ipython3",
   "version": "3.10.8"
  }
 },
 "nbformat": 4,
 "nbformat_minor": 5
}
