{
 "cells": [
  {
   "cell_type": "markdown",
   "id": "16bae1e9-6a5e-42af-8c56-c17097b3d277",
   "metadata": {},
   "source": [
    "## Q1. Create a function which will take a list as an argument and return the product of all the numbers after creating a flat list. Use the below-given list as an argument for your function. list1 = [1,2,3,4, [44,55,66, True], False, (34,56,78,89,34), {1,2,3,3,2,1}, {1:34, \"key2\": [55, 67, 78, 89], 4: (45, 22, 61, 34)}, [56, 'data science'], 'Machine Learning'] Note: you must extract numeric keys and values of the dictionary also."
   ]
  },
  {
   "cell_type": "code",
   "execution_count": 13,
   "id": "00c22f56-9e0e-43b6-98be-ee4cb1812a73",
   "metadata": {},
   "outputs": [
    {
     "name": "stdout",
     "output_type": "stream",
     "text": [
      "Product is : 0\n"
     ]
    }
   ],
   "source": [
    "def multiply_numbers(lst):\n",
    "    flat_list = [];\n",
    "    for i in lst:\n",
    "        if isinstance(i, list):\n",
    "            flat_list.extend(i);\n",
    "        elif isinstance(i, (int, float)):\n",
    "            flat_list.append(i)\n",
    "        elif isinstance(i, dict):\n",
    "            flat_list.extend(i.keys())\n",
    "            flat_list.extend(i.values())\n",
    "    \n",
    "    product = 1;\n",
    "    \n",
    "    for i in flat_list:\n",
    "        if isinstance(i , (int, float)):\n",
    "            product *= i\n",
    "    \n",
    "    return product\n",
    "\n",
    "list1 = [1, 2, 3, 4, [44, 55, 66, True], False, (34, 56, 78, 89, 34), {1, 2, 3, 3, 2, 1}, {1: 34, \"key2\": [55, 67, 78, 89], 4: (45, 22, 61, 34)}, [56, 'data science'], 'Machine Learning']\n",
    "result = multiply_numbers(list1)\n",
    "print(\"Product is :\", result)"
   ]
  },
  {
   "cell_type": "markdown",
   "id": "09622960-36ff-4fa7-a1bc-0870a6590a77",
   "metadata": {},
   "source": [
    "## Q2. Write a python program for encrypting a message sent to you by your friend. The logic of encryption should be such that, for a the output should be z. For b, the output should be y. For c, the output should be x respectively. Also, the whitespace should be replaced with a dollar sign. Keep the punctuation marks unchanged. Input Sentence: I want to become a Data Scientist. Encrypt the above input sentence using the program you just created. Note: Convert the given input sentence into lowercase before encrypting. The final output should be lowercase."
   ]
  },
  {
   "cell_type": "code",
   "execution_count": 4,
   "id": "3a397b7b-2090-443d-a62e-a3c2a491c909",
   "metadata": {},
   "outputs": [
    {
     "name": "stdout",
     "output_type": "stream",
     "text": [
      "Encrypted Sentence: r$dzmg$gl$yvxlnv$z$wzgz$hxrvmgrhg.\n"
     ]
    }
   ],
   "source": [
    "def encrypt_message(message):\n",
    "    encrypted = \"\"\n",
    "    for char in message:\n",
    "        if char.isalpha():\n",
    "            char = chr(ord('z') - (ord(char.lower()) - ord('a')))\n",
    "        elif char.isspace():\n",
    "            char = '$'\n",
    "        encrypted += char\n",
    "    return encrypted\n",
    "\n",
    "input_sentence = \"I want to become a Data Scientist.\"\n",
    "encrypted_sentence = encrypt_message(input_sentence.lower())\n",
    "print(\"Encrypted Sentence:\", encrypted_sentence)"
   ]
  },
  {
   "cell_type": "code",
   "execution_count": 8,
   "id": "6b470a19-4b31-4020-9171-a3df33b30904",
   "metadata": {},
   "outputs": [
    {
     "name": "stdout",
     "output_type": "stream",
     "text": [
      "Invalid Password\n",
      "Invalid Password\n",
      "Invalid Password\n",
      "Invalid Password\n"
     ]
    }
   ],
   "source": []
  },
  {
   "cell_type": "code",
   "execution_count": null,
   "id": "607021c5-e509-43c1-bcaf-bde06b014a01",
   "metadata": {},
   "outputs": [],
   "source": []
  },
  {
   "cell_type": "code",
   "execution_count": null,
   "id": "f6bbd308-13db-4c71-b701-bfb916cf3bf2",
   "metadata": {},
   "outputs": [],
   "source": []
  },
  {
   "cell_type": "code",
   "execution_count": null,
   "id": "74684934-d43a-451c-87fd-cedd953fe9da",
   "metadata": {},
   "outputs": [],
   "source": []
  },
  {
   "cell_type": "code",
   "execution_count": null,
   "id": "67d02eb4-054a-482c-880a-ca290af06b7c",
   "metadata": {},
   "outputs": [],
   "source": []
  },
  {
   "cell_type": "code",
   "execution_count": 1,
   "id": "591ab600-965e-441c-998c-412c2773903c",
   "metadata": {},
   "outputs": [],
   "source": [
    "list2 = [1,2,3,4, [44,55,66, True], False, (34,56,78,89,34), {1,2,3,3,2,1}, {1:34, \"key2\": [55, 67, 78, 89], 4: (45, 22, 61, 34)}, [56, 'data science'], 'Machine Learning']"
   ]
  },
  {
   "cell_type": "code",
   "execution_count": 3,
   "id": "2bfad78f-be30-481a-a665-7696d89f480d",
   "metadata": {},
   "outputs": [
    {
     "ename": "NameError",
     "evalue": "name 'flatten_list' is not defined",
     "output_type": "error",
     "traceback": [
      "\u001b[0;31m---------------------------------------------------------------------------\u001b[0m",
      "\u001b[0;31mNameError\u001b[0m                                 Traceback (most recent call last)",
      "Cell \u001b[0;32mIn[3], line 1\u001b[0m\n\u001b[0;32m----> 1\u001b[0m flat_list \u001b[38;5;241m=\u001b[39m \u001b[43mflatten_list\u001b[49m(list2)\n\u001b[1;32m      2\u001b[0m \u001b[38;5;28mprint\u001b[39m(flat_list)\n",
      "\u001b[0;31mNameError\u001b[0m: name 'flatten_list' is not defined"
     ]
    }
   ],
   "source": [
    "flat_list = flatten_list(list2)\n",
    "print(flat_list)"
   ]
  },
  {
   "cell_type": "code",
   "execution_count": null,
   "id": "70ba84b9-2884-4694-bd2d-e57b30c432e8",
   "metadata": {},
   "outputs": [],
   "source": []
  }
 ],
 "metadata": {
  "kernelspec": {
   "display_name": "Python 3 (ipykernel)",
   "language": "python",
   "name": "python3"
  },
  "language_info": {
   "codemirror_mode": {
    "name": "ipython",
    "version": 3
   },
   "file_extension": ".py",
   "mimetype": "text/x-python",
   "name": "python",
   "nbconvert_exporter": "python",
   "pygments_lexer": "ipython3",
   "version": "3.10.8"
  }
 },
 "nbformat": 4,
 "nbformat_minor": 5
}
