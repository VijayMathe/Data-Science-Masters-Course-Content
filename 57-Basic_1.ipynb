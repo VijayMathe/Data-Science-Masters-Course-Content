{
 "cells": [
  {
   "cell_type": "markdown",
   "id": "97bfc44e-fe98-4fe6-b764-bf64876b029e",
   "metadata": {},
   "source": [
    "## Q1. What is Statistics?"
   ]
  },
  {
   "cell_type": "markdown",
   "id": "1ed04cd8-690b-4a06-ab47-e26b4fc25110",
   "metadata": {},
   "source": [
    "### Ans:\n",
    "### The statistics is used to gather, review, analyse and drow conclusions from the data as well as apply quantified mathematical models to appropriate variables"
   ]
  },
  {
   "cell_type": "markdown",
   "id": "df7f3f01-654d-4242-a93c-41a9aa341907",
   "metadata": {},
   "source": [
    "## Q2. Define the different types of statistics and give an example of when each type might be used."
   ]
  },
  {
   "cell_type": "markdown",
   "id": "c41da01f-c61c-4506-bc7a-276107561f8c",
   "metadata": {},
   "source": [
    "### Ans:\n",
    "### There are two main types of statistics\n",
    "### 1) Descreptive\n",
    "### 2) Inferential\n",
    "### 1) Descreptive Statistics : Descriptive statistics involves summarizing and describing the main features of a dataset. It includes measures such as mean, median, mode, range, variance, and standard deviation. Descriptive statistics provide information about the central tendency, variability, and distribution of the data.\n",
    "### 2) Inferential Statistics : Inferential statistics involves making inferences or drawing conclusions about a population based on a sample of data. It uses probability theory to estimate population parameters and test hypotheses. Techniques such as hypothesis testing, confidence intervals, and regression analysis are used in inferential statistics."
   ]
  },
  {
   "cell_type": "markdown",
   "id": "be2cfe16-3a98-4a68-a841-377630ca12f6",
   "metadata": {},
   "source": [
    "### descriptive statistics can be used to calculate the average income of a group of individuals, the spread of test scores in a classroom, or the distribution of customer ratings for a product.\n",
    "###  if a political pollster surveys a sample of voters to predict the election outcome for an entire country, inferential statistics would be used to estimate the margin of error and determine the statistical significance of the results."
   ]
  },
  {
   "cell_type": "code",
   "execution_count": null,
   "id": "cccd773b-ca4f-413d-954a-63c0da558294",
   "metadata": {},
   "outputs": [],
   "source": []
  },
  {
   "cell_type": "markdown",
   "id": "58115212-7815-4ae9-9ea1-a969630a9b98",
   "metadata": {},
   "source": [
    "## Q3. What are the different types of data and how do they differ from each other? Provide an example of each type of data."
   ]
  },
  {
   "cell_type": "markdown",
   "id": "91529c55-7586-4123-8f52-acc2e949fbcb",
   "metadata": {},
   "source": [
    "### Ans:\n",
    "\n",
    "### Nominal Data: Nominal data represents categories or labels without any inherent order or numerical value. It is the least structured type of data. Examples of nominal data include gender (male or female), marital status (single, married, divorced), and car brands (Toyota, Ford, Honda).\n",
    "\n",
    "### Ordinal Data: Ordinal data has categories that have a natural order or ranking, but the differences between the categories are not well-defined or equal. Examples of ordinal data include educational levels (elementary, high school, college), satisfaction ratings (poor, fair, good, excellent), and survey response options (strongly disagree, disagree, neutral, agree, strongly agree).\n",
    "\n",
    "### Interval Data: Interval data has categories with a well-defined order, and the differences between the categories are equal. However, there is no true zero point. Common examples of interval data include temperature measured in Celsius or Fahrenheit, dates, and years. In interval data, you can perform mathematical operations like addition and subtraction, but multiplication and division are not meaningful.\n",
    "\n",
    "### Ratio Data: Ratio data is similar to interval data, but it has a true zero point, indicating an absence of the measured attribute. Ratio data allows for all arithmetic operations. Examples of ratio data include height, weight, time, income, and counts of objects.\n",
    "\n",
    "### Continuous Data: Continuous data can take any value within a certain range and can have an infinite number of possible values. It is typically measured on a continuous scale. Examples of continuous data include height, weight, temperature, and time.\n",
    "\n",
    "### Discrete Data: Discrete data can only take specific, distinct values. It cannot take any value within a range. Discrete data often consists of counts or whole numbers. Examples of discrete data include the number of children in a family, the number of customers in a store, or the number of defective items produced in a factory."
   ]
  },
  {
   "cell_type": "code",
   "execution_count": null,
   "id": "8dc55cf3-fa46-42e0-a615-1160122c5f2f",
   "metadata": {},
   "outputs": [],
   "source": []
  },
  {
   "cell_type": "markdown",
   "id": "2687734d-9550-4e1f-b691-cb8905e20f4a",
   "metadata": {},
   "source": [
    "## Q4. Categorise the following datasets with respect to quantitative and qualitative data types:\n",
    "## (i) Grading in exam: A+, A, B+, B, C+, C, D, E\n",
    "## (ii) Colour of mangoes: yellow, green, orange, red\n",
    "## (iii) Height data of a class: [178.9, 179, 179.5, 176, 177.2, 178.3, 175.8,...]\n",
    "## (iv) Number of mangoes exported by a farm: [500, 600, 478, 672, ...]"
   ]
  },
  {
   "cell_type": "markdown",
   "id": "10707e38-a4de-48f2-83d6-b8ad71fbf26a",
   "metadata": {},
   "source": [
    "### Ans:\n",
    "### i) qualitative data\n",
    "### ii) qualitative data\n",
    "### iii) quantitative data\n",
    "### iv) quantitative data"
   ]
  },
  {
   "cell_type": "code",
   "execution_count": null,
   "id": "3bfa4e90-2fee-48f5-b7a3-a4a6279d0178",
   "metadata": {},
   "outputs": [],
   "source": []
  },
  {
   "cell_type": "markdown",
   "id": "ee950fd8-a3eb-4753-b2df-dc139b578660",
   "metadata": {},
   "source": [
    "## Q5. Explain the concept of levels of measurement and give an example of a variable for each level."
   ]
  },
  {
   "cell_type": "markdown",
   "id": "8a9a09cb-27f2-42cf-a023-0cec0315c696",
   "metadata": {},
   "source": [
    "### Ans:\n",
    "\n",
    "### Levels of measurement are a way of classifying variables based on the nature and characteristics of the data they represent.\n",
    "\n",
    "### Nominal Level: The data can be classified into different groups, but no mathematical operations can be performed on it. An example of a nominal variable is \"eye color,\" with categories such as \"blue,\" \"brown,\" \"green,\" and \"hazel.\"\n",
    "\n",
    "### Ordinal Level: At the ordinal level, variables have categories with a natural order or ranking. An example of an ordinal variable is \"educational level,\" with categories like \"elementary school,\" \"high school,\" and \"college.\"\n",
    "\n",
    "### Interval Level: At the interval level, variables have categories with a well-defined order, and the differences between categories are equal and meaningful. An example of an interval variable is \"temperature\" measured in Celsius or Fahrenheit. The difference between 10°C and 20°C is the same as the difference between 20°C and 30°C, but zero degrees Celsius does not represent an absence of temperature.\n",
    "\n",
    "### Ratio Level: At the ratio level, variables have categories with a well-defined order and equal differences between categories. An example of a ratio variable is \"height\" in centimeters or inches. The difference between 160 cm and 170 cm is the same as the difference between 170 cm and 180 cm, and a height of 0 cm indicates no height."
   ]
  },
  {
   "cell_type": "code",
   "execution_count": null,
   "id": "f0c73967-1069-4e45-a654-33c5f3070e93",
   "metadata": {},
   "outputs": [],
   "source": []
  },
  {
   "cell_type": "markdown",
   "id": "5e8b8087-b0dd-4b82-8e02-26ae1f2fd476",
   "metadata": {},
   "source": [
    "## Q6. Why is it important to understand the level of measurement when analyzing data? Provide an example to illustrate your answer."
   ]
  },
  {
   "cell_type": "markdown",
   "id": "9bb509e3-a4e5-4cfa-bdad-351fdb7a3317",
   "metadata": {},
   "source": [
    "### Ans:\n",
    "### because it determines the appropriate statistical techniques and operations that can be applied. It helps ensure that the analysis is valid, accurate, and meaningful.\n",
    "### Let's consider a research study examining the effectiveness of different teaching methods on student performance. The study collects data on the teaching method used (nominal), student satisfaction ratings (ordinal), and test scores (ratio)."
   ]
  },
  {
   "cell_type": "code",
   "execution_count": null,
   "id": "659fcc5a-b321-4ef8-85e4-62690c81c652",
   "metadata": {},
   "outputs": [],
   "source": []
  },
  {
   "cell_type": "markdown",
   "id": "24a2c398-46c3-478e-8f4a-ca40229284bb",
   "metadata": {},
   "source": [
    "## Q7. How nominal data type is different from ordinal data type."
   ]
  },
  {
   "cell_type": "markdown",
   "id": "dfc72fb5-c911-45fd-b8c6-b7b576224392",
   "metadata": {},
   "source": [
    "### Ans:\n",
    "### The Nominal data focuses on distinct and independent categories without an inherent order, while ordinal data involves categories with a natural order or ranking. Nominal data lacks quantitative value and cannot be subjected to mathematical operations, while ordinal data allows for comparison but does not have equal or quantifiable differences between categories."
   ]
  },
  {
   "cell_type": "code",
   "execution_count": null,
   "id": "68ce8fdb-a23d-487c-bce1-c305a97c86c2",
   "metadata": {},
   "outputs": [],
   "source": []
  },
  {
   "cell_type": "markdown",
   "id": "9acdd33e-1249-408a-82e0-49222fac397d",
   "metadata": {},
   "source": [
    "## Q8. Which type of plot can be used to display data in terms of range?"
   ]
  },
  {
   "cell_type": "markdown",
   "id": "0bd86b8c-a5cb-4c3c-af13-10db56702420",
   "metadata": {},
   "source": [
    "### Ans:\n",
    "### The Box plot can be used to display data in terms of range"
   ]
  },
  {
   "cell_type": "code",
   "execution_count": null,
   "id": "547fb8dd-5092-4d7b-b65c-76a4c93d507b",
   "metadata": {},
   "outputs": [],
   "source": []
  },
  {
   "cell_type": "markdown",
   "id": "461b95eb-80ab-4f32-aea2-fb726e3ea898",
   "metadata": {},
   "source": [
    "## Q9. Describe the difference between descriptive and inferential statistics. Give an example of each type of statistics and explain how they are used."
   ]
  },
  {
   "cell_type": "markdown",
   "id": "970d59e7-1790-45d3-a48c-5faaf9073510",
   "metadata": {},
   "source": [
    "### 1) Descreptive Statistics : Descriptive statistics involves summarizing and describing the main features of a dataset. It includes measures such as mean, median, mode, range, variance, and standard deviation. Descriptive statistics provide information about the central tendency, variability, and distribution of the data.\n",
    "### 2) Inferential Statistics : Inferential statistics involves making inferences or drawing conclusions about a population based on a sample of data. It uses probability theory to estimate population parameters and test hypotheses. Techniques such as hypothesis testing, confidence intervals, and regression analysis are used in inferential statistics."
   ]
  },
  {
   "cell_type": "markdown",
   "id": "f4acd095-162a-4c4a-8384-39ad772b2b28",
   "metadata": {},
   "source": [
    "### descriptive statistics can be used to calculate the average income of a group of individuals, the spread of test scores in a classroom, or the distribution of customer ratings for a product.\n",
    "###  if a political pollster surveys a sample of voters to predict the election outcome for an entire country, inferential statistics would be used to estimate the margin of error and determine the statistical significance of the results."
   ]
  },
  {
   "cell_type": "code",
   "execution_count": null,
   "id": "0a2a75b4-f921-4ef6-b0a7-e7048dd4dc21",
   "metadata": {},
   "outputs": [],
   "source": []
  },
  {
   "cell_type": "markdown",
   "id": "b3cb0c22-8b8f-4974-9fef-00e612a2b808",
   "metadata": {},
   "source": [
    "## Q10. What are some common measures of central tendency and variability used in statistics? Explain how each measure can be used to describe a dataset."
   ]
  },
  {
   "cell_type": "markdown",
   "id": "ef1a7afd-ac7c-4489-a0d3-704bff920ce7",
   "metadata": {},
   "source": [
    "### Ans:\n",
    "\n",
    "### Measures of Central Tendency:\n",
    "\n",
    "### Mean: The mean is the average value of a dataset and is calculated by summing all the values and dividing by the total number of observations.\n",
    "\n",
    "### Example: If you have a dataset of test scores (e.g., 70, 80, 90), the mean would be (70 + 80 + 90) / 3 = 80. It represents the average score in the dataset.\n",
    "\n",
    "### Median: The median is the middle value in a sorted dataset. If the dataset has an odd number of observations, the median is the middle value.\n",
    "\n",
    "### Example: For a dataset of test scores (e.g., 70, 80, 90, 95), the median would be 85. It represents the middle score, separating the dataset into two equal halves.\n",
    "\n",
    "### Mode: The mode is the value(s) that occur most frequently in a dataset.\n",
    "\n",
    "### Example: In a dataset of test scores (e.g., 70, 80, 80, 90, 90), the mode would be 80 and 90, as they occur most frequently."
   ]
  },
  {
   "cell_type": "markdown",
   "id": "0bcf71c8-89f8-4125-ae98-fa3783a61167",
   "metadata": {},
   "source": [
    "### Measures of Variability:\n",
    "### Variance: Variance measures the average squared deviation from the mean in a dataset. It quantifies the spread or dispersion of the data around the mean.\n",
    "\n",
    "### Example: For a dataset of test scores (e.g., 70, 80, 90), the variance would be calculated by first finding the mean (80) and then computing the squared deviations from the mean: [(70 - 80)^2 + (80 - 80)^2 + (90 - 80)^2] / 3 = 66.67.\n",
    "\n",
    "### Standard Deviation: The standard deviation is the square root of the variance. It provides a measure of the average amount by which each data point deviates from the mean.\n",
    "\n",
    "### Example: Using the same dataset as above, the standard deviation would be the square root of the variance, which is approximately 8.16."
   ]
  },
  {
   "cell_type": "code",
   "execution_count": null,
   "id": "a244b02b-c949-4d23-ae2b-f02dda50065e",
   "metadata": {},
   "outputs": [],
   "source": []
  },
  {
   "cell_type": "code",
   "execution_count": null,
   "id": "1a778d35-66be-4f85-a43a-5f197432d465",
   "metadata": {},
   "outputs": [],
   "source": []
  },
  {
   "cell_type": "code",
   "execution_count": null,
   "id": "6931954b-a0a5-4a70-943f-21a18557b04f",
   "metadata": {},
   "outputs": [],
   "source": []
  },
  {
   "cell_type": "code",
   "execution_count": null,
   "id": "ab3402ef-dc10-4bc8-a345-1459354b96fc",
   "metadata": {},
   "outputs": [],
   "source": []
  }
 ],
 "metadata": {
  "kernelspec": {
   "display_name": "Python 3 (ipykernel)",
   "language": "python",
   "name": "python3"
  },
  "language_info": {
   "codemirror_mode": {
    "name": "ipython",
    "version": 3
   },
   "file_extension": ".py",
   "mimetype": "text/x-python",
   "name": "python",
   "nbconvert_exporter": "python",
   "pygments_lexer": "ipython3",
   "version": "3.10.8"
  }
 },
 "nbformat": 4,
 "nbformat_minor": 5
}
