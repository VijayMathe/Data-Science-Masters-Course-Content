{
 "cells": [
  {
   "cell_type": "markdown",
   "id": "c503dfd5-d2f3-4c25-82ab-7e9a0cb5f4eb",
   "metadata": {},
   "source": [
    "## Q1. Explain Class and Object with respect to Object-Oriented Programming. Give a suitable example."
   ]
  },
  {
   "cell_type": "markdown",
   "id": "020febad-a21f-45a5-8e68-d0f52a794738",
   "metadata": {},
   "source": [
    "### Ans : \n",
    "### The class basically is the blueprint which contains methods and instance variables\n",
    "### and the object is associated with the class by using object we can access the methods of the respected class the object is anything which is having some properties and behaviours\n",
    "### for an example bellow is the code in which i have created one simple class and also created object of thet class"
   ]
  },
  {
   "cell_type": "code",
   "execution_count": 4,
   "id": "e92d06b8-f8cb-480f-b821-5c196d65545d",
   "metadata": {},
   "outputs": [],
   "source": [
    "class MyClass:\n",
    "    def method(self):\n",
    "        return \"My Class Method\""
   ]
  },
  {
   "cell_type": "code",
   "execution_count": 5,
   "id": "4b4925c0-ccda-4a80-bb64-cb8fee518b0f",
   "metadata": {},
   "outputs": [],
   "source": [
    "obje = MyClass()"
   ]
  },
  {
   "cell_type": "code",
   "execution_count": 6,
   "id": "7b2cd688-f36e-436b-aba9-030e0665237a",
   "metadata": {},
   "outputs": [
    {
     "data": {
      "text/plain": [
       "'My Class Method'"
      ]
     },
     "execution_count": 6,
     "metadata": {},
     "output_type": "execute_result"
    }
   ],
   "source": [
    "obje.method()"
   ]
  },
  {
   "cell_type": "markdown",
   "id": "b70ac9b0-f6be-4529-aa10-569b88f1a658",
   "metadata": {},
   "source": [
    "## Q2. Name the four pillars of OOPs."
   ]
  },
  {
   "cell_type": "markdown",
   "id": "68f2a9b2-6559-4c40-8736-612f2ea18b09",
   "metadata": {},
   "source": [
    "### Ans :\n",
    "### Here are the four pillers of OOPs\n",
    "### 1) Polymorphism\n",
    "### 2) Inheritance\n",
    "### 3) Abstraction\n",
    "### 4) Encapsulation"
   ]
  },
  {
   "cell_type": "markdown",
   "id": "e9f96619-89d9-48ee-b501-da1e191ea7a5",
   "metadata": {},
   "source": [
    "## Q3. Explain why the __init__() function is used. Give a suitable example."
   ]
  },
  {
   "cell_type": "markdown",
   "id": "24b6228e-b30f-4c7a-a1f2-5496620b082a",
   "metadata": {},
   "source": [
    "### Ans :\n",
    "### while creating an object of a perticular class if we want to pass some of the variables with the oject and also want to access them separately then we need to define a constructor fo that perticular class\n",
    "### __init__() is the constructor that takes values from the object and pass them tho the instance variables\n",
    "### So that whenever we want to access them we can access them with a respective variable name\n",
    "### Bellow i have created one class that is having the __init__() constructor and also created one object of that class which is passing some parameters to that class"
   ]
  },
  {
   "cell_type": "code",
   "execution_count": 21,
   "id": "f1eaacc1-d149-45d6-bbae-1bc3b3e048ba",
   "metadata": {},
   "outputs": [],
   "source": [
    "class TheClass:\n",
    "    def __init__(self, Name, Age, Roll, Division):\n",
    "        self.Name = Name\n",
    "        self.Age = Age\n",
    "        self.Roll = Roll\n",
    "        self.Division = Division\n",
    "        \n",
    "    def return_Details(self):\n",
    "        return self.Name, self.Age, self.Roll, self.Division"
   ]
  },
  {
   "cell_type": "code",
   "execution_count": 22,
   "id": "635ee976-6972-41ed-9703-ba58af2b0cd4",
   "metadata": {},
   "outputs": [],
   "source": [
    "obj = TheClass(\"Vijay\", 18, 22, \"ET-C\")"
   ]
  },
  {
   "cell_type": "code",
   "execution_count": 23,
   "id": "e498c220-78b5-49dd-a4c7-84e95bdc9077",
   "metadata": {},
   "outputs": [
    {
     "data": {
      "text/plain": [
       "('Vijay', 18, 22, 'ET-C')"
      ]
     },
     "execution_count": 23,
     "metadata": {},
     "output_type": "execute_result"
    }
   ],
   "source": [
    "obj.return_Details()"
   ]
  },
  {
   "cell_type": "code",
   "execution_count": 16,
   "id": "029222f8-2e82-4bc5-9bbe-50c3065505dc",
   "metadata": {},
   "outputs": [
    {
     "data": {
      "text/plain": [
       "'Vijay'"
      ]
     },
     "execution_count": 16,
     "metadata": {},
     "output_type": "execute_result"
    }
   ],
   "source": [
    "obj.Name"
   ]
  },
  {
   "cell_type": "code",
   "execution_count": 24,
   "id": "f0547a14-0115-4843-ba78-1826a316f053",
   "metadata": {},
   "outputs": [
    {
     "data": {
      "text/plain": [
       "18"
      ]
     },
     "execution_count": 24,
     "metadata": {},
     "output_type": "execute_result"
    }
   ],
   "source": [
    "obj.Age"
   ]
  },
  {
   "cell_type": "code",
   "execution_count": 25,
   "id": "6e323c62-226e-4079-8f6a-06d9ed2089b3",
   "metadata": {},
   "outputs": [
    {
     "data": {
      "text/plain": [
       "22"
      ]
     },
     "execution_count": 25,
     "metadata": {},
     "output_type": "execute_result"
    }
   ],
   "source": [
    "obj.Roll"
   ]
  },
  {
   "cell_type": "code",
   "execution_count": 26,
   "id": "078a8027-0884-4694-9234-698825e92fa9",
   "metadata": {},
   "outputs": [
    {
     "data": {
      "text/plain": [
       "'ET-C'"
      ]
     },
     "execution_count": 26,
     "metadata": {},
     "output_type": "execute_result"
    }
   ],
   "source": [
    "obj.Division"
   ]
  },
  {
   "cell_type": "markdown",
   "id": "3594fbf9-7d41-405e-9ebd-ac4e2a30c317",
   "metadata": {},
   "source": [
    "## Q4. Why self is used in OOPs?"
   ]
  },
  {
   "cell_type": "markdown",
   "id": "28409a81-7280-4ea6-81f0-3566f5eecd04",
   "metadata": {},
   "source": [
    "### Ans :\n",
    "### the self is used to mention that the perticular method belongs to the same class\n",
    "### we can use any word instead of self just we have to pass that same word to the method also"
   ]
  },
  {
   "cell_type": "markdown",
   "id": "23b95419-feab-4dd1-87a2-c123b2c4bc85",
   "metadata": {},
   "source": [
    "## Q5. What is inheritance? Give an example for each type of inheritance."
   ]
  },
  {
   "cell_type": "markdown",
   "id": "c43b9711-c770-49f6-9b81-c1d76eca4642",
   "metadata": {},
   "source": [
    "### Ans :"
   ]
  },
  {
   "cell_type": "markdown",
   "id": "104a6e9a-f776-414a-9370-938d0c9bc483",
   "metadata": {},
   "source": [
    "### If a child class is able to access all the methods and instance variables of parent class then it can be defifines as the inheritance.\n",
    "### bellow is the code which explains Inheritance"
   ]
  },
  {
   "cell_type": "markdown",
   "id": "8fe3c65f-7375-47d6-aa23-558cea4776d6",
   "metadata": {},
   "source": [
    "### 1) Single Inheritance"
   ]
  },
  {
   "cell_type": "code",
   "execution_count": 69,
   "id": "58852cd9-76f4-400f-a1be-670622d8d7ba",
   "metadata": {},
   "outputs": [],
   "source": [
    "class TheClass1:\n",
    "    def fun1(self):\n",
    "        print(\"The Parent Class\")\n",
    "\n",
    "class TheClass2(TheClass1):\n",
    "    def fun2(self):\n",
    "        print(\"The Child Class\")\n"
   ]
  },
  {
   "cell_type": "code",
   "execution_count": 70,
   "id": "1b6bc456-518b-43b6-8f7c-ea49201b4902",
   "metadata": {},
   "outputs": [],
   "source": [
    "obj1 = TheClass2()\n",
    "obj2 = TheClass1()"
   ]
  },
  {
   "cell_type": "code",
   "execution_count": 71,
   "id": "172d3b9b-ca9b-472e-b51a-055210036928",
   "metadata": {},
   "outputs": [
    {
     "name": "stdout",
     "output_type": "stream",
     "text": [
      "The Parent Class\n",
      "The Child Class\n"
     ]
    }
   ],
   "source": [
    "obj1.fun1()\n",
    "obj1.fun2()"
   ]
  },
  {
   "cell_type": "markdown",
   "id": "25315c52-08e4-4d99-bc89-265ff410508d",
   "metadata": {},
   "source": [
    "### 2) Multiple Inheritance"
   ]
  },
  {
   "cell_type": "code",
   "execution_count": 72,
   "id": "78c8c601-6590-4602-be4b-5162b87dabcc",
   "metadata": {},
   "outputs": [],
   "source": [
    "class TheClass1:\n",
    "    def fun1(self):\n",
    "        print(\"The Parent Class\")\n",
    "\n",
    "class TheClass2:\n",
    "    def fun2(self):\n",
    "        print(\"The Parent Class\")\n",
    "        \n",
    "class TheClass3(TheClass1,TheClass2):\n",
    "    def fun3(self):\n",
    "        print(\"The Child Class\")"
   ]
  },
  {
   "cell_type": "code",
   "execution_count": 73,
   "id": "f05300d8-1b38-42fa-8264-15dc340b67d1",
   "metadata": {},
   "outputs": [
    {
     "name": "stdout",
     "output_type": "stream",
     "text": [
      "The Parent Class\n",
      "The Parent Class\n"
     ]
    }
   ],
   "source": [
    "obj3 = TheClass3()\n",
    "obj3.fun1()\n",
    "obj3.fun2()"
   ]
  },
  {
   "cell_type": "markdown",
   "id": "cc6da3d2-fda5-45cd-834f-b08d58105050",
   "metadata": {},
   "source": [
    "### 3) Multilevel Inheritance"
   ]
  },
  {
   "cell_type": "code",
   "execution_count": 76,
   "id": "5a457093-95c0-4c93-bee9-14092f7e208b",
   "metadata": {},
   "outputs": [],
   "source": [
    "class TheClass1:\n",
    "    def fun1(self):\n",
    "        print(\"The Parent Class\")\n",
    "\n",
    "class TheClass2(TheClass1):\n",
    "    def fun2(self):\n",
    "        print(\"The child 1 Class\")\n",
    "        \n",
    "class TheClass3(TheClass2):\n",
    "    def fun3(self):\n",
    "        print(\"The Child 2 Class\")"
   ]
  },
  {
   "cell_type": "code",
   "execution_count": 77,
   "id": "abfcef16-0d8a-4a60-bd14-a555f8fe99b9",
   "metadata": {},
   "outputs": [
    {
     "name": "stdout",
     "output_type": "stream",
     "text": [
      "The Parent Class\n",
      "The child 1 Class\n"
     ]
    }
   ],
   "source": [
    "obj4 = TheClass3()\n",
    "obj4.fun1()\n",
    "obj4.fun2()"
   ]
  },
  {
   "cell_type": "markdown",
   "id": "5e65e651-a0e9-4150-a448-4b94022417f2",
   "metadata": {},
   "source": [
    "### 4) Hirarchial Inheritance"
   ]
  },
  {
   "cell_type": "code",
   "execution_count": 78,
   "id": "eb60881b-ae94-42a1-ad22-f2c40c46e27f",
   "metadata": {},
   "outputs": [],
   "source": [
    "class TheClass1:\n",
    "    def fun1(self):\n",
    "        print(\"The Parent Class\")\n",
    "\n",
    "class TheClass2(TheClass1):\n",
    "    def fun2(self):\n",
    "        print(\"The child 1 Class\")\n",
    "        \n",
    "class TheClass3(TheClass1):\n",
    "    def fun3(self):\n",
    "        print(\"The Child 2 Class\")"
   ]
  },
  {
   "cell_type": "code",
   "execution_count": 80,
   "id": "0f925810-0134-4ace-af2d-b2820ca9cf3b",
   "metadata": {},
   "outputs": [
    {
     "name": "stdout",
     "output_type": "stream",
     "text": [
      "The Parent Class\n",
      "The child 1 Class\n"
     ]
    }
   ],
   "source": [
    "obj5 = TheClass3()\n",
    "obj6 = TheClass2()\n",
    "obj5.fun1()\n",
    "obj6.fun2()"
   ]
  },
  {
   "cell_type": "code",
   "execution_count": null,
   "id": "f2d59721-2343-4f4c-bfab-2091d8303492",
   "metadata": {},
   "outputs": [],
   "source": []
  }
 ],
 "metadata": {
  "kernelspec": {
   "display_name": "Python 3 (ipykernel)",
   "language": "python",
   "name": "python3"
  },
  "language_info": {
   "codemirror_mode": {
    "name": "ipython",
    "version": 3
   },
   "file_extension": ".py",
   "mimetype": "text/x-python",
   "name": "python",
   "nbconvert_exporter": "python",
   "pygments_lexer": "ipython3",
   "version": "3.10.8"
  }
 },
 "nbformat": 4,
 "nbformat_minor": 5
}
