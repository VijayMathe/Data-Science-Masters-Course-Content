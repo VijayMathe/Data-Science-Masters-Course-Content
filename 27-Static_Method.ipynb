{
 "cells": [
  {
   "cell_type": "code",
   "execution_count": 1,
   "id": "0955f259-bd92-4333-a89d-f3e9c9fd3d2a",
   "metadata": {},
   "outputs": [],
   "source": [
    "class pwSkills:\n",
    "    def student_details(self, name, roll, location, number):\n",
    "        print(name, roll, location, number)"
   ]
  },
  {
   "cell_type": "code",
   "execution_count": 2,
   "id": "af94c42d-5933-4692-9274-51bb4e151887",
   "metadata": {},
   "outputs": [],
   "source": [
    "pw = pwSkills()"
   ]
  },
  {
   "cell_type": "code",
   "execution_count": 3,
   "id": "2c09581d-e147-4d70-85df-d4e911926f77",
   "metadata": {},
   "outputs": [
    {
     "name": "stdout",
     "output_type": "stream",
     "text": [
      "Vijay 22 Shegaon 8010209256\n"
     ]
    }
   ],
   "source": [
    "pw.student_details(\"Vijay\", 22, \"Shegaon\", 8010209256)"
   ]
  },
  {
   "cell_type": "markdown",
   "id": "5fc41f3a-3bb6-49fc-aa01-97be571fdae1",
   "metadata": {},
   "source": [
    "### In case of static methods don't use self or cls"
   ]
  },
  {
   "cell_type": "code",
   "execution_count": 15,
   "id": "1b7376b5-7b26-40e8-a027-5772d9b9d6f8",
   "metadata": {},
   "outputs": [],
   "source": [
    "class pwSkills1:\n",
    "    def student_details(self, name, roll, location, number):\n",
    "        print(name, roll, location, number)\n",
    "        \n",
    "    @staticmethod\n",
    "    def mentor_of_Class(list_mentor):\n",
    "        print(list_mentor)\n",
    "        \n",
    "    def mentor(self, mentor_list):\n",
    "        print(mentor_list)"
   ]
  },
  {
   "cell_type": "code",
   "execution_count": 16,
   "id": "153a6503-2d72-4c87-a2eb-35812fa201ef",
   "metadata": {},
   "outputs": [
    {
     "name": "stdout",
     "output_type": "stream",
     "text": [
      "['mathe', 'Vijay']\n"
     ]
    }
   ],
   "source": [
    "pwSkills.mentor_of_Class([\"mathe\", \"Vijay\"])"
   ]
  },
  {
   "cell_type": "code",
   "execution_count": 17,
   "id": "050eede4-44b9-40cc-8ed8-23be7a8125e8",
   "metadata": {},
   "outputs": [],
   "source": [
    "pw1 = pwSkills1()"
   ]
  },
  {
   "cell_type": "code",
   "execution_count": 18,
   "id": "7ec75e54-1a7b-4933-830c-d0efdf87b518",
   "metadata": {},
   "outputs": [
    {
     "name": "stdout",
     "output_type": "stream",
     "text": [
      "['mathe', 'Vijay']\n"
     ]
    }
   ],
   "source": [
    "pw1.mentor([\"mathe\", \"Vijay\"])"
   ]
  },
  {
   "cell_type": "code",
   "execution_count": 19,
   "id": "f36cc33b-fe43-4842-8a69-ef99c988ba8d",
   "metadata": {},
   "outputs": [
    {
     "name": "stdout",
     "output_type": "stream",
     "text": [
      "['mathe', 'Vijay']\n"
     ]
    }
   ],
   "source": [
    "pw1.mentor_of_Class([\"mathe\", \"Vijay\"])"
   ]
  },
  {
   "cell_type": "markdown",
   "id": "01fbcbb3-5bd8-4b45-b32e-7f343d08b549",
   "metadata": {},
   "source": [
    "### Above i just want to exp;lain that that the static and the instatnce methods can be accessed by both object and the class name "
   ]
  },
  {
   "cell_type": "code",
   "execution_count": null,
   "id": "267a3848-9d67-4308-846b-fc6026ae68f7",
   "metadata": {},
   "outputs": [],
   "source": []
  },
  {
   "cell_type": "code",
   "execution_count": 21,
   "id": "686e5ecc-d89a-42d5-8c80-69992552bdb3",
   "metadata": {},
   "outputs": [],
   "source": [
    "class pwSkills2:\n",
    "    def student_details(self, name, roll, location, number):\n",
    "        print(name, roll, location, number)\n",
    "        \n",
    "    @staticmethod\n",
    "    def mentor_of_Class(list_mentor):\n",
    "        print(list_mentor)\n",
    "        \n",
    "    @staticmethod\n",
    "    def mentor(self, mentor_list):\n",
    "        print(mentor_list)\n",
    "        \n",
    "    @classmethod\n",
    "    def class_name(cls, class_name):\n",
    "        cls.mentor_class([\"Vijay\", \"Mathe\"])\n",
    "        \n",
    "    def mentor2(self, mentor_list):\n",
    "        print(mentor_list)\n",
    "        self.mentor_class([\"krish\", \"sudh\"])"
   ]
  },
  {
   "cell_type": "code",
   "execution_count": 22,
   "id": "bda5ac68-1192-4e5e-871d-fe7977b2dfc0",
   "metadata": {},
   "outputs": [],
   "source": [
    "pw2 = pwSkills2()"
   ]
  },
  {
   "cell_type": "code",
   "execution_count": 23,
   "id": "86b7f6e4-e113-4f7d-bc08-48ad8c53372b",
   "metadata": {},
   "outputs": [
    {
     "name": "stdout",
     "output_type": "stream",
     "text": [
      "mohan 22 Maharashtra 801020258\n"
     ]
    }
   ],
   "source": [
    "pw2.student_details(\"mohan\", 22, \"Maharashtra\", 801020258)"
   ]
  },
  {
   "cell_type": "code",
   "execution_count": 24,
   "id": "5888ab65-ec1c-4292-b3a0-37da57074b5e",
   "metadata": {},
   "outputs": [
    {
     "name": "stdout",
     "output_type": "stream",
     "text": [
      "['krish', 'sudh']\n"
     ]
    }
   ],
   "source": [
    "pw2.mentor_of_Class([\"krish\", \"sudh\"])"
   ]
  },
  {
   "cell_type": "code",
   "execution_count": 25,
   "id": "51e28062-1d96-434b-91ca-b2921f5ffeb6",
   "metadata": {},
   "outputs": [
    {
     "ename": "TypeError",
     "evalue": "pwSkills2.mentor() missing 1 required positional argument: 'mentor_list'",
     "output_type": "error",
     "traceback": [
      "\u001b[0;31m---------------------------------------------------------------------------\u001b[0m",
      "\u001b[0;31mTypeError\u001b[0m                                 Traceback (most recent call last)",
      "Cell \u001b[0;32mIn[25], line 1\u001b[0m\n\u001b[0;32m----> 1\u001b[0m \u001b[43mpw2\u001b[49m\u001b[38;5;241;43m.\u001b[39;49m\u001b[43mmentor\u001b[49m\u001b[43m(\u001b[49m\u001b[43m[\u001b[49m\u001b[38;5;124;43m\"\u001b[39;49m\u001b[38;5;124;43mkrish\u001b[39;49m\u001b[38;5;124;43m\"\u001b[39;49m\u001b[43m,\u001b[49m\u001b[43m \u001b[49m\u001b[38;5;124;43m\"\u001b[39;49m\u001b[38;5;124;43msudh\u001b[39;49m\u001b[38;5;124;43m\"\u001b[39;49m\u001b[43m]\u001b[49m\u001b[43m)\u001b[49m\n",
      "\u001b[0;31mTypeError\u001b[0m: pwSkills2.mentor() missing 1 required positional argument: 'mentor_list'"
     ]
    }
   ],
   "source": [
    "pw2.mentor([\"krish\", \"sudh\"])"
   ]
  },
  {
   "cell_type": "code",
   "execution_count": null,
   "id": "b47c627a-6d93-4fc0-9976-04bd2d995c35",
   "metadata": {},
   "outputs": [],
   "source": []
  }
 ],
 "metadata": {
  "kernelspec": {
   "display_name": "Python 3 (ipykernel)",
   "language": "python",
   "name": "python3"
  },
  "language_info": {
   "codemirror_mode": {
    "name": "ipython",
    "version": 3
   },
   "file_extension": ".py",
   "mimetype": "text/x-python",
   "name": "python",
   "nbconvert_exporter": "python",
   "pygments_lexer": "ipython3",
   "version": "3.10.8"
  }
 },
 "nbformat": 4,
 "nbformat_minor": 5
}
