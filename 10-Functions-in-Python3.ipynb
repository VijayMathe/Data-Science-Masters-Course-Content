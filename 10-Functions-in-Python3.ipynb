{
 "cells": [
  {
   "cell_type": "markdown",
   "id": "1d9434c8-19c8-40c8-92d6-c2d2647374d6",
   "metadata": {},
   "source": [
    "### A generator function makes the output on the basis of the previous value and will generate some new new value based on that previous value "
   ]
  },
  {
   "cell_type": "markdown",
   "id": "b873e8d3-fbf5-4585-996b-24d5267b191e",
   "metadata": {},
   "source": [
    "### Just like a range() function bellow"
   ]
  },
  {
   "cell_type": "code",
   "execution_count": 1,
   "id": "27fb3a54-f9a1-4b7a-9acc-a5da3f778e34",
   "metadata": {},
   "outputs": [
    {
     "name": "stdout",
     "output_type": "stream",
     "text": [
      "1\n",
      "2\n",
      "3\n",
      "4\n",
      "5\n",
      "6\n",
      "7\n",
      "8\n",
      "9\n"
     ]
    }
   ],
   "source": [
    "for i in range(1, 10):\n",
    "    print(i)"
   ]
  },
  {
   "cell_type": "markdown",
   "id": "397f3adb-0328-47ce-8b8e-fbdd1170b361",
   "metadata": {},
   "source": [
    "### range is a generator function"
   ]
  },
  {
   "cell_type": "markdown",
   "id": "8c7f2a6c-f8b8-4c9c-a199-2d70d86ad1d3",
   "metadata": {},
   "source": [
    "### Create one function that will take one number and will print fibonacci series upto that number"
   ]
  },
  {
   "cell_type": "code",
   "execution_count": 10,
   "id": "4473bcc0-936c-4682-8bc1-041539aa175f",
   "metadata": {},
   "outputs": [],
   "source": [
    "def fibonacci(n):\n",
    "    a, b = 0, 1\n",
    "    for i in range(n):\n",
    "        yield a\n",
    "        a, b = b, a+b"
   ]
  },
  {
   "cell_type": "code",
   "execution_count": 15,
   "id": "2fe9ea89-7541-401c-9c2b-9047393ea9ab",
   "metadata": {},
   "outputs": [
    {
     "name": "stdout",
     "output_type": "stream",
     "text": [
      "0 1 1 2 3 5 8 13 21 34 "
     ]
    }
   ],
   "source": [
    "for i in fibonacci(10):\n",
    "    print(i, end = \" \")"
   ]
  },
  {
   "cell_type": "code",
   "execution_count": 18,
   "id": "d79a501b-5728-4a87-86ee-bc62d1572371",
   "metadata": {},
   "outputs": [],
   "source": [
    "def test_fibonacci(n):\n",
    "    a, b = 0, 1\n",
    "    for i in range(n):\n",
    "        yield a\n",
    "        a, b = b, a+b"
   ]
  },
  {
   "cell_type": "code",
   "execution_count": 19,
   "id": "0c1d3b91-a177-456b-8db9-3b381c01df64",
   "metadata": {},
   "outputs": [
    {
     "name": "stdout",
     "output_type": "stream",
     "text": [
      "0\n",
      "1\n",
      "1\n",
      "2\n",
      "3\n",
      "5\n",
      "8\n",
      "13\n"
     ]
    }
   ],
   "source": [
    "for i in test_fibonacci(8):\n",
    "    print(i)"
   ]
  },
  {
   "cell_type": "markdown",
   "id": "10cd4071-1f25-42f2-82f2-ae503b4af835",
   "metadata": {},
   "source": [
    "## Lambda Function (Anonymous Function)"
   ]
  },
  {
   "cell_type": "code",
   "execution_count": 23,
   "id": "844f3c10-4d68-49eb-bf74-8f7de9d260ba",
   "metadata": {},
   "outputs": [],
   "source": [
    "a = lambda a, b : a**b"
   ]
  },
  {
   "cell_type": "code",
   "execution_count": 24,
   "id": "dfde27e8-7b98-4af5-b4b3-ede40b6231d6",
   "metadata": {},
   "outputs": [
    {
     "data": {
      "text/plain": [
       "78125"
      ]
     },
     "execution_count": 24,
     "metadata": {},
     "output_type": "execute_result"
    }
   ],
   "source": [
    "a(5,7)"
   ]
  },
  {
   "cell_type": "code",
   "execution_count": 27,
   "id": "2c921a2c-0c2c-4a45-8e96-6a96db3ccf93",
   "metadata": {},
   "outputs": [],
   "source": [
    "c_to_f = lambda c : (9/5)*c+32"
   ]
  },
  {
   "cell_type": "code",
   "execution_count": 28,
   "id": "2608e241-8a13-452c-8d09-ceecbb4a3d12",
   "metadata": {},
   "outputs": [
    {
     "data": {
      "text/plain": [
       "93.2"
      ]
     },
     "execution_count": 28,
     "metadata": {},
     "output_type": "execute_result"
    }
   ],
   "source": [
    "c_to_f(34)"
   ]
  },
  {
   "cell_type": "code",
   "execution_count": 29,
   "id": "be7b3b01-e3b3-47e4-bfaf-7fc78de32a83",
   "metadata": {},
   "outputs": [
    {
     "data": {
      "text/plain": [
       "161.6"
      ]
     },
     "execution_count": 29,
     "metadata": {},
     "output_type": "execute_result"
    }
   ],
   "source": [
    "c_to_f(72)"
   ]
  },
  {
   "cell_type": "code",
   "execution_count": 30,
   "id": "d847354e-dde6-4c1c-8e5c-e5937e68266a",
   "metadata": {},
   "outputs": [],
   "source": [
    "s = \"PWSkills\"\n",
    "\n",
    "len_of = lambda s : len(s)"
   ]
  },
  {
   "cell_type": "code",
   "execution_count": 31,
   "id": "ac45bb51-89fc-42aa-ad63-bc4ee52ef1b9",
   "metadata": {},
   "outputs": [
    {
     "data": {
      "text/plain": [
       "8"
      ]
     },
     "execution_count": 31,
     "metadata": {},
     "output_type": "execute_result"
    }
   ],
   "source": [
    "len_of(s)"
   ]
  },
  {
   "cell_type": "markdown",
   "id": "cca05166-5369-4533-9541-f2a2aecc22f4",
   "metadata": {},
   "source": [
    "### It is not mandatory to make lambda function but it is good to know"
   ]
  },
  {
   "cell_type": "code",
   "execution_count": null,
   "id": "d2054c40-f378-4eab-9820-91d528552a4f",
   "metadata": {},
   "outputs": [],
   "source": []
  }
 ],
 "metadata": {
  "kernelspec": {
   "display_name": "Python 3 (ipykernel)",
   "language": "python",
   "name": "python3"
  },
  "language_info": {
   "codemirror_mode": {
    "name": "ipython",
    "version": 3
   },
   "file_extension": ".py",
   "mimetype": "text/x-python",
   "name": "python",
   "nbconvert_exporter": "python",
   "pygments_lexer": "ipython3",
   "version": "3.10.8"
  }
 },
 "nbformat": 4,
 "nbformat_minor": 5
}
