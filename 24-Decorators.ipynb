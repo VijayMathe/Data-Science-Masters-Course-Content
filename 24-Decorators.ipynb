{
 "cells": [
  {
   "cell_type": "markdown",
   "id": "2c5ab170-7a40-4a77-b789-827ba68b48b0",
   "metadata": {},
   "source": [
    "## Decoretors"
   ]
  },
  {
   "cell_type": "code",
   "execution_count": 1,
   "id": "57880d02-939c-4c90-ae17-cb5e8dbd3fc3",
   "metadata": {},
   "outputs": [],
   "source": [
    "def test():\n",
    "    print(\"This is the start of the function\")\n",
    "    print(5+6)\n",
    "    print(\"This is the end of the function\")"
   ]
  },
  {
   "cell_type": "code",
   "execution_count": 2,
   "id": "7bbae808-04b8-4bde-a00e-2d31677c7546",
   "metadata": {},
   "outputs": [
    {
     "name": "stdout",
     "output_type": "stream",
     "text": [
      "This is the start of the function\n",
      "11\n",
      "This is the end of the function\n"
     ]
    }
   ],
   "source": [
    "test()"
   ]
  },
  {
   "cell_type": "code",
   "execution_count": 15,
   "id": "4a833fb0-40b3-4d2d-ac5c-9df8d5b9a2e1",
   "metadata": {},
   "outputs": [],
   "source": [
    "def deco(funct):\n",
    "    def inner_deco():\n",
    "        print(\"This is the start of the function\")\n",
    "        funct()\n",
    "        print(\"This is the end of the function\")\n",
    "    return inner_deco"
   ]
  },
  {
   "cell_type": "code",
   "execution_count": 16,
   "id": "e2dd4b13-a77a-4cba-a009-7132cf7d7ee3",
   "metadata": {},
   "outputs": [],
   "source": [
    "@deco\n",
    "def test1():\n",
    "    print(4+1)"
   ]
  },
  {
   "cell_type": "code",
   "execution_count": 17,
   "id": "78562c3c-2c9d-4f43-afc4-b95363c52d53",
   "metadata": {},
   "outputs": [
    {
     "name": "stdout",
     "output_type": "stream",
     "text": [
      "This is the start of the function\n",
      "5\n",
      "This is the end of the function\n"
     ]
    }
   ],
   "source": [
    "test1()"
   ]
  },
  {
   "cell_type": "code",
   "execution_count": 18,
   "id": "3af142e5-9803-4296-8873-9425ad22c65e",
   "metadata": {},
   "outputs": [],
   "source": [
    "import time\n",
    "def timer_test(funct):\n",
    "    def timer_test_inner():\n",
    "        start = time.time()\n",
    "        funct()\n",
    "        end = time.time()\n",
    "        print(end-start)\n",
    "    return timer_test_inner\n"
   ]
  },
  {
   "cell_type": "code",
   "execution_count": 19,
   "id": "b101bf34-8ded-4328-82ca-eda9ca267b5c",
   "metadata": {},
   "outputs": [],
   "source": [
    "@timer_test\n",
    "def test2():\n",
    "    print(45+67)"
   ]
  },
  {
   "cell_type": "code",
   "execution_count": 20,
   "id": "2b308f5a-c5d6-4576-b746-c522017237ad",
   "metadata": {},
   "outputs": [
    {
     "name": "stdout",
     "output_type": "stream",
     "text": [
      "112\n",
      "8.440017700195312e-05\n"
     ]
    }
   ],
   "source": [
    "test2()"
   ]
  },
  {
   "cell_type": "code",
   "execution_count": 30,
   "id": "a151c1e0-c48b-4c0d-a9fc-7703ec0130b8",
   "metadata": {},
   "outputs": [],
   "source": [
    "@timer_test\n",
    "def test3():\n",
    "    for i in range(100000):\n",
    "        pass"
   ]
  },
  {
   "cell_type": "code",
   "execution_count": 31,
   "id": "64767c67-e5df-401a-a92a-2e504f7e946c",
   "metadata": {},
   "outputs": [
    {
     "name": "stdout",
     "output_type": "stream",
     "text": [
      "0.0022230148315429688\n"
     ]
    }
   ],
   "source": [
    "test3()"
   ]
  },
  {
   "cell_type": "code",
   "execution_count": null,
   "id": "3ced5614-98cc-4cb4-9137-799201eb6ce1",
   "metadata": {},
   "outputs": [],
   "source": []
  },
  {
   "cell_type": "code",
   "execution_count": null,
   "id": "823f81f8-c872-4067-89fe-52ea7d1f7797",
   "metadata": {},
   "outputs": [],
   "source": []
  }
 ],
 "metadata": {
  "kernelspec": {
   "display_name": "Python 3 (ipykernel)",
   "language": "python",
   "name": "python3"
  },
  "language_info": {
   "codemirror_mode": {
    "name": "ipython",
    "version": 3
   },
   "file_extension": ".py",
   "mimetype": "text/x-python",
   "name": "python",
   "nbconvert_exporter": "python",
   "pygments_lexer": "ipython3",
   "version": "3.10.8"
  }
 },
 "nbformat": 4,
 "nbformat_minor": 5
}
