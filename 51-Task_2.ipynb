{
 "cells": [
  {
   "cell_type": "markdown",
   "id": "6540f7a2-79d7-4fff-ac83-f10b2d43c734",
   "metadata": {},
   "source": [
    "## Q1. You are writing code for a company. The requirement of the company is that you create a python function that will check whether the password entered by the user is correct or not. The function should take the password as input and return the string “Valid Password” if the entered password follows the below-given password guidelines else it should return “Invalid Password”. Note: 1. The Password should contain at least two uppercase letters and at least two lowercase letters. 2. The Password should contain at least a number and three special characters. 3. The length of the password should be 10 characters long."
   ]
  },
  {
   "cell_type": "code",
   "execution_count": 7,
   "id": "43557851-6aa5-4be9-b3f4-749f5a4ef63f",
   "metadata": {},
   "outputs": [
    {
     "name": "stdout",
     "output_type": "stream",
     "text": [
      "Invalid Password\n"
     ]
    }
   ],
   "source": [
    "def check_password(password):\n",
    "    if len(password) != 10:\n",
    "        return \"Invalid Password\"\n",
    "\n",
    "    uppercase_count = 0\n",
    "    lowercase_count = 0\n",
    "    number_count = 0\n",
    "    special_char_count = 0\n",
    "\n",
    "    for char in password:\n",
    "        if char.isupper():\n",
    "            uppercase_count += 1\n",
    "        elif char.islower():\n",
    "            lowercase_count += 1\n",
    "        elif char.isdigit():\n",
    "            number_count += 1\n",
    "        elif char in \"!@#$%^&*\":\n",
    "            special_char_count += 1\n",
    "\n",
    "    if uppercase_count >= 2 and lowercase_count >= 2 and number_count >= 1 and special_char_count >= 3:\n",
    "        return \"Valid Password\"\n",
    "    \n",
    "    return \"Invalid Password\"\n",
    "\n",
    "# Test the function with a password\n",
    "entered_password = \"AbC123!@#$\"\n",
    "result = check_password(entered_password)\n",
    "print(result)"
   ]
  },
  {
   "cell_type": "code",
   "execution_count": null,
   "id": "f6b64479-441f-45b4-a4c9-396f3c65ff65",
   "metadata": {},
   "outputs": [],
   "source": []
  },
  {
   "cell_type": "raw",
   "id": "234783c8-1fae-4163-8ea3-aa75f4c82bbb",
   "metadata": {},
   "source": [
    "Q2. Solve the below-given questions using at least one of the following:\n",
    "1. Lambda functioJ\n",
    "2. Filter functioJ\n",
    "3. Zap functioJ\n",
    "4. List ComprehensioI\n",
    "\n",
    "- Check if the string starts with a particular letter.\n",
    "- Check if the string is numeric.\n",
    "- Sort a list of tuples having fruit names and their quantity. [(\"mango\",99),(\"orange\",80), (\"grapes\", 1000)]\n",
    "- Find the squares of numbers from 1 to 10.\n",
    "- Find the cube root of numbers from 1 to 10.\n",
    "- Check if a given number is even.\n",
    "- Filter odd numbers from the given list.\n",
    "  [1,2,3,4,5,6,7,8,9,10]\n",
    "- Sort a list of integers into positive and negative integers lists.\n",
    "  [1,2,3,4,5,6,-1,-2,-3,-4,-5,0]"
   ]
  },
  {
   "cell_type": "markdown",
   "id": "a8fe5bae-69ed-4bab-aeff-fef5cb36c8bd",
   "metadata": {},
   "source": [
    "### 1. Check if the string starts with a particular letter."
   ]
  },
  {
   "cell_type": "code",
   "execution_count": 8,
   "id": "f1514b02-2495-404b-a7d2-fa31556931f4",
   "metadata": {},
   "outputs": [
    {
     "name": "stdout",
     "output_type": "stream",
     "text": [
      "True\n"
     ]
    }
   ],
   "source": [
    "starts_with = lambda string, letter: string.startswith(letter)\n",
    "result = starts_with(\"Hello\", \"H\")\n",
    "print(result"
   ]
  },
  {
   "cell_type": "markdown",
   "id": "b88de8d6-f204-4670-83c4-bcbe9dd8c6c9",
   "metadata": {},
   "source": [
    "### 2. Check if the string is numeric."
   ]
  },
  {
   "cell_type": "code",
   "execution_count": 9,
   "id": "7ebccfc5-a1a0-44ca-990a-69f9f439d594",
   "metadata": {},
   "outputs": [
    {
     "name": "stdout",
     "output_type": "stream",
     "text": [
      "True\n"
     ]
    }
   ],
   "source": [
    "is_numeric = lambda string: string.isnumeric()\n",
    "result = is_numeric(\"12345\")\n",
    "print(result)"
   ]
  },
  {
   "cell_type": "markdown",
   "id": "1d539c3f-fa1a-4b72-b170-2b39c5ec2a2c",
   "metadata": {},
   "source": [
    "### 3. Sort a list of tuples having fruit names and their quantity. [(\"mango\",99),(\"orange\",80), (\"grapes\", 1000)]"
   ]
  },
  {
   "cell_type": "code",
   "execution_count": 10,
   "id": "592bd3e9-e837-45e2-9bb4-a5c75b067f24",
   "metadata": {},
   "outputs": [
    {
     "name": "stdout",
     "output_type": "stream",
     "text": [
      "[('grapes', 1000), ('mango', 99), ('orange', 80)]\n"
     ]
    }
   ],
   "source": [
    "fruits = [(\"mango\", 99), (\"orange\", 80), (\"grapes\", 1000)]\n",
    "sorted_fruits = sorted(fruits, key=lambda x: x[0])\n",
    "print(sorted_fruits)"
   ]
  },
  {
   "cell_type": "markdown",
   "id": "ed083842-d3ab-4af0-b892-eec5cbc36596",
   "metadata": {},
   "source": [
    "### 4. Find the squares of numbers from 1 to 10."
   ]
  },
  {
   "cell_type": "code",
   "execution_count": 12,
   "id": "7b679ac4-e967-4606-8bfd-8c265d9b3d93",
   "metadata": {},
   "outputs": [
    {
     "name": "stdout",
     "output_type": "stream",
     "text": [
      "[1, 4, 9, 16, 25, 36, 49, 64, 81, 100]\n"
     ]
    }
   ],
   "source": [
    "squares = [x**2 for x in range(1, 11)]\n",
    "print(squares)"
   ]
  },
  {
   "cell_type": "markdown",
   "id": "56bdef08-2c0a-429b-acf1-58ee2c40ba9c",
   "metadata": {},
   "source": [
    "### 5. Find the cube root of numbers from 1 to 10."
   ]
  },
  {
   "cell_type": "code",
   "execution_count": 17,
   "id": "948b294c-0885-421a-bc06-ac1e12132bdb",
   "metadata": {},
   "outputs": [
    {
     "name": "stdout",
     "output_type": "stream",
     "text": [
      "[1.0, 1.2599210498948732, 1.4422495703074083, 1.5874010519681994, 1.7099759466766968, 1.8171205928321397, 1.912931182772389, 2.0, 2.080083823051904, 2.154434690031884]\n"
     ]
    }
   ],
   "source": [
    "import math\n",
    "cube_roots = [math.pow(x, 1/3) for x in range(1, 11)]\n",
    "print(cube_roots)"
   ]
  },
  {
   "cell_type": "markdown",
   "id": "5b74e8d7-307c-412f-b927-6bdb1bebd1d9",
   "metadata": {},
   "source": [
    "### 6. Check if a given number is even."
   ]
  },
  {
   "cell_type": "code",
   "execution_count": 14,
   "id": "5b7d92e3-c271-4c96-a9b0-7b7c08a9079a",
   "metadata": {},
   "outputs": [
    {
     "name": "stdout",
     "output_type": "stream",
     "text": [
      "True\n"
     ]
    }
   ],
   "source": [
    "is_even = lambda num: num % 2 == 0\n",
    "result = is_even(10)\n",
    "print(result)"
   ]
  },
  {
   "cell_type": "markdown",
   "id": "0dd7f282-2d44-4ce9-8eaa-53b104300446",
   "metadata": {},
   "source": [
    "### 7. Filter odd numbers from the given list. [1,2,3,4,5,6,7,8,9,10]"
   ]
  },
  {
   "cell_type": "code",
   "execution_count": 15,
   "id": "f71ab973-b034-4adb-8663-cd7420abe2ac",
   "metadata": {},
   "outputs": [
    {
     "name": "stdout",
     "output_type": "stream",
     "text": [
      "[1, 3, 5, 7, 9]\n"
     ]
    }
   ],
   "source": [
    "numbers = [1, 2, 3, 4, 5, 6, 7, 8, 9, 10]\n",
    "odd_numbers = list(filter(lambda x: x % 2 != 0, numbers))\n",
    "print(odd_numbers)"
   ]
  },
  {
   "cell_type": "markdown",
   "id": "6aca868d-8ffd-43b3-9dd9-f52cf4d494f4",
   "metadata": {},
   "source": [
    "### 8. Sort a list of integers into positive and negative integers lists. [1,2,3,4,5,6,-1,-2,-3,-4,-5,0]"
   ]
  },
  {
   "cell_type": "code",
   "execution_count": 19,
   "id": "fd26c8b3-a875-4eeb-9e7b-93a9aab08728",
   "metadata": {},
   "outputs": [
    {
     "name": "stdout",
     "output_type": "stream",
     "text": [
      "[1, 2, 3, 4, 5, 6]\n",
      "[-1, -2, -3, -4, -5]\n"
     ]
    }
   ],
   "source": [
    "numbers = [1, 2, 3, 4, 5, 6, -1, -2, -3, -4, -5, 0]\n",
    "positive_numbers = list(filter(lambda x: x > 0, numbers))\n",
    "negative_numbers = list(filter(lambda x: x < 0, numbers))\n",
    "print(positive_numbers)\n",
    "print(negative_numbers)"
   ]
  },
  {
   "cell_type": "code",
   "execution_count": null,
   "id": "62704fd8-714c-4939-9cce-7ce7558fc395",
   "metadata": {},
   "outputs": [],
   "source": []
  }
 ],
 "metadata": {
  "kernelspec": {
   "display_name": "Python 3 (ipykernel)",
   "language": "python",
   "name": "python3"
  },
  "language_info": {
   "codemirror_mode": {
    "name": "ipython",
    "version": 3
   },
   "file_extension": ".py",
   "mimetype": "text/x-python",
   "name": "python",
   "nbconvert_exporter": "python",
   "pygments_lexer": "ipython3",
   "version": "3.10.8"
  }
 },
 "nbformat": 4,
 "nbformat_minor": 5
}
