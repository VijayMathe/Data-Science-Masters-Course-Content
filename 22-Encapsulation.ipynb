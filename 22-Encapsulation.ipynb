{
 "cells": [
  {
   "cell_type": "code",
   "execution_count": 1,
   "id": "2e8dfd09-510f-4c69-bf88-018bc58e55ee",
   "metadata": {},
   "outputs": [],
   "source": [
    "class test:\n",
    "    def __init__(self, a, b):\n",
    "        self.a = a\n",
    "        self.b = b"
   ]
  },
  {
   "cell_type": "code",
   "execution_count": 2,
   "id": "b9e84d9c-b3b6-4ea8-ac86-a0137b31ad49",
   "metadata": {},
   "outputs": [],
   "source": [
    "t = test(45, 89)"
   ]
  },
  {
   "cell_type": "code",
   "execution_count": 3,
   "id": "06e73171-e996-41bb-a517-66cc2f9c222a",
   "metadata": {},
   "outputs": [
    {
     "data": {
      "text/plain": [
       "45"
      ]
     },
     "execution_count": 3,
     "metadata": {},
     "output_type": "execute_result"
    }
   ],
   "source": [
    "t.a"
   ]
  },
  {
   "cell_type": "code",
   "execution_count": 4,
   "id": "c2769a0d-f4fe-464c-a461-b6e35dec3bad",
   "metadata": {},
   "outputs": [
    {
     "data": {
      "text/plain": [
       "89"
      ]
     },
     "execution_count": 4,
     "metadata": {},
     "output_type": "execute_result"
    }
   ],
   "source": [
    "t.b"
   ]
  },
  {
   "cell_type": "code",
   "execution_count": 6,
   "id": "a5869130-a762-4ca7-986b-842bcf820987",
   "metadata": {},
   "outputs": [],
   "source": [
    "t.a = 90"
   ]
  },
  {
   "cell_type": "code",
   "execution_count": 7,
   "id": "647f44f3-075d-49f3-ad18-d20c6e82ed18",
   "metadata": {},
   "outputs": [
    {
     "data": {
      "text/plain": [
       "90"
      ]
     },
     "execution_count": 7,
     "metadata": {},
     "output_type": "execute_result"
    }
   ],
   "source": [
    "t.a"
   ]
  },
  {
   "cell_type": "markdown",
   "id": "56f20ade-c32e-4323-897b-29a52bc43c4e",
   "metadata": {},
   "source": [
    "### Above code allows user to access and also modify but user is not supossed to do this"
   ]
  },
  {
   "cell_type": "markdown",
   "id": "b3a174f4-32c2-4a2c-a37d-56af05705bda",
   "metadata": {},
   "source": [
    "### Lets try to dessable this "
   ]
  },
  {
   "cell_type": "code",
   "execution_count": 50,
   "id": "a6e9ca60-b4d2-45f2-9699-015298cea850",
   "metadata": {},
   "outputs": [],
   "source": [
    "class car:\n",
    "    def __init__(self, year, make, model, speed):\n",
    "        self.__year = year\n",
    "        self.__make = make\n",
    "        self.__model = model\n",
    "        self.__speed = 0\n",
    "        \n",
    "    def set_speed(self, speed):\n",
    "        self.__speed = 0 if speed < 0 else speed\n",
    "        \n",
    "    def get_speed(self):\n",
    "        return self.__speed"
   ]
  },
  {
   "cell_type": "markdown",
   "id": "a87e3106-8958-4f81-97ee-4e6437725373",
   "metadata": {},
   "source": [
    "### I am just not allowing my user to access it directly"
   ]
  },
  {
   "cell_type": "code",
   "execution_count": 51,
   "id": "e8d6d9c1-6750-4d90-8112-aa529d9d1cf2",
   "metadata": {},
   "outputs": [],
   "source": [
    "obj_car = car(2021, \"Audi\", \"Q7\", 350)"
   ]
  },
  {
   "cell_type": "code",
   "execution_count": 52,
   "id": "1dd95d09-3981-4a53-b0d7-a3021eab1ee8",
   "metadata": {},
   "outputs": [
    {
     "ename": "AttributeError",
     "evalue": "'car' object has no attribute 'make'",
     "output_type": "error",
     "traceback": [
      "\u001b[0;31m---------------------------------------------------------------------------\u001b[0m",
      "\u001b[0;31mAttributeError\u001b[0m                            Traceback (most recent call last)",
      "Cell \u001b[0;32mIn[52], line 1\u001b[0m\n\u001b[0;32m----> 1\u001b[0m \u001b[43mobj_car\u001b[49m\u001b[38;5;241;43m.\u001b[39;49m\u001b[43mmake\u001b[49m\n",
      "\u001b[0;31mAttributeError\u001b[0m: 'car' object has no attribute 'make'"
     ]
    }
   ],
   "source": [
    "obj_car.make"
   ]
  },
  {
   "cell_type": "code",
   "execution_count": 53,
   "id": "cbc15abe-e282-4ba4-a665-184c3175ece8",
   "metadata": {},
   "outputs": [
    {
     "ename": "AttributeError",
     "evalue": "'car' object has no attribute '__make'",
     "output_type": "error",
     "traceback": [
      "\u001b[0;31m---------------------------------------------------------------------------\u001b[0m",
      "\u001b[0;31mAttributeError\u001b[0m                            Traceback (most recent call last)",
      "Cell \u001b[0;32mIn[53], line 1\u001b[0m\n\u001b[0;32m----> 1\u001b[0m \u001b[43mobj_car\u001b[49m\u001b[38;5;241;43m.\u001b[39;49m\u001b[43m__make\u001b[49m\n",
      "\u001b[0;31mAttributeError\u001b[0m: 'car' object has no attribute '__make'"
     ]
    }
   ],
   "source": [
    "obj_car.__make"
   ]
  },
  {
   "cell_type": "code",
   "execution_count": 54,
   "id": "add6f044-c579-4468-a9e6-6524e3ed83b7",
   "metadata": {},
   "outputs": [
    {
     "data": {
      "text/plain": [
       "'Audi'"
      ]
     },
     "execution_count": 54,
     "metadata": {},
     "output_type": "execute_result"
    }
   ],
   "source": [
    "obj_car._car__make"
   ]
  },
  {
   "cell_type": "code",
   "execution_count": 55,
   "id": "be3f70dd-d9e8-44b6-ba6d-886c85cf10e9",
   "metadata": {},
   "outputs": [
    {
     "data": {
      "text/plain": [
       "'Q7'"
      ]
     },
     "execution_count": 55,
     "metadata": {},
     "output_type": "execute_result"
    }
   ],
   "source": [
    "obj_car._car__model"
   ]
  },
  {
   "cell_type": "code",
   "execution_count": 56,
   "id": "68f8dd4d-1901-41f4-9bf3-6ded17f6bdee",
   "metadata": {},
   "outputs": [],
   "source": [
    "obj_car._car__speed = 989"
   ]
  },
  {
   "cell_type": "code",
   "execution_count": 57,
   "id": "d313c67f-7e3c-432c-928d-41cd2f3a0257",
   "metadata": {},
   "outputs": [
    {
     "data": {
      "text/plain": [
       "989"
      ]
     },
     "execution_count": 57,
     "metadata": {},
     "output_type": "execute_result"
    }
   ],
   "source": [
    "obj_car._car__speed"
   ]
  },
  {
   "cell_type": "code",
   "execution_count": 58,
   "id": "022925b7-37ee-41fd-998e-832a6ad6b26c",
   "metadata": {},
   "outputs": [],
   "source": [
    "obj_car._car__speed = 45"
   ]
  },
  {
   "cell_type": "code",
   "execution_count": 59,
   "id": "d402e18b-795a-4e26-b594-1e35f0dc0241",
   "metadata": {},
   "outputs": [
    {
     "data": {
      "text/plain": [
       "45"
      ]
     },
     "execution_count": 59,
     "metadata": {},
     "output_type": "execute_result"
    }
   ],
   "source": [
    "obj_car._car__speed"
   ]
  },
  {
   "cell_type": "code",
   "execution_count": 60,
   "id": "1a1120e6-ee98-454d-b9a2-6eac9413c416",
   "metadata": {},
   "outputs": [],
   "source": [
    "obj_car.set_speed(876)"
   ]
  },
  {
   "cell_type": "code",
   "execution_count": 61,
   "id": "7276b5f9-7bad-4e69-86dc-14f35ad1024e",
   "metadata": {},
   "outputs": [
    {
     "data": {
      "text/plain": [
       "876"
      ]
     },
     "execution_count": 61,
     "metadata": {},
     "output_type": "execute_result"
    }
   ],
   "source": [
    "obj_car._car__speed"
   ]
  },
  {
   "cell_type": "code",
   "execution_count": 62,
   "id": "50aca4ca-4e96-48f0-8d25-6ed456e685d2",
   "metadata": {},
   "outputs": [
    {
     "data": {
      "text/plain": [
       "876"
      ]
     },
     "execution_count": 62,
     "metadata": {},
     "output_type": "execute_result"
    }
   ],
   "source": [
    "obj_car.get_speed()"
   ]
  },
  {
   "cell_type": "code",
   "execution_count": null,
   "id": "194239e7-dd4a-49ef-9464-57303c0db76e",
   "metadata": {},
   "outputs": [],
   "source": []
  },
  {
   "cell_type": "code",
   "execution_count": 94,
   "id": "96ab660a-245f-450c-a22b-6a95f8f6403f",
   "metadata": {},
   "outputs": [],
   "source": [
    "class bank_account:\n",
    "    def __init__(self, balance):\n",
    "        self.__balance = balance\n",
    "        \n",
    "    def deposit(self, ammount):\n",
    "        self.__balance = self.__balance + ammount\n",
    "        \n",
    "    def withdraw(self, ammount):\n",
    "        if self.__balance >= ammount:\n",
    "            self.__balance = self.__balance - ammount\n",
    "            return \"Yes Done\"\n",
    "        else:\n",
    "            return \"Not Done\"\n",
    "        \n",
    "    def get_balance(self):\n",
    "        return self.__balance"
   ]
  },
  {
   "cell_type": "code",
   "execution_count": 95,
   "id": "194a0729-85b0-443e-b5f8-baf6046d224e",
   "metadata": {},
   "outputs": [],
   "source": [
    "obj_bank = bank_account(1000)"
   ]
  },
  {
   "cell_type": "code",
   "execution_count": 96,
   "id": "3c6a141f-cb90-4282-be16-07f3539a0da7",
   "metadata": {},
   "outputs": [
    {
     "data": {
      "text/plain": [
       "1000"
      ]
     },
     "execution_count": 96,
     "metadata": {},
     "output_type": "execute_result"
    }
   ],
   "source": [
    "obj_bank.get_balance()"
   ]
  },
  {
   "cell_type": "code",
   "execution_count": 97,
   "id": "e6fa1d4a-a0a1-4ac0-820b-4f0e99435ff1",
   "metadata": {},
   "outputs": [],
   "source": [
    "obj_bank.deposit(5000)"
   ]
  },
  {
   "cell_type": "code",
   "execution_count": 98,
   "id": "a230ee4c-76d8-41d3-969e-d9081d43a8ab",
   "metadata": {},
   "outputs": [
    {
     "data": {
      "text/plain": [
       "6000"
      ]
     },
     "execution_count": 98,
     "metadata": {},
     "output_type": "execute_result"
    }
   ],
   "source": [
    "obj_bank.get_balance()"
   ]
  },
  {
   "cell_type": "code",
   "execution_count": 99,
   "id": "95b28b41-ccfd-47bc-bdd9-0268e705aafc",
   "metadata": {},
   "outputs": [
    {
     "data": {
      "text/plain": [
       "'Yes Done'"
      ]
     },
     "execution_count": 99,
     "metadata": {},
     "output_type": "execute_result"
    }
   ],
   "source": [
    "obj_bank.withdraw(5000)"
   ]
  },
  {
   "cell_type": "code",
   "execution_count": 100,
   "id": "2d287a94-b874-4307-9feb-b3e2ba850bf0",
   "metadata": {},
   "outputs": [
    {
     "data": {
      "text/plain": [
       "1000"
      ]
     },
     "execution_count": 100,
     "metadata": {},
     "output_type": "execute_result"
    }
   ],
   "source": [
    "obj_bank.get_balance()"
   ]
  },
  {
   "cell_type": "code",
   "execution_count": 101,
   "id": "34ca8994-05ff-4b87-a1f2-9e553b162e48",
   "metadata": {},
   "outputs": [
    {
     "data": {
      "text/plain": [
       "'Not Done'"
      ]
     },
     "execution_count": 101,
     "metadata": {},
     "output_type": "execute_result"
    }
   ],
   "source": [
    "obj_bank.withdraw(1200)"
   ]
  },
  {
   "cell_type": "code",
   "execution_count": 102,
   "id": "ee1612be-90c9-4eef-9304-b832888ce9fe",
   "metadata": {},
   "outputs": [
    {
     "data": {
      "text/plain": [
       "1000"
      ]
     },
     "execution_count": 102,
     "metadata": {},
     "output_type": "execute_result"
    }
   ],
   "source": [
    "obj_bank.get_balance()"
   ]
  },
  {
   "cell_type": "code",
   "execution_count": 103,
   "id": "39412a39-c841-416b-a453-c283b13eadb3",
   "metadata": {},
   "outputs": [
    {
     "data": {
      "text/plain": [
       "'Yes Done'"
      ]
     },
     "execution_count": 103,
     "metadata": {},
     "output_type": "execute_result"
    }
   ],
   "source": [
    "obj_bank.withdraw(1000)"
   ]
  },
  {
   "cell_type": "code",
   "execution_count": 104,
   "id": "98366a57-e02b-420f-ab49-630a62ad4791",
   "metadata": {},
   "outputs": [
    {
     "data": {
      "text/plain": [
       "0"
      ]
     },
     "execution_count": 104,
     "metadata": {},
     "output_type": "execute_result"
    }
   ],
   "source": [
    "obj_bank.get_balance()"
   ]
  }
 ],
 "metadata": {
  "kernelspec": {
   "display_name": "Python 3 (ipykernel)",
   "language": "python",
   "name": "python3"
  },
  "language_info": {
   "codemirror_mode": {
    "name": "ipython",
    "version": 3
   },
   "file_extension": ".py",
   "mimetype": "text/x-python",
   "name": "python",
   "nbconvert_exporter": "python",
   "pygments_lexer": "ipython3",
   "version": "3.10.8"
  }
 },
 "nbformat": 4,
 "nbformat_minor": 5
}
