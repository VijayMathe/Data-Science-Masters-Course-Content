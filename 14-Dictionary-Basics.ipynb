{
 "cells": [
  {
   "cell_type": "code",
   "execution_count": 1,
   "id": "98664c4e-a57c-4767-b43d-8453405fea13",
   "metadata": {},
   "outputs": [],
   "source": [
    "d = {}"
   ]
  },
  {
   "cell_type": "code",
   "execution_count": 2,
   "id": "fe28e8b5-84da-406e-9c6f-8a646adc18d7",
   "metadata": {},
   "outputs": [
    {
     "data": {
      "text/plain": [
       "dict"
      ]
     },
     "execution_count": 2,
     "metadata": {},
     "output_type": "execute_result"
    }
   ],
   "source": [
    "type(d)"
   ]
  },
  {
   "cell_type": "markdown",
   "id": "6fc33a0b-ba29-4dcf-8884-3b7a9545dd9a",
   "metadata": {},
   "source": [
    "### Dictionary is a combination of key and value pairs"
   ]
  },
  {
   "cell_type": "code",
   "execution_count": 3,
   "id": "9e1db511-d5aa-454b-a14f-dd8c7d2a6e5a",
   "metadata": {},
   "outputs": [],
   "source": [
    "d1 = {\"Vijay\" : \"Student\", \"Mob\" : \"8010209256\", \"college\" : \"VITPune\", \"Village\" : \"Sangwa\"}"
   ]
  },
  {
   "cell_type": "code",
   "execution_count": 5,
   "id": "a4f853c9-1aa3-4fb2-b6be-52a038e07bde",
   "metadata": {},
   "outputs": [
    {
     "data": {
      "text/plain": [
       "{'Vijay': 'Student',\n",
       " 'Mob': '8010209256',\n",
       " 'college': 'VITPune',\n",
       " 'Village': 'Sangwa'}"
      ]
     },
     "execution_count": 5,
     "metadata": {},
     "output_type": "execute_result"
    }
   ],
   "source": [
    "d1"
   ]
  },
  {
   "cell_type": "markdown",
   "id": "71352b45-6ca9-4ec1-abd6-7b906ad809d1",
   "metadata": {},
   "source": [
    "### Key can't be repeated inside a dictionary"
   ]
  },
  {
   "cell_type": "code",
   "execution_count": 6,
   "id": "42cc4a97-6020-4d5d-91db-1921fa5838aa",
   "metadata": {},
   "outputs": [],
   "source": [
    "d2 = {\"name\" : \"Vijay\", \"Surname\" : \"Mathe\", \"name\" : \"Ram\"}"
   ]
  },
  {
   "cell_type": "code",
   "execution_count": 7,
   "id": "9f635813-cefa-4c95-8c86-2baf3edd966f",
   "metadata": {},
   "outputs": [
    {
     "data": {
      "text/plain": [
       "{'name': 'Ram', 'Surname': 'Mathe'}"
      ]
     },
     "execution_count": 7,
     "metadata": {},
     "output_type": "execute_result"
    }
   ],
   "source": [
    "d2"
   ]
  },
  {
   "cell_type": "markdown",
   "id": "4acc87fc-0e63-4a3d-8210-62fcb6eac90f",
   "metadata": {},
   "source": [
    "### Key's data type can be anything"
   ]
  },
  {
   "cell_type": "code",
   "execution_count": 9,
   "id": "fa69989e-7ec9-4e4d-9f06-946d42305895",
   "metadata": {},
   "outputs": [],
   "source": [
    "d3 = {34 : \"mathe\"}"
   ]
  },
  {
   "cell_type": "code",
   "execution_count": 10,
   "id": "94aa9097-7007-4de6-bac8-8abfb69f371e",
   "metadata": {},
   "outputs": [],
   "source": [
    "d4 = {3.96 : \"mathe\"}"
   ]
  },
  {
   "cell_type": "code",
   "execution_count": 11,
   "id": "77c5d8a3-91ae-46d3-8691-a70a7555811f",
   "metadata": {},
   "outputs": [],
   "source": [
    "d5 = {True : \"Mathe\"}"
   ]
  },
  {
   "cell_type": "markdown",
   "id": "cf8791f5-28bc-4f6a-bf76-d372b542e3ba",
   "metadata": {},
   "source": [
    "### Special characters are not allowed to to take as key"
   ]
  },
  {
   "cell_type": "code",
   "execution_count": 12,
   "id": "0cbe6e08-efa6-463e-bb6c-4da538bc787e",
   "metadata": {},
   "outputs": [
    {
     "ename": "SyntaxError",
     "evalue": "invalid syntax (2679844264.py, line 1)",
     "output_type": "error",
     "traceback": [
      "\u001b[0;36m  Cell \u001b[0;32mIn[12], line 1\u001b[0;36m\u001b[0m\n\u001b[0;31m    d5 = {@ : \"Mathe\"}\u001b[0m\n\u001b[0m          ^\u001b[0m\n\u001b[0;31mSyntaxError\u001b[0m\u001b[0;31m:\u001b[0m invalid syntax\n"
     ]
    }
   ],
   "source": [
    "d5 = {@ : \"Mathe\"}"
   ]
  },
  {
   "cell_type": "code",
   "execution_count": 13,
   "id": "eaef9adb-038e-4465-b308-321237bbe3bf",
   "metadata": {},
   "outputs": [
    {
     "ename": "SyntaxError",
     "evalue": "invalid syntax (3465217213.py, line 1)",
     "output_type": "error",
     "traceback": [
      "\u001b[0;36m  Cell \u001b[0;32mIn[13], line 1\u001b[0;36m\u001b[0m\n\u001b[0;31m    d6 = {* : \"Vijay\"}\u001b[0m\n\u001b[0m            ^\u001b[0m\n\u001b[0;31mSyntaxError\u001b[0m\u001b[0;31m:\u001b[0m invalid syntax\n"
     ]
    }
   ],
   "source": [
    "d6 = {* : \"Vijay\"}"
   ]
  },
  {
   "cell_type": "markdown",
   "id": "a07fe3d2-1a5a-4bae-80ea-6b9c3a469892",
   "metadata": {},
   "source": [
    "### List, dictionary and set can't behave as a key"
   ]
  },
  {
   "cell_type": "code",
   "execution_count": 14,
   "id": "ca36be83-908a-4ef2-8cb9-f9c7467d4b49",
   "metadata": {},
   "outputs": [
    {
     "ename": "TypeError",
     "evalue": "unhashable type: 'list'",
     "output_type": "error",
     "traceback": [
      "\u001b[0;31m---------------------------------------------------------------------------\u001b[0m",
      "\u001b[0;31mTypeError\u001b[0m                                 Traceback (most recent call last)",
      "Cell \u001b[0;32mIn[14], line 1\u001b[0m\n\u001b[0;32m----> 1\u001b[0m d7 \u001b[38;5;241m=\u001b[39m {[\u001b[38;5;241m2\u001b[39m, \u001b[38;5;241m4\u001b[39m, \u001b[38;5;241m6\u001b[39m, \u001b[38;5;241m7\u001b[39m] : \u001b[38;5;124m\"\u001b[39m\u001b[38;5;124mmathe\u001b[39m\u001b[38;5;124m\"\u001b[39m}\n",
      "\u001b[0;31mTypeError\u001b[0m: unhashable type: 'list'"
     ]
    }
   ],
   "source": [
    "d7 = {[2, 4, 6, 7] : \"mathe\"}"
   ]
  },
  {
   "cell_type": "markdown",
   "id": "91483a3d-5bf0-420f-8f71-eb6fde6fd23f",
   "metadata": {},
   "source": [
    "### But but but tuples can behave as a key"
   ]
  },
  {
   "cell_type": "code",
   "execution_count": 15,
   "id": "e8f83dd3-e370-476c-952d-9390ae3475e8",
   "metadata": {},
   "outputs": [],
   "source": [
    "d8 = {(1, 2, 3, 4, 5, 6) : \"Mathe\"}"
   ]
  },
  {
   "cell_type": "code",
   "execution_count": 16,
   "id": "0ddf431b-def5-4855-a4b5-44b2b7f70adf",
   "metadata": {},
   "outputs": [
    {
     "data": {
      "text/plain": [
       "{(1, 2, 3, 4, 5, 6): 'Mathe'}"
      ]
     },
     "execution_count": 16,
     "metadata": {},
     "output_type": "execute_result"
    }
   ],
   "source": [
    "d8"
   ]
  },
  {
   "cell_type": "markdown",
   "id": "d2699ab3-227d-42f8-9771-5978c7618742",
   "metadata": {},
   "source": [
    "## Here is something important"
   ]
  },
  {
   "cell_type": "markdown",
   "id": "09f58583-1842-4e43-9ceb-28ab8db6e8cb",
   "metadata": {},
   "source": [
    "### List, Dictionary, Tuple, set can behave as a values"
   ]
  },
  {
   "cell_type": "code",
   "execution_count": 49,
   "id": "b2ddf002-6013-430e-be15-a1f689fd4e10",
   "metadata": {},
   "outputs": [],
   "source": [
    "D = {\"Batch_Name\" : [\"DSM\", \"WebDev\", \"JDS\"], \"startDate\" : (31, 2, 1, 12, 34, 1), \"mentors\" : {\"Vijay\", \"Mathe\", \"Ram\", \"Lakhan\", \"Shantanu\"}, \"Relations\" : {\"Vijay\" : \"Mathe\", \"Ram\" : \"Lokhande\", \"Laksha\" :\"Parkhade\"}}"
   ]
  },
  {
   "cell_type": "code",
   "execution_count": 50,
   "id": "a02db0f0-e6c7-40c6-a981-a304e7d9bf73",
   "metadata": {},
   "outputs": [
    {
     "data": {
      "text/plain": [
       "{'Batch_Name': ['DSM', 'WebDev', 'JDS'],\n",
       " 'startDate': (31, 2, 1, 12, 34, 1),\n",
       " 'mentors': {'Lakhan', 'Mathe', 'Ram', 'Shantanu', 'Vijay'},\n",
       " 'Relations': {'Vijay': 'Mathe', 'Ram': 'Lokhande', 'Laksha': 'Parkhade'}}"
      ]
     },
     "execution_count": 50,
     "metadata": {},
     "output_type": "execute_result"
    }
   ],
   "source": [
    "D"
   ]
  },
  {
   "cell_type": "code",
   "execution_count": 21,
   "id": "2b59d868-6b17-4ea9-9b60-2d48b1199024",
   "metadata": {},
   "outputs": [
    {
     "data": {
      "text/plain": [
       "dict_keys(['Batch_Name', 'startDate', 'mentors', 'Relations'])"
      ]
     },
     "execution_count": 21,
     "metadata": {},
     "output_type": "execute_result"
    }
   ],
   "source": [
    "D.keys()"
   ]
  },
  {
   "cell_type": "code",
   "execution_count": 22,
   "id": "bd4b4605-763c-4cd2-82f0-ec68713f264e",
   "metadata": {},
   "outputs": [
    {
     "data": {
      "text/plain": [
       "dict_values([['DSM', 'WebDev', 'JDS'], (31, 2, 1, 12, 34, 1), {'Ram', 'Vijay', 'Shantanu', 'Lakhan', 'Mathe'}, {'Vijay': 'Mathe', 'Ram': 'Lokhande', 'Laksha': 'Parkhade'}])"
      ]
     },
     "execution_count": 22,
     "metadata": {},
     "output_type": "execute_result"
    }
   ],
   "source": [
    "D.values()"
   ]
  },
  {
   "cell_type": "markdown",
   "id": "9a904ce4-a7c9-4167-ac03-bb1a94e5aedb",
   "metadata": {},
   "source": [
    "### Get the data from a dictionary by passing key name to the squere brackets"
   ]
  },
  {
   "cell_type": "code",
   "execution_count": 28,
   "id": "6bb6d675-b11b-4036-a84f-c1af5e43faf2",
   "metadata": {},
   "outputs": [
    {
     "data": {
      "text/plain": [
       "(31, 2, 1, 12, 34, 1)"
      ]
     },
     "execution_count": 28,
     "metadata": {},
     "output_type": "execute_result"
    }
   ],
   "source": [
    "D[\"startDate\"]"
   ]
  },
  {
   "cell_type": "code",
   "execution_count": 29,
   "id": "11745a2b-02c4-4fae-b7b9-d69dafeaeed9",
   "metadata": {},
   "outputs": [
    {
     "data": {
      "text/plain": [
       "tuple"
      ]
     },
     "execution_count": 29,
     "metadata": {},
     "output_type": "execute_result"
    }
   ],
   "source": [
    "type(D[\"startDate\"])"
   ]
  },
  {
   "cell_type": "markdown",
   "id": "53d08f65-6381-48de-aa53-e05ebf5daed1",
   "metadata": {},
   "source": [
    "### Add key value pair in a dictionary by bellow syntax"
   ]
  },
  {
   "cell_type": "code",
   "execution_count": 30,
   "id": "6256c655-84d6-4c1a-b130-6b30e5ecc6c3",
   "metadata": {},
   "outputs": [],
   "source": [
    "D[\"newKey\"] = \"NewKeyAdded\""
   ]
  },
  {
   "cell_type": "code",
   "execution_count": 31,
   "id": "4c1c9b06-cbf1-4d2a-bd22-4d94cbeb1410",
   "metadata": {},
   "outputs": [
    {
     "data": {
      "text/plain": [
       "'NewKeyAdded'"
      ]
     },
     "execution_count": 31,
     "metadata": {},
     "output_type": "execute_result"
    }
   ],
   "source": [
    "D[\"newKey\"]"
   ]
  },
  {
   "cell_type": "code",
   "execution_count": 32,
   "id": "42bc52ca-da25-4880-baf2-c485a0053931",
   "metadata": {},
   "outputs": [
    {
     "data": {
      "text/plain": [
       "{'Batch_Name': ['DSM', 'WebDev', 'JDS'],\n",
       " 'startDate': (31, 2, 1, 12, 34, 1),\n",
       " 'mentors': {'Lakhan', 'Mathe', 'Ram', 'Shantanu', 'Vijay'},\n",
       " 'Relations': {'Vijay': 'Mathe', 'Ram': 'Lokhande', 'Laksha': 'Parkhade'},\n",
       " 'newKey': 'NewKeyAdded'}"
      ]
     },
     "execution_count": 32,
     "metadata": {},
     "output_type": "execute_result"
    }
   ],
   "source": [
    "D\n"
   ]
  },
  {
   "cell_type": "code",
   "execution_count": 33,
   "id": "51016e53-ab6d-4b3e-bdca-203cbe548d66",
   "metadata": {},
   "outputs": [
    {
     "data": {
      "text/plain": [
       "'NEWKEYADDED'"
      ]
     },
     "execution_count": 33,
     "metadata": {},
     "output_type": "execute_result"
    }
   ],
   "source": [
    "D[\"newKey\"].upper()"
   ]
  },
  {
   "cell_type": "code",
   "execution_count": 34,
   "id": "a8666677-c152-4be0-ae2a-4e0ba51d0f4d",
   "metadata": {},
   "outputs": [
    {
     "data": {
      "text/plain": [
       "'Lokhande'"
      ]
     },
     "execution_count": 34,
     "metadata": {},
     "output_type": "execute_result"
    }
   ],
   "source": [
    "D[\"Relations\"][\"Ram\"]"
   ]
  },
  {
   "cell_type": "code",
   "execution_count": 35,
   "id": "30688af2-35e6-4348-9bbc-2cea382605d0",
   "metadata": {},
   "outputs": [],
   "source": [
    "del D[\"Relations\"]"
   ]
  },
  {
   "cell_type": "code",
   "execution_count": 36,
   "id": "e59a84da-be5a-4b12-8caa-57bee5844ae9",
   "metadata": {},
   "outputs": [
    {
     "data": {
      "text/plain": [
       "{'Batch_Name': ['DSM', 'WebDev', 'JDS'],\n",
       " 'startDate': (31, 2, 1, 12, 34, 1),\n",
       " 'mentors': {'Lakhan', 'Mathe', 'Ram', 'Shantanu', 'Vijay'},\n",
       " 'newKey': 'NewKeyAdded'}"
      ]
     },
     "execution_count": 36,
     "metadata": {},
     "output_type": "execute_result"
    }
   ],
   "source": [
    "D"
   ]
  },
  {
   "cell_type": "markdown",
   "id": "3af8c7a8-51e6-4602-866e-1f90555f7247",
   "metadata": {},
   "source": [
    "### len() prived the number of key value pairs in a dictionary"
   ]
  },
  {
   "cell_type": "code",
   "execution_count": 37,
   "id": "a4fe57a6-1b18-4442-b873-25e0934b9fb0",
   "metadata": {},
   "outputs": [
    {
     "data": {
      "text/plain": [
       "4"
      ]
     },
     "execution_count": 37,
     "metadata": {},
     "output_type": "execute_result"
    }
   ],
   "source": [
    "len(D)"
   ]
  },
  {
   "cell_type": "code",
   "execution_count": 38,
   "id": "b422ebc2-8bd8-467b-b9b8-46aae2ed6e99",
   "metadata": {},
   "outputs": [
    {
     "data": {
      "text/plain": [
       "dict_keys(['Batch_Name', 'startDate', 'mentors', 'newKey'])"
      ]
     },
     "execution_count": 38,
     "metadata": {},
     "output_type": "execute_result"
    }
   ],
   "source": [
    "D.keys()"
   ]
  },
  {
   "cell_type": "code",
   "execution_count": 39,
   "id": "3869b412-464e-4016-b091-86d9fd9a8d62",
   "metadata": {},
   "outputs": [
    {
     "data": {
      "text/plain": [
       "dict_values([['DSM', 'WebDev', 'JDS'], (31, 2, 1, 12, 34, 1), {'Ram', 'Vijay', 'Shantanu', 'Lakhan', 'Mathe'}, 'NewKeyAdded'])"
      ]
     },
     "execution_count": 39,
     "metadata": {},
     "output_type": "execute_result"
    }
   ],
   "source": [
    "D.values()"
   ]
  },
  {
   "cell_type": "code",
   "execution_count": 40,
   "id": "3e737d23-7a52-4146-aa26-b63f5737819d",
   "metadata": {},
   "outputs": [
    {
     "data": {
      "text/plain": [
       "[['DSM', 'WebDev', 'JDS'],\n",
       " (31, 2, 1, 12, 34, 1),\n",
       " {'Lakhan', 'Mathe', 'Ram', 'Shantanu', 'Vijay'},\n",
       " 'NewKeyAdded']"
      ]
     },
     "execution_count": 40,
     "metadata": {},
     "output_type": "execute_result"
    }
   ],
   "source": [
    "list(D.values())"
   ]
  },
  {
   "cell_type": "code",
   "execution_count": 42,
   "id": "5bb44e60-d4e9-40c6-8b98-e2824e7364ff",
   "metadata": {},
   "outputs": [
    {
     "data": {
      "text/plain": [
       "[['DSM', 'WebDev', 'JDS'],\n",
       " (31, 2, 1, 12, 34, 1),\n",
       " {'Lakhan', 'Mathe', 'Ram', 'Shantanu', 'Vijay'},\n",
       " 'NewKeyAdded']"
      ]
     },
     "execution_count": 42,
     "metadata": {},
     "output_type": "execute_result"
    }
   ],
   "source": [
    "list(D.values())"
   ]
  },
  {
   "cell_type": "code",
   "execution_count": 43,
   "id": "65f4a50e-b140-4626-b5d3-e80a0947cd94",
   "metadata": {},
   "outputs": [
    {
     "data": {
      "text/plain": [
       "dict_items([('Batch_Name', ['DSM', 'WebDev', 'JDS']), ('startDate', (31, 2, 1, 12, 34, 1)), ('mentors', {'Ram', 'Vijay', 'Shantanu', 'Lakhan', 'Mathe'}), ('newKey', 'NewKeyAdded')])"
      ]
     },
     "execution_count": 43,
     "metadata": {},
     "output_type": "execute_result"
    }
   ],
   "source": [
    "D.items()"
   ]
  },
  {
   "cell_type": "code",
   "execution_count": 45,
   "id": "e4d8619e-c47d-41f1-915d-d242e703a3d0",
   "metadata": {},
   "outputs": [
    {
     "data": {
      "text/plain": [
       "[('Batch_Name', ['DSM', 'WebDev', 'JDS']),\n",
       " ('startDate', (31, 2, 1, 12, 34, 1)),\n",
       " ('mentors', {'Lakhan', 'Mathe', 'Ram', 'Shantanu', 'Vijay'}),\n",
       " ('newKey', 'NewKeyAdded')]"
      ]
     },
     "execution_count": 45,
     "metadata": {},
     "output_type": "execute_result"
    }
   ],
   "source": [
    "list(D.items())"
   ]
  },
  {
   "cell_type": "code",
   "execution_count": 46,
   "id": "ff337d69-81ef-45c3-92d7-2e37209b7cdf",
   "metadata": {},
   "outputs": [
    {
     "data": {
      "text/plain": [
       "{'Batch_Name': ['DSM', 'WebDev', 'JDS'],\n",
       " 'startDate': (31, 2, 1, 12, 34, 1),\n",
       " 'mentors': {'Lakhan', 'Mathe', 'Ram', 'Shantanu', 'Vijay'},\n",
       " 'newKey': 'NewKeyAdded'}"
      ]
     },
     "execution_count": 46,
     "metadata": {},
     "output_type": "execute_result"
    }
   ],
   "source": [
    "D.copy()"
   ]
  },
  {
   "cell_type": "markdown",
   "id": "7e1b65cf-e04c-4701-8be6-1d5204675880",
   "metadata": {},
   "source": [
    "### the copy() method copies all the data to the new memory location\n",
    "\n",
    "## But if we do like this D1 = D then it changes the name only"
   ]
  },
  {
   "cell_type": "code",
   "execution_count": 51,
   "id": "8afa8f95-3288-4c33-b887-22b236165968",
   "metadata": {},
   "outputs": [],
   "source": [
    "D1 = D.copy()"
   ]
  },
  {
   "cell_type": "code",
   "execution_count": 52,
   "id": "bd8c9beb-4a1b-4bb8-9d3c-4613f4f9897f",
   "metadata": {},
   "outputs": [
    {
     "data": {
      "text/plain": [
       "{'Batch_Name': ['DSM', 'WebDev', 'JDS'],\n",
       " 'startDate': (31, 2, 1, 12, 34, 1),\n",
       " 'mentors': {'Lakhan', 'Mathe', 'Ram', 'Shantanu', 'Vijay'},\n",
       " 'Relations': {'Vijay': 'Mathe', 'Ram': 'Lokhande', 'Laksha': 'Parkhade'}}"
      ]
     },
     "execution_count": 52,
     "metadata": {},
     "output_type": "execute_result"
    }
   ],
   "source": [
    "D1"
   ]
  },
  {
   "cell_type": "code",
   "execution_count": 53,
   "id": "e1618f2b-30cf-44fb-8be2-0974a6d766e1",
   "metadata": {},
   "outputs": [],
   "source": [
    "D2 = D"
   ]
  },
  {
   "cell_type": "code",
   "execution_count": 54,
   "id": "6370c1ea-091e-48d4-acb3-3e8124327741",
   "metadata": {},
   "outputs": [
    {
     "data": {
      "text/plain": [
       "{'Batch_Name': ['DSM', 'WebDev', 'JDS'],\n",
       " 'startDate': (31, 2, 1, 12, 34, 1),\n",
       " 'mentors': {'Lakhan', 'Mathe', 'Ram', 'Shantanu', 'Vijay'},\n",
       " 'Relations': {'Vijay': 'Mathe', 'Ram': 'Lokhande', 'Laksha': 'Parkhade'}}"
      ]
     },
     "execution_count": 54,
     "metadata": {},
     "output_type": "execute_result"
    }
   ],
   "source": [
    "D2"
   ]
  },
  {
   "cell_type": "code",
   "execution_count": 55,
   "id": "ed0e7222-d283-40e1-99d5-90e6ac1b1d8f",
   "metadata": {},
   "outputs": [],
   "source": [
    "del D[\"Relations\"]"
   ]
  },
  {
   "cell_type": "code",
   "execution_count": 56,
   "id": "00f93c81-b656-4c04-81ce-80213241e162",
   "metadata": {},
   "outputs": [
    {
     "data": {
      "text/plain": [
       "{'Batch_Name': ['DSM', 'WebDev', 'JDS'],\n",
       " 'startDate': (31, 2, 1, 12, 34, 1),\n",
       " 'mentors': {'Lakhan', 'Mathe', 'Ram', 'Shantanu', 'Vijay'},\n",
       " 'Relations': {'Vijay': 'Mathe', 'Ram': 'Lokhande', 'Laksha': 'Parkhade'}}"
      ]
     },
     "execution_count": 56,
     "metadata": {},
     "output_type": "execute_result"
    }
   ],
   "source": [
    "D1"
   ]
  },
  {
   "cell_type": "code",
   "execution_count": 57,
   "id": "264bd14c-3d2e-40bf-bac0-21dc3469e0fb",
   "metadata": {},
   "outputs": [
    {
     "data": {
      "text/plain": [
       "{'Batch_Name': ['DSM', 'WebDev', 'JDS'],\n",
       " 'startDate': (31, 2, 1, 12, 34, 1),\n",
       " 'mentors': {'Lakhan', 'Mathe', 'Ram', 'Shantanu', 'Vijay'}}"
      ]
     },
     "execution_count": 57,
     "metadata": {},
     "output_type": "execute_result"
    }
   ],
   "source": [
    "D2"
   ]
  },
  {
   "cell_type": "code",
   "execution_count": 58,
   "id": "bfb620a9-3f49-418d-97b3-773030ebe488",
   "metadata": {},
   "outputs": [
    {
     "data": {
      "text/plain": [
       "(31, 2, 1, 12, 34, 1)"
      ]
     },
     "execution_count": 58,
     "metadata": {},
     "output_type": "execute_result"
    }
   ],
   "source": [
    "D.pop(\"startDate\")"
   ]
  },
  {
   "cell_type": "code",
   "execution_count": 59,
   "id": "ceb5e1e4-a2e8-44a9-b484-e8d7b8dda50a",
   "metadata": {},
   "outputs": [
    {
     "data": {
      "text/plain": [
       "{'Batch_Name': ['DSM', 'WebDev', 'JDS'],\n",
       " 'mentors': {'Lakhan', 'Mathe', 'Ram', 'Shantanu', 'Vijay'}}"
      ]
     },
     "execution_count": 59,
     "metadata": {},
     "output_type": "execute_result"
    }
   ],
   "source": [
    "D"
   ]
  },
  {
   "cell_type": "code",
   "execution_count": 61,
   "id": "c7e2194c-1a76-4557-a2cf-e602b48c58c9",
   "metadata": {},
   "outputs": [
    {
     "data": {
      "text/plain": [
       "{1: ('a', 'b', 'c'), 2: ('a', 'b', 'c'), 3: ('a', 'b', 'c')}"
      ]
     },
     "execution_count": 61,
     "metadata": {},
     "output_type": "execute_result"
    }
   ],
   "source": [
    "D.fromkeys((1, 2, 3), ('a', 'b', 'c'))"
   ]
  },
  {
   "cell_type": "code",
   "execution_count": 62,
   "id": "aa859ced-9ce5-4dc9-bc34-7abfd1dfd776",
   "metadata": {},
   "outputs": [
    {
     "data": {
      "text/plain": [
       "({'Batch_Name': ['DSM', 'WebDev', 'JDS'],\n",
       "  'startDate': (31, 2, 1, 12, 34, 1),\n",
       "  'mentors': {'Lakhan', 'Mathe', 'Ram', 'Shantanu', 'Vijay'},\n",
       "  'Relations': {'Vijay': 'Mathe', 'Ram': 'Lokhande', 'Laksha': 'Parkhade'}},\n",
       " {'Batch_Name': ['DSM', 'WebDev', 'JDS'],\n",
       "  'mentors': {'Lakhan', 'Mathe', 'Ram', 'Shantanu', 'Vijay'}})"
      ]
     },
     "execution_count": 62,
     "metadata": {},
     "output_type": "execute_result"
    }
   ],
   "source": [
    "(D1, D2)"
   ]
  },
  {
   "cell_type": "code",
   "execution_count": 63,
   "id": "f763c327-ac30-46ff-a3fe-b5057c4758a2",
   "metadata": {},
   "outputs": [],
   "source": [
    "D.get(\"key3\")"
   ]
  },
  {
   "cell_type": "code",
   "execution_count": 64,
   "id": "09738570-7827-41c7-8ed8-c40608996c2b",
   "metadata": {},
   "outputs": [
    {
     "ename": "KeyError",
     "evalue": "'key3'",
     "output_type": "error",
     "traceback": [
      "\u001b[0;31m---------------------------------------------------------------------------\u001b[0m",
      "\u001b[0;31mKeyError\u001b[0m                                  Traceback (most recent call last)",
      "Cell \u001b[0;32mIn[64], line 1\u001b[0m\n\u001b[0;32m----> 1\u001b[0m \u001b[43mD\u001b[49m\u001b[43m[\u001b[49m\u001b[38;5;124;43m\"\u001b[39;49m\u001b[38;5;124;43mkey3\u001b[39;49m\u001b[38;5;124;43m\"\u001b[39;49m\u001b[43m]\u001b[49m\n",
      "\u001b[0;31mKeyError\u001b[0m: 'key3'"
     ]
    }
   ],
   "source": [
    "D[\"key3\"]"
   ]
  },
  {
   "cell_type": "markdown",
   "id": "e15964a9-6559-4c5a-ba77-674dcf58d6ad",
   "metadata": {},
   "source": [
    "## Dectionary Comprehensions"
   ]
  },
  {
   "cell_type": "code",
   "execution_count": 66,
   "id": "9621f1f2-7cc3-4754-9500-426be7a0d179",
   "metadata": {},
   "outputs": [
    {
     "data": {
      "text/plain": [
       "{1: 1, 2: 4, 3: 9, 4: 16, 5: 25, 6: 36, 7: 49, 8: 64, 9: 81, 10: 100}"
      ]
     },
     "execution_count": 66,
     "metadata": {},
     "output_type": "execute_result"
    }
   ],
   "source": [
    "{i : i**2 for i in range(1, 11)}"
   ]
  },
  {
   "cell_type": "code",
   "execution_count": 70,
   "id": "4e50ecd0-921f-4f0a-953a-c4b2d6f59842",
   "metadata": {},
   "outputs": [
    {
     "ename": "NameError",
     "evalue": "name 'math' is not defined",
     "output_type": "error",
     "traceback": [
      "\u001b[0;31m---------------------------------------------------------------------------\u001b[0m",
      "\u001b[0;31mNameError\u001b[0m                                 Traceback (most recent call last)",
      "Cell \u001b[0;32mIn[70], line 1\u001b[0m\n\u001b[0;32m----> 1\u001b[0m {i :math\u001b[38;5;241m.\u001b[39mlog10(i) \u001b[38;5;28;01mfor\u001b[39;00m i \u001b[38;5;129;01min\u001b[39;00m \u001b[38;5;28mrange\u001b[39m(\u001b[38;5;241m1\u001b[39m, \u001b[38;5;241m11\u001b[39m)}\n",
      "Cell \u001b[0;32mIn[70], line 1\u001b[0m, in \u001b[0;36m<dictcomp>\u001b[0;34m(.0)\u001b[0m\n\u001b[0;32m----> 1\u001b[0m {i :\u001b[43mmath\u001b[49m\u001b[38;5;241m.\u001b[39mlog10(i) \u001b[38;5;28;01mfor\u001b[39;00m i \u001b[38;5;129;01min\u001b[39;00m \u001b[38;5;28mrange\u001b[39m(\u001b[38;5;241m1\u001b[39m, \u001b[38;5;241m11\u001b[39m)}\n",
      "\u001b[0;31mNameError\u001b[0m: name 'math' is not defined"
     ]
    }
   ],
   "source": [
    "{i :math.log10(i) for i in range(1, 11)}"
   ]
  },
  {
   "cell_type": "code",
   "execution_count": 72,
   "id": "81fe4fb1-bdde-4777-986d-b1088e44d8f0",
   "metadata": {},
   "outputs": [
    {
     "data": {
      "text/plain": [
       "True"
      ]
     },
     "execution_count": 72,
     "metadata": {},
     "output_type": "execute_result"
    }
   ],
   "source": [
    "\"Batch_Name\" in D"
   ]
  },
  {
   "cell_type": "code",
   "execution_count": 80,
   "id": "6f7b79f4-2b32-4b1d-8846-bb939784d5b0",
   "metadata": {},
   "outputs": [
    {
     "ename": "TypeError",
     "evalue": "not all arguments converted during string formatting",
     "output_type": "error",
     "traceback": [
      "\u001b[0;31m---------------------------------------------------------------------------\u001b[0m",
      "\u001b[0;31mTypeError\u001b[0m                                 Traceback (most recent call last)",
      "Cell \u001b[0;32mIn[80], line 2\u001b[0m\n\u001b[1;32m      1\u001b[0m \u001b[38;5;28;01mfor\u001b[39;00m i \u001b[38;5;129;01min\u001b[39;00m D\u001b[38;5;241m.\u001b[39mkeys():\n\u001b[0;32m----> 2\u001b[0m     \u001b[38;5;28;01mif\u001b[39;00m  \u001b[43mi\u001b[49m\u001b[43m \u001b[49m\u001b[38;5;241;43m%\u001b[39;49m\u001b[43m \u001b[49m\u001b[38;5;241;43m2\u001b[39;49m  \u001b[38;5;241m==\u001b[39m \u001b[38;5;241m0\u001b[39m:\n\u001b[1;32m      3\u001b[0m         \u001b[38;5;28mprint\u001b[39m(i)\n",
      "\u001b[0;31mTypeError\u001b[0m: not all arguments converted during string formatting"
     ]
    }
   ],
   "source": [
    "for i in D.keys():\n",
    "    if  i % 2  == 0:\n",
    "        print(i)"
   ]
  },
  {
   "cell_type": "code",
   "execution_count": null,
   "id": "82bc0bfb-fa82-4066-9904-06ff63717b26",
   "metadata": {},
   "outputs": [],
   "source": []
  },
  {
   "cell_type": "code",
   "execution_count": null,
   "id": "990348e0-eed3-4a0b-8517-ede132781a9e",
   "metadata": {},
   "outputs": [],
   "source": []
  }
 ],
 "metadata": {
  "kernelspec": {
   "display_name": "Python 3 (ipykernel)",
   "language": "python",
   "name": "python3"
  },
  "language_info": {
   "codemirror_mode": {
    "name": "ipython",
    "version": 3
   },
   "file_extension": ".py",
   "mimetype": "text/x-python",
   "name": "python",
   "nbconvert_exporter": "python",
   "pygments_lexer": "ipython3",
   "version": "3.10.8"
  }
 },
 "nbformat": 4,
 "nbformat_minor": 5
}
