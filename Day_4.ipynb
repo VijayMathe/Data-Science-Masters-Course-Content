{
 "cells": [
  {
   "cell_type": "code",
   "execution_count": 1,
   "id": "61d2d6ab-8b60-46f1-9762-dda79fc68991",
   "metadata": {},
   "outputs": [],
   "source": [
    "course_name = \"Data Science Masters\""
   ]
  },
  {
   "cell_type": "code",
   "execution_count": 2,
   "id": "6f330ef7-7563-446d-b239-fc13030e7513",
   "metadata": {},
   "outputs": [
    {
     "data": {
      "text/plain": [
       "'dATA sCIENCE mASTERS'"
      ]
     },
     "execution_count": 2,
     "metadata": {},
     "output_type": "execute_result"
    }
   ],
   "source": [
    "course_name.swapcase()"
   ]
  },
  {
   "cell_type": "code",
   "execution_count": 3,
   "id": "cdfd8333-ea72-4b5c-b84d-4dd66c461907",
   "metadata": {},
   "outputs": [
    {
     "data": {
      "text/plain": [
       "'Data Science Masters'"
      ]
     },
     "execution_count": 3,
     "metadata": {},
     "output_type": "execute_result"
    }
   ],
   "source": [
    "course_name[::]"
   ]
  },
  {
   "cell_type": "code",
   "execution_count": 4,
   "id": "e528b767-b318-4b85-a85e-a9cd1f77c15a",
   "metadata": {},
   "outputs": [
    {
     "data": {
      "text/plain": [
       "' ataD'"
      ]
     },
     "execution_count": 4,
     "metadata": {},
     "output_type": "execute_result"
    }
   ],
   "source": [
    "course_name[4::-1]"
   ]
  },
  {
   "cell_type": "code",
   "execution_count": 5,
   "id": "1e8b1021-d5f0-48b3-88ab-f16a163d99ab",
   "metadata": {},
   "outputs": [
    {
     "data": {
      "text/plain": [
       "'Data science masters'"
      ]
     },
     "execution_count": 5,
     "metadata": {},
     "output_type": "execute_result"
    }
   ],
   "source": [
    "course_name.capitalize()"
   ]
  },
  {
   "cell_type": "code",
   "execution_count": 6,
   "id": "081c14c0-8142-4353-a3a8-bcf83f99d716",
   "metadata": {},
   "outputs": [
    {
     "data": {
      "text/plain": [
       "'DATA SCIENCE MASTERS'"
      ]
     },
     "execution_count": 6,
     "metadata": {},
     "output_type": "execute_result"
    }
   ],
   "source": [
    "course_name.upper()"
   ]
  },
  {
   "cell_type": "markdown",
   "id": "ee9dda36-57c9-4bc1-a70a-1d222f666f09",
   "metadata": {},
   "source": [
    "### Reverse a string"
   ]
  },
  {
   "cell_type": "code",
   "execution_count": 7,
   "id": "be8cf033-44b7-4df8-accb-f949f7b90930",
   "metadata": {},
   "outputs": [
    {
     "data": {
      "text/plain": [
       "'sretsaM ecneicS ataD'"
      ]
     },
     "execution_count": 7,
     "metadata": {},
     "output_type": "execute_result"
    }
   ],
   "source": [
    "course_name[::-1]"
   ]
  },
  {
   "cell_type": "code",
   "execution_count": 8,
   "id": "fe7f71e1-6f96-4a3a-8a5b-a4a4581aca59",
   "metadata": {},
   "outputs": [
    {
     "data": {
      "text/plain": [
       "<reversed at 0x7f3d20093d00>"
      ]
     },
     "execution_count": 8,
     "metadata": {},
     "output_type": "execute_result"
    }
   ],
   "source": [
    "reversed(course_name)"
   ]
  },
  {
   "cell_type": "code",
   "execution_count": 14,
   "id": "19197446-a9c5-4b94-bd2c-acf324a7b2aa",
   "metadata": {},
   "outputs": [
    {
     "data": {
      "text/plain": [
       "'D a t a   S c i e n c e   M a s t e r s'"
      ]
     },
     "execution_count": 14,
     "metadata": {},
     "output_type": "execute_result"
    }
   ],
   "source": [
    "' '.join((course_name))"
   ]
  },
  {
   "cell_type": "code",
   "execution_count": 18,
   "id": "415e7a87-43d5-4d96-97d5-0ac5a217b2d4",
   "metadata": {},
   "outputs": [
    {
     "data": {
      "text/plain": [
       "' Mathe VMathe iMathe jMathe aMathe y'"
      ]
     },
     "execution_count": 18,
     "metadata": {},
     "output_type": "execute_result"
    }
   ],
   "source": [
    "\"Mathe \".join(\" Vijay\")"
   ]
  },
  {
   "cell_type": "code",
   "execution_count": 20,
   "id": "f6e87f48-8f6c-4a8f-9fa5-ab8c1b360d7d",
   "metadata": {},
   "outputs": [
    {
     "data": {
      "text/plain": [
       "'y a j i v'"
      ]
     },
     "execution_count": 20,
     "metadata": {},
     "output_type": "execute_result"
    }
   ],
   "source": [
    "' '.join(reversed(\"vijay\"))"
   ]
  },
  {
   "cell_type": "markdown",
   "id": "ab62e317-aa49-42b1-a98f-b14c112dd63c",
   "metadata": {},
   "source": [
    "### Just a recap of some previous important things\n",
    "\n",
    "## a is b -- returns true if the locations of a and b are same\n",
    "## a is not b -- returns true if the locations of a and b are not same\n",
    "## a == b -- returns true if values of a and b are same\n",
    "## a != b -- returns true if values of a and b are not same\n",
    "\n",
    "# is, is not -- Locations\n",
    "# ==, != -- values"
   ]
  },
  {
   "cell_type": "code",
   "execution_count": 22,
   "id": "b9ae3cd8-baf0-41f2-b5f6-7bde800fd91d",
   "metadata": {},
   "outputs": [
    {
     "data": {
      "text/plain": [
       "['y', 'a', 'j', 'i', 'V']"
      ]
     },
     "execution_count": 22,
     "metadata": {},
     "output_type": "execute_result"
    }
   ],
   "source": [
    "list(reversed(\"Vijay\"))"
   ]
  },
  {
   "cell_type": "code",
   "execution_count": 25,
   "id": "bf7e11be-ea68-4f25-bc70-fbfeef7e5167",
   "metadata": {},
   "outputs": [
    {
     "name": "stdout",
     "output_type": "stream",
     "text": [
      "ehtaM"
     ]
    }
   ],
   "source": [
    "for i in list(reversed(\"Mathe\")):\n",
    "    print(i, end='')"
   ]
  },
  {
   "cell_type": "markdown",
   "id": "059399e1-be04-4496-8529-51b04c968b1e",
   "metadata": {},
   "source": [
    "## strip() removes all the spaces"
   ]
  },
  {
   "cell_type": "code",
   "execution_count": 28,
   "id": "1b33ffc9-c7e8-4690-bd77-2c06e7fdfba2",
   "metadata": {},
   "outputs": [
    {
     "name": "stdout",
     "output_type": "stream",
     "text": [
      "PWSkills\n",
      " PWSkills \n"
     ]
    }
   ],
   "source": [
    "str1 = \" PWSkills \"\n",
    "print(str1.strip())\n",
    "print(str1)"
   ]
  },
  {
   "cell_type": "code",
   "execution_count": 29,
   "id": "61d98265-3828-4e94-95c8-6b4d1c5beb24",
   "metadata": {},
   "outputs": [
    {
     "data": {
      "text/plain": [
       "'PWSkills '"
      ]
     },
     "execution_count": 29,
     "metadata": {},
     "output_type": "execute_result"
    }
   ],
   "source": [
    "str1.lstrip()"
   ]
  },
  {
   "cell_type": "code",
   "execution_count": 30,
   "id": "8654e353-b8a6-491e-85cc-4f0e8e7477f0",
   "metadata": {},
   "outputs": [
    {
     "data": {
      "text/plain": [
       "' PWSkills'"
      ]
     },
     "execution_count": 30,
     "metadata": {},
     "output_type": "execute_result"
    }
   ],
   "source": [
    "str1.rstrip()"
   ]
  },
  {
   "cell_type": "markdown",
   "id": "390bb41b-c9c0-40a7-a5dc-eccd960b7f46",
   "metadata": {},
   "source": [
    "## lstrip() --> add space at left side\n",
    "## rstrip() --> add space at right side"
   ]
  },
  {
   "cell_type": "code",
   "execution_count": 33,
   "id": "94adc926-8403-40dc-a1e0-0a65ad089c1a",
   "metadata": {},
   "outputs": [
    {
     "data": {
      "text/plain": [
       "'Mathe'"
      ]
     },
     "execution_count": 33,
     "metadata": {},
     "output_type": "execute_result"
    }
   ],
   "source": [
    "str1 = \"Mathe\"\n",
    "str1"
   ]
  },
  {
   "cell_type": "code",
   "execution_count": 35,
   "id": "d4c86cf4-6f11-46ab-9a15-63122a365106",
   "metadata": {},
   "outputs": [
    {
     "data": {
      "text/plain": [
       "'Methe'"
      ]
     },
     "execution_count": 35,
     "metadata": {},
     "output_type": "execute_result"
    }
   ],
   "source": [
    "str1.replace(\"a\", \"e\")"
   ]
  },
  {
   "cell_type": "code",
   "execution_count": 36,
   "id": "77462257-c612-412b-a3bf-6d46d43d6cbc",
   "metadata": {},
   "outputs": [
    {
     "data": {
      "text/plain": [
       "'Data SciTncT MastTrs'"
      ]
     },
     "execution_count": 36,
     "metadata": {},
     "output_type": "execute_result"
    }
   ],
   "source": [
    "course_name.replace(\"e\", \"T\")"
   ]
  },
  {
   "cell_type": "markdown",
   "id": "be4bc95a-93af-49ad-853f-7c86a277637b",
   "metadata": {},
   "source": [
    "## The replce function returns a new string with all the other characters same\n",
    "## That is why different IDs\n",
    "## see bellow"
   ]
  },
  {
   "cell_type": "code",
   "execution_count": 38,
   "id": "8ec23d06-4a38-494c-8f52-5c9d39402338",
   "metadata": {},
   "outputs": [
    {
     "data": {
      "text/plain": [
       "'Drtr Science Mrsters'"
      ]
     },
     "execution_count": 38,
     "metadata": {},
     "output_type": "execute_result"
    }
   ],
   "source": [
    "str2 = course_name.replace(\"a\", \"r\")\n",
    "str2"
   ]
  },
  {
   "cell_type": "code",
   "execution_count": 39,
   "id": "ba1a16e6-a137-475d-bc95-dd6ffe3de549",
   "metadata": {},
   "outputs": [
    {
     "data": {
      "text/plain": [
       "139900534165696"
      ]
     },
     "execution_count": 39,
     "metadata": {},
     "output_type": "execute_result"
    }
   ],
   "source": [
    "id(course_name)"
   ]
  },
  {
   "cell_type": "code",
   "execution_count": 40,
   "id": "0c5cb6a0-91a2-4a20-9cfe-27132d05e157",
   "metadata": {},
   "outputs": [
    {
     "data": {
      "text/plain": [
       "139900377522992"
      ]
     },
     "execution_count": 40,
     "metadata": {},
     "output_type": "execute_result"
    }
   ],
   "source": [
    "id(str2)"
   ]
  },
  {
   "cell_type": "code",
   "execution_count": 43,
   "id": "efc43e74-d5e7-4322-b8db-4d30e9b4d99f",
   "metadata": {},
   "outputs": [
    {
     "data": {
      "text/plain": [
       "'hello    world'"
      ]
     },
     "execution_count": 43,
     "metadata": {},
     "output_type": "execute_result"
    }
   ],
   "source": [
    "\"hello \\t world\".expandtabs()"
   ]
  },
  {
   "cell_type": "code",
   "execution_count": 45,
   "id": "891cd285-7f1d-44d7-ac8e-7fd5432a51e9",
   "metadata": {},
   "outputs": [
    {
     "data": {
      "text/plain": [
       "'Wellcome to Data structures and algorithms'"
      ]
     },
     "execution_count": 45,
     "metadata": {},
     "output_type": "execute_result"
    }
   ],
   "source": [
    "str3 = \"Wellcome to dt structures ad algorithms\"\n",
    "str3.replace(\"dt\", \"Data\").replace(\"ad\", \"and\")"
   ]
  },
  {
   "cell_type": "code",
   "execution_count": 46,
   "id": "2618d3de-11ad-49a6-86df-f715aa81a7aa",
   "metadata": {},
   "outputs": [
    {
     "data": {
      "text/plain": [
       "False"
      ]
     },
     "execution_count": 46,
     "metadata": {},
     "output_type": "execute_result"
    }
   ],
   "source": [
    "str3.isupper()"
   ]
  },
  {
   "cell_type": "code",
   "execution_count": 47,
   "id": "8bb98eab-3b97-41b4-844d-15a34bf41ca2",
   "metadata": {},
   "outputs": [
    {
     "data": {
      "text/plain": [
       "False"
      ]
     },
     "execution_count": 47,
     "metadata": {},
     "output_type": "execute_result"
    }
   ],
   "source": [
    "str3.islower()"
   ]
  },
  {
   "cell_type": "code",
   "execution_count": 48,
   "id": "27c5d82f-49a3-4b8d-8675-a5369a673716",
   "metadata": {},
   "outputs": [],
   "source": [
    "str4 = str3.lower()"
   ]
  },
  {
   "cell_type": "code",
   "execution_count": 49,
   "id": "30345d06-1157-4da2-a976-12e92bf7071c",
   "metadata": {},
   "outputs": [
    {
     "data": {
      "text/plain": [
       "True"
      ]
     },
     "execution_count": 49,
     "metadata": {},
     "output_type": "execute_result"
    }
   ],
   "source": [
    "str4.islower()"
   ]
  },
  {
   "cell_type": "code",
   "execution_count": 50,
   "id": "26c6c267-8f58-4b86-a345-c633187345df",
   "metadata": {},
   "outputs": [
    {
     "name": "stdout",
     "output_type": "stream",
     "text": [
      "Hellow\n"
     ]
    }
   ],
   "source": [
    "if \" \".isspace():\n",
    "    print(\"Hellow\")"
   ]
  },
  {
   "cell_type": "code",
   "execution_count": 51,
   "id": "4899a4e3-384d-48be-93fa-c0a4a3f58549",
   "metadata": {},
   "outputs": [
    {
     "data": {
      "text/plain": [
       "True"
      ]
     },
     "execution_count": 51,
     "metadata": {},
     "output_type": "execute_result"
    }
   ],
   "source": [
    "str5 = \"PW Skills\"\n",
    "\n",
    "str5.endswith('s')"
   ]
  },
  {
   "cell_type": "code",
   "execution_count": 53,
   "id": "a13a3ffa-d187-4ab9-9b3e-aa221ec6d497",
   "metadata": {},
   "outputs": [
    {
     "data": {
      "text/plain": [
       "True"
      ]
     },
     "execution_count": 53,
     "metadata": {},
     "output_type": "execute_result"
    }
   ],
   "source": [
    "str5.startswith('P')"
   ]
  },
  {
   "cell_type": "code",
   "execution_count": 57,
   "id": "079de9ae-86a9-456c-9d52-03ebf19dd7b5",
   "metadata": {},
   "outputs": [
    {
     "data": {
      "text/plain": [
       "True"
      ]
     },
     "execution_count": 57,
     "metadata": {},
     "output_type": "execute_result"
    }
   ],
   "source": [
    "## check if all the char in string are alphanumeric\n",
    "\n",
    "a=\"abcde234\"\n",
    "a.isalnum()"
   ]
  },
  {
   "cell_type": "code",
   "execution_count": 59,
   "id": "7737be40-f9b8-4ae5-ab31-4c4d43705b24",
   "metadata": {},
   "outputs": [
    {
     "data": {
      "text/plain": [
       "8"
      ]
     },
     "execution_count": 59,
     "metadata": {},
     "output_type": "execute_result"
    }
   ],
   "source": [
    "len(a)"
   ]
  },
  {
   "cell_type": "code",
   "execution_count": 60,
   "id": "73d07589-fc0a-41bd-ba83-63def2501eab",
   "metadata": {},
   "outputs": [
    {
     "name": "stdout",
     "output_type": "stream",
     "text": [
      "8\n"
     ]
    }
   ],
   "source": [
    "cnt = 0\n",
    "for i in a:\n",
    "    cnt = cnt+1\n",
    "    \n",
    "print(cnt)"
   ]
  },
  {
   "cell_type": "code",
   "execution_count": 62,
   "id": "3ce3e228-0618-470c-9df8-11423d385acc",
   "metadata": {},
   "outputs": [
    {
     "name": "stdout",
     "output_type": "stream",
     "text": [
      "D0\n",
      "\n",
      "a1\n",
      "\n",
      "t2\n",
      "\n",
      "a3\n",
      "\n",
      " 4\n",
      "\n",
      "S5\n",
      "\n",
      "c6\n",
      "\n",
      "i7\n",
      "\n",
      "e8\n",
      "\n",
      "n9\n",
      "\n",
      "c10\n",
      "\n",
      "e11\n",
      "\n",
      " 12\n",
      "\n",
      "M13\n",
      "\n",
      "a14\n",
      "\n",
      "s15\n",
      "\n",
      "t16\n",
      "\n",
      "e17\n",
      "\n",
      "r18\n",
      "\n",
      "s19\n",
      "\n"
     ]
    }
   ],
   "source": [
    "cnt = 0\n",
    "for i in course_name:\n",
    "    print(i, end=\"\")\n",
    "    print(cnt)\n",
    "    print(\"\")\n",
    "    cnt = cnt+1"
   ]
  },
  {
   "cell_type": "code",
   "execution_count": null,
   "id": "da485ffb-fe91-41e5-8c35-c97f363ab35f",
   "metadata": {},
   "outputs": [],
   "source": [
    "for i range(len(course_name)-1, -1, -1):\n",
    "    print(course_name[i])"
   ]
  },
  {
   "cell_type": "code",
   "execution_count": null,
   "id": "eeea208b-3367-47bf-a659-bff5e7da0616",
   "metadata": {},
   "outputs": [],
   "source": [
    "cnt = len(course_name)-1\n",
    "\n",
    "for i in range(cnt, 0):\n",
    "    print(course_name[i], end=\"\")"
   ]
  },
  {
   "cell_type": "code",
   "execution_count": 71,
   "id": "fd88531c-6b30-4c18-83b4-64b166080711",
   "metadata": {},
   "outputs": [
    {
     "name": "stdout",
     "output_type": "stream",
     "text": [
      "sretsaM ecneicS ataD"
     ]
    }
   ],
   "source": [
    "cnt = len(course_name)-1\n",
    "while cnt >= 0:\n",
    "    print(course_name[cnt], end=\"\")\n",
    "    cnt = cnt -1"
   ]
  },
  {
   "cell_type": "code",
   "execution_count": 67,
   "id": "6080726e-3b8b-499e-8beb-3c21b3ea96a8",
   "metadata": {},
   "outputs": [],
   "source": [
    "vowels = \"AaEeIiOoUu\""
   ]
  },
  {
   "cell_type": "code",
   "execution_count": 72,
   "id": "bdc248ac-eca7-47dc-bee9-cb55b5313d1f",
   "metadata": {},
   "outputs": [
    {
     "name": "stdout",
     "output_type": "stream",
     "text": [
      "D is not a vowel\n",
      "a is a vowel\n",
      "t is not a vowel\n",
      "a is a vowel\n",
      "S is not a vowel\n",
      "c is not a vowel\n",
      "i is a vowel\n",
      "e is a vowel\n",
      "n is not a vowel\n",
      "c is not a vowel\n",
      "e is a vowel\n",
      "M is not a vowel\n",
      "a is a vowel\n",
      "s is not a vowel\n",
      "t is not a vowel\n",
      "e is a vowel\n",
      "r is not a vowel\n",
      "s is not a vowel\n"
     ]
    }
   ],
   "source": [
    "for ch in course_name:\n",
    "    if ch in vowels:\n",
    "       print(\"{} is a vowel\".format(ch))\n",
    "    elif ch == \" \":\n",
    "        continue\n",
    "    else:\n",
    "        print(\"{} is not a vowel\".format(ch))\n",
    "    "
   ]
  },
  {
   "cell_type": "markdown",
   "id": "ffe78f18-1e11-438a-8720-81680cc98ea0",
   "metadata": {},
   "source": [
    "# New Data Structure "
   ]
  },
  {
   "cell_type": "markdown",
   "id": "fdc3bead-6759-4249-aa59-cb480b9f4be1",
   "metadata": {},
   "source": [
    "## List"
   ]
  },
  {
   "cell_type": "code",
   "execution_count": 114,
   "id": "31a4d7e4-5ce6-42df-b60b-3e82290a2c6e",
   "metadata": {},
   "outputs": [
    {
     "name": "stdout",
     "output_type": "stream",
     "text": [
      "\n",
      "*\n",
      "***\n",
      "*****\n",
      "*******\n",
      "*********\n",
      "***********\n",
      "*************\n",
      "***************\n",
      "*****************\n"
     ]
    }
   ],
   "source": [
    "n = 10\n",
    "\n",
    "for i in range(0, n):\n",
    "    for i in range(i, 0):\n",
    "        print(\" \", end=\"\")\n",
    "    for i in range(0, (2*i)-1):\n",
    "        print(\"*\", end=\"\")\n",
    "    print(\"\")\n",
    "    "
   ]
  },
  {
   "cell_type": "code",
   "execution_count": 84,
   "id": "335a86f4-70dc-4aa9-89e8-d6ef820c3e8c",
   "metadata": {},
   "outputs": [],
   "source": [
    "lst1 = list(course_name.split(\" \"))"
   ]
  },
  {
   "cell_type": "code",
   "execution_count": 85,
   "id": "74b89c4d-74d8-47b3-9e93-c639a3546e53",
   "metadata": {},
   "outputs": [
    {
     "data": {
      "text/plain": [
       "['Science', 'Masters']"
      ]
     },
     "execution_count": 85,
     "metadata": {},
     "output_type": "execute_result"
    }
   ],
   "source": [
    "lst1[1:]"
   ]
  },
  {
   "cell_type": "code",
   "execution_count": 86,
   "id": "a540af1a-e191-470f-947e-d274a66422d4",
   "metadata": {},
   "outputs": [],
   "source": [
    "lst2 = [3, 6, 8, 2, 5]\n"
   ]
  },
  {
   "cell_type": "code",
   "execution_count": 87,
   "id": "42c96709-f4eb-4c1b-bca2-bfa7fae00640",
   "metadata": {},
   "outputs": [],
   "source": [
    "lst1 = lst2+[['new element', 5]]"
   ]
  },
  {
   "cell_type": "code",
   "execution_count": 88,
   "id": "b2680abc-e209-4264-b612-2543396e5d6f",
   "metadata": {},
   "outputs": [
    {
     "name": "stdout",
     "output_type": "stream",
     "text": [
      "[3, 6, 8, 2, 5, ['new element', 5]]\n"
     ]
    }
   ],
   "source": [
    "print(lst1)"
   ]
  },
  {
   "cell_type": "code",
   "execution_count": 89,
   "id": "9814132d-aa33-4fce-b34b-ab284f76efba",
   "metadata": {},
   "outputs": [
    {
     "data": {
      "text/plain": [
       "[3, 6, 8, 2, 5, ['new element', 5], 3, 6, 8, 2, 5, ['new element', 5]]"
      ]
     },
     "execution_count": 89,
     "metadata": {},
     "output_type": "execute_result"
    }
   ],
   "source": [
    "lst1*2"
   ]
  },
  {
   "cell_type": "code",
   "execution_count": 90,
   "id": "f03ebe76-86fc-465f-8f00-a3425455817f",
   "metadata": {},
   "outputs": [
    {
     "data": {
      "text/plain": [
       "'new element'"
      ]
     },
     "execution_count": 90,
     "metadata": {},
     "output_type": "execute_result"
    }
   ],
   "source": [
    "lst1[-1][0]"
   ]
  },
  {
   "cell_type": "code",
   "execution_count": 91,
   "id": "016109b6-42b0-4490-96ab-dbb6132f0305",
   "metadata": {},
   "outputs": [],
   "source": [
    "lst3 = lst1*2"
   ]
  },
  {
   "cell_type": "code",
   "execution_count": 92,
   "id": "dc4f6b86-034e-406f-b537-c167b20d39ad",
   "metadata": {},
   "outputs": [
    {
     "name": "stdout",
     "output_type": "stream",
     "text": [
      "[3, 6, 8, 2, 5, ['new element', 5], 3, 6, 8, 2, 5, ['new element', 5]]\n"
     ]
    }
   ],
   "source": [
    "print(lst3)"
   ]
  },
  {
   "cell_type": "code",
   "execution_count": 93,
   "id": "bf5e3d56-151d-4724-9755-2e93cdc449d6",
   "metadata": {},
   "outputs": [
    {
     "data": {
      "text/plain": [
       "[3, 6, 8, 2, 5, ['new element', 5]]"
      ]
     },
     "execution_count": 93,
     "metadata": {},
     "output_type": "execute_result"
    }
   ],
   "source": [
    "lst1"
   ]
  },
  {
   "cell_type": "code",
   "execution_count": 94,
   "id": "912f1263-8593-4c0d-92c1-e417edd5760e",
   "metadata": {},
   "outputs": [
    {
     "data": {
      "text/plain": [
       "[3, 6, 8, 2, 5]"
      ]
     },
     "execution_count": 94,
     "metadata": {},
     "output_type": "execute_result"
    }
   ],
   "source": [
    "lst2"
   ]
  },
  {
   "cell_type": "code",
   "execution_count": 99,
   "id": "f0a1a014-6d69-4eb8-ac08-af0160df9ae3",
   "metadata": {},
   "outputs": [
    {
     "name": "stdout",
     "output_type": "stream",
     "text": [
      "3\n",
      "6\n",
      "8\n",
      "2\n",
      "it is precent\n"
     ]
    }
   ],
   "source": [
    "for i in lst2:\n",
    "    print(i)\n",
    "    if i == 2:\n",
    "        print(\"it is precent\")\n",
    "        break"
   ]
  },
  {
   "cell_type": "code",
   "execution_count": 100,
   "id": "0f999333-d99a-495d-9b60-afbea2f333b8",
   "metadata": {},
   "outputs": [],
   "source": [
    "lst = [\"PW\", \"Data\", \"Science\", \"masters\", \"course\"]"
   ]
  },
  {
   "cell_type": "code",
   "execution_count": 101,
   "id": "e3f1d4b8-0413-4883-abab-451288a6ab92",
   "metadata": {},
   "outputs": [
    {
     "data": {
      "text/plain": [
       "['PW', 'Data', 'Science', 'masters', 'course']"
      ]
     },
     "execution_count": 101,
     "metadata": {},
     "output_type": "execute_result"
    }
   ],
   "source": [
    "lst"
   ]
  },
  {
   "cell_type": "code",
   "execution_count": 103,
   "id": "3135fbb8-f340-4d10-9b56-df241db09d29",
   "metadata": {},
   "outputs": [
    {
     "name": "stdout",
     "output_type": "stream",
     "text": [
      "Science\n"
     ]
    }
   ],
   "source": [
    "for i in lst:\n",
    "    if i == \"Science\":\n",
    "        print(i)\n",
    "        break"
   ]
  },
  {
   "cell_type": "code",
   "execution_count": 104,
   "id": "1474ec92-d9d9-4504-bb9a-0e8fa5cdd6c6",
   "metadata": {},
   "outputs": [
    {
     "data": {
      "text/plain": [
       "False"
      ]
     },
     "execution_count": 104,
     "metadata": {},
     "output_type": "execute_result"
    }
   ],
   "source": [
    "## check elements inside a list\n",
    "\n",
    "numlst = [3, 6, 7, 8, 9, 0, 1, 2, 3]\n",
    "\n",
    "4 in numlst"
   ]
  },
  {
   "cell_type": "code",
   "execution_count": 105,
   "id": "ea75864d-5a58-4027-9120-161a73dc07ab",
   "metadata": {},
   "outputs": [
    {
     "data": {
      "text/plain": [
       "True"
      ]
     },
     "execution_count": 105,
     "metadata": {},
     "output_type": "execute_result"
    }
   ],
   "source": [
    "0 in numlst"
   ]
  },
  {
   "cell_type": "code",
   "execution_count": 106,
   "id": "50dcedad-0b0e-4577-8f6e-6e6669941a65",
   "metadata": {},
   "outputs": [
    {
     "data": {
      "text/plain": [
       "True"
      ]
     },
     "execution_count": 106,
     "metadata": {},
     "output_type": "execute_result"
    }
   ],
   "source": [
    "0.0 in numlst"
   ]
  },
  {
   "cell_type": "code",
   "execution_count": 107,
   "id": "0a2ce1bd-ce56-4c5d-9599-2d667e8c7d0c",
   "metadata": {},
   "outputs": [
    {
     "data": {
      "text/plain": [
       "True"
      ]
     },
     "execution_count": 107,
     "metadata": {},
     "output_type": "execute_result"
    }
   ],
   "source": [
    "\"Science\" in lst"
   ]
  },
  {
   "cell_type": "code",
   "execution_count": 108,
   "id": "a91962da-9c6b-475a-8783-690abb21a850",
   "metadata": {},
   "outputs": [
    {
     "name": "stdout",
     "output_type": "stream",
     "text": [
      "masters\n"
     ]
    }
   ],
   "source": [
    "print(max(lst))"
   ]
  },
  {
   "cell_type": "code",
   "execution_count": 109,
   "id": "e9f14e46-279c-45a8-b924-f52a576c0cde",
   "metadata": {},
   "outputs": [
    {
     "name": "stdout",
     "output_type": "stream",
     "text": [
      "9\n"
     ]
    }
   ],
   "source": [
    "print(max(numlst))"
   ]
  },
  {
   "cell_type": "code",
   "execution_count": 110,
   "id": "bd725656-7270-4190-a57e-8a66ff27fbed",
   "metadata": {},
   "outputs": [
    {
     "name": "stdout",
     "output_type": "stream",
     "text": [
      "0\n"
     ]
    }
   ],
   "source": [
    "print(min(numlst))"
   ]
  },
  {
   "cell_type": "code",
   "execution_count": 111,
   "id": "dfeec6a8-d6d1-40a0-b330-682c4727c37f",
   "metadata": {},
   "outputs": [
    {
     "name": "stdout",
     "output_type": "stream",
     "text": [
      "Data\n"
     ]
    }
   ],
   "source": [
    "print(min(lst))"
   ]
  },
  {
   "cell_type": "code",
   "execution_count": 115,
   "id": "7f0f0f56-7cca-473c-a61e-3df9ee111630",
   "metadata": {},
   "outputs": [
    {
     "data": {
      "text/plain": [
       "str"
      ]
     },
     "execution_count": 115,
     "metadata": {},
     "output_type": "execute_result"
    }
   ],
   "source": [
    "type(lst[0])"
   ]
  },
  {
   "cell_type": "code",
   "execution_count": 116,
   "id": "5f131c76-18ca-45b7-862d-1422d46d6a2e",
   "metadata": {},
   "outputs": [
    {
     "data": {
      "text/plain": [
       "int"
      ]
     },
     "execution_count": 116,
     "metadata": {},
     "output_type": "execute_result"
    }
   ],
   "source": [
    "type(numlst[2])"
   ]
  },
  {
   "cell_type": "code",
   "execution_count": 124,
   "id": "eb723af5-8688-4252-b0bf-fb60e5f0dec7",
   "metadata": {},
   "outputs": [
    {
     "data": {
      "text/plain": [
       "[3, 6, 7, 8, 9, 0, 1, 2, 3, 3, 3, 3, 100]"
      ]
     },
     "execution_count": 124,
     "metadata": {},
     "output_type": "execute_result"
    }
   ],
   "source": [
    "numlst"
   ]
  },
  {
   "cell_type": "code",
   "execution_count": 126,
   "id": "50f980c6-a255-45b3-98e2-9ad777a4666f",
   "metadata": {},
   "outputs": [],
   "source": [
    "numlst.append(100)"
   ]
  },
  {
   "cell_type": "code",
   "execution_count": 127,
   "id": "ac4aaa77-2a4a-43f1-8d8f-55b9c9620c16",
   "metadata": {},
   "outputs": [
    {
     "data": {
      "text/plain": [
       "[3, 6, 7, 8, 9, 0, 1, 2, 3, 3, 3, 3, 100, 100, 100]"
      ]
     },
     "execution_count": 127,
     "metadata": {},
     "output_type": "execute_result"
    }
   ],
   "source": [
    "numlst"
   ]
  },
  {
   "cell_type": "markdown",
   "id": "26cc7ebe-5cf2-484d-8ea3-ba4a69ee8de0",
   "metadata": {},
   "source": [
    "## append is an inplace operation"
   ]
  },
  {
   "cell_type": "markdown",
   "id": "44bae04d-56da-47f2-b356-dfdc58a15b10",
   "metadata": {},
   "source": [
    "## means it will update the original list"
   ]
  },
  {
   "cell_type": "code",
   "execution_count": 128,
   "id": "726a8bf7-3898-41bb-8681-ea53d24baf9d",
   "metadata": {},
   "outputs": [],
   "source": [
    "lst.append([\"vijay\", \"mathe\", \"sangwa\"])"
   ]
  },
  {
   "cell_type": "code",
   "execution_count": 129,
   "id": "fea50d16-8d00-4814-99d8-2b054a2b5dac",
   "metadata": {},
   "outputs": [
    {
     "data": {
      "text/plain": [
       "['PW', 'Data', 'Science', 'masters', 'course', ['vijay', 'mathe', 'sangwa']]"
      ]
     },
     "execution_count": 129,
     "metadata": {},
     "output_type": "execute_result"
    }
   ],
   "source": [
    "lst"
   ]
  },
  {
   "cell_type": "code",
   "execution_count": 130,
   "id": "0279f8db-59e6-4835-89fe-540d2b619f7e",
   "metadata": {},
   "outputs": [
    {
     "data": {
      "text/plain": [
       "['vijay', 'mathe', 'sangwa']"
      ]
     },
     "execution_count": 130,
     "metadata": {},
     "output_type": "execute_result"
    }
   ],
   "source": [
    "lst.pop()"
   ]
  },
  {
   "cell_type": "code",
   "execution_count": 132,
   "id": "04a3a31f-e406-4ff5-835a-fde207adceeb",
   "metadata": {},
   "outputs": [
    {
     "data": {
      "text/plain": [
       "['PW', 'Data', 'Science', 'masters', 'course']"
      ]
     },
     "execution_count": 132,
     "metadata": {},
     "output_type": "execute_result"
    }
   ],
   "source": [
    "lst"
   ]
  },
  {
   "cell_type": "markdown",
   "id": "5c1c5fa3-6e79-40ed-8450-5adb4e27254a",
   "metadata": {},
   "source": [
    "## pop() is also an inplace operation"
   ]
  },
  {
   "cell_type": "code",
   "execution_count": 133,
   "id": "a949514e-489d-4111-8536-054998817034",
   "metadata": {},
   "outputs": [
    {
     "data": {
      "text/plain": [
       "'masters'"
      ]
     },
     "execution_count": 133,
     "metadata": {},
     "output_type": "execute_result"
    }
   ],
   "source": [
    "lst.pop(3)"
   ]
  },
  {
   "cell_type": "code",
   "execution_count": 134,
   "id": "46fcaef0-68ff-42b6-9adf-4da5f56e521f",
   "metadata": {},
   "outputs": [
    {
     "data": {
      "text/plain": [
       "['PW', 'Data', 'Science', 'course']"
      ]
     },
     "execution_count": 134,
     "metadata": {},
     "output_type": "execute_result"
    }
   ],
   "source": [
    "lst"
   ]
  },
  {
   "cell_type": "code",
   "execution_count": 135,
   "id": "1919905f-70b5-4cfa-a3dc-c2bf35106b84",
   "metadata": {},
   "outputs": [],
   "source": [
    "var = lst.pop(3)"
   ]
  },
  {
   "cell_type": "code",
   "execution_count": 136,
   "id": "3ddf6c13-669c-46c8-b33d-af57cc97772e",
   "metadata": {},
   "outputs": [
    {
     "data": {
      "text/plain": [
       "'course'"
      ]
     },
     "execution_count": 136,
     "metadata": {},
     "output_type": "execute_result"
    }
   ],
   "source": [
    "var"
   ]
  },
  {
   "cell_type": "code",
   "execution_count": 137,
   "id": "5b068591-c1ce-420d-919f-a9dda05d069a",
   "metadata": {},
   "outputs": [
    {
     "ename": "IndexError",
     "evalue": "list index out of range",
     "output_type": "error",
     "traceback": [
      "\u001b[0;31m---------------------------------------------------------------------------\u001b[0m",
      "\u001b[0;31mIndexError\u001b[0m                                Traceback (most recent call last)",
      "Cell \u001b[0;32mIn[137], line 1\u001b[0m\n\u001b[0;32m----> 1\u001b[0m \u001b[43mlst\u001b[49m\u001b[43m[\u001b[49m\u001b[38;5;241;43m28\u001b[39;49m\u001b[43m]\u001b[49m\n",
      "\u001b[0;31mIndexError\u001b[0m: list index out of range"
     ]
    }
   ],
   "source": [
    "lst[28]"
   ]
  },
  {
   "cell_type": "code",
   "execution_count": 138,
   "id": "72f26225-2faf-481d-92d7-f66ee1fe9a32",
   "metadata": {},
   "outputs": [
    {
     "data": {
      "text/plain": [
       "['q', 'e', 'f', 's', 't', 'u']"
      ]
     },
     "execution_count": 138,
     "metadata": {},
     "output_type": "execute_result"
    }
   ],
   "source": [
    "newlst = [\"q\", \"e\", \"f\", \"s\", \"t\", \"u\"]\n",
    "newlst"
   ]
  },
  {
   "cell_type": "code",
   "execution_count": 139,
   "id": "ec15ff38-f0f3-4482-88e7-dcdc8e9efd62",
   "metadata": {},
   "outputs": [
    {
     "data": {
      "text/plain": [
       "['u', 't', 's', 'f', 'e', 'q']"
      ]
     },
     "execution_count": 139,
     "metadata": {},
     "output_type": "execute_result"
    }
   ],
   "source": [
    "newlst[::-1]"
   ]
  },
  {
   "cell_type": "code",
   "execution_count": 141,
   "id": "ce115a86-7ecd-4cda-9eda-bbed01edd83b",
   "metadata": {},
   "outputs": [],
   "source": [
    "newlst.reverse()"
   ]
  },
  {
   "cell_type": "code",
   "execution_count": 142,
   "id": "a70ca445-e6e6-4c21-831e-5b0adf509ca8",
   "metadata": {},
   "outputs": [
    {
     "data": {
      "text/plain": [
       "['q', 'e', 'f', 's', 't', 'u']"
      ]
     },
     "execution_count": 142,
     "metadata": {},
     "output_type": "execute_result"
    }
   ],
   "source": [
    "newlst"
   ]
  },
  {
   "cell_type": "markdown",
   "id": "4d565a01-ab83-4c48-97bd-09a761f0f93e",
   "metadata": {},
   "source": [
    "## reverse() is also a inplace operation"
   ]
  },
  {
   "cell_type": "markdown",
   "id": "9ba5a924-f3f8-41d9-8098-def7e78c2dbe",
   "metadata": {},
   "source": [
    "## sort() also"
   ]
  },
  {
   "cell_type": "code",
   "execution_count": 143,
   "id": "6d8d7ce1-a36e-4d4c-a3a1-d5f4dd3f025a",
   "metadata": {},
   "outputs": [],
   "source": [
    "newlst.sort()"
   ]
  },
  {
   "cell_type": "code",
   "execution_count": 144,
   "id": "9b0f14d4-7ded-4e09-be70-5e5156fa7bc8",
   "metadata": {},
   "outputs": [
    {
     "data": {
      "text/plain": [
       "['e', 'f', 'q', 's', 't', 'u']"
      ]
     },
     "execution_count": 144,
     "metadata": {},
     "output_type": "execute_result"
    }
   ],
   "source": [
    "newlst"
   ]
  },
  {
   "cell_type": "markdown",
   "id": "c56954fa-3373-410a-94c4-f7ad5c21ad53",
   "metadata": {},
   "source": [
    "### Nested list"
   ]
  },
  {
   "cell_type": "code",
   "execution_count": 145,
   "id": "17729d46-2ba3-461a-a3a8-accd13d0306f",
   "metadata": {},
   "outputs": [
    {
     "data": {
      "text/plain": [
       "['PW', 'Data', 'Science']"
      ]
     },
     "execution_count": 145,
     "metadata": {},
     "output_type": "execute_result"
    }
   ],
   "source": [
    "lst"
   ]
  },
  {
   "cell_type": "code",
   "execution_count": 146,
   "id": "ff14ebd3-36ef-4c0b-8ca6-e6ccc7944c78",
   "metadata": {},
   "outputs": [],
   "source": [
    "lst.append(['pw', 'skills'])"
   ]
  },
  {
   "cell_type": "code",
   "execution_count": 147,
   "id": "77721486-a44c-44f9-b493-84ea965be6d0",
   "metadata": {},
   "outputs": [
    {
     "data": {
      "text/plain": [
       "['PW', 'Data', 'Science', ['pw', 'skills']]"
      ]
     },
     "execution_count": 147,
     "metadata": {},
     "output_type": "execute_result"
    }
   ],
   "source": [
    "lst"
   ]
  },
  {
   "cell_type": "code",
   "execution_count": 148,
   "id": "6c19c2e2-7183-411e-b3d5-0108f1e4cf65",
   "metadata": {},
   "outputs": [],
   "source": [
    "lst.extend(['pw', 'skills'])"
   ]
  },
  {
   "cell_type": "code",
   "execution_count": 149,
   "id": "78925aca-b0df-4854-817e-87539f5a6a17",
   "metadata": {},
   "outputs": [
    {
     "data": {
      "text/plain": [
       "['PW', 'Data', 'Science', ['pw', 'skills'], 'pw', 'skills']"
      ]
     },
     "execution_count": 149,
     "metadata": {},
     "output_type": "execute_result"
    }
   ],
   "source": [
    "lst"
   ]
  },
  {
   "cell_type": "code",
   "execution_count": 152,
   "id": "40468c0f-20f9-4183-a0be-17076b267772",
   "metadata": {},
   "outputs": [
    {
     "ename": "NameError",
     "evalue": "name 'reverse' is not defined",
     "output_type": "error",
     "traceback": [
      "\u001b[0;31m---------------------------------------------------------------------------\u001b[0m",
      "\u001b[0;31mNameError\u001b[0m                                 Traceback (most recent call last)",
      "Cell \u001b[0;32mIn[152], line 1\u001b[0m\n\u001b[0;32m----> 1\u001b[0m lst\u001b[38;5;241m.\u001b[39msort(\u001b[43mreverse\u001b[49m \u001b[38;5;241m==\u001b[39m \u001b[38;5;28;01mTrue\u001b[39;00m)\n",
      "\u001b[0;31mNameError\u001b[0m: name 'reverse' is not defined"
     ]
    }
   ],
   "source": [
    "lst.sort(reverse == True)"
   ]
  },
  {
   "cell_type": "code",
   "execution_count": 153,
   "id": "adc5e619-5a67-4d41-a4d4-3b5749abde88",
   "metadata": {},
   "outputs": [],
   "source": [
    "lst_1 = [1, 2, 3]\n",
    "lst_2 = [4, 5, 6]\n",
    "lst_3 = [7, 8, 9]\n",
    "\n",
    "matrix = [lst_1, lst_2, lst_3]"
   ]
  },
  {
   "cell_type": "code",
   "execution_count": 154,
   "id": "ffebcc4c-5410-4d13-acde-75cd1ca4f361",
   "metadata": {},
   "outputs": [
    {
     "data": {
      "text/plain": [
       "[[1, 2, 3], [4, 5, 6], [7, 8, 9]]"
      ]
     },
     "execution_count": 154,
     "metadata": {},
     "output_type": "execute_result"
    }
   ],
   "source": [
    "matrix"
   ]
  },
  {
   "cell_type": "code",
   "execution_count": 155,
   "id": "3ad3b000-e220-4a4d-8f76-e4c4d03ff3b5",
   "metadata": {},
   "outputs": [
    {
     "data": {
      "text/plain": [
       "6"
      ]
     },
     "execution_count": 155,
     "metadata": {},
     "output_type": "execute_result"
    }
   ],
   "source": [
    "matrix[1][2]"
   ]
  },
  {
   "cell_type": "code",
   "execution_count": 156,
   "id": "78a3adfe-7dee-4232-9b99-3b0ffa479745",
   "metadata": {},
   "outputs": [
    {
     "data": {
      "text/plain": [
       "[8, 9]"
      ]
     },
     "execution_count": 156,
     "metadata": {},
     "output_type": "execute_result"
    }
   ],
   "source": [
    "matrix[2][1:]"
   ]
  },
  {
   "cell_type": "code",
   "execution_count": 157,
   "id": "e7c75db8-a40c-4064-b349-41a07bd4c03f",
   "metadata": {},
   "outputs": [
    {
     "data": {
      "text/plain": [
       "[[1, 2, 3], [4, 5, 6], [7, 8, 9]]"
      ]
     },
     "execution_count": 157,
     "metadata": {},
     "output_type": "execute_result"
    }
   ],
   "source": [
    "matrix[:]"
   ]
  },
  {
   "cell_type": "code",
   "execution_count": 161,
   "id": "272ad665-11cd-4b54-8555-6e70c6f65d35",
   "metadata": {},
   "outputs": [
    {
     "data": {
      "text/plain": [
       "[]"
      ]
     },
     "execution_count": 161,
     "metadata": {},
     "output_type": "execute_result"
    }
   ],
   "source": [
    "matrix[0:0][1:0][2:0]"
   ]
  },
  {
   "cell_type": "code",
   "execution_count": 162,
   "id": "27708b97-91d0-4149-b4cb-2181ffe601bf",
   "metadata": {},
   "outputs": [
    {
     "data": {
      "text/plain": [
       "['PW', 'Data', 'Science', ['pw', 'skills'], 'pw', 'skills']"
      ]
     },
     "execution_count": 162,
     "metadata": {},
     "output_type": "execute_result"
    }
   ],
   "source": [
    "lst"
   ]
  },
  {
   "cell_type": "code",
   "execution_count": 163,
   "id": "c0af161a-63b2-41d5-8537-63532c32f876",
   "metadata": {},
   "outputs": [
    {
     "data": {
      "text/plain": [
       "6"
      ]
     },
     "execution_count": 163,
     "metadata": {},
     "output_type": "execute_result"
    }
   ],
   "source": [
    "len(lst)"
   ]
  },
  {
   "cell_type": "markdown",
   "id": "ecc08c5a-cbda-4777-ad0f-0b807bacbe1e",
   "metadata": {},
   "source": [
    "### List Comprehension"
   ]
  },
  {
   "cell_type": "code",
   "execution_count": 164,
   "id": "230580b8-6a00-42e9-8105-73a67ccc85e3",
   "metadata": {},
   "outputs": [
    {
     "data": {
      "text/plain": [
       "[0, 1, 2, 3, 4, 5, 6, 7, 8, 9, 10, 11, 12, 13, 14, 15, 16, 17, 18, 19]"
      ]
     },
     "execution_count": 164,
     "metadata": {},
     "output_type": "execute_result"
    }
   ],
   "source": [
    "[i for i in range(20)]"
   ]
  },
  {
   "cell_type": "code",
   "execution_count": 171,
   "id": "6ccf819d-9325-4265-91c0-b2dd74c99850",
   "metadata": {},
   "outputs": [
    {
     "data": {
      "text/plain": [
       "[0,\n",
       " 'odd',\n",
       " 2,\n",
       " 'odd',\n",
       " 4,\n",
       " 'odd',\n",
       " 6,\n",
       " 'odd',\n",
       " 8,\n",
       " 'odd',\n",
       " 10,\n",
       " 'odd',\n",
       " 12,\n",
       " 'odd',\n",
       " 14,\n",
       " 'odd',\n",
       " 16,\n",
       " 'odd',\n",
       " 18,\n",
       " 'odd']"
      ]
     },
     "execution_count": 171,
     "metadata": {},
     "output_type": "execute_result"
    }
   ],
   "source": [
    "[i if i%2==0 else \"odd\" for i in range(0, 20)]"
   ]
  },
  {
   "cell_type": "code",
   "execution_count": 174,
   "id": "cc199029-255c-4720-b694-37877d64ba27",
   "metadata": {},
   "outputs": [
    {
     "name": "stdout",
     "output_type": "stream",
     "text": [
      "12\n",
      "9\n"
     ]
    }
   ],
   "source": [
    "lst = [1, 2, 3, 4, 5, 6]\n",
    "\n",
    "sumodd=0\n",
    "sumeven=0\n",
    "for i in lst:\n",
    "    if i%2==0:\n",
    "        sumeven = sumeven + i\n",
    "    else:\n",
    "        sumodd = sumodd + i\n",
    "        \n",
    "print(sumeven)\n",
    "print(sumodd)"
   ]
  },
  {
   "cell_type": "code",
   "execution_count": 175,
   "id": "372ac055-6952-4f6c-9061-987a0f2d2505",
   "metadata": {},
   "outputs": [],
   "source": [
    "even_sum = sum([num for num in lst if num%2==0])"
   ]
  },
  {
   "cell_type": "code",
   "execution_count": 176,
   "id": "2bbabc63-09c5-45b8-abe3-2a6194fef4e4",
   "metadata": {},
   "outputs": [
    {
     "name": "stdout",
     "output_type": "stream",
     "text": [
      "12\n"
     ]
    }
   ],
   "source": [
    "print(even_sum)"
   ]
  },
  {
   "cell_type": "code",
   "execution_count": 179,
   "id": "975add4e-3ad0-4814-a065-110e04cb7fd3",
   "metadata": {},
   "outputs": [],
   "source": [
    "odd_sum = sum([num for num in lst if num%2!=0])"
   ]
  },
  {
   "cell_type": "code",
   "execution_count": 180,
   "id": "43aecc11-e398-495c-b9c1-869ac67ba30f",
   "metadata": {},
   "outputs": [
    {
     "name": "stdout",
     "output_type": "stream",
     "text": [
      "9\n"
     ]
    }
   ],
   "source": [
    "print(odd_sum)"
   ]
  },
  {
   "cell_type": "code",
   "execution_count": 181,
   "id": "d9ac204a-4cf5-40ec-af56-19a6256f0274",
   "metadata": {},
   "outputs": [
    {
     "data": {
      "text/plain": [
       "[1, 4, 9, 16, 25, 36]"
      ]
     },
     "execution_count": 181,
     "metadata": {},
     "output_type": "execute_result"
    }
   ],
   "source": [
    "[num**2 for num in lst]"
   ]
  },
  {
   "cell_type": "code",
   "execution_count": 183,
   "id": "c896dc29-0b4a-4e17-a66f-37c3cccb2ce0",
   "metadata": {},
   "outputs": [
    {
     "data": {
      "text/plain": [
       "['a', 'm', 'b', 's']"
      ]
     },
     "execution_count": 183,
     "metadata": {},
     "output_type": "execute_result"
    }
   ],
   "source": [
    "words = [\"apple\", \"mango\", \"banana\", \"shampoo\"]\n",
    "[word[0] for word in words]"
   ]
  },
  {
   "cell_type": "code",
   "execution_count": 184,
   "id": "2e2a07d8-16ba-495f-a566-63d3a93ca082",
   "metadata": {},
   "outputs": [
    {
     "data": {
      "text/plain": [
       "[149.0, 109.4, 73.4, 152.60000000000002, 181.4]"
      ]
     },
     "execution_count": 184,
     "metadata": {},
     "output_type": "execute_result"
    }
   ],
   "source": [
    "tempincels = [65, 43, 23, 67, 83]\n",
    "[(9/5)*temp + 32 for temp in tempincels]"
   ]
  },
  {
   "cell_type": "code",
   "execution_count": 192,
   "id": "2889b653-581c-4e05-8fda-57fc2688ba25",
   "metadata": {},
   "outputs": [],
   "source": [
    "lst = [[1, 2, 3], [4, 5, 6], [7, 8, 9]]"
   ]
  },
  {
   "cell_type": "code",
   "execution_count": 193,
   "id": "bd99b5fb-45bd-44a0-b8fa-ceb45f9054b6",
   "metadata": {},
   "outputs": [
    {
     "data": {
      "text/plain": [
       "[1, 2, 3, 4, 5, 6, 7, 8, 9]"
      ]
     },
     "execution_count": 193,
     "metadata": {},
     "output_type": "execute_result"
    }
   ],
   "source": [
    "[j for i in lst for j in i]"
   ]
  },
  {
   "cell_type": "code",
   "execution_count": null,
   "id": "8f91a68e-0a02-4a25-a433-3007274ccec4",
   "metadata": {},
   "outputs": [],
   "source": []
  }
 ],
 "metadata": {
  "kernelspec": {
   "display_name": "Python 3 (ipykernel)",
   "language": "python",
   "name": "python3"
  },
  "language_info": {
   "codemirror_mode": {
    "name": "ipython",
    "version": 3
   },
   "file_extension": ".py",
   "mimetype": "text/x-python",
   "name": "python",
   "nbconvert_exporter": "python",
   "pygments_lexer": "ipython3",
   "version": "3.10.8"
  }
 },
 "nbformat": 4,
 "nbformat_minor": 5
}
