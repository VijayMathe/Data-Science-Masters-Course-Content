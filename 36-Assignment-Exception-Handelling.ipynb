{
 "cells": [
  {
   "cell_type": "markdown",
   "id": "bcbd2095-1052-44cf-807a-0cb41899f8e5",
   "metadata": {},
   "source": [
    "## Q1. What is an exception in python? write a difference between axceptions and syntax errors."
   ]
  },
  {
   "cell_type": "markdown",
   "id": "e80246d4-3244-4c79-810c-63f67247dcf8",
   "metadata": {},
   "source": [
    "### Ans:"
   ]
  },
  {
   "cell_type": "markdown",
   "id": "190dabba-2770-4750-925b-a68ec1cfa5cd",
   "metadata": {},
   "source": [
    "### whenever some part of a code in pyhton has an error it raiser an error called the exception\n",
    "### An exception is an event, which occurs during the execution of a program that disrupts the normal flow of the program's instructions.\n",
    "### when we forgot to give an indentation or when we accidentally do some spelling mistake in python keywords then there will be an syntax error."
   ]
  },
  {
   "cell_type": "code",
   "execution_count": null,
   "id": "241a65e1-6dc0-488f-a053-bc8a36e8724e",
   "metadata": {},
   "outputs": [],
   "source": []
  },
  {
   "cell_type": "markdown",
   "id": "c35a0e79-f950-47bd-a680-6a9f7e424714",
   "metadata": {},
   "source": [
    "## Q2. What happens when an exception is not handelled ? Explain with an example"
   ]
  },
  {
   "cell_type": "markdown",
   "id": "82f4bcc3-fb5e-46b7-8664-dcff9e5183af",
   "metadata": {},
   "source": [
    "### Ans:"
   ]
  },
  {
   "cell_type": "markdown",
   "id": "907216ad-cb1d-4889-8fed-8c667860d430",
   "metadata": {},
   "source": [
    "### If we don't handell a exception the while running the code the compiler will give an exception and the program will stop running\n",
    "### All the statements after that exception will not be executed\n",
    "### Bellow is the code for an example"
   ]
  },
  {
   "cell_type": "code",
   "execution_count": 11,
   "id": "5869d35a-6f99-4936-b9d3-e321e87d04d7",
   "metadata": {},
   "outputs": [
    {
     "name": "stdout",
     "output_type": "stream",
     "text": [
      "9\n",
      "my name is vijay\n"
     ]
    }
   ],
   "source": [
    "f = open(\"text.txt\", \"w\")\n",
    "a = 9\n",
    "print(a)\n",
    "print(\"my name is vijay\")"
   ]
  },
  {
   "cell_type": "code",
   "execution_count": null,
   "id": "21281a61-241d-4938-a455-b531a3f63286",
   "metadata": {},
   "outputs": [],
   "source": []
  },
  {
   "cell_type": "markdown",
   "id": "267d551c-3d62-49b5-af5c-7661a1ccfc3f",
   "metadata": {},
   "source": [
    "## Q3 Which python statements are used to catch and handel exceptions? Explain with an example"
   ]
  },
  {
   "cell_type": "markdown",
   "id": "ff51802d-5ae7-4541-bc51-f75c21ab47b4",
   "metadata": {},
   "source": [
    "### Ans:"
   ]
  },
  {
   "cell_type": "markdown",
   "id": "4f75d095-8869-4276-8abc-a8217ba85e20",
   "metadata": {},
   "source": [
    "### Bellow statements are use to handle the exceptions in python\n",
    "### try\n",
    "### except\n",
    "### else\n",
    "### finally"
   ]
  },
  {
   "cell_type": "markdown",
   "id": "1abe7834-2b1a-458e-a851-bb1926af4081",
   "metadata": {},
   "source": [
    "### Bellow is the example"
   ]
  },
  {
   "cell_type": "code",
   "execution_count": 12,
   "id": "837c3c05-be8b-4750-ac3f-a71d135a0521",
   "metadata": {},
   "outputs": [
    {
     "name": "stdout",
     "output_type": "stream",
     "text": [
      "It is not possible to divide 10 by 0\n",
      "this finallt statement will always excecute\n"
     ]
    }
   ],
   "source": [
    "try:\n",
    "    10/0\n",
    "except:\n",
    "    print(\"It is not possible to divide 10 by 0\")\n",
    "else:\n",
    "    print(\"this is else\")\n",
    "finally:\n",
    "    print(\"this finallt statement will always excecute\")"
   ]
  },
  {
   "cell_type": "code",
   "execution_count": null,
   "id": "330b96e9-a97c-420a-acb0-ac787597c82e",
   "metadata": {},
   "outputs": [],
   "source": []
  },
  {
   "cell_type": "markdown",
   "id": "8a9429fa-518d-43f4-92bd-f3ce98abf38c",
   "metadata": {},
   "source": [
    "## Q4 Explain with an examle\n",
    "## try and else\n",
    "## finally\n",
    "## raise"
   ]
  },
  {
   "cell_type": "code",
   "execution_count": 13,
   "id": "71782df9-979c-4911-a0c4-d574cada6948",
   "metadata": {},
   "outputs": [
    {
     "name": "stdout",
     "output_type": "stream",
     "text": [
      "It is not possible to divide 10 by 0\n"
     ]
    }
   ],
   "source": [
    "try:\n",
    "    10/0\n",
    "except:\n",
    "    print(\"It is not possible to divide 10 by 0\")\n",
    "else:\n",
    "    print(\"this is else\")"
   ]
  },
  {
   "cell_type": "code",
   "execution_count": 14,
   "id": "ab20e777-3d9c-4e36-949e-6e78cb84e919",
   "metadata": {},
   "outputs": [
    {
     "name": "stdout",
     "output_type": "stream",
     "text": [
      "It is not possible to divide 10 by 0\n",
      "this finallt statement will always excecute\n"
     ]
    }
   ],
   "source": [
    "try:\n",
    "    10/0\n",
    "except:\n",
    "    print(\"It is not possible to divide 10 by 0\")\n",
    "else:\n",
    "    print(\"this is else\")\n",
    "finally:\n",
    "    print(\"this finallt statement will always excecute\")"
   ]
  },
  {
   "cell_type": "markdown",
   "id": "2413fb43-2756-4acb-a7ac-5a0682b31dd6",
   "metadata": {},
   "source": [
    "### The finally block will always be excecuted whether thire is any exception or not"
   ]
  },
  {
   "cell_type": "markdown",
   "id": "364d8652-374b-4269-b251-81220a6d73f4",
   "metadata": {},
   "source": [
    "## Q5. What are the custome exceptions in python ? Why do we need custome exceptions ? Explain with an example"
   ]
  },
  {
   "cell_type": "markdown",
   "id": "2687b4a1-bb5c-42d9-bd0c-b242590f7bc0",
   "metadata": {},
   "source": [
    "### Ans;\n",
    "### Custome exceptions are the exceptions which we manually handle if they occur"
   ]
  },
  {
   "cell_type": "markdown",
   "id": "56d93465-889d-49bb-9036-6c492489091f",
   "metadata": {},
   "source": [
    "### Bellow is the example to one of the custome exception"
   ]
  },
  {
   "cell_type": "code",
   "execution_count": 15,
   "id": "dbb3e178-d747-4696-9599-e633d6e4de7b",
   "metadata": {},
   "outputs": [],
   "source": [
    "def validate(Exception):\n",
    "    def __init__(self, msg):\n",
    "        self.msg = msg"
   ]
  },
  {
   "cell_type": "code",
   "execution_count": 16,
   "id": "89a5fef5-1844-4db8-8023-ea5b11c6fc55",
   "metadata": {},
   "outputs": [],
   "source": [
    "def validate_age(age):\n",
    "    if age < 0:\n",
    "        raise validate(\"age should not be negative\")\n",
    "    elif age > 120:\n",
    "        raise validate(\"Age should not be greater than 120\")\n",
    "    else:\n",
    "        print(\"age is valid\")"
   ]
  },
  {
   "cell_type": "code",
   "execution_count": 18,
   "id": "5dc26032-53a8-4863-a9f6-0729fe2c5064",
   "metadata": {},
   "outputs": [
    {
     "name": "stdin",
     "output_type": "stream",
     "text": [
      "Enter your age 55\n"
     ]
    },
    {
     "name": "stdout",
     "output_type": "stream",
     "text": [
      "age is valid\n"
     ]
    }
   ],
   "source": [
    "try:\n",
    "    age = int(input(\"Enter your age\"))\n",
    "    validate_age(age)\n",
    "except validate as e:\n",
    "    print(e)"
   ]
  },
  {
   "cell_type": "markdown",
   "id": "7c0cbbf1-9709-4026-8fad-f3d2246727c3",
   "metadata": {},
   "source": [
    "## Q6. Create an custome exception class. use this class to handle an exception"
   ]
  },
  {
   "cell_type": "markdown",
   "id": "6d86c37c-e309-40f2-af28-17197c1eb780",
   "metadata": {},
   "source": [
    "### Ans: \n",
    "### Below is the code which creates a custome exception class use that class to handle an exception"
   ]
  },
  {
   "cell_type": "code",
   "execution_count": 19,
   "id": "86ad44a5-8311-4780-b506-8559984639f2",
   "metadata": {},
   "outputs": [],
   "source": [
    "class handle_Exception:\n",
    "    def validate(Exception):\n",
    "        def __init__(self, msg):\n",
    "            self.msg = msg\n",
    "            \n",
    "    def validate_age(age):\n",
    "        if age < 0:\n",
    "            raise validate(\"age should not be negative\")\n",
    "        elif age > 120:\n",
    "            raise validate(\"Age should not be greater than 120\")\n",
    "        else:\n",
    "            print(\"age is valid\")"
   ]
  },
  {
   "cell_type": "code",
   "execution_count": 20,
   "id": "e1cbd46c-1a60-4736-93cc-4aaf19ac68d4",
   "metadata": {},
   "outputs": [],
   "source": [
    "obj = handle_Exception"
   ]
  },
  {
   "cell_type": "code",
   "execution_count": 22,
   "id": "ddd25a62-b686-4e29-96f1-a6486e2abfcd",
   "metadata": {},
   "outputs": [
    {
     "name": "stdin",
     "output_type": "stream",
     "text": [
      "Enter your age 55\n"
     ]
    },
    {
     "name": "stdout",
     "output_type": "stream",
     "text": [
      "age is valid\n"
     ]
    }
   ],
   "source": [
    "try:\n",
    "    age = int(input(\"Enter your age\"))\n",
    "    obj.validate_age(age)\n",
    "except obj.validate as e:\n",
    "    print(e)"
   ]
  },
  {
   "cell_type": "code",
   "execution_count": null,
   "id": "653ebbd7-03d6-4ce4-8b33-e25d8fd20b7c",
   "metadata": {},
   "outputs": [],
   "source": []
  }
 ],
 "metadata": {
  "kernelspec": {
   "display_name": "Python 3 (ipykernel)",
   "language": "python",
   "name": "python3"
  },
  "language_info": {
   "codemirror_mode": {
    "name": "ipython",
    "version": 3
   },
   "file_extension": ".py",
   "mimetype": "text/x-python",
   "name": "python",
   "nbconvert_exporter": "python",
   "pygments_lexer": "ipython3",
   "version": "3.10.8"
  }
 },
 "nbformat": 4,
 "nbformat_minor": 5
}
