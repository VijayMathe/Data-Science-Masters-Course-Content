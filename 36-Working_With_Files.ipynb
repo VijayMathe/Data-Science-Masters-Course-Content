{
 "cells": [
  {
   "cell_type": "code",
   "execution_count": 34,
   "id": "4cf0d12d-832d-420c-9140-d1ecc23a676e",
   "metadata": {},
   "outputs": [],
   "source": [
    "f = open(\"text.txt\", \"w\")"
   ]
  },
  {
   "cell_type": "code",
   "execution_count": 35,
   "id": "122ec09d-9452-4ba0-8220-a4483e61baa7",
   "metadata": {},
   "outputs": [
    {
     "data": {
      "text/plain": [
       "'/home/jovyan/work'"
      ]
     },
     "execution_count": 35,
     "metadata": {},
     "output_type": "execute_result"
    }
   ],
   "source": [
    "pwd"
   ]
  },
  {
   "cell_type": "code",
   "execution_count": 36,
   "id": "f256d50a-1d22-440a-b6a7-688420723f20",
   "metadata": {},
   "outputs": [
    {
     "name": "stdout",
     "output_type": "stream",
     "text": [
      "new_text.txt  README.md  sample-code.ipynb  text.txt  Working_With_Files.ipynb\n"
     ]
    }
   ],
   "source": [
    "ls"
   ]
  },
  {
   "cell_type": "code",
   "execution_count": 37,
   "id": "6a0a789e-287b-4934-8ca9-6c8fa20b1106",
   "metadata": {},
   "outputs": [
    {
     "data": {
      "text/plain": [
       "38"
      ]
     },
     "execution_count": 37,
     "metadata": {},
     "output_type": "execute_result"
    }
   ],
   "source": [
    "f.write(\"THis is the first statement in my file\")"
   ]
  },
  {
   "cell_type": "code",
   "execution_count": 38,
   "id": "46aa7729-cbbf-423b-8882-8437951eb9a0",
   "metadata": {},
   "outputs": [],
   "source": [
    "f.close()"
   ]
  },
  {
   "cell_type": "markdown",
   "id": "3b3fdfcf-d20e-4ab5-a447-cd22f91d206b",
   "metadata": {},
   "source": [
    "### if we open a file in \"w\" mod eonly the after avery close the previous data will be erased\n",
    "### If we don't want to erase the previous data then we have to open the file in \"wa\" Mode"
   ]
  },
  {
   "cell_type": "code",
   "execution_count": 39,
   "id": "a78faee8-bd3d-4ea2-9411-5d9c38a82801",
   "metadata": {},
   "outputs": [],
   "source": [
    "data = open(\"text.txt\", \"r\")"
   ]
  },
  {
   "cell_type": "code",
   "execution_count": 40,
   "id": "482ed370-c4f2-4f67-81a7-47d99aef3067",
   "metadata": {},
   "outputs": [
    {
     "data": {
      "text/plain": [
       "'THis is the first statement in my file'"
      ]
     },
     "execution_count": 40,
     "metadata": {},
     "output_type": "execute_result"
    }
   ],
   "source": [
    "data.read()"
   ]
  },
  {
   "cell_type": "code",
   "execution_count": 41,
   "id": "daad32f9-b981-475f-a7bf-1b51d5ec9e21",
   "metadata": {},
   "outputs": [
    {
     "data": {
      "text/plain": [
       "''"
      ]
     },
     "execution_count": 41,
     "metadata": {},
     "output_type": "execute_result"
    }
   ],
   "source": [
    "data.read()"
   ]
  },
  {
   "cell_type": "markdown",
   "id": "9430f82b-6bd4-4a22-8b2c-7a1b1affe568",
   "metadata": {},
   "source": [
    "### After reading first time the cursor in the file will be at the last point of the data\n",
    "### that is why at the second time while reading the data in the same file it will sho blank"
   ]
  },
  {
   "cell_type": "code",
   "execution_count": 42,
   "id": "f5d24fd5-79c5-4566-ae31-3a61cd72f3c1",
   "metadata": {},
   "outputs": [
    {
     "data": {
      "text/plain": [
       "10"
      ]
     },
     "execution_count": 42,
     "metadata": {},
     "output_type": "execute_result"
    }
   ],
   "source": [
    "data.seek(10)"
   ]
  },
  {
   "cell_type": "code",
   "execution_count": 43,
   "id": "8c56c41c-7dda-4d8e-ab64-91f0a67d9345",
   "metadata": {},
   "outputs": [
    {
     "data": {
      "text/plain": [
       "'e first statement in my file'"
      ]
     },
     "execution_count": 43,
     "metadata": {},
     "output_type": "execute_result"
    }
   ],
   "source": [
    "data.read()"
   ]
  },
  {
   "cell_type": "markdown",
   "id": "1a2ec3e9-dbd7-4c49-a9de-d29a9f1e044c",
   "metadata": {},
   "source": [
    "### seek() is used to set the position of the cursor the the file"
   ]
  },
  {
   "cell_type": "code",
   "execution_count": 44,
   "id": "63c8571a-ab09-4072-94c1-ad999f0c13e3",
   "metadata": {},
   "outputs": [],
   "source": [
    "data1 = open(\"text.txt\", \"r\")"
   ]
  },
  {
   "cell_type": "code",
   "execution_count": 45,
   "id": "859774e8-9890-4a41-8df8-a910319c575e",
   "metadata": {},
   "outputs": [
    {
     "name": "stdout",
     "output_type": "stream",
     "text": [
      "THis is the first statement in my file\n"
     ]
    }
   ],
   "source": [
    "for i in data1:\n",
    "    print(i)"
   ]
  },
  {
   "cell_type": "code",
   "execution_count": 46,
   "id": "1356a414-aae8-474f-9288-2362dde20dfc",
   "metadata": {},
   "outputs": [],
   "source": [
    "import os"
   ]
  },
  {
   "cell_type": "code",
   "execution_count": 47,
   "id": "f39089fe-fb8b-4c2e-bbf4-d8b2277748f6",
   "metadata": {},
   "outputs": [
    {
     "data": {
      "text/plain": [
       "38"
      ]
     },
     "execution_count": 47,
     "metadata": {},
     "output_type": "execute_result"
    }
   ],
   "source": [
    "os.path.getsize(\"text.txt\")"
   ]
  },
  {
   "cell_type": "code",
   "execution_count": 48,
   "id": "bc51dadf-a6c7-488d-8d6a-2a1aa3946fe4",
   "metadata": {},
   "outputs": [],
   "source": [
    "import shutil"
   ]
  },
  {
   "cell_type": "code",
   "execution_count": 49,
   "id": "a949959f-fdf4-4ea6-9c3f-5dc749e1f40a",
   "metadata": {},
   "outputs": [
    {
     "data": {
      "text/plain": [
       "'new_text.txt'"
      ]
     },
     "execution_count": 49,
     "metadata": {},
     "output_type": "execute_result"
    }
   ],
   "source": [
    "shutil.copy(\"text.txt\", \"new_text.txt\")"
   ]
  },
  {
   "cell_type": "code",
   "execution_count": 50,
   "id": "03253fa3-3221-423b-af04-5a75bf5bb255",
   "metadata": {},
   "outputs": [],
   "source": [
    "os.remove(\"text.txt\")"
   ]
  },
  {
   "cell_type": "code",
   "execution_count": 51,
   "id": "eeb623ed-7849-497c-8c0b-859a05e13681",
   "metadata": {},
   "outputs": [
    {
     "name": "stdout",
     "output_type": "stream",
     "text": [
      "THis is the first statement in my file\n"
     ]
    }
   ],
   "source": [
    "with open(\"new_text.txt\", \"r\") as f:\n",
    "    print(f.read())"
   ]
  },
  {
   "cell_type": "code",
   "execution_count": 54,
   "id": "36a26c8f-452d-471a-a1d9-3ef675e05161",
   "metadata": {},
   "outputs": [
    {
     "ename": "FileNotFoundError",
     "evalue": "[Errno 2] No such file or directory: 'new_text.txt' -> 'test1.txt'",
     "output_type": "error",
     "traceback": [
      "\u001b[0;31m---------------------------------------------------------------------------\u001b[0m",
      "\u001b[0;31mFileNotFoundError\u001b[0m                         Traceback (most recent call last)",
      "Cell \u001b[0;32mIn[54], line 1\u001b[0m\n\u001b[0;32m----> 1\u001b[0m \u001b[43mos\u001b[49m\u001b[38;5;241;43m.\u001b[39;49m\u001b[43mrename\u001b[49m\u001b[43m(\u001b[49m\u001b[38;5;124;43m\"\u001b[39;49m\u001b[38;5;124;43mnew_text.txt\u001b[39;49m\u001b[38;5;124;43m\"\u001b[39;49m\u001b[43m,\u001b[49m\u001b[43m \u001b[49m\u001b[38;5;124;43m\"\u001b[39;49m\u001b[38;5;124;43mtest1.txt\u001b[39;49m\u001b[38;5;124;43m\"\u001b[39;49m\u001b[43m)\u001b[49m\n",
      "\u001b[0;31mFileNotFoundError\u001b[0m: [Errno 2] No such file or directory: 'new_text.txt' -> 'test1.txt'"
     ]
    }
   ],
   "source": [
    "os.rename(\"new_text.txt\", \"test1.txt\")"
   ]
  },
  {
   "cell_type": "code",
   "execution_count": null,
   "id": "6b4cda93-5731-4869-bddf-b1229eebd203",
   "metadata": {},
   "outputs": [],
   "source": []
  }
 ],
 "metadata": {
  "kernelspec": {
   "display_name": "Python 3 (ipykernel)",
   "language": "python",
   "name": "python3"
  },
  "language_info": {
   "codemirror_mode": {
    "name": "ipython",
    "version": 3
   },
   "file_extension": ".py",
   "mimetype": "text/x-python",
   "name": "python",
   "nbconvert_exporter": "python",
   "pygments_lexer": "ipython3",
   "version": "3.10.8"
  }
 },
 "nbformat": 4,
 "nbformat_minor": 5
}
