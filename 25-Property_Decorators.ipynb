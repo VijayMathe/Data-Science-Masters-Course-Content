{
 "cells": [
  {
   "cell_type": "markdown",
   "id": "6b49c4dc-fce7-4427-aa4f-1f4140b84364",
   "metadata": {},
   "source": [
    "### The meaning of double underscore before variable name is to make the variable as a private variable"
   ]
  },
  {
   "cell_type": "code",
   "execution_count": 27,
   "id": "8f17aa10-4100-4c25-8570-06f80b39e6a7",
   "metadata": {},
   "outputs": [],
   "source": [
    "class pwskills:\n",
    "    def __init__(self, course_price, course_name):\n",
    "        self.__course_price = course_price\n",
    "        self.course_name = course_name\n",
    "    \n",
    "    @property\n",
    "    def course_price_access(self):\n",
    "        return self.__course_price\n",
    "    \n",
    "    @course_price_access.setter\n",
    "    def course_price_set(self, price):\n",
    "        if price <= 3500:\n",
    "            pass\n",
    "        else:\n",
    "            self.__course_price = price\n",
    "            \n",
    "    @course_price_access.deleter\n",
    "    def course_price_delete(self):\n",
    "        del self.__course_price"
   ]
  },
  {
   "cell_type": "code",
   "execution_count": 28,
   "id": "cd565461-9480-4f64-8ec0-9baf06e261fe",
   "metadata": {},
   "outputs": [],
   "source": [
    "pw = pwskills(3500, \"data Science Masters\")"
   ]
  },
  {
   "cell_type": "code",
   "execution_count": 29,
   "id": "268cb641-4f89-4d53-955b-039cd4fc3fc3",
   "metadata": {},
   "outputs": [
    {
     "data": {
      "text/plain": [
       "'data Science Masters'"
      ]
     },
     "execution_count": 29,
     "metadata": {},
     "output_type": "execute_result"
    }
   ],
   "source": [
    "pw.course_name"
   ]
  },
  {
   "cell_type": "code",
   "execution_count": 30,
   "id": "166e42fe-8596-4fdf-9a3a-dd0e0d9e1d13",
   "metadata": {},
   "outputs": [
    {
     "data": {
      "text/plain": [
       "3500"
      ]
     },
     "execution_count": 30,
     "metadata": {},
     "output_type": "execute_result"
    }
   ],
   "source": [
    "pw._pwskills__course_price"
   ]
  },
  {
   "cell_type": "markdown",
   "id": "a9379469-f8d1-43ec-829d-1d3c1927c633",
   "metadata": {},
   "source": [
    "### Important things\n",
    "### Double underscore means private \n",
    "### Single underscore means protected\n",
    "### No underscore means public"
   ]
  },
  {
   "cell_type": "code",
   "execution_count": 31,
   "id": "ae212a51-a2a8-49b6-8d14-7ba463d7601a",
   "metadata": {},
   "outputs": [
    {
     "data": {
      "text/plain": [
       "3500"
      ]
     },
     "execution_count": 31,
     "metadata": {},
     "output_type": "execute_result"
    }
   ],
   "source": [
    "pw.course_price_access"
   ]
  },
  {
   "cell_type": "markdown",
   "id": "e11d9f41-2483-4dcd-b4aa-38e6141a707c",
   "metadata": {},
   "source": [
    "### The function of a proparty decorator is to make a private proparty to be accessable by the outer world"
   ]
  },
  {
   "cell_type": "markdown",
   "id": "31be80a4-b2dc-414a-90c3-3c89af665423",
   "metadata": {},
   "source": [
    "### If we have to make user to be able to set a private proparty's value then we have to use the setter method"
   ]
  },
  {
   "cell_type": "code",
   "execution_count": 32,
   "id": "5fa06f4e-40a8-47f8-8dff-69ae611be631",
   "metadata": {},
   "outputs": [],
   "source": [
    "pw.course_price_set = 2300"
   ]
  },
  {
   "cell_type": "code",
   "execution_count": 33,
   "id": "cba316cc-2212-41be-a633-2bca4038f0f5",
   "metadata": {},
   "outputs": [
    {
     "data": {
      "text/plain": [
       "'data Science Masters'"
      ]
     },
     "execution_count": 33,
     "metadata": {},
     "output_type": "execute_result"
    }
   ],
   "source": [
    "pw.course_name"
   ]
  },
  {
   "cell_type": "code",
   "execution_count": 34,
   "id": "c4c58ddf-d171-48c3-ad83-dd7c3d27f9c8",
   "metadata": {},
   "outputs": [
    {
     "data": {
      "text/plain": [
       "3500"
      ]
     },
     "execution_count": 34,
     "metadata": {},
     "output_type": "execute_result"
    }
   ],
   "source": [
    "pw._pwskills__course_price"
   ]
  },
  {
   "cell_type": "code",
   "execution_count": 35,
   "id": "b9a44bb7-08c2-4ec3-b695-8129ef64b459",
   "metadata": {},
   "outputs": [],
   "source": [
    "pw.course_price_set = 4000"
   ]
  },
  {
   "cell_type": "code",
   "execution_count": 36,
   "id": "f697b618-7683-4723-999e-aad379840eeb",
   "metadata": {},
   "outputs": [
    {
     "data": {
      "text/plain": [
       "4000"
      ]
     },
     "execution_count": 36,
     "metadata": {},
     "output_type": "execute_result"
    }
   ],
   "source": [
    "pw._pwskills__course_price"
   ]
  },
  {
   "cell_type": "code",
   "execution_count": 37,
   "id": "ed945301-2a1d-4faf-89df-367068db73f7",
   "metadata": {},
   "outputs": [],
   "source": [
    "del pw.course_price_delete"
   ]
  },
  {
   "cell_type": "code",
   "execution_count": 38,
   "id": "365945e2-0253-4568-9749-4f7bad5f9a2c",
   "metadata": {},
   "outputs": [
    {
     "ename": "AttributeError",
     "evalue": "'pwskills' object has no attribute '_pwskills__course_price'",
     "output_type": "error",
     "traceback": [
      "\u001b[0;31m---------------------------------------------------------------------------\u001b[0m",
      "\u001b[0;31mAttributeError\u001b[0m                            Traceback (most recent call last)",
      "Cell \u001b[0;32mIn[38], line 1\u001b[0m\n\u001b[0;32m----> 1\u001b[0m \u001b[43mpw\u001b[49m\u001b[38;5;241;43m.\u001b[39;49m\u001b[43m_pwskills__course_price\u001b[49m\n",
      "\u001b[0;31mAttributeError\u001b[0m: 'pwskills' object has no attribute '_pwskills__course_price'"
     ]
    }
   ],
   "source": [
    "pw._pwskills__course_price"
   ]
  },
  {
   "cell_type": "code",
   "execution_count": null,
   "id": "4ea193e5-19ee-4135-8a4f-6e306dbaaf9f",
   "metadata": {},
   "outputs": [],
   "source": []
  }
 ],
 "metadata": {
  "kernelspec": {
   "display_name": "Python 3 (ipykernel)",
   "language": "python",
   "name": "python3"
  },
  "language_info": {
   "codemirror_mode": {
    "name": "ipython",
    "version": 3
   },
   "file_extension": ".py",
   "mimetype": "text/x-python",
   "name": "python",
   "nbconvert_exporter": "python",
   "pygments_lexer": "ipython3",
   "version": "3.10.8"
  }
 },
 "nbformat": 4,
 "nbformat_minor": 5
}
