{
 "cells": [
  {
   "cell_type": "markdown",
   "id": "ba84cf82-3e4e-4682-a993-0901ae60c476",
   "metadata": {},
   "source": [
    "### Single Inheritance"
   ]
  },
  {
   "cell_type": "code",
   "execution_count": 7,
   "id": "7813c859-f83c-4c53-9229-acaafaa894fd",
   "metadata": {},
   "outputs": [],
   "source": [
    "class class1:\n",
    "    def method1():\n",
    "        print(\"This is my class 1\")\n",
    "        \n",
    "class class2(class1):\n",
    "    def method2():\n",
    "        print(\"This is my class 2\")"
   ]
  },
  {
   "cell_type": "code",
   "execution_count": 8,
   "id": "f3895e73-1604-41aa-86b2-1b874bfe1e99",
   "metadata": {},
   "outputs": [
    {
     "name": "stdout",
     "output_type": "stream",
     "text": [
      "This is my class 1\n"
     ]
    }
   ],
   "source": [
    "class2_obj = class2\n",
    "class2_obj.method1()"
   ]
  },
  {
   "cell_type": "markdown",
   "id": "177ea8b3-c37a-427a-a3c5-6d6d52e2d77d",
   "metadata": {},
   "source": [
    "### Multiline Inheritance"
   ]
  },
  {
   "cell_type": "code",
   "execution_count": 1,
   "id": "d0c097ac-62ad-4b27-9ebe-b2888bd0e01d",
   "metadata": {},
   "outputs": [],
   "source": [
    "class class1:\n",
    "    def method1():\n",
    "        print(\"This is my class 1\")\n",
    "        \n",
    "class class2(class1):\n",
    "    def method2():\n",
    "        print(\"This is my class 2\")\n",
    "        \n",
    "class class3(class2):\n",
    "    def method3():\n",
    "        print(\"This is my class 3\")"
   ]
  },
  {
   "cell_type": "code",
   "execution_count": 2,
   "id": "19e222d1-ed95-47db-b4cc-019360a5bf70",
   "metadata": {},
   "outputs": [
    {
     "name": "stdout",
     "output_type": "stream",
     "text": [
      "This is my class 1\n"
     ]
    }
   ],
   "source": [
    "class3_obj = class3\n",
    "class3_obj.method1()"
   ]
  },
  {
   "cell_type": "markdown",
   "id": "ed52b6b0-bcb8-4cb5-a692-26f6fa109e76",
   "metadata": {},
   "source": [
    "### Hirarchial Inheritance"
   ]
  },
  {
   "cell_type": "code",
   "execution_count": 3,
   "id": "fd093fbf-6c62-41ad-afe3-8ea58a20c077",
   "metadata": {},
   "outputs": [],
   "source": [
    "class class1:\n",
    "    def method1():\n",
    "        print(\"This in my class 1\")\n",
    "        \n",
    "class class2(class1):\n",
    "    def method2():\n",
    "        print(\"This in my class 2\")\n",
    "        \n",
    "class class3(class1):\n",
    "    def method3():\n",
    "        print(\"This in my class 3\")\n",
    "        "
   ]
  },
  {
   "cell_type": "code",
   "execution_count": 4,
   "id": "4ef69c47-21da-46f6-a18b-7e475a3701dc",
   "metadata": {},
   "outputs": [
    {
     "name": "stdout",
     "output_type": "stream",
     "text": [
      "This in my class 1\n"
     ]
    }
   ],
   "source": [
    "class3_obj = class3\n",
    "class3_obj.method1()"
   ]
  },
  {
   "cell_type": "markdown",
   "id": "dc8bac94-5a19-4b85-b0b7-3844ee401437",
   "metadata": {},
   "source": [
    "### Multiple Inheritance"
   ]
  },
  {
   "cell_type": "code",
   "execution_count": 5,
   "id": "789e87ed-d6b0-4093-b592-f863c082f528",
   "metadata": {},
   "outputs": [],
   "source": [
    "class class1:\n",
    "    def method1():\n",
    "        print(\"This in my class 1\")\n",
    "        \n",
    "class class2():\n",
    "    def method2():\n",
    "        print(\"This in my class 2\")\n",
    "        \n",
    "class class3(class1, class2):\n",
    "    def method3():\n",
    "        print(\"This in my class 3\")"
   ]
  },
  {
   "cell_type": "code",
   "execution_count": 6,
   "id": "18f8e78c-4f59-4a38-bc75-e06827ecb5d3",
   "metadata": {},
   "outputs": [
    {
     "name": "stdout",
     "output_type": "stream",
     "text": [
      "This in my class 1\n",
      "This in my class 2\n"
     ]
    }
   ],
   "source": [
    "class3_obj = class3\n",
    "class3_obj.method1()\n",
    "class3_obj.method2()"
   ]
  },
  {
   "cell_type": "code",
   "execution_count": null,
   "id": "81857ca4-ffae-4238-88d8-4e00dfc14a77",
   "metadata": {},
   "outputs": [],
   "source": []
  }
 ],
 "metadata": {
  "kernelspec": {
   "display_name": "Python 3 (ipykernel)",
   "language": "python",
   "name": "python3"
  },
  "language_info": {
   "codemirror_mode": {
    "name": "ipython",
    "version": 3
   },
   "file_extension": ".py",
   "mimetype": "text/x-python",
   "name": "python",
   "nbconvert_exporter": "python",
   "pygments_lexer": "ipython3",
   "version": "3.10.8"
  }
 },
 "nbformat": 4,
 "nbformat_minor": 5
}
