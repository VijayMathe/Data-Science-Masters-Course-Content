{
 "cells": [
  {
   "cell_type": "code",
   "execution_count": 1,
   "id": "19cce4ba-4203-4743-bfb9-8c9268b37bd4",
   "metadata": {},
   "outputs": [],
   "source": [
    "age = 22"
   ]
  },
  {
   "cell_type": "code",
   "execution_count": 2,
   "id": "78ee3cc1-4176-460e-8ff3-ccffb467b1b7",
   "metadata": {},
   "outputs": [
    {
     "data": {
      "text/plain": [
       "22"
      ]
     },
     "execution_count": 2,
     "metadata": {},
     "output_type": "execute_result"
    }
   ],
   "source": [
    "age"
   ]
  },
  {
   "cell_type": "code",
   "execution_count": 4,
   "id": "ec4c0be1-0b99-42c6-b717-582ab6e242f2",
   "metadata": {},
   "outputs": [
    {
     "name": "stdin",
     "output_type": "stream",
     "text": [
      " 44\n"
     ]
    },
    {
     "name": "stdout",
     "output_type": "stream",
     "text": [
      "your age is : 44\n"
     ]
    }
   ],
   "source": [
    "age = int(input())\n",
    "print(\"your age is :\",age)"
   ]
  },
  {
   "cell_type": "code",
   "execution_count": 6,
   "id": "a960eabd-4941-448f-880f-0777127ab26b",
   "metadata": {},
   "outputs": [
    {
     "name": "stdin",
     "output_type": "stream",
     "text": [
      " 22\n"
     ]
    },
    {
     "name": "stdout",
     "output_type": "stream",
     "text": [
      "You are yongster\n"
     ]
    }
   ],
   "source": [
    "age = int(input())\n",
    "\n",
    "if age>=18 and age<=45:\n",
    "    print(\"You are yongster\")\n",
    "else:\n",
    "    print(\"rejected\")"
   ]
  },
  {
   "cell_type": "code",
   "execution_count": 14,
   "id": "a4681750-1b82-4883-8ac2-939559c19c5d",
   "metadata": {},
   "outputs": [
    {
     "name": "stdin",
     "output_type": "stream",
     "text": [
      " 500\n"
     ]
    },
    {
     "name": "stdout",
     "output_type": "stream",
     "text": [
      "30% off\n",
      "150.0\n"
     ]
    }
   ],
   "source": [
    "PP = int(input())\n",
    "\n",
    "if PP>=1000:\n",
    "    print(\"20% off\")\n",
    "    print(PP - PP*0.2)\n",
    "elif PP <=1000:\n",
    "    print(\"30% off\")\n",
    "    print(PP - PP * 0.7)"
   ]
  },
  {
   "cell_type": "code",
   "execution_count": null,
   "id": "0e229414-e35f-443c-8f81-add51c90e023",
   "metadata": {},
   "outputs": [],
   "source": [
    "PP = int(input())\n",
    "\n",
    "if PP<=1000 and PP<=2000:\n",
    "    print(\"0% off\")"
   ]
  },
  {
   "cell_type": "markdown",
   "id": "bd4ad340-d5ba-4aee-9813-4dd17dbb4e69",
   "metadata": {},
   "source": [
    "# Loops Stetments"
   ]
  },
  {
   "cell_type": "code",
   "execution_count": 16,
   "id": "2de1d6a2-e2f1-40c4-a8f2-fef5a9d889bc",
   "metadata": {},
   "outputs": [],
   "source": [
    "joining_age = 21"
   ]
  },
  {
   "cell_type": "code",
   "execution_count": 17,
   "id": "4c1da8de-0c48-4d97-bf5e-e6a0f368de54",
   "metadata": {},
   "outputs": [
    {
     "data": {
      "text/plain": [
       "21"
      ]
     },
     "execution_count": 17,
     "metadata": {},
     "output_type": "execute_result"
    }
   ],
   "source": [
    "joining_age"
   ]
  },
  {
   "cell_type": "code",
   "execution_count": 27,
   "id": "3d66a7ac-38d0-4e2c-b454-fe28a3c57460",
   "metadata": {},
   "outputs": [
    {
     "name": "stdout",
     "output_type": "stream",
     "text": [
      "25\n",
      "26\n",
      "27\n",
      "28\n",
      "29\n",
      "30\n",
      "31\n",
      "32\n",
      "33\n",
      "34\n",
      "35\n",
      "36\n",
      "37\n",
      "38\n",
      "39\n",
      "40\n",
      "41\n",
      "42\n",
      "43\n",
      "44\n",
      "45\n",
      "46\n",
      "47\n",
      "48\n",
      "49\n",
      "50\n",
      "51\n",
      "52\n",
      "53\n",
      "54\n",
      "55\n",
      "56\n",
      "57\n",
      "58\n",
      "59\n",
      "60\n",
      "time to retire\n"
     ]
    }
   ],
   "source": [
    "joining_age = 25\n",
    "while joining_age <= 60:\n",
    "    print(joining_age)\n",
    "    joining_age = joining_age+1\n",
    "else:\n",
    "    print(\"time to retire\")"
   ]
  },
  {
   "cell_type": "code",
   "execution_count": 26,
   "id": "5c242786-234c-458d-be0d-325a594db912",
   "metadata": {},
   "outputs": [
    {
     "name": "stdout",
     "output_type": "stream",
     "text": [
      "1000\n",
      "900\n",
      "800\n",
      "700\n",
      "600\n",
      "500\n",
      "400\n",
      "300\n",
      "200\n",
      "100\n",
      "ATM is empty\n"
     ]
    }
   ],
   "source": [
    "### Atm machine with 1000 rs\n",
    "\n",
    "total_amount = 1000\n",
    "\n",
    "while total_amount != 0:\n",
    "    print(total_amount)\n",
    "    total_amount = total_amount -100\n",
    "    \n",
    "else:\n",
    "    print(\"ATM is empty\")"
   ]
  },
  {
   "cell_type": "markdown",
   "id": "f3a8e859-e668-4c46-bbde-04d2dbb684e0",
   "metadata": {},
   "source": [
    "# For Loop"
   ]
  },
  {
   "cell_type": "code",
   "execution_count": 28,
   "id": "78ab1a7e-3e23-4932-a947-6b37ddb9e166",
   "metadata": {},
   "outputs": [],
   "source": [
    "lst = [\"vijay\", 2, 4, 5, \"mathe\", \"sangwa\"]"
   ]
  },
  {
   "cell_type": "code",
   "execution_count": 29,
   "id": "7d401eac-4e72-49ff-8fbb-640bb21d5923",
   "metadata": {},
   "outputs": [
    {
     "data": {
      "text/plain": [
       "['vijay', 2, 4, 5, 'mathe', 'sangwa']"
      ]
     },
     "execution_count": 29,
     "metadata": {},
     "output_type": "execute_result"
    }
   ],
   "source": [
    "lst"
   ]
  },
  {
   "cell_type": "code",
   "execution_count": 30,
   "id": "b0719dc2-7100-408b-824c-abdadd447a83",
   "metadata": {},
   "outputs": [
    {
     "data": {
      "text/plain": [
       "list"
      ]
     },
     "execution_count": 30,
     "metadata": {},
     "output_type": "execute_result"
    }
   ],
   "source": [
    "type(lst)"
   ]
  },
  {
   "cell_type": "code",
   "execution_count": 31,
   "id": "0b0f23ad-5528-49cf-a4a8-cf402429b8b7",
   "metadata": {},
   "outputs": [
    {
     "name": "stdout",
     "output_type": "stream",
     "text": [
      "6\n"
     ]
    }
   ],
   "source": [
    "print(len(lst))"
   ]
  },
  {
   "cell_type": "code",
   "execution_count": 32,
   "id": "dea8f63f-38c1-462f-8109-18cd7daab8bf",
   "metadata": {},
   "outputs": [
    {
     "name": "stdout",
     "output_type": "stream",
     "text": [
      "5\n"
     ]
    }
   ],
   "source": [
    "print(len(\"vijay\"))"
   ]
  },
  {
   "cell_type": "code",
   "execution_count": 33,
   "id": "604a4cfe-a98c-4c20-ab61-3436817fa5b0",
   "metadata": {},
   "outputs": [
    {
     "name": "stdout",
     "output_type": "stream",
     "text": [
      "vijay\n",
      "2\n",
      "4\n",
      "5\n",
      "mathe\n",
      "sangwa\n"
     ]
    }
   ],
   "source": [
    "for x in lst:\n",
    "    print(x)"
   ]
  },
  {
   "cell_type": "code",
   "execution_count": 46,
   "id": "c8fe718c-a050-4691-a468-689e8905cedb",
   "metadata": {},
   "outputs": [
    {
     "name": "stdout",
     "output_type": "stream",
     "text": [
      "<class 'set'>\n"
     ]
    }
   ],
   "source": [
    "fruits = {\"banana\", \"mango\", \"cherry\", \"apple\", \"strauberry\"}\n",
    "print(type(fruits))"
   ]
  },
  {
   "cell_type": "code",
   "execution_count": 35,
   "id": "ad223445-8a0d-4ab0-9896-195f30fe3304",
   "metadata": {},
   "outputs": [
    {
     "name": "stdout",
     "output_type": "stream",
     "text": [
      "<class 'tuple'>\n"
     ]
    }
   ],
   "source": [
    "ruits = (\"banana\", \"mango\", \"cherry\")\n",
    "print(type(ruits))"
   ]
  },
  {
   "cell_type": "code",
   "execution_count": 42,
   "id": "7d07ceb5-9dbe-4eb2-bec5-a23bea495915",
   "metadata": {},
   "outputs": [
    {
     "name": "stdout",
     "output_type": "stream",
     "text": [
      "cherry\n",
      "the fruit is cherry\n",
      "banana\n",
      "strauberry\n",
      "mango\n",
      "apple\n"
     ]
    }
   ],
   "source": [
    "for a in fruits:\n",
    "    print(a)\n",
    "    if a == \"cherry\":\n",
    "        print(\"the fruit is cherry\")"
   ]
  },
  {
   "cell_type": "code",
   "execution_count": 43,
   "id": "3e475646-9bc1-4025-8439-8ac5050ac714",
   "metadata": {},
   "outputs": [
    {
     "data": {
      "text/plain": [
       "'vijay'"
      ]
     },
     "execution_count": 43,
     "metadata": {},
     "output_type": "execute_result"
    }
   ],
   "source": [
    "lst[0]"
   ]
  },
  {
   "cell_type": "code",
   "execution_count": 48,
   "id": "8e39094f-b80d-43e6-8934-21b19112c979",
   "metadata": {},
   "outputs": [
    {
     "ename": "TypeError",
     "evalue": "'set' object is not subscriptable",
     "output_type": "error",
     "traceback": [
      "\u001b[0;31m---------------------------------------------------------------------------\u001b[0m",
      "\u001b[0;31mTypeError\u001b[0m                                 Traceback (most recent call last)",
      "Cell \u001b[0;32mIn[48], line 1\u001b[0m\n\u001b[0;32m----> 1\u001b[0m \u001b[43mfruits\u001b[49m\u001b[43m[\u001b[49m\u001b[38;5;241;43m3\u001b[39;49m\u001b[43m]\u001b[49m\n",
      "\u001b[0;31mTypeError\u001b[0m: 'set' object is not subscriptable"
     ]
    }
   ],
   "source": [
    "fruits[3]"
   ]
  },
  {
   "cell_type": "markdown",
   "id": "d32a80f2-a871-4f76-bc5c-8428af31743b",
   "metadata": {},
   "source": [
    "## Nested loops"
   ]
  },
  {
   "cell_type": "code",
   "execution_count": 49,
   "id": "54e52730-0bc1-4c95-bc98-4639f5e97410",
   "metadata": {},
   "outputs": [],
   "source": [
    "n = 7"
   ]
  },
  {
   "cell_type": "code",
   "execution_count": 55,
   "id": "580e834a-56c3-47cd-878a-c4a5992db773",
   "metadata": {},
   "outputs": [
    {
     "name": "stdout",
     "output_type": "stream",
     "text": [
      "-11\n",
      "-9\n",
      "-7\n",
      "-5\n",
      "-3\n",
      "-1\n",
      "1\n",
      "3\n",
      "5\n",
      "7\n",
      "9\n"
     ]
    }
   ],
   "source": [
    "for i in range(-11, 10, 2):\n",
    "    print(i)"
   ]
  },
  {
   "cell_type": "markdown",
   "id": "df00cdac-6cb1-4871-8db9-402ad5535a28",
   "metadata": {},
   "source": [
    "### pattern"
   ]
  },
  {
   "cell_type": "code",
   "execution_count": 60,
   "id": "e4c1ccc5-ae01-4c1b-a27c-1b9a368de460",
   "metadata": {},
   "outputs": [
    {
     "name": "stdout",
     "output_type": "stream",
     "text": [
      "*\n",
      "**\n",
      "***\n",
      "****\n",
      "*****\n",
      "******\n",
      "*******\n"
     ]
    }
   ],
   "source": [
    "\n",
    "for i in range(0, n):\n",
    "    for j in range(0, i+1):\n",
    "        print(\"*\", end=\"\")\n",
    "    print(\"\\r\")\n",
    "    "
   ]
  },
  {
   "cell_type": "code",
   "execution_count": 67,
   "id": "97233185-a7a4-4ce7-a901-6ae290bccbcf",
   "metadata": {},
   "outputs": [
    {
     "name": "stdout",
     "output_type": "stream",
     "text": [
      "***********\n",
      "\n",
      "\n",
      "\n",
      "\n",
      "\n",
      "\n",
      "\n",
      "\n",
      "\n"
     ]
    }
   ],
   "source": [
    "n = 10\n",
    "for i in range(0, n):\n",
    "    for j in range(0, n+1):\n",
    "        print(\"*\", end=\"\")\n",
    "        n = n - 1\n",
    "    print(\"\\r\")\n",
    "    "
   ]
  },
  {
   "cell_type": "code",
   "execution_count": 73,
   "id": "ecc56fae-c40d-4afb-9f8d-b832353065ca",
   "metadata": {},
   "outputs": [
    {
     "name": "stdout",
     "output_type": "stream",
     "text": [
      " \n",
      "v\n",
      " \n",
      "*v\n",
      " \n",
      "**v\n",
      " \n",
      "***v\n",
      " \n",
      "****v\n",
      " \n",
      "v\n",
      " \n",
      "*v\n",
      " \n",
      "**v\n",
      " \n",
      "***v\n",
      " \n",
      "****v\n",
      " \n",
      "v\n",
      " \n",
      "*v\n",
      " \n",
      "**v\n",
      " \n",
      "***v\n",
      " \n",
      "****v\n",
      " \n",
      "v\n",
      " \n",
      "*v\n",
      " \n",
      "**v\n",
      " \n",
      "***v\n",
      " \n",
      "****v\n",
      " \n",
      "v\n",
      " \n",
      "*v\n",
      " \n",
      "**v\n",
      " \n",
      "***v\n",
      " \n",
      "****v\n",
      " \n",
      "v\n",
      " \n",
      "*v\n",
      " \n",
      "**v\n",
      " \n",
      "***v\n",
      " \n",
      "****v\n",
      " \n",
      "v\n",
      " \n",
      "*v\n",
      " \n",
      "**v\n",
      " \n",
      "***v\n",
      " \n",
      "****v\n",
      " \n",
      "v\n",
      " \n",
      "*v\n",
      " \n",
      "**v\n",
      " \n",
      "***v\n",
      " \n",
      "****v\n",
      " \n",
      "v\n",
      " \n",
      "*v\n",
      " \n",
      "**v\n",
      " \n",
      "***v\n",
      " \n",
      "****v\n",
      " \n",
      "v\n",
      " \n",
      "*v\n",
      " \n",
      "**v\n",
      " \n",
      "***v\n",
      " \n",
      "****v\n"
     ]
    }
   ],
   "source": [
    "n = 10\n",
    "\n",
    "for i in range(0, n):\n",
    "    for i in range(0, 5):\n",
    "        print(\" \")\n",
    "        for i in range(0, i):\n",
    "            print(\"*\", end=\"\")\n",
    "        print(\"v\")\n",
    "    "
   ]
  },
  {
   "cell_type": "code",
   "execution_count": 77,
   "id": "9eabd87c-ccfd-4119-8cf7-77dfab987689",
   "metadata": {},
   "outputs": [
    {
     "name": "stdout",
     "output_type": "stream",
     "text": [
      "vijay\n",
      "2\n",
      "4\n",
      "5\n",
      "mathe\n",
      "sangwa\n"
     ]
    }
   ],
   "source": [
    "for i in lst:\n",
    "    print(i)\n",
    "    if i == 4:\n",
    "        "
   ]
  },
  {
   "cell_type": "markdown",
   "id": "94407fe1-7e33-49b0-86d1-9b6f5929becf",
   "metadata": {},
   "source": [
    "## Patterns"
   ]
  },
  {
   "cell_type": "code",
   "execution_count": 86,
   "id": "b65b4491-4add-46a1-b1fd-2e7e49f1dff0",
   "metadata": {},
   "outputs": [
    {
     "name": "stdout",
     "output_type": "stream",
     "text": [
      "******\n",
      "*****\n",
      "****\n",
      "***\n",
      "**\n",
      "*\n"
     ]
    }
   ],
   "source": [
    "n = 5\n",
    "for i in range(0, n+1):\n",
    "    for j in range(0, n-i+1):\n",
    "        print(\"*\", end=\"\")\n",
    "    print(\"\")\n",
    "        "
   ]
  },
  {
   "cell_type": "markdown",
   "id": "b66f6dea-ec4d-4717-ab91-655df4c2d2ea",
   "metadata": {},
   "source": [
    "### Half dimond"
   ]
  },
  {
   "cell_type": "code",
   "execution_count": 89,
   "id": "b3d93f97-dcaf-4a83-90f8-8ca379483936",
   "metadata": {},
   "outputs": [
    {
     "name": "stdout",
     "output_type": "stream",
     "text": [
      "     \n",
      "    *\n",
      "   ***\n",
      "  *****\n",
      " *******\n",
      "*********\n"
     ]
    }
   ],
   "source": [
    "n = 5\n",
    "for i in range(0, n+1):\n",
    "    for j in range(0, n-i):\n",
    "        print(\" \", end=\"\")\n",
    "    for k in range(0, (2*i)-1):\n",
    "        print(\"*\", end=\"\")\n",
    "    print(\"\")"
   ]
  },
  {
   "cell_type": "markdown",
   "id": "2fd728c6-d695-4f47-8475-59c907f0d916",
   "metadata": {},
   "source": [
    "### Dimond Pattern"
   ]
  },
  {
   "cell_type": "code",
   "execution_count": 99,
   "id": "2be0e8f0-e3fa-45ea-8366-dc098ca3b592",
   "metadata": {},
   "outputs": [
    {
     "name": "stdout",
     "output_type": "stream",
     "text": [
      "     \n",
      "    *\n",
      "   ***\n",
      "  *****\n",
      " *******\n",
      "*********\n",
      "*********\n",
      " *******\n",
      "  *****\n",
      "   ***\n",
      "    *\n"
     ]
    }
   ],
   "source": [
    "n = 5\n",
    "for i in range(0, n+1):\n",
    "    for j in range(0, n-i):\n",
    "        print(\" \", end=\"\")\n",
    "    for k in range(0, (2*i)-1):\n",
    "        print(\"*\", end=\"\")\n",
    "    print(\"\")\n",
    "    \n",
    "for i in range(n, 0, -1):\n",
    "    for j in range(0, n-i):\n",
    "        print(\" \", end=\"\")\n",
    "    for k in range(0, (2*i)-1):\n",
    "        print(\"*\", end=\"\")\n",
    "    print(\"\")"
   ]
  },
  {
   "cell_type": "code",
   "execution_count": 108,
   "id": "7e639080-a8fe-4eb6-9d5f-ef1fe6d65dc8",
   "metadata": {},
   "outputs": [
    {
     "name": "stdout",
     "output_type": "stream",
     "text": [
      "          **********\n",
      "         *********\n",
      "        ********\n",
      "       *******\n",
      "      ******\n",
      "     *****\n",
      "    ****\n",
      "   ***\n",
      "  **\n",
      " *\n"
     ]
    }
   ],
   "source": [
    "n = 10\n",
    "\n",
    "for i in range(0, n):\n",
    "    for j in range(0, n-i):\n",
    "        print(\" \", end=\"\")\n",
    "    for k in range(0, n-i):\n",
    "        print(\"*\",end=\"\")\n",
    "    print(\"\")"
   ]
  },
  {
   "cell_type": "code",
   "execution_count": 109,
   "id": "8ca5a6a1-64d6-4d14-b5b9-eabadf0fc984",
   "metadata": {},
   "outputs": [
    {
     "name": "stdout",
     "output_type": "stream",
     "text": [
      "**********\n",
      " *********\n",
      "  ********\n",
      "   *******\n",
      "    ******\n",
      "     *****\n",
      "      ****\n",
      "       ***\n",
      "        **\n",
      "         *\n"
     ]
    }
   ],
   "source": [
    "for i in range(0, n):\n",
    "    for j in range(0, i):\n",
    "        print(\" \", end=\"\")\n",
    "    for k in range(0, n-i):\n",
    "        print(\"*\", end=\"\")\n",
    "    print(\"\")"
   ]
  },
  {
   "cell_type": "code",
   "execution_count": 113,
   "id": "6d1a55da-1777-4dd7-893c-19f7f72f985d",
   "metadata": {},
   "outputs": [
    {
     "name": "stdout",
     "output_type": "stream",
     "text": [
      "<class 'list'>\n",
      "<class 'set'>\n",
      "<class 'tuple'>\n",
      "java\n",
      "panda\n"
     ]
    }
   ],
   "source": [
    "lst = [\"mango\", \"python\", \"panda\", \"java\", \"theta\", \"cpp\"]\n",
    "st = {\"mango\", \"python\", \"panda\", \"java\", \"theta\", \"cpp\"}\n",
    "touple = (\"mango\", \"python\", \"panda\", \"java\", \"theta\", \"cpp\")\n",
    "\n",
    "print(type(lst))\n",
    "print(type(st))\n",
    "print(type(touple))\n",
    "\n",
    "print(lst[3])\n",
    "# print(st[2]) ## Not possible\n",
    "print(touple[2])"
   ]
  },
  {
   "cell_type": "code",
   "execution_count": null,
   "id": "40ef830c-b27e-4cb7-a305-5642fbc0b60d",
   "metadata": {},
   "outputs": [],
   "source": []
  }
 ],
 "metadata": {
  "kernelspec": {
   "display_name": "Python 3 (ipykernel)",
   "language": "python",
   "name": "python3"
  },
  "language_info": {
   "codemirror_mode": {
    "name": "ipython",
    "version": 3
   },
   "file_extension": ".py",
   "mimetype": "text/x-python",
   "name": "python",
   "nbconvert_exporter": "python",
   "pygments_lexer": "ipython3",
   "version": "3.10.8"
  }
 },
 "nbformat": 4,
 "nbformat_minor": 5
}
