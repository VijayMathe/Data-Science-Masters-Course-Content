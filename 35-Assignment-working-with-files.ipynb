{
 "cells": [
  {
   "cell_type": "markdown",
   "id": "6f92f868-caef-45de-8c31-d34f4e0f3734",
   "metadata": {},
   "source": [
    "## Q1. Which function is used to open a file? What are the different modes of opening a file? Explain each mode of file opening."
   ]
  },
  {
   "cell_type": "markdown",
   "id": "21a2aa79-6414-4bfd-beeb-d0b0fc21cc7f",
   "metadata": {},
   "source": [
    "### Ans:"
   ]
  },
  {
   "cell_type": "markdown",
   "id": "eef9c8d4-50f6-43e4-8156-cf065a6b8566",
   "metadata": {},
   "source": [
    "### The open() function is used to open any file in python\n",
    "### There are two modes to open the file these are 'r' and 'w' \n",
    "### 'r' means we are going to open the file in read mode\n",
    "### 'w' means we are going to write somethoing inside the file"
   ]
  },
  {
   "cell_type": "code",
   "execution_count": null,
   "id": "3e81bf99-646c-44eb-b616-849a33940baa",
   "metadata": {},
   "outputs": [],
   "source": []
  },
  {
   "cell_type": "markdown",
   "id": "3681de4a-1ae2-475c-91d2-673fd74e3500",
   "metadata": {},
   "source": [
    "## Q2. Why close() function is used? Why is it important to close a file?"
   ]
  },
  {
   "cell_type": "markdown",
   "id": "810437c7-f996-4f95-aa9e-689826438d0f",
   "metadata": {},
   "source": [
    "### Ans:"
   ]
  },
  {
   "cell_type": "markdown",
   "id": "45d5ee2d-5cf1-4788-b443-37a779112b78",
   "metadata": {},
   "source": [
    "### The close() function is used to close the current file \n",
    "### One of the mejor advantage of closing the file is the statements which we written inside the file will be vissible in the file only if at the end we close that file\n",
    "### If we open any file then we must close that file to see the results in the file"
   ]
  },
  {
   "cell_type": "code",
   "execution_count": null,
   "id": "003e7283-e3f5-4082-877b-e75dd757de0f",
   "metadata": {},
   "outputs": [],
   "source": []
  },
  {
   "cell_type": "markdown",
   "id": "1dfd2fd5-f96f-48d9-be1d-02cf628cb814",
   "metadata": {},
   "source": [
    "## Q3. Write a python program to create a text file. Write ‘I want to become a Data Scientist’ in that file. Then close the file. Open this file and read the content of the file."
   ]
  },
  {
   "cell_type": "markdown",
   "id": "eced03c4-e7b0-4d01-8209-74fa96e83ddd",
   "metadata": {},
   "source": [
    "### Ans:\n",
    "### Below is the code that will creat one text file and also will write in that file"
   ]
  },
  {
   "cell_type": "code",
   "execution_count": 2,
   "id": "dd3463a4-a6eb-497f-a371-c39d654cfb77",
   "metadata": {},
   "outputs": [
    {
     "data": {
      "text/plain": [
       "33"
      ]
     },
     "execution_count": 4,
     "metadata": {},
     "output_type": "execute_result"
    }
   ],
   "source": [
    "f = open(\"text.txt\", \"w\")\n",
    "f.write(\"I want to become a data scientist\")\n",
    "f.close()"
   ]
  },
  {
   "cell_type": "markdown",
   "id": "0909b986-323f-4efe-88f6-c450701957ea",
   "metadata": {},
   "source": [
    "## Q4. Explain the following with python code: read(), readline() and readlines()."
   ]
  },
  {
   "cell_type": "markdown",
   "id": "251df1ed-4f19-4510-9657-7de7b615c2e7",
   "metadata": {},
   "source": [
    "### Ans:"
   ]
  },
  {
   "cell_type": "markdown",
   "id": "0bae01fc-74d1-45cc-b40f-e4ff99354b36",
   "metadata": {},
   "source": [
    "### The read function will read all the content of the file\n",
    "### The readline method takes one parameter size, the default value for the size parameter is -1.\n",
    "### The readlines method takes one parameter i.e hint, the default value for the hint parameter is -1. It means that the method will return all the lines. "
   ]
  },
  {
   "cell_type": "code",
   "execution_count": 27,
   "id": "8000ff35-b35d-4d20-83c5-77e45fdbf3e3",
   "metadata": {},
   "outputs": [
    {
     "data": {
      "text/plain": [
       "'hello i am vijay mathe'"
      ]
     },
     "execution_count": 27,
     "metadata": {},
     "output_type": "execute_result"
    }
   ],
   "source": [
    "file = open(\"text3.txt\", \"r\")\n",
    "file.read()"
   ]
  },
  {
   "cell_type": "code",
   "execution_count": 28,
   "id": "87cae3bd-662f-4270-9d7c-af29574312a5",
   "metadata": {},
   "outputs": [
    {
     "data": {
      "text/plain": [
       "'hello i am vijay mathe'"
      ]
     },
     "execution_count": 28,
     "metadata": {},
     "output_type": "execute_result"
    }
   ],
   "source": [
    "file = open(\"text3.txt\", \"r\")\n",
    "file.readline()"
   ]
  },
  {
   "cell_type": "code",
   "execution_count": 29,
   "id": "285b537b-6470-4f8b-bedd-cc378c304a91",
   "metadata": {},
   "outputs": [
    {
     "data": {
      "text/plain": [
       "['hello i am vijay mathe']"
      ]
     },
     "execution_count": 29,
     "metadata": {},
     "output_type": "execute_result"
    }
   ],
   "source": [
    "file = open(\"text3.txt\", \"r\")\n",
    "file.readlines()"
   ]
  },
  {
   "cell_type": "code",
   "execution_count": null,
   "id": "ab4490d9-c179-4d2e-acfb-55ddaae9517b",
   "metadata": {},
   "outputs": [],
   "source": []
  },
  {
   "cell_type": "markdown",
   "id": "8f2a792a-7e6e-4409-aa33-9b7ce0f364f8",
   "metadata": {},
   "source": [
    "## Q5. Explain why with statement is used with open(). What is the advantage of using with statement and open() together?"
   ]
  },
  {
   "cell_type": "markdown",
   "id": "459ca3ea-cf76-4e8f-8c1a-e6ea11d7fa82",
   "metadata": {},
   "source": [
    "### Ans:\n",
    "### Unlike open() where we have to close the file with the close() method, the with statement closes the file automatically."
   ]
  },
  {
   "cell_type": "code",
   "execution_count": null,
   "id": "d3330cca-dd72-47a0-9228-2598853d7eb8",
   "metadata": {},
   "outputs": [],
   "source": []
  },
  {
   "cell_type": "markdown",
   "id": "e41521b7-5f5a-401d-bac2-9b3d6253b210",
   "metadata": {},
   "source": [
    "## Q6. Explain the write() and writelines() functions. Give a suitable example."
   ]
  },
  {
   "cell_type": "markdown",
   "id": "ce5d0f22-1989-47d1-ab39-f8584270035b",
   "metadata": {},
   "source": [
    "### The only difference between the write() and writelines() is that write() is used to write a string to an already opened file while writelines() method is used to write a list of strings in an opened file."
   ]
  },
  {
   "cell_type": "markdown",
   "id": "f3729ab3-46a7-45a0-b3cd-df1a884c9b22",
   "metadata": {},
   "source": [
    "### Bellow is the example code"
   ]
  },
  {
   "cell_type": "code",
   "execution_count": 32,
   "id": "f422685a-5bea-452d-b332-8916d9fe03ba",
   "metadata": {},
   "outputs": [],
   "source": [
    "file1 = open(\"text4.txt\", \"w\")\n",
    "file1.write(\"I want to become a data scientist\")\n",
    "file1.writelines(\"This is writelines command\")\n",
    "file1.close()"
   ]
  },
  {
   "cell_type": "code",
   "execution_count": null,
   "id": "584ace19-1be6-490e-bdb6-28c2886c06b3",
   "metadata": {},
   "outputs": [],
   "source": []
  }
 ],
 "metadata": {
  "kernelspec": {
   "display_name": "Python 3 (ipykernel)",
   "language": "python",
   "name": "python3"
  },
  "language_info": {
   "codemirror_mode": {
    "name": "ipython",
    "version": 3
   },
   "file_extension": ".py",
   "mimetype": "text/x-python",
   "name": "python",
   "nbconvert_exporter": "python",
   "pygments_lexer": "ipython3",
   "version": "3.10.8"
  }
 },
 "nbformat": 4,
 "nbformat_minor": 5
}
