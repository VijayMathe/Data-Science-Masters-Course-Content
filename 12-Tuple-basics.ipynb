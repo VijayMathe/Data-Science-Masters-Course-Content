{
 "cells": [
  {
   "cell_type": "code",
   "execution_count": 32,
   "id": "a1af9a7c-b9c1-49d6-8fc1-966c3cb18e42",
   "metadata": {},
   "outputs": [],
   "source": [
    "t1 = (1, 2, 3, 4, 5, 6, \"Vijay\", \"Mathe\", 45.6)"
   ]
  },
  {
   "cell_type": "code",
   "execution_count": 33,
   "id": "7164154a-e2df-456e-b206-1cad4af568a4",
   "metadata": {},
   "outputs": [
    {
     "data": {
      "text/plain": [
       "(1, 2, 3, 4, 5, 6, 'Vijay', 'Mathe', 45.6)"
      ]
     },
     "execution_count": 33,
     "metadata": {},
     "output_type": "execute_result"
    }
   ],
   "source": [
    "t1"
   ]
  },
  {
   "cell_type": "code",
   "execution_count": 34,
   "id": "f76401a2-ec9c-479b-b69f-4da62af6e41b",
   "metadata": {},
   "outputs": [
    {
     "data": {
      "text/plain": [
       "tuple"
      ]
     },
     "execution_count": 34,
     "metadata": {},
     "output_type": "execute_result"
    }
   ],
   "source": [
    "type(t1)"
   ]
  },
  {
   "cell_type": "code",
   "execution_count": 37,
   "id": "8d31647f-1a80-4299-9df6-6a03535867ef",
   "metadata": {},
   "outputs": [],
   "source": [
    "l1 = [2, 4, 6, 7]"
   ]
  },
  {
   "cell_type": "code",
   "execution_count": 38,
   "id": "8fe1374a-c4df-4dc1-8c1f-76ac1f9accdb",
   "metadata": {},
   "outputs": [
    {
     "data": {
      "text/plain": [
       "list"
      ]
     },
     "execution_count": 38,
     "metadata": {},
     "output_type": "execute_result"
    }
   ],
   "source": [
    "type(l1)"
   ]
  },
  {
   "cell_type": "code",
   "execution_count": 39,
   "id": "a6b5aa82-3797-475b-9625-9f0d6805b07d",
   "metadata": {},
   "outputs": [],
   "source": [
    "t2 = t1[::-1]"
   ]
  },
  {
   "cell_type": "code",
   "execution_count": 40,
   "id": "fc1a4fb0-6632-462a-9823-38fc919bc8e5",
   "metadata": {},
   "outputs": [
    {
     "data": {
      "text/plain": [
       "(45.6, 'Mathe', 'Vijay', 6, 5, 4, 3, 2, 1)"
      ]
     },
     "execution_count": 40,
     "metadata": {},
     "output_type": "execute_result"
    }
   ],
   "source": [
    "t2"
   ]
  },
  {
   "cell_type": "code",
   "execution_count": 11,
   "id": "b04e9393-b206-4156-aa50-ffffb1e228df",
   "metadata": {},
   "outputs": [
    {
     "data": {
      "text/plain": [
       "1"
      ]
     },
     "execution_count": 11,
     "metadata": {},
     "output_type": "execute_result"
    }
   ],
   "source": [
    "t1.count(1)"
   ]
  },
  {
   "cell_type": "code",
   "execution_count": 13,
   "id": "30de6e4b-0f95-4a0e-b4fb-975edc937e0c",
   "metadata": {},
   "outputs": [
    {
     "data": {
      "text/plain": [
       "1"
      ]
     },
     "execution_count": 13,
     "metadata": {},
     "output_type": "execute_result"
    }
   ],
   "source": [
    "t1.count(\"Vijay\")"
   ]
  },
  {
   "cell_type": "code",
   "execution_count": 41,
   "id": "35766f98-1420-4e04-81d8-9da84c660da2",
   "metadata": {},
   "outputs": [
    {
     "data": {
      "text/plain": [
       "0"
      ]
     },
     "execution_count": 41,
     "metadata": {},
     "output_type": "execute_result"
    }
   ],
   "source": [
    "t1.count(\"abc\")"
   ]
  },
  {
   "cell_type": "code",
   "execution_count": 18,
   "id": "c3079225-bb8d-4f18-a383-169e0b758020",
   "metadata": {},
   "outputs": [
    {
     "data": {
      "text/plain": [
       "0"
      ]
     },
     "execution_count": 18,
     "metadata": {},
     "output_type": "execute_result"
    }
   ],
   "source": [
    "t1.index(1)"
   ]
  },
  {
   "cell_type": "code",
   "execution_count": 42,
   "id": "4ecfaca9-3b33-4d39-8f51-0df0255b383e",
   "metadata": {},
   "outputs": [
    {
     "data": {
      "text/plain": [
       "1"
      ]
     },
     "execution_count": 42,
     "metadata": {},
     "output_type": "execute_result"
    }
   ],
   "source": [
    "t1.count(True) ## count of 1"
   ]
  },
  {
   "cell_type": "markdown",
   "id": "d1adb46a-2e07-4fee-bd1f-19e0c2d9b4e1",
   "metadata": {},
   "source": [
    "### Tuples are immutable "
   ]
  },
  {
   "cell_type": "code",
   "execution_count": 21,
   "id": "945c5290-257e-4018-b6f5-b82fab76436d",
   "metadata": {},
   "outputs": [
    {
     "ename": "TypeError",
     "evalue": "'tuple' object does not support item assignment",
     "output_type": "error",
     "traceback": [
      "\u001b[0;31m---------------------------------------------------------------------------\u001b[0m",
      "\u001b[0;31mTypeError\u001b[0m                                 Traceback (most recent call last)",
      "Cell \u001b[0;32mIn[21], line 1\u001b[0m\n\u001b[0;32m----> 1\u001b[0m \u001b[43mt1\u001b[49m\u001b[43m[\u001b[49m\u001b[38;5;241;43m0\u001b[39;49m\u001b[43m]\u001b[49m \u001b[38;5;241m=\u001b[39m \u001b[38;5;241m2\u001b[39m\n",
      "\u001b[0;31mTypeError\u001b[0m: 'tuple' object does not support item assignment"
     ]
    }
   ],
   "source": [
    "t1[0] = 2"
   ]
  },
  {
   "cell_type": "code",
   "execution_count": 43,
   "id": "17be22b6-31a5-4d9d-b285-4340831ff95d",
   "metadata": {},
   "outputs": [],
   "source": [
    "l1[0] = 88"
   ]
  },
  {
   "cell_type": "code",
   "execution_count": 44,
   "id": "5e443512-b04b-43ec-bcb2-aa6d19c732fa",
   "metadata": {},
   "outputs": [
    {
     "data": {
      "text/plain": [
       "[88, 4, 6, 7]"
      ]
     },
     "execution_count": 44,
     "metadata": {},
     "output_type": "execute_result"
    }
   ],
   "source": [
    "l1"
   ]
  },
  {
   "cell_type": "markdown",
   "id": "88d366bc-23fa-4fdc-ab18-042e8b6682a8",
   "metadata": {},
   "source": [
    "### Important points tought till now\n",
    "### Strings are immutable \n",
    "### Tuples are immutable \n",
    "### List is mutable "
   ]
  },
  {
   "cell_type": "code",
   "execution_count": 45,
   "id": "67dee60a-1abb-47b2-aae1-4b875fc5c91f",
   "metadata": {},
   "outputs": [
    {
     "name": "stdout",
     "output_type": "stream",
     "text": [
      "1<class 'int'>\n",
      "2<class 'int'>\n",
      "3<class 'int'>\n",
      "4<class 'int'>\n",
      "5<class 'int'>\n",
      "6<class 'int'>\n",
      "Vijay<class 'str'>\n",
      "Mathe<class 'str'>\n",
      "45.6<class 'float'>\n"
     ]
    }
   ],
   "source": [
    "for i in t1:\n",
    "    print(i , end=\"\")\n",
    "    print(type(i))"
   ]
  },
  {
   "cell_type": "code",
   "execution_count": 46,
   "id": "deb225ee-83a7-4064-98f9-cc868629e21f",
   "metadata": {},
   "outputs": [
    {
     "data": {
      "text/plain": [
       "(45.6, 'Mathe', 'Vijay', 6, 5, 4, 3, 2, 1)"
      ]
     },
     "execution_count": 46,
     "metadata": {},
     "output_type": "execute_result"
    }
   ],
   "source": [
    "t2"
   ]
  },
  {
   "cell_type": "code",
   "execution_count": 47,
   "id": "c7241e79-7aad-4a30-b9c0-ea43df62931a",
   "metadata": {},
   "outputs": [],
   "source": [
    "t3 = (1, 2, 3, 4)"
   ]
  },
  {
   "cell_type": "code",
   "execution_count": 48,
   "id": "37820e14-cfd9-45e5-91a6-d5bc7d19e72a",
   "metadata": {},
   "outputs": [
    {
     "data": {
      "text/plain": [
       "(1, 2, 3, 4, 1, 2, 3, 4, 1, 2, 3, 4)"
      ]
     },
     "execution_count": 48,
     "metadata": {},
     "output_type": "execute_result"
    }
   ],
   "source": [
    "t3 * 3"
   ]
  },
  {
   "cell_type": "code",
   "execution_count": 49,
   "id": "b5ab535d-2fcc-4115-ba74-0964b76a7bd8",
   "metadata": {},
   "outputs": [
    {
     "data": {
      "text/plain": [
       "4"
      ]
     },
     "execution_count": 49,
     "metadata": {},
     "output_type": "execute_result"
    }
   ],
   "source": [
    "max(t3)"
   ]
  },
  {
   "cell_type": "code",
   "execution_count": 50,
   "id": "8434a2b4-ae5f-4e47-9236-4bafbc0a6d56",
   "metadata": {},
   "outputs": [
    {
     "data": {
      "text/plain": [
       "1"
      ]
     },
     "execution_count": 50,
     "metadata": {},
     "output_type": "execute_result"
    }
   ],
   "source": [
    "min(t3)"
   ]
  },
  {
   "cell_type": "code",
   "execution_count": 54,
   "id": "86c26ec6-5113-49d4-8749-2f973b8c66ee",
   "metadata": {},
   "outputs": [
    {
     "data": {
      "text/plain": [
       "(1, 2, 3, 4, 5, 6, 'Vijay', 'Mathe', 45.6)"
      ]
     },
     "execution_count": 54,
     "metadata": {},
     "output_type": "execute_result"
    }
   ],
   "source": [
    "t1"
   ]
  },
  {
   "cell_type": "code",
   "execution_count": 55,
   "id": "a6620575-a731-4ae9-9fc9-edc7e4847d59",
   "metadata": {},
   "outputs": [
    {
     "data": {
      "text/plain": [
       "(45.6, 'Mathe', 'Vijay', 6, 5, 4, 3, 2, 1)"
      ]
     },
     "execution_count": 55,
     "metadata": {},
     "output_type": "execute_result"
    }
   ],
   "source": [
    "t2"
   ]
  },
  {
   "cell_type": "code",
   "execution_count": 51,
   "id": "51e0a9a4-49db-4ef0-ab5d-0237f212ff81",
   "metadata": {},
   "outputs": [],
   "source": [
    "t4 = (t1, t2)"
   ]
  },
  {
   "cell_type": "code",
   "execution_count": 53,
   "id": "851d7c6a-f3f9-4157-b88c-5eeece35c074",
   "metadata": {},
   "outputs": [
    {
     "data": {
      "text/plain": [
       "((1, 2, 3, 4, 5, 6, 'Vijay', 'Mathe', 45.6),\n",
       " (45.6, 'Mathe', 'Vijay', 6, 5, 4, 3, 2, 1))"
      ]
     },
     "execution_count": 53,
     "metadata": {},
     "output_type": "execute_result"
    }
   ],
   "source": [
    "t4"
   ]
  },
  {
   "cell_type": "code",
   "execution_count": 56,
   "id": "9e8875da-f678-4979-8bc9-7cfb47afff09",
   "metadata": {},
   "outputs": [],
   "source": [
    "t = ((2, 3, 6, 7, 4), [3, 5, 76, 8, 6])"
   ]
  },
  {
   "cell_type": "code",
   "execution_count": 57,
   "id": "87e8c97c-aeaf-4cb2-953b-4e8421fb32c7",
   "metadata": {},
   "outputs": [
    {
     "data": {
      "text/plain": [
       "((2, 3, 6, 7, 4), [3, 5, 76, 8, 6])"
      ]
     },
     "execution_count": 57,
     "metadata": {},
     "output_type": "execute_result"
    }
   ],
   "source": [
    "t\n"
   ]
  },
  {
   "cell_type": "code",
   "execution_count": 58,
   "id": "40bb1f45-6e6c-427c-911b-b51cd5030d72",
   "metadata": {},
   "outputs": [],
   "source": [
    "del t"
   ]
  },
  {
   "cell_type": "code",
   "execution_count": 59,
   "id": "52786142-c62c-42db-a873-f6665a40a785",
   "metadata": {},
   "outputs": [
    {
     "data": {
      "text/plain": [
       "9"
      ]
     },
     "execution_count": 59,
     "metadata": {},
     "output_type": "execute_result"
    }
   ],
   "source": [
    "len(t2)"
   ]
  },
  {
   "cell_type": "code",
   "execution_count": 60,
   "id": "7ff2fc98-ffb6-4ef8-99a9-c573bb3b210f",
   "metadata": {},
   "outputs": [
    {
     "data": {
      "text/plain": [
       "True"
      ]
     },
     "execution_count": 60,
     "metadata": {},
     "output_type": "execute_result"
    }
   ],
   "source": [
    "3 in t1"
   ]
  },
  {
   "cell_type": "code",
   "execution_count": 61,
   "id": "5b1de9c3-97d0-4b6e-8b79-56d9cc78ee50",
   "metadata": {},
   "outputs": [
    {
     "data": {
      "text/plain": [
       "True"
      ]
     },
     "execution_count": 61,
     "metadata": {},
     "output_type": "execute_result"
    }
   ],
   "source": [
    "\"Vijay\" in t2"
   ]
  },
  {
   "cell_type": "code",
   "execution_count": 62,
   "id": "ccb87135-f795-40d6-8c91-3b15ff4c595d",
   "metadata": {},
   "outputs": [
    {
     "data": {
      "text/plain": [
       "False"
      ]
     },
     "execution_count": 62,
     "metadata": {},
     "output_type": "execute_result"
    }
   ],
   "source": [
    "88 in t2"
   ]
  },
  {
   "cell_type": "code",
   "execution_count": null,
   "id": "c99ce02a-25af-4cfc-806d-1ef08f3fc531",
   "metadata": {},
   "outputs": [],
   "source": []
  }
 ],
 "metadata": {
  "kernelspec": {
   "display_name": "Python 3 (ipykernel)",
   "language": "python",
   "name": "python3"
  },
  "language_info": {
   "codemirror_mode": {
    "name": "ipython",
    "version": 3
   },
   "file_extension": ".py",
   "mimetype": "text/x-python",
   "name": "python",
   "nbconvert_exporter": "python",
   "pygments_lexer": "ipython3",
   "version": "3.10.8"
  }
 },
 "nbformat": 4,
 "nbformat_minor": 5
}
