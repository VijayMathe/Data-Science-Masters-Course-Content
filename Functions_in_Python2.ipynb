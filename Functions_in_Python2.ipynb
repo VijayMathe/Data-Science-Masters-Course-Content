{
 "cells": [
  {
   "cell_type": "code",
   "execution_count": 1,
   "id": "311d92f0-0980-439d-984a-6511a80880bd",
   "metadata": {},
   "outputs": [],
   "source": [
    "def test(a, b, c, d):\n",
    "    return a+b+c+d"
   ]
  },
  {
   "cell_type": "code",
   "execution_count": 2,
   "id": "1f17c106-eaa5-4241-8ca7-abc4fd2f1953",
   "metadata": {},
   "outputs": [
    {
     "data": {
      "text/plain": [
       "23"
      ]
     },
     "execution_count": 2,
     "metadata": {},
     "output_type": "execute_result"
    }
   ],
   "source": [
    "test(3, 5, 7, 8)"
   ]
  },
  {
   "cell_type": "code",
   "execution_count": 3,
   "id": "de02b828-1a78-42a2-be48-5f0d5c85ee51",
   "metadata": {},
   "outputs": [
    {
     "ename": "TypeError",
     "evalue": "test() takes 4 positional arguments but 7 were given",
     "output_type": "error",
     "traceback": [
      "\u001b[0;31m---------------------------------------------------------------------------\u001b[0m",
      "\u001b[0;31mTypeError\u001b[0m                                 Traceback (most recent call last)",
      "Cell \u001b[0;32mIn[3], line 1\u001b[0m\n\u001b[0;32m----> 1\u001b[0m \u001b[43mtest\u001b[49m\u001b[43m(\u001b[49m\u001b[38;5;241;43m3\u001b[39;49m\u001b[43m,\u001b[49m\u001b[43m \u001b[49m\u001b[38;5;241;43m4\u001b[39;49m\u001b[43m,\u001b[49m\u001b[43m \u001b[49m\u001b[38;5;241;43m2\u001b[39;49m\u001b[43m,\u001b[49m\u001b[43m \u001b[49m\u001b[38;5;241;43m1\u001b[39;49m\u001b[43m,\u001b[49m\u001b[43m \u001b[49m\u001b[38;5;241;43m6\u001b[39;49m\u001b[43m,\u001b[49m\u001b[43m \u001b[49m\u001b[38;5;241;43m7\u001b[39;49m\u001b[43m,\u001b[49m\u001b[43m \u001b[49m\u001b[38;5;241;43m2\u001b[39;49m\u001b[43m)\u001b[49m\n",
      "\u001b[0;31mTypeError\u001b[0m: test() takes 4 positional arguments but 7 were given"
     ]
    }
   ],
   "source": [
    "test(3, 4, 2, 1, 6, 7, 2)"
   ]
  },
  {
   "cell_type": "code",
   "execution_count": 7,
   "id": "699b158d-39e4-4dfe-8d9e-00ab4d05790d",
   "metadata": {},
   "outputs": [],
   "source": [
    "def test1(*a):\n",
    "    return a"
   ]
  },
  {
   "cell_type": "code",
   "execution_count": 9,
   "id": "cde289ba-a164-465e-a557-8ff16e694e2f",
   "metadata": {},
   "outputs": [
    {
     "data": {
      "text/plain": [
       "(3, 4, 5)"
      ]
     },
     "execution_count": 9,
     "metadata": {},
     "output_type": "execute_result"
    }
   ],
   "source": [
    "test1(3, 4, 5)"
   ]
  },
  {
   "cell_type": "code",
   "execution_count": 10,
   "id": "f4d34d4c-55b6-4a23-b192-51fbfd80500c",
   "metadata": {},
   "outputs": [
    {
     "data": {
      "text/plain": [
       "(3, 4, 2, 1, 3)"
      ]
     },
     "execution_count": 10,
     "metadata": {},
     "output_type": "execute_result"
    }
   ],
   "source": [
    "test1(3, 4, 2, 1, 3)"
   ]
  },
  {
   "cell_type": "code",
   "execution_count": 11,
   "id": "27126a7c-e195-4b48-a1fd-177be651f54c",
   "metadata": {},
   "outputs": [],
   "source": [
    "def test2(*a, b):\n",
    "    return a, b"
   ]
  },
  {
   "cell_type": "code",
   "execution_count": 13,
   "id": "4adddffe-f79f-4ca9-8d21-bf99da4dde09",
   "metadata": {},
   "outputs": [
    {
     "data": {
      "text/plain": [
       "((4, 6), 3)"
      ]
     },
     "execution_count": 13,
     "metadata": {},
     "output_type": "execute_result"
    }
   ],
   "source": [
    "test2(4, 6, b = 3)"
   ]
  },
  {
   "cell_type": "markdown",
   "id": "0a30041d-df32-4ed2-98a0-04b3cc03f4e7",
   "metadata": {},
   "source": [
    "### Create a function that will return a list with all the list"
   ]
  },
  {
   "cell_type": "code",
   "execution_count": 14,
   "id": "5ff1332b-04e2-42e8-be07-04c476f1566b",
   "metadata": {},
   "outputs": [],
   "source": [
    "def test3(*a):\n",
    "    resList = []\n",
    "    for i in a:\n",
    "        if type(i) == list:\n",
    "            resList.append(i)\n",
    "    return resList"
   ]
  },
  {
   "cell_type": "code",
   "execution_count": 15,
   "id": "65d18a2c-b02e-44e6-8f06-2971324e26ac",
   "metadata": {},
   "outputs": [
    {
     "data": {
      "text/plain": [
       "[[3, 4, 21, 4]]"
      ]
     },
     "execution_count": 15,
     "metadata": {},
     "output_type": "execute_result"
    }
   ],
   "source": [
    "test3([3, 4, 21, 4], (4, 3, 2, 1), \"Vijay\", \"Mathe\")"
   ]
  },
  {
   "cell_type": "markdown",
   "id": "fab98106-8f1c-4a6a-892f-b1153ead8569",
   "metadata": {},
   "source": [
    "### Create a function that will take input as key and value pairs"
   ]
  },
  {
   "cell_type": "code",
   "execution_count": 17,
   "id": "da89e45b-c16d-41fc-affd-973018adf646",
   "metadata": {},
   "outputs": [],
   "source": [
    "def test4(**keyWord):\n",
    "    return keyWord"
   ]
  },
  {
   "cell_type": "code",
   "execution_count": 18,
   "id": "e5b4d69c-3eba-44ba-8be2-6ee76a748ec8",
   "metadata": {},
   "outputs": [
    {
     "data": {
      "text/plain": [
       "{}"
      ]
     },
     "execution_count": 18,
     "metadata": {},
     "output_type": "execute_result"
    }
   ],
   "source": [
    "test4()"
   ]
  },
  {
   "cell_type": "code",
   "execution_count": 19,
   "id": "18981d45-97ac-49a0-9372-d4fea491fb04",
   "metadata": {},
   "outputs": [
    {
     "data": {
      "text/plain": [
       "dict"
      ]
     },
     "execution_count": 19,
     "metadata": {},
     "output_type": "execute_result"
    }
   ],
   "source": [
    "type(test4())"
   ]
  },
  {
   "cell_type": "code",
   "execution_count": 24,
   "id": "37fb4e08-225d-497b-9a3d-5dbf6681e9bd",
   "metadata": {},
   "outputs": [
    {
     "data": {
      "text/plain": [
       "{'a': 6, 'v': 'Mathe', 'o': 9, 'l': [3, 5, 8, 9, 2]}"
      ]
     },
     "execution_count": 24,
     "metadata": {},
     "output_type": "execute_result"
    }
   ],
   "source": [
    "test4(a = 6, v = \"Mathe\", o = 9, l = [3, 5, 8, 9, 2])"
   ]
  },
  {
   "cell_type": "markdown",
   "id": "62f8500b-d8e2-4a44-a42d-45d284a81800",
   "metadata": {},
   "source": [
    "### Create a function that will return the key and value if value is of type list"
   ]
  },
  {
   "cell_type": "code",
   "execution_count": 25,
   "id": "59cbc0c0-6574-4917-9498-50f4b512abf7",
   "metadata": {},
   "outputs": [],
   "source": [
    "def test5(**keyargs):\n",
    "    for i in keyargs.keys():\n",
    "        if type(keyargs[i]) == list:\n",
    "            return i, keyargs[i]"
   ]
  },
  {
   "cell_type": "code",
   "execution_count": 26,
   "id": "a57e822f-86ef-4445-8203-1af0e06b9602",
   "metadata": {},
   "outputs": [
    {
     "data": {
      "text/plain": [
       "('l', [3, 5, 8, 9, 2])"
      ]
     },
     "execution_count": 26,
     "metadata": {},
     "output_type": "execute_result"
    }
   ],
   "source": [
    "test5(a = 6, v = \"Mathe\", o = 9, l = [3, 5, 8, 9, 2])"
   ]
  },
  {
   "cell_type": "code",
   "execution_count": 27,
   "id": "0e49253d-7099-462e-a90c-ea76421bca11",
   "metadata": {},
   "outputs": [],
   "source": [
    "def test7(*a, **ar):\n",
    "    return a, ar"
   ]
  },
  {
   "cell_type": "code",
   "execution_count": 28,
   "id": "f71fa24d-19cf-4ee2-aead-ae349a14dd63",
   "metadata": {},
   "outputs": [
    {
     "data": {
      "text/plain": [
       "((2, 4, 5, 6), {'a': 0, 'u': 4})"
      ]
     },
     "execution_count": 28,
     "metadata": {},
     "output_type": "execute_result"
    }
   ],
   "source": [
    "test7(2, 4, 5, 6, a = 0, u = 4)"
   ]
  },
  {
   "cell_type": "code",
   "execution_count": null,
   "id": "ca78b8e3-daa4-42a3-b87c-f41efd9804f2",
   "metadata": {},
   "outputs": [],
   "source": []
  }
 ],
 "metadata": {
  "kernelspec": {
   "display_name": "Python 3 (ipykernel)",
   "language": "python",
   "name": "python3"
  },
  "language_info": {
   "codemirror_mode": {
    "name": "ipython",
    "version": 3
   },
   "file_extension": ".py",
   "mimetype": "text/x-python",
   "name": "python",
   "nbconvert_exporter": "python",
   "pygments_lexer": "ipython3",
   "version": "3.10.8"
  }
 },
 "nbformat": 4,
 "nbformat_minor": 5
}
