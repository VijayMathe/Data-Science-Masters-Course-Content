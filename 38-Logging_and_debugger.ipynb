{
 "cells": [
  {
   "cell_type": "markdown",
   "id": "e69973ba-be7a-43f7-8c4e-81bb77c4d7a4",
   "metadata": {},
   "source": [
    "### In production grade code we use logging concept"
   ]
  },
  {
   "cell_type": "markdown",
   "id": "17ca40f9-78db-414e-a601-890c205b6012",
   "metadata": {},
   "source": [
    "### for stoaring a data or any kind oof a statement we need to use loogging"
   ]
  },
  {
   "cell_type": "code",
   "execution_count": 1,
   "id": "1d7925ad-a50b-4848-9289-91818741eb8e",
   "metadata": {},
   "outputs": [
    {
     "name": "stdout",
     "output_type": "stream",
     "text": [
      "this is my print statement\n"
     ]
    }
   ],
   "source": [
    "print(\"this is my print statement\")"
   ]
  },
  {
   "cell_type": "code",
   "execution_count": 2,
   "id": "9bc3da4c-3e34-4432-a2a6-5192eb71eee4",
   "metadata": {},
   "outputs": [],
   "source": [
    "import logging"
   ]
  },
  {
   "cell_type": "code",
   "execution_count": 3,
   "id": "d261ac59-97d1-4cfe-95f6-74e4b1f1c88b",
   "metadata": {},
   "outputs": [],
   "source": [
    "logging.basicConfig(filename = \"test6.log\", level = logging.INFO)"
   ]
  },
  {
   "cell_type": "code",
   "execution_count": 4,
   "id": "3ce8cd75-376b-4f65-aa13-03e469939e15",
   "metadata": {},
   "outputs": [],
   "source": [
    "logging.info(\"this is my line of excecuation\")"
   ]
  },
  {
   "cell_type": "code",
   "execution_count": 5,
   "id": "d2fa5812-28dc-4ba3-8643-503e6f0c7b23",
   "metadata": {},
   "outputs": [],
   "source": [
    "logging.error(\"this is my error\")"
   ]
  },
  {
   "cell_type": "code",
   "execution_count": 6,
   "id": "081eede3-909c-4a0f-a938-5d38c3a7d99e",
   "metadata": {},
   "outputs": [],
   "source": [
    "logging.critical(\"thisis my critical\")"
   ]
  },
  {
   "cell_type": "code",
   "execution_count": 7,
   "id": "ea6e0e22-f020-455b-90ac-ed75f37db908",
   "metadata": {},
   "outputs": [],
   "source": [
    "logging.warning(\"this is my warning\")"
   ]
  },
  {
   "cell_type": "code",
   "execution_count": 8,
   "id": "9a01a926-e330-42f2-b1fd-0ec49bcbd81e",
   "metadata": {},
   "outputs": [],
   "source": [
    "logging.debug(\"this is my info related to debug\")"
   ]
  },
  {
   "cell_type": "code",
   "execution_count": 9,
   "id": "d7355821-9387-4903-8f1a-b3100f961112",
   "metadata": {},
   "outputs": [
    {
     "ename": "AttributeError",
     "evalue": "module 'logging' has no attribute 'noset'",
     "output_type": "error",
     "traceback": [
      "\u001b[0;31m---------------------------------------------------------------------------\u001b[0m",
      "\u001b[0;31mAttributeError\u001b[0m                            Traceback (most recent call last)",
      "Cell \u001b[0;32mIn[9], line 1\u001b[0m\n\u001b[0;32m----> 1\u001b[0m \u001b[43mlogging\u001b[49m\u001b[38;5;241;43m.\u001b[39;49m\u001b[43mnoset\u001b[49m(\u001b[38;5;124m\"\u001b[39m\u001b[38;5;124mthis is my noset related log\u001b[39m\u001b[38;5;124m\"\u001b[39m)\n",
      "\u001b[0;31mAttributeError\u001b[0m: module 'logging' has no attribute 'noset'"
     ]
    }
   ],
   "source": [
    "logging.noset(\"this is my noset related log\")"
   ]
  },
  {
   "cell_type": "code",
   "execution_count": null,
   "id": "53aa83fb-fc3c-4cc3-aab2-2289d58432da",
   "metadata": {},
   "outputs": [],
   "source": [
    "logging.shutdown()"
   ]
  },
  {
   "cell_type": "markdown",
   "id": "61606f8e-2663-48b2-bdb2-391dcb3ed9de",
   "metadata": {},
   "source": [
    "### Execution hirarchi of INFO is given bellow"
   ]
  },
  {
   "cell_type": "markdown",
   "id": "c942d806-c848-4438-a866-eeda0044f2ad",
   "metadata": {
    "tags": []
   },
   "source": [
    "### 1.NOSET\n",
    "### 2.DEBUG\n",
    "### 3.INFO\n",
    "### 4.WARNING\n",
    "### 5.ERROR\n",
    "### 6.CRITICAL"
   ]
  },
  {
   "cell_type": "markdown",
   "id": "2fd7d347-508f-43ce-80ef-c52dc4dfb8f3",
   "metadata": {},
   "source": [
    "### if we define a level of logging to INFO then only INFO and and queries bellow INFO could be excecuted"
   ]
  },
  {
   "cell_type": "code",
   "execution_count": 15,
   "id": "04e89a98-1d9c-4af1-ad6f-4c9ee1abebb6",
   "metadata": {},
   "outputs": [],
   "source": [
    "logging.basicConfig(filename = \"test6.log\", level = logging.DEBUG, format = '%(asctime)s %(message)s')"
   ]
  },
  {
   "cell_type": "code",
   "execution_count": 16,
   "id": "56412d27-94ad-4598-994c-2f3e48dcef2e",
   "metadata": {},
   "outputs": [],
   "source": [
    "logging.info(\"this is my info log\")"
   ]
  },
  {
   "cell_type": "code",
   "execution_count": 17,
   "id": "b1f921ff-09ef-40e0-846e-571cf1bb6ba4",
   "metadata": {},
   "outputs": [],
   "source": [
    "logging.debug(\"this is my debug log\")"
   ]
  },
  {
   "cell_type": "code",
   "execution_count": 18,
   "id": "b105e064-6f92-4dca-8893-de97d6177791",
   "metadata": {},
   "outputs": [],
   "source": [
    "logging.warning(\"this is my warning\")"
   ]
  },
  {
   "cell_type": "code",
   "execution_count": 19,
   "id": "2d5a36fc-6505-42bd-9173-6e6846dcb9f4",
   "metadata": {},
   "outputs": [],
   "source": [
    "logging.basicConfig(filename = \"test6.log\", level = logging.DEBUG, format = '%(asctime)s %(message)s' )"
   ]
  },
  {
   "cell_type": "code",
   "execution_count": 21,
   "id": "d6e6cd81-da26-4cdb-bf00-19868dcb201d",
   "metadata": {},
   "outputs": [
    {
     "ename": "SyntaxError",
     "evalue": "unterminated string literal (detected at line 1) (2592685858.py, line 1)",
     "output_type": "error",
     "traceback": [
      "\u001b[0;36m  Cell \u001b[0;32mIn[21], line 1\u001b[0;36m\u001b[0m\n\u001b[0;31m    logging.basicConfig(filename = \"test6.log\", level = logging.DEBUG, format = '%(asctime)s %(name)s %(levelname)s %(message)s\" )\u001b[0m\n\u001b[0m                                                                                ^\u001b[0m\n\u001b[0;31mSyntaxError\u001b[0m\u001b[0;31m:\u001b[0m unterminated string literal (detected at line 1)\n"
     ]
    }
   ],
   "source": [
    "logging.basicConfig(filename = \"test6.log\", level = logging.DEBUG, format = '%(asctime)s %(name)s %(levelname)s %(message)s\" )"
   ]
  },
  {
   "cell_type": "code",
   "execution_count": null,
   "id": "833a25e8-c3ee-4e8f-bfc3-c23a993497c6",
   "metadata": {},
   "outputs": [],
   "source": []
  }
 ],
 "metadata": {
  "kernelspec": {
   "display_name": "Python 3 (ipykernel)",
   "language": "python",
   "name": "python3"
  },
  "language_info": {
   "codemirror_mode": {
    "name": "ipython",
    "version": 3
   },
   "file_extension": ".py",
   "mimetype": "text/x-python",
   "name": "python",
   "nbconvert_exporter": "python",
   "pygments_lexer": "ipython3",
   "version": "3.10.8"
  }
 },
 "nbformat": 4,
 "nbformat_minor": 5
}
