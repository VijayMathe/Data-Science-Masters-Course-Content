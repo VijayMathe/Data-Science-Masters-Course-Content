{
 "cells": [
  {
   "cell_type": "markdown",
   "id": "541a76eb-262c-4edb-8ac1-52f5cb75f247",
   "metadata": {},
   "source": [
    "## 1. Write a program to calculate grades according to the following criteria"
   ]
  },
  {
   "cell_type": "code",
   "execution_count": 1,
   "id": "82b9f2e4-e311-42c0-b8bf-b61602fde923",
   "metadata": {},
   "outputs": [
    {
     "name": "stdin",
     "output_type": "stream",
     "text": [
      "Enter marks 89\n"
     ]
    },
    {
     "name": "stdout",
     "output_type": "stream",
     "text": [
      "B\n"
     ]
    }
   ],
   "source": [
    "marks = float(input(\"Enter marks\"))\n",
    "\n",
    "if marks > 90:\n",
    "    print(\"A\")\n",
    "elif marks > 80 and marks <= 90:\n",
    "    print(\"B\")\n",
    "elif marks >=60 and marks <= 80:\n",
    "    print(\"C\")\n",
    "else:\n",
    "    print(\"D\")"
   ]
  },
  {
   "cell_type": "markdown",
   "id": "6de365fd-9489-4397-814e-b5d6149463f7",
   "metadata": {},
   "source": [
    "## 2. Write a program to accept the cost price of a bike and desply the road tax to be paid according to the following criteria"
   ]
  },
  {
   "cell_type": "code",
   "execution_count": 2,
   "id": "2f425b3c-4344-43c8-a3ca-2e9526758423",
   "metadata": {},
   "outputs": [
    {
     "name": "stdin",
     "output_type": "stream",
     "text": [
      "Enter price 150000\n"
     ]
    },
    {
     "name": "stdout",
     "output_type": "stream",
     "text": [
      "15%\n"
     ]
    }
   ],
   "source": [
    "price = int(input(\"Enter price\"))\n",
    "\n",
    "if price > 100000:\n",
    "    print(\"15%\")\n",
    "elif price > 50000 and price <= 100000:\n",
    "    print(\"10%\")\n",
    "else:\n",
    "    print(\"5%\")"
   ]
  },
  {
   "cell_type": "markdown",
   "id": "b2fc4a63-0834-4503-8744-342ad88b76ca",
   "metadata": {},
   "source": [
    "## 3. Accept any city from the user and disply the monument of that city"
   ]
  },
  {
   "cell_type": "code",
   "execution_count": 3,
   "id": "0c87024a-9444-4722-86ed-91e5fa7198d5",
   "metadata": {},
   "outputs": [
    {
     "name": "stdin",
     "output_type": "stream",
     "text": [
      "Enter city name Agra\n"
     ]
    },
    {
     "name": "stdout",
     "output_type": "stream",
     "text": [
      "Taj Mahal\n"
     ]
    }
   ],
   "source": [
    "city = str(input(\"Enter city name\"))\n",
    "\n",
    "if city == \"Delhi\":\n",
    "    print(\"Red Fort\")\n",
    "elif city == \"Agra\":\n",
    "    print(\"Taj Mahal\")\n",
    "elif city == \"Jaipur\":\n",
    "    print(\"Lal Mahal\")"
   ]
  },
  {
   "cell_type": "markdown",
   "id": "83e3edb2-ff9a-4a8b-b694-26ac5c1ef6cd",
   "metadata": {},
   "source": [
    "## 4. Check how many times a given number can be devided by 3 before it is less that 10"
   ]
  },
  {
   "cell_type": "code",
   "execution_count": 5,
   "id": "45ea166f-cdeb-4bdb-a3c8-2e9964c32ddb",
   "metadata": {},
   "outputs": [
    {
     "name": "stdin",
     "output_type": "stream",
     "text": [
      "Enter a number 94\n"
     ]
    },
    {
     "name": "stdout",
     "output_type": "stream",
     "text": [
      "2\n"
     ]
    }
   ],
   "source": [
    "Number = int(input(\"Enter a number\"))\n",
    "count = 0;\n",
    "while(Number > 10):\n",
    "    Number = Number/3\n",
    "    if Number < 10:\n",
    "        break\n",
    "    count = count + 1\n",
    "print(count)"
   ]
  },
  {
   "cell_type": "markdown",
   "id": "9316978b-c977-455d-a0b0-30107d5a32c7",
   "metadata": {},
   "source": [
    "## 5. why and when to use while loop in python give a detailed description with one example"
   ]
  },
  {
   "cell_type": "code",
   "execution_count": 6,
   "id": "10807738-25b5-42ad-bac0-0bcf768dafb1",
   "metadata": {},
   "outputs": [
    {
     "name": "stdout",
     "output_type": "stream",
     "text": [
      "0 5 10 15 20 25 30 35 40 45 50 55 60 65 70 75 80 85 90 95 "
     ]
    }
   ],
   "source": [
    "## We use while loop in pyhton when we want to run a block of code until the perticular condition is true\n",
    "## Earlier we dont know how many times the loop will run\n",
    "\n",
    "## Example :\n",
    "## We are running the bellow code until num is less than 100 and adding 5 each time\n",
    "\n",
    "num = 0;\n",
    "while num < 100:\n",
    "    print(num, end=\" \")\n",
    "    num = num + 5"
   ]
  },
  {
   "cell_type": "markdown",
   "id": "55b95cd0-be36-4410-932e-e085b54710e9",
   "metadata": {},
   "source": [
    "## 6. Use nested while loop to print three different patterns"
   ]
  },
  {
   "cell_type": "markdown",
   "id": "e49475e4-93a9-417a-9809-4087f3a163fd",
   "metadata": {},
   "source": [
    "### Pattern 1"
   ]
  },
  {
   "cell_type": "code",
   "execution_count": 7,
   "id": "fc77c290-848f-41b5-9b5e-a3b8f398c3c8",
   "metadata": {},
   "outputs": [
    {
     "name": "stdin",
     "output_type": "stream",
     "text": [
      " 5\n"
     ]
    },
    {
     "name": "stdout",
     "output_type": "stream",
     "text": [
      "* \n",
      "* * \n",
      "* * * \n",
      "* * * * \n",
      "* * * * * \n"
     ]
    }
   ],
   "source": [
    "n = int(input())\n",
    "i = 0\n",
    "while i < n:\n",
    "    j = 0;\n",
    "    while j <= i:\n",
    "        print(\"* \", end=\"\")\n",
    "        j = j + 1\n",
    "    print(\"\")\n",
    "    i = i + 1"
   ]
  },
  {
   "cell_type": "markdown",
   "id": "d2f86647-3e23-41db-a2df-c8e08abebc11",
   "metadata": {},
   "source": [
    "### Pattern 2"
   ]
  },
  {
   "cell_type": "code",
   "execution_count": 9,
   "id": "2d21d0a7-d1b1-4c52-88cf-28d510892b43",
   "metadata": {},
   "outputs": [
    {
     "name": "stdin",
     "output_type": "stream",
     "text": [
      " 5\n"
     ]
    },
    {
     "name": "stdout",
     "output_type": "stream",
     "text": [
      "* * * * * \n",
      "* * * * \n",
      "* * * \n",
      "* * \n",
      "* \n"
     ]
    }
   ],
   "source": [
    "n = int(input())\n",
    "i = 0\n",
    "\n",
    "while i < n:\n",
    "    j = 0\n",
    "    while j < n-i:\n",
    "        print(\"* \", end=\"\")\n",
    "        j = j+1\n",
    "    print(\"\")\n",
    "    i = i+1"
   ]
  },
  {
   "cell_type": "markdown",
   "id": "41254d59-8383-4282-a8f5-5b8ea3bfca2f",
   "metadata": {},
   "source": [
    "### Pattern 3"
   ]
  },
  {
   "cell_type": "code",
   "execution_count": 12,
   "id": "221fb34f-1dce-4c97-81db-3cde155698d6",
   "metadata": {},
   "outputs": [
    {
     "name": "stdin",
     "output_type": "stream",
     "text": [
      " 5\n"
     ]
    },
    {
     "name": "stdout",
     "output_type": "stream",
     "text": [
      "     \n",
      "    * \n",
      "   * * * \n",
      "  * * * * * \n",
      " * * * * * * * \n",
      "* * * * * * * * * \n",
      "* * * * * * * * * \n",
      " * * * * * * * \n",
      "  * * * * * \n",
      "   * * * \n",
      "    * \n"
     ]
    }
   ],
   "source": [
    "n = int(input())\n",
    "\n",
    "i = 0\n",
    "\n",
    "while i <= n:\n",
    "    j = 0\n",
    "    while j < n-i:\n",
    "        print(\" \", end = \"\")\n",
    "        j = j + 1\n",
    "    k = 0\n",
    "    while k < (2*i)-1:\n",
    "        print(\"* \",end = \"\")\n",
    "        k = k + 1\n",
    "    print(\"\")\n",
    "    i = i + 1\n",
    "\n",
    "i = n\n",
    "\n",
    "while i > 0:\n",
    "    j = 0\n",
    "    while j < n-i:\n",
    "        print(\" \", end = \"\")\n",
    "        j = j + 1\n",
    "    k = 0\n",
    "    while k < (2*i)-1:\n",
    "        print(\"* \",end = \"\")\n",
    "        k = k + 1\n",
    "    print(\"\")\n",
    "    i = i - 1"
   ]
  },
  {
   "cell_type": "markdown",
   "id": "5551f3c5-50cf-4c9e-b35d-3c4fca143703",
   "metadata": {},
   "source": [
    "## 7. Reverse a while loop to disply numbers from 10 to 1"
   ]
  },
  {
   "cell_type": "code",
   "execution_count": null,
   "id": "3f7c47dd-d1a7-4b42-a756-67e09ad564d2",
   "metadata": {},
   "outputs": [],
   "source": [
    "n = 10\n",
    "\n",
    "while n >= 1:\n",
    "    print(n)\n",
    "    n = n - 1"
   ]
  },
  {
   "cell_type": "code",
   "execution_count": null,
   "id": "41deb0e6-72f5-4a20-8e71-e19a75ed2f52",
   "metadata": {},
   "outputs": [],
   "source": []
  }
 ],
 "metadata": {
  "kernelspec": {
   "display_name": "Python 3 (ipykernel)",
   "language": "python",
   "name": "python3"
  },
  "language_info": {
   "codemirror_mode": {
    "name": "ipython",
    "version": 3
   },
   "file_extension": ".py",
   "mimetype": "text/x-python",
   "name": "python",
   "nbconvert_exporter": "python",
   "pygments_lexer": "ipython3",
   "version": "3.10.8"
  }
 },
 "nbformat": 4,
 "nbformat_minor": 5
}
