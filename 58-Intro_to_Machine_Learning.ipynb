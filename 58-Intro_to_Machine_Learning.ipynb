{
 "cells": [
  {
   "cell_type": "markdown",
   "id": "b13caf98-9784-4a00-88ed-4ad94113d4c9",
   "metadata": {},
   "source": [
    "## Q1- Explain the following with an example\n",
    "## 1) Artificial Intelligence\n",
    "## 2) Machine learning\n",
    "## 3) Deep Learing"
   ]
  },
  {
   "cell_type": "markdown",
   "id": "aa861a24-c077-4ae2-9e32-e1fe9ea21dea",
   "metadata": {},
   "source": [
    "### Ans:\n",
    "### 1) Artificial Intelligence : It is an application that can perform it's own task without an human intervention. Artificial Intelligence refers to the simulation of human intelligence in machines that are programmed to think and learn like humans.\n",
    "### Example : voice assistant like Amazon's Alexa or Apple's Siri.\n",
    "### 2) Machine Learning : It provides a statistical tools to learn anlyze visualize and develop predictive models from the data. Machine Learning is a subset of AI that focuses on the development of algorithms and statistical models that enable computers to learn from and make predictions or decisions based on data without being explicitly programmed.\n",
    "### Example : email spam filtering.\n",
    "### 3) Deep Learning : Mimic the human brain. Deep Learning is a subset of machine learning that focuses on the development of artificial neural networks inspired by the structure and function of the human brain.\n",
    "### Example :  image recognition."
   ]
  },
  {
   "cell_type": "code",
   "execution_count": null,
   "id": "5d0e268b-3cd2-4ace-9454-4eebd055d799",
   "metadata": {},
   "outputs": [],
   "source": []
  },
  {
   "cell_type": "markdown",
   "id": "df60e2ae-702a-447a-b47b-17b9bb42f2d6",
   "metadata": {},
   "source": [
    "## Q2- What is supervised learning? List some examples of supervised learning."
   ]
  },
  {
   "cell_type": "markdown",
   "id": "0cd5ed25-7909-4263-9580-be68ba71617d",
   "metadata": {},
   "source": [
    "### Ans: \n",
    "### The supervised learning is the type of machine learning in which the model is trained from the well labled dataset. After training the model from the dataset whenever the model gets the new datapoints it will predict the output.  In supervised learning, the algorithm is provided with a dataset in which each data point has both input features and corresponding target labels. The algorithm learns from this labeled data by finding patterns and relationships between the input features and the target labels, allowing it to make predictions on new, unseen data.\n",
    "### Here are some of the examples of supervised machine learning:\n",
    "### 1) Logistic regression\n",
    "### 2) Linear regression\n",
    "### 3) Decision trees\n",
    "### 4) Support vector machines\n",
    "### 5) Randome forest"
   ]
  },
  {
   "cell_type": "code",
   "execution_count": null,
   "id": "ea8ed73b-0a0e-431e-9c46-4dc06657ca40",
   "metadata": {},
   "outputs": [],
   "source": []
  },
  {
   "cell_type": "markdown",
   "id": "0cfe48c4-8ed7-4544-b34c-2bcbc64877c7",
   "metadata": {},
   "source": [
    "## Q2- What is unsupervised learning? List some examples of unsupervised learning."
   ]
  },
  {
   "cell_type": "markdown",
   "id": "fc4f897f-aedf-4ea1-be8e-c29b0050a9d6",
   "metadata": {},
   "source": [
    "### Ans :\n",
    "### Here in the unsupervised machine learning the medel basically form clusters of the datapoints. Whenever the model gets new datapoint it will  predict the cluster for that datapoint. What is unsupervised learning? List some examples of unsupervised learning.\n",
    "### Here are some of the examples of the unsupervised machine learning\n",
    "### 1) Apriori\n",
    "### 2) Principal Component Analysis\n",
    "### 3) clustering\n",
    "### 4) Associaion Rule Mining"
   ]
  },
  {
   "cell_type": "code",
   "execution_count": null,
   "id": "20efb810-7f38-4c95-828c-7407ba2b3e97",
   "metadata": {},
   "outputs": [],
   "source": []
  },
  {
   "cell_type": "markdown",
   "id": "4f7b8eef-8f5c-4ae0-bfdd-0f7c4cfe9aac",
   "metadata": {},
   "source": [
    "## Q4- What is the difference between AI, ML, DL, and DS?"
   ]
  },
  {
   "cell_type": "markdown",
   "id": "9aac4c2c-e019-42b3-93ab-8b466a22c2c4",
   "metadata": {},
   "source": [
    "### Artificial Intelligence (AI): AI is a broad field that focuses on creating intelligent systems that can mimic human intelligence and perform tasks that typically require human cognitive abilities. AI encompasses various techniques, methodologies, and algorithms to enable machines to reason, learn, understand, and make decisions. \n",
    "\n",
    "### Machine Learning (ML): ML is a subset of AI that specifically deals with the development of algorithms and models that enable computers to learn and make predictions or decisions from data without being explicitly programmed.\n",
    "\n",
    "### Deep Learning (DL): DL is a subset of ML that focuses on building and training deep neural networks, inspired by the structure and function of the human brain.\n",
    "\n",
    "### Data Science (DS): DS is a multidisciplinary field that combines scientific methods, processes, algorithms, and systems to extract insights and knowledge from structured and unstructured data. Data science encompasses a range of techniques, including data collection, data cleaning, data integration, data analysis, statistical modeling, machine learning, and data visualization."
   ]
  },
  {
   "cell_type": "code",
   "execution_count": null,
   "id": "f5840fe3-80c5-49b8-a516-eda045cb5f27",
   "metadata": {},
   "outputs": [],
   "source": []
  },
  {
   "cell_type": "markdown",
   "id": "a5ac73de-1dd0-4450-a6cf-7c43a94fc93c",
   "metadata": {},
   "source": [
    "## Q5- What are the main differences between supervised, unsupervised, and semi-supervised learning?"
   ]
  },
  {
   "cell_type": "markdown",
   "id": "fd74c898-60b3-4f27-adce-5584ce07b906",
   "metadata": {},
   "source": [
    "### Supervised Learning:\n",
    "\n",
    "### 1) Labeled data is required.\n",
    "### 2) Learning objective is to predict or classify new data based on labeled examples.\n",
    "### Examples: Regression, classification.\n",
    "\n",
    "### Unsupervised Learning:\n",
    "\n",
    "### 1) Unlabeled data is used.\n",
    "### 2) Learning objective is to discover patterns, structures, or relationships in the data.\n",
    "### 3) Examples: Clustering, dimensionality reduction, anomaly detection.\n",
    "\n",
    "### Semi-Supervised Learning:\n",
    "\n",
    "### 1) Combination of labeled and unlabeled data is utilized.\n",
    "### 2) Learning objective is to leverage the unlabeled data to improve the performance of supervised learning models.\n",
    "### 3) Examples: Using labeled data for initial training and unlabeled data for fine-tuning."
   ]
  },
  {
   "cell_type": "code",
   "execution_count": null,
   "id": "816bda7c-c65f-4fd9-ab21-bb4d815c5346",
   "metadata": {},
   "outputs": [],
   "source": []
  },
  {
   "cell_type": "markdown",
   "id": "410b5bd1-f78b-48a9-a9c7-035986f41a8f",
   "metadata": {},
   "source": [
    "## Q6- What is train, test and validation split? Explain the importance of each term."
   ]
  },
  {
   "cell_type": "markdown",
   "id": "6b8ea1e8-39d9-43f4-998a-c818a81f4cc2",
   "metadata": {},
   "source": [
    "### Ans:\n",
    "### During the training phase of the machine learning model it is very important to slip the dataset into train, test and validation sets.\n",
    "### training dataset : The training set is the portion of the labeled data that is used to train the machine learning model.\n",
    "### testing dataset : The test set is a  subset of the labeled data that is held out and not used during the training or model selection process. it is used to test the machine learning model's performance.\n",
    "### Validation dataset : The validation set is a separate portion of the labeled data that is used to fine-tune the model and make decisions during the training process."
   ]
  },
  {
   "cell_type": "code",
   "execution_count": null,
   "id": "03832d3f-1d85-4079-b1c1-ddccc1eb4a6b",
   "metadata": {},
   "outputs": [],
   "source": []
  },
  {
   "cell_type": "markdown",
   "id": "7206ca3a-1776-4b3d-a0a3-6abc46c1e315",
   "metadata": {},
   "source": [
    "## Q7- How can unsupervised lKarning be used in anomaly detection?"
   ]
  },
  {
   "cell_type": "markdown",
   "id": "af8c1bdc-1b77-40f1-ac29-676b47e50e92",
   "metadata": {},
   "source": [
    "### Anomaly detection involves identifying data instances or patterns that deviate significantly from the norm or expected behavior. Since anomalies are often rare and their characteristics may be unknown, unsupervised learning is well-suited for this task as it does not rely on labeled anomalous instances for training."
   ]
  },
  {
   "cell_type": "code",
   "execution_count": null,
   "id": "f6d644d8-f212-4e60-aa30-b3152b44f4c8",
   "metadata": {},
   "outputs": [],
   "source": []
  },
  {
   "cell_type": "markdown",
   "id": "071bddc0-3524-480f-8be2-78040411dbc6",
   "metadata": {},
   "source": [
    "## Q8- List down some commonly used supervised learning algorithms and unsupervised learning algorithms."
   ]
  },
  {
   "cell_type": "markdown",
   "id": "03a24494-4359-4f4e-9005-8153251d8671",
   "metadata": {},
   "source": [
    "### Ans:\n",
    "### Supervised Learning Algorithms:\n",
    "\n",
    "### 1) Linear Regression\n",
    "### 2) Logistic Regression\n",
    "### 3) Decision Trees\n",
    "### 4) Random Forest\n",
    "### 5) Support Vector Machines (SVM)\n",
    "### 6) Naive Bayes\n",
    "### 7) K-Nearest Neighbors (KNN)\n",
    "\n",
    "### Unsupervised Learning Algorithms:\n",
    "\n",
    "### 1) K-Means Clustering\n",
    "### 2) Hierarchical Clustering\n",
    "### 3) Principal Component Analysis (PCA)"
   ]
  },
  {
   "cell_type": "code",
   "execution_count": null,
   "id": "72438b59-06fa-413f-ae24-840cd3003cb9",
   "metadata": {},
   "outputs": [],
   "source": []
  }
 ],
 "metadata": {
  "kernelspec": {
   "display_name": "Python 3 (ipykernel)",
   "language": "python",
   "name": "python3"
  },
  "language_info": {
   "codemirror_mode": {
    "name": "ipython",
    "version": 3
   },
   "file_extension": ".py",
   "mimetype": "text/x-python",
   "name": "python",
   "nbconvert_exporter": "python",
   "pygments_lexer": "ipython3",
   "version": "3.10.8"
  }
 },
 "nbformat": 4,
 "nbformat_minor": 5
}
