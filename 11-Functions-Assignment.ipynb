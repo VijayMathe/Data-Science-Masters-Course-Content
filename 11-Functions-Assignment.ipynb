{
 "cells": [
  {
   "cell_type": "markdown",
   "id": "0993bbc0-fcf3-4eb2-97b8-bd22c780649b",
   "metadata": {},
   "source": [
    "## Q1. Which keyword is used to create function ? Create a funtion to return a list of odd numbers in the range of 1 to 25"
   ]
  },
  {
   "cell_type": "code",
   "execution_count": 2,
   "id": "3d140c9f-6382-49fb-9174-5ac603fa6ce8",
   "metadata": {},
   "outputs": [
    {
     "data": {
      "text/plain": [
       "'\\nThe def keyword is used to create a funtion \\nand it is written before the name of the function while creating a function\\n'"
      ]
     },
     "execution_count": 2,
     "metadata": {},
     "output_type": "execute_result"
    }
   ],
   "source": [
    "'''\n",
    "The def keyword is used to create a funtion \n",
    "and it is written before the name of the function while creating a function\n",
    "'''"
   ]
  },
  {
   "cell_type": "markdown",
   "id": "f47f1e5d-ee77-4d1a-8728-3689c2e92266",
   "metadata": {},
   "source": [
    "### Below is the function that will return a list of all the odd numbers in range of 1 to 25"
   ]
  },
  {
   "cell_type": "code",
   "execution_count": 3,
   "id": "0ca78286-3c82-4306-ac2f-97a34cd8ebc4",
   "metadata": {},
   "outputs": [],
   "source": [
    "def return_List():\n",
    "    res = []\n",
    "    for i in range(1, 26):\n",
    "        if i % 2 != 0:\n",
    "            res.append(i)\n",
    "    return res"
   ]
  },
  {
   "cell_type": "code",
   "execution_count": 4,
   "id": "639ba8a3-d38c-4510-854b-3e1f1f698be9",
   "metadata": {},
   "outputs": [
    {
     "data": {
      "text/plain": [
       "[1, 3, 5, 7, 9, 11, 13, 15, 17, 19, 21, 23, 25]"
      ]
     },
     "execution_count": 4,
     "metadata": {},
     "output_type": "execute_result"
    }
   ],
   "source": [
    "return_List()"
   ]
  },
  {
   "cell_type": "markdown",
   "id": "e1674086-6043-428d-928e-3d9eee1c00a8",
   "metadata": {},
   "source": [
    "## Q2. Why *args and **keywords is used in some functions? Create a function each for *args and **keywords to demonstrate their use"
   ]
  },
  {
   "cell_type": "code",
   "execution_count": 5,
   "id": "59898aeb-7ad3-4f35-9a03-5db3cfdc9b4d",
   "metadata": {},
   "outputs": [
    {
     "data": {
      "text/plain": [
       "'\\nif *args is used in between two parantheses of the function\\nthen the function will be able to take any number of parametesrs as the input from the user\\n\\nand if we use **keywords in between two parantheses then the function will be able to take input as a key and value pairs\\n'"
      ]
     },
     "execution_count": 5,
     "metadata": {},
     "output_type": "execute_result"
    }
   ],
   "source": [
    "'''\n",
    "if *args is used in between two parantheses of the function\n",
    "then the function will be able to take any number of parametesrs as the input from the user\n",
    "\n",
    "and if we use **keywords in between two parantheses then the function will be able to take input as a key and value pairs\n",
    "'''"
   ]
  },
  {
   "cell_type": "markdown",
   "id": "eea027f1-0ee1-44dc-8aab-a245df02c0c4",
   "metadata": {},
   "source": [
    "### Bellow is the function which will take any number of input parameters"
   ]
  },
  {
   "cell_type": "code",
   "execution_count": 6,
   "id": "8f1a515e-aafe-4983-9643-2e685ea6bb12",
   "metadata": {},
   "outputs": [],
   "source": [
    "def demo(*a):\n",
    "    return a"
   ]
  },
  {
   "cell_type": "code",
   "execution_count": 7,
   "id": "7530a390-1f3b-4b0a-a152-78eda43e0886",
   "metadata": {},
   "outputs": [
    {
     "data": {
      "text/plain": [
       "(8, 4, 2, 0, 21)"
      ]
     },
     "execution_count": 7,
     "metadata": {},
     "output_type": "execute_result"
    }
   ],
   "source": [
    "# Function tacking 5 parameters\n",
    "demo(8, 4, 2, 0, 21)"
   ]
  },
  {
   "cell_type": "code",
   "execution_count": 8,
   "id": "88a047f9-e715-4b90-866e-d1336a57dc70",
   "metadata": {},
   "outputs": [
    {
     "data": {
      "text/plain": [
       "(3, 'Vijay', 'Mathe')"
      ]
     },
     "execution_count": 8,
     "metadata": {},
     "output_type": "execute_result"
    }
   ],
   "source": [
    "# Function taking 3 parameters\n",
    "demo(3, \"Vijay\", \"Mathe\")"
   ]
  },
  {
   "cell_type": "markdown",
   "id": "c2843948-61c2-4fa8-a553-e9ced19c8d0d",
   "metadata": {},
   "source": [
    "### Bellow is the function that will take key value pairs as parameters and will return these keywords in the form of dictionary"
   ]
  },
  {
   "cell_type": "code",
   "execution_count": 9,
   "id": "61bed17c-71e5-4c05-b719-83a30957b5c4",
   "metadata": {},
   "outputs": [],
   "source": [
    "def demo1(**key):\n",
    "    return key"
   ]
  },
  {
   "cell_type": "code",
   "execution_count": 10,
   "id": "ddec82b5-9bba-429d-a6f7-639d17525133",
   "metadata": {},
   "outputs": [
    {
     "data": {
      "text/plain": [
       "{'a': 7, 'h': 0, 'y': 8}"
      ]
     },
     "execution_count": 10,
     "metadata": {},
     "output_type": "execute_result"
    }
   ],
   "source": [
    "demo1(a = 7, h = 0, y = 8)"
   ]
  },
  {
   "cell_type": "markdown",
   "id": "9f4c45ab-57b2-4fd0-afd3-f4197228c924",
   "metadata": {},
   "source": [
    "## Q3. What is the iterator in python ? Name the method used to initialise the iterator object and the method used for iteration. Use these methods to print the first five elements of the given list [2, 4, 6, 8, 10, 12, 14, 16, 18, 20]."
   ]
  },
  {
   "cell_type": "markdown",
   "id": "822ae601-e9e3-46a2-a510-1e52fb0c5b47",
   "metadata": {},
   "source": [
    "### below is the simple function that will print the first five elements of the given list"
   ]
  },
  {
   "cell_type": "code",
   "execution_count": 12,
   "id": "7dad0899-0bec-47c7-8cfc-84a817d7e8fb",
   "metadata": {},
   "outputs": [],
   "source": [
    "l = [2, 4, 6, 8, 10, 12, 14, 16, 18, 20]"
   ]
  },
  {
   "cell_type": "code",
   "execution_count": 15,
   "id": "5a9bb29c-ad13-4698-95d7-d824e6198517",
   "metadata": {},
   "outputs": [
    {
     "name": "stdout",
     "output_type": "stream",
     "text": [
      "2\n",
      "4\n",
      "6\n",
      "8\n",
      "10\n"
     ]
    }
   ],
   "source": [
    "for i in l[:5]:\n",
    "    print(i)"
   ]
  },
  {
   "cell_type": "markdown",
   "id": "4dd4573f-b7cb-4ebe-8c4d-5a3655aef057",
   "metadata": {},
   "source": [
    "### Also in bellow function i used the generator funtion that will print first n even elements"
   ]
  },
  {
   "cell_type": "code",
   "execution_count": 32,
   "id": "32ccb664-52ff-4c24-a164-7a8e7b4c5a95",
   "metadata": {},
   "outputs": [],
   "source": [
    "def return_Even(n):\n",
    "    a = 2\n",
    "    for i in range(0, n):\n",
    "        yield a\n",
    "        a = a + 2;"
   ]
  },
  {
   "cell_type": "code",
   "execution_count": 33,
   "id": "a201c297-af3b-4d35-aa5b-399845d8a1f0",
   "metadata": {},
   "outputs": [
    {
     "name": "stdout",
     "output_type": "stream",
     "text": [
      "2\n",
      "4\n",
      "6\n",
      "8\n",
      "10\n",
      "12\n",
      "14\n",
      "16\n",
      "18\n",
      "20\n"
     ]
    }
   ],
   "source": [
    "for i in return_Even(10):\n",
    "    print(i)"
   ]
  },
  {
   "cell_type": "markdown",
   "id": "bff7d015-cd38-4c27-a3b7-d3dbf60b5c19",
   "metadata": {},
   "source": [
    "## Q4. What is a generator function in python? Why yield keyword is used? Give an example of a generator function"
   ]
  },
  {
   "cell_type": "markdown",
   "id": "611e1ef3-98d2-4d73-93c0-47e8043030e8",
   "metadata": {},
   "source": [
    "### Ans :\n",
    "### The generator function in pyhton is like a range() function which we use often in for loops\n",
    "### Generator function does not saves the entire process it just rememebers the last output and besed on thet last output it makes the next output"
   ]
  },
  {
   "cell_type": "markdown",
   "id": "3640946e-b50e-4707-8d28-d0b4c7684e5e",
   "metadata": {},
   "source": [
    "### Function which i made in 3rd question is the example of generator function"
   ]
  },
  {
   "cell_type": "markdown",
   "id": "3aa0a3f4-90da-4e47-8818-22d08ee58bf5",
   "metadata": {},
   "source": [
    "### Below is another generator function that will start from 0 and continously add one incrementing number to each previously output number"
   ]
  },
  {
   "cell_type": "markdown",
   "id": "9ddbfca6-4d01-4069-a545-a29cae70d8e0",
   "metadata": {},
   "source": [
    "### Result of bellow function will be like this \n",
    "\n",
    "### 0, 0+1 = 1, 1+2 = 3, 3+3 = 6, 6+4 = 10, 10+5 = 15, 15+6 = 21, 21+ 7 = 28\n",
    "\n",
    "### the number which is added to the previous output is continously increasing by 1"
   ]
  },
  {
   "cell_type": "code",
   "execution_count": 47,
   "id": "0238bbb3-7511-496a-8079-f6e11bc085ef",
   "metadata": {},
   "outputs": [],
   "source": [
    "def function_generator(n):\n",
    "    a = 0\n",
    "    num = 1\n",
    "    for i in range(0, n):\n",
    "        yield a\n",
    "        a = a + num\n",
    "        num = num + 1"
   ]
  },
  {
   "cell_type": "code",
   "execution_count": 48,
   "id": "ec577ecc-a06e-4875-b575-979815df99af",
   "metadata": {},
   "outputs": [
    {
     "name": "stdout",
     "output_type": "stream",
     "text": [
      "0\n",
      "1\n",
      "3\n",
      "6\n",
      "10\n",
      "15\n",
      "21\n",
      "28\n",
      "36\n",
      "45\n"
     ]
    }
   ],
   "source": [
    "for i in function_generator(10):\n",
    "    print(i)"
   ]
  },
  {
   "cell_type": "markdown",
   "id": "436bdbc7-bb3c-45de-bf7b-e6d678e7c1c9",
   "metadata": {},
   "source": [
    "## Q5. Create a generator function for prime numbers less than 1000. Use the next() method to print the first 20 prime numbers"
   ]
  },
  {
   "cell_type": "code",
   "execution_count": 24,
   "id": "4cfd938e-4028-42db-8aac-6312da111523",
   "metadata": {},
   "outputs": [
    {
     "name": "stdout",
     "output_type": "stream",
     "text": [
      "2\n",
      "3\n",
      "5\n",
      "7\n",
      "11\n",
      "13\n",
      "17\n",
      "19\n",
      "23\n",
      "29\n",
      "31\n",
      "37\n",
      "41\n",
      "43\n",
      "47\n",
      "53\n",
      "59\n",
      "61\n",
      "67\n",
      "71\n"
     ]
    }
   ],
   "source": [
    "def prime_numbers():\n",
    "    for primes in range(2,1001):\n",
    "        if(all(primes % y != 0 for y in range(2, primes))):\n",
    "           yield primes\n",
    "\n",
    "generator = prime_numbers()\n",
    "for number in range(20):\n",
    "        print(next(generator))"
   ]
  },
  {
   "cell_type": "code",
   "execution_count": null,
   "id": "f1e4a39a-6bf4-44a2-a99c-8dbd8e2b5f38",
   "metadata": {},
   "outputs": [],
   "source": []
  }
 ],
 "metadata": {
  "kernelspec": {
   "display_name": "Python 3 (ipykernel)",
   "language": "python",
   "name": "python3"
  },
  "language_info": {
   "codemirror_mode": {
    "name": "ipython",
    "version": 3
   },
   "file_extension": ".py",
   "mimetype": "text/x-python",
   "name": "python",
   "nbconvert_exporter": "python",
   "pygments_lexer": "ipython3",
   "version": "3.10.8"
  }
 },
 "nbformat": 4,
 "nbformat_minor": 5
}
