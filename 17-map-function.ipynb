{
 "cells": [
  {
   "cell_type": "code",
   "execution_count": 1,
   "id": "5b2d1bca-d9af-4b93-9b89-1d4019616bdd",
   "metadata": {},
   "outputs": [],
   "source": [
    "l = [1, 2, 3, 4, 5, 6]"
   ]
  },
  {
   "cell_type": "code",
   "execution_count": 2,
   "id": "02ca4a1d-5fc1-4297-8457-726055af14c0",
   "metadata": {},
   "outputs": [],
   "source": [
    "def sq(x):\n",
    "    return x**2"
   ]
  },
  {
   "cell_type": "markdown",
   "id": "bf478bc8-7aa3-426e-8e12-62a3155c1681",
   "metadata": {},
   "source": [
    "#### Mapper function takes two parametrers one is a function and other is iterable"
   ]
  },
  {
   "cell_type": "code",
   "execution_count": 5,
   "id": "80b607d2-9af7-4216-bb00-1f6d802f0038",
   "metadata": {},
   "outputs": [
    {
     "data": {
      "text/plain": [
       "[1, 4, 9, 16, 25, 36]"
      ]
     },
     "execution_count": 5,
     "metadata": {},
     "output_type": "execute_result"
    }
   ],
   "source": [
    "list(map(sq, l))"
   ]
  },
  {
   "cell_type": "code",
   "execution_count": 6,
   "id": "cf9dbdad-a63c-483d-ac04-afd30190cc35",
   "metadata": {},
   "outputs": [
    {
     "data": {
      "text/plain": [
       "[1, 4, 9, 16, 25, 36]"
      ]
     },
     "execution_count": 6,
     "metadata": {},
     "output_type": "execute_result"
    }
   ],
   "source": [
    "list(map(lambda x : x**2, l))"
   ]
  },
  {
   "cell_type": "code",
   "execution_count": 1,
   "id": "4820e128-5b66-4faf-bd1c-b1cda71df666",
   "metadata": {},
   "outputs": [
    {
     "data": {
      "text/plain": [
       "['V', 'I', 'J', 'A', 'Y', 'M', 'A', 'T', 'H', 'E']"
      ]
     },
     "execution_count": 1,
     "metadata": {},
     "output_type": "execute_result"
    }
   ],
   "source": [
    "s = \"vijaymathe\"\n",
    "\n",
    "list(map(lambda x : x.upper(), s))"
   ]
  },
  {
   "cell_type": "markdown",
   "id": "cf05187e-5e49-49e0-8690-49743599bd7f",
   "metadata": {},
   "source": [
    "### Create a mapper function that will add two lists according to their index values"
   ]
  },
  {
   "cell_type": "code",
   "execution_count": 2,
   "id": "3e394baf-29f6-47cd-b271-1f90f604cc99",
   "metadata": {},
   "outputs": [
    {
     "data": {
      "text/plain": [
       "[6, 9, 15, 13, 14]"
      ]
     },
     "execution_count": 2,
     "metadata": {},
     "output_type": "execute_result"
    }
   ],
   "source": [
    "l2 = [2, 7, 8, 5, 9]\n",
    "l3 = [4, 2, 7, 8, 5]\n",
    "\n",
    "list(map( lambda x, y : x + y, l2, l3))"
   ]
  },
  {
   "cell_type": "code",
   "execution_count": 3,
   "id": "8e04af22-2ab4-4f2d-bf7d-f805132171bd",
   "metadata": {},
   "outputs": [],
   "source": [
    "f = lambda x, y : x + y"
   ]
  },
  {
   "cell_type": "code",
   "execution_count": 4,
   "id": "0ad63567-3ab3-419c-b31a-f3653f1a970e",
   "metadata": {},
   "outputs": [
    {
     "data": {
      "text/plain": [
       "[6, 9, 15, 13, 14]"
      ]
     },
     "execution_count": 4,
     "metadata": {},
     "output_type": "execute_result"
    }
   ],
   "source": [
    "list(map( f, l2, l3))"
   ]
  },
  {
   "cell_type": "code",
   "execution_count": 5,
   "id": "00d97a47-5b03-4bee-8568-c99571bc9c93",
   "metadata": {},
   "outputs": [],
   "source": [
    "from functools import reduce"
   ]
  },
  {
   "cell_type": "code",
   "execution_count": 7,
   "id": "3e5a1d8f-5383-4bf4-ba84-1d2c51dc9b4d",
   "metadata": {},
   "outputs": [
    {
     "data": {
      "text/plain": [
       "31"
      ]
     },
     "execution_count": 7,
     "metadata": {},
     "output_type": "execute_result"
    }
   ],
   "source": [
    "reduce(lambda x, y : x + y, l2)"
   ]
  },
  {
   "cell_type": "code",
   "execution_count": 8,
   "id": "bb868a42-1dc7-4601-9c2a-595e0d7f5245",
   "metadata": {},
   "outputs": [
    {
     "data": {
      "text/plain": [
       "9"
      ]
     },
     "execution_count": 8,
     "metadata": {},
     "output_type": "execute_result"
    }
   ],
   "source": [
    "reduce(lambda x, y : x if x > y else y, l2)  ## Returns a maximum from the list"
   ]
  },
  {
   "cell_type": "code",
   "execution_count": 10,
   "id": "d8a17463-3b8a-481d-898d-109ca241c3ca",
   "metadata": {},
   "outputs": [
    {
     "data": {
      "text/plain": [
       "2"
      ]
     },
     "execution_count": 10,
     "metadata": {},
     "output_type": "execute_result"
    }
   ],
   "source": [
    "reduce(lambda x, y : x if x < y else y, l2) ## return a minimum number from the list"
   ]
  },
  {
   "cell_type": "code",
   "execution_count": 11,
   "id": "8ba12503-5c20-4b9e-8583-87f5f782d5f2",
   "metadata": {},
   "outputs": [],
   "source": [
    "l3 = [1, 2, 3, 4, 5, 6, 7, 8, 9, 0, 10, 11, 12]"
   ]
  },
  {
   "cell_type": "code",
   "execution_count": 12,
   "id": "eaf05a6e-3750-499e-a896-8bf6504c0d8d",
   "metadata": {},
   "outputs": [
    {
     "data": {
      "text/plain": [
       "[2, 4, 6, 8, 0, 10, 12]"
      ]
     },
     "execution_count": 12,
     "metadata": {},
     "output_type": "execute_result"
    }
   ],
   "source": [
    "list(filter(lambda x : x % 2 == 0, l3)) ## Return all the even numbers from the list"
   ]
  },
  {
   "cell_type": "code",
   "execution_count": 13,
   "id": "7af7ee79-df02-4f7c-95a2-b422c6b3bfb6",
   "metadata": {},
   "outputs": [
    {
     "data": {
      "text/plain": [
       "[-3, -2, -8]"
      ]
     },
     "execution_count": 13,
     "metadata": {},
     "output_type": "execute_result"
    }
   ],
   "source": [
    "l4 = [-3, 8, 6, -2, -8, 0]\n",
    "\n",
    "list(filter(lambda x : x < 0, l4))"
   ]
  },
  {
   "cell_type": "markdown",
   "id": "87c89846-1aa6-4b51-b070-1628bdf2d6cd",
   "metadata": {},
   "source": [
    "### Create one function that will only return a striing which is having langth more than 4"
   ]
  },
  {
   "cell_type": "code",
   "execution_count": 11,
   "id": "6fb83c2e-dbfd-49b9-8562-12a7374b5c28",
   "metadata": {},
   "outputs": [],
   "source": [
    "l5 = [\"Vijay\", \"Mathe\", \"Sangwa\", \"Bhawani\", \"Gajanan\", \"Maharaj\", \"ki\", \"jay\"]"
   ]
  },
  {
   "cell_type": "code",
   "execution_count": 12,
   "id": "e3070ff0-83ae-435e-ad07-d0d4ce0ee7af",
   "metadata": {},
   "outputs": [
    {
     "data": {
      "text/plain": [
       "['Vijay', 'Mathe', 'Sangwa', 'Bhawani', 'Gajanan', 'Maharaj']"
      ]
     },
     "execution_count": 12,
     "metadata": {},
     "output_type": "execute_result"
    }
   ],
   "source": [
    "list(filter(lambda s : len(s) > 4, l5))"
   ]
  },
  {
   "cell_type": "code",
   "execution_count": null,
   "id": "6756c6b7-5346-4c06-bbc9-68e67c92d24f",
   "metadata": {},
   "outputs": [],
   "source": []
  }
 ],
 "metadata": {
  "kernelspec": {
   "display_name": "Python 3 (ipykernel)",
   "language": "python",
   "name": "python3"
  },
  "language_info": {
   "codemirror_mode": {
    "name": "ipython",
    "version": 3
   },
   "file_extension": ".py",
   "mimetype": "text/x-python",
   "name": "python",
   "nbconvert_exporter": "python",
   "pygments_lexer": "ipython3",
   "version": "3.10.8"
  }
 },
 "nbformat": 4,
 "nbformat_minor": 5
}
