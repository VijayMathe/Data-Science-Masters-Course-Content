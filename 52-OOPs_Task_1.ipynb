{
 "cells": [
  {
   "cell_type": "markdown",
   "id": "de6e3aed-668e-4012-8c09-cc7eadbf15e6",
   "metadata": {},
   "source": [
    "## Q1, Create a vehicle class with an init method having instance variables as name_of_vehicle, max_speed and average_of_vehicle."
   ]
  },
  {
   "cell_type": "code",
   "execution_count": 1,
   "id": "1610d473-42ca-46d7-a2d3-1a4c8a29d017",
   "metadata": {},
   "outputs": [],
   "source": [
    "class Vehicle:\n",
    "    def __init__(self, name_of_vehicle, max_speed, average_of_vehicle):\n",
    "        self.name_of_vehicle = name_of_vehicle\n",
    "        self.max_speed = max_speed\n",
    "        self.average_of_vehicle = average_of_vehicle"
   ]
  },
  {
   "cell_type": "markdown",
   "id": "c12e2cc2-4537-4e17-9040-0b77d762b813",
   "metadata": {},
   "source": [
    "### Q2. Create a child class car from the vehicle class created in Que 1, which will inherit the vehicle class. Create a method named seating_capacity which takes capacity as an argument and returns the name of the vehicle and its seating capacity."
   ]
  },
  {
   "cell_type": "code",
   "execution_count": 3,
   "id": "8193c150-cad3-48fd-9775-307e0135544e",
   "metadata": {},
   "outputs": [
    {
     "name": "stdout",
     "output_type": "stream",
     "text": [
      "Car 4\n"
     ]
    }
   ],
   "source": [
    "class Car(Vehicle):\n",
    "    def seating_capacity(self, capacity):\n",
    "        return f\"{self.name_of_vehicle} {capacity}\"\n",
    "\n",
    "car = Car(\"Car\", 200, 50)\n",
    "result = car.seating_capacity(4)\n",
    "print(result)"
   ]
  },
  {
   "cell_type": "markdown",
   "id": "8753cf7d-6c1d-4b65-a966-c9055fcf99b7",
   "metadata": {},
   "source": [
    "### Q3. What is multiple inheritance? Write a python code to demonstrate multiple inheritance."
   ]
  },
  {
   "cell_type": "markdown",
   "id": "9593a479-bf86-4e64-ac26-1133394ecb47",
   "metadata": {},
   "source": [
    "## Ans: \n",
    "## Multiple inheritance is a feature in object-oriented programming where a class can inherit attributes and behaviors from multiple parent classes. The class can inherit from more than one base class."
   ]
  },
  {
   "cell_type": "code",
   "execution_count": 5,
   "id": "a0394f18-ba1a-4e23-a569-3fd603e7b75d",
   "metadata": {},
   "outputs": [
    {
     "name": "stdout",
     "output_type": "stream",
     "text": [
      "Bat\n",
      "Mammal sound\n"
     ]
    }
   ],
   "source": [
    "class Animal:\n",
    "    def __init__(self, name):\n",
    "        self.name = name\n",
    "\n",
    "    def speak(self):\n",
    "        pass\n",
    "\n",
    "class Mammal(Animal):\n",
    "    def speak(self):\n",
    "        return \"Mammal sound\"\n",
    "\n",
    "class Bird(Animal):\n",
    "    def speak(self):\n",
    "        return \"Bird sound\"\n",
    "\n",
    "class Bat(Mammal, Bird):\n",
    "    pass\n",
    "\n",
    "bat = Bat(\"Bat\")\n",
    "print(bat.name)\n",
    "print(bat.speak())"
   ]
  },
  {
   "cell_type": "markdown",
   "id": "bfa090ad-4297-4897-ba6f-6754ca10b076",
   "metadata": {},
   "source": [
    "### Q4. What are getter and setter in python? Create a class and create a getter and a setter method in this class."
   ]
  },
  {
   "cell_type": "markdown",
   "id": "eb36915a-eb37-4594-8baf-05c31d2d4f50",
   "metadata": {},
   "source": [
    "### Ans:\n",
    "\n",
    "### In Python, getters and setters are methods used to access and modify the attributes (variables) of a class in a controlled manner."
   ]
  },
  {
   "cell_type": "code",
   "execution_count": 6,
   "id": "80d21917-7004-429a-8cbc-81d482972518",
   "metadata": {},
   "outputs": [],
   "source": [
    "class Person:\n",
    "    \n",
    "    def __init__(self, name, age):\n",
    "        self._name = name\n",
    "        self._age = age\n",
    "\n",
    "    def get_name(self):\n",
    "        return self._name\n",
    "\n",
    "    def set_name(self, name):\n",
    "        self._name = name\n",
    "\n",
    "    def get_age(self):\n",
    "        return self._age\n",
    "\n",
    "    def set_age(self, age):\n",
    "        if age >= 0:\n",
    "            self._age = age\n",
    "        else:\n",
    "            print(\"Invalid age value. Age must be non-negative.\")\n"
   ]
  },
  {
   "cell_type": "code",
   "execution_count": 7,
   "id": "41b91993-94d8-42e2-80d1-06e5ccd9a457",
   "metadata": {},
   "outputs": [
    {
     "name": "stdout",
     "output_type": "stream",
     "text": [
      "John\n",
      "25\n",
      "Jane\n",
      "30\n"
     ]
    }
   ],
   "source": [
    "person = Person(\"John\", 25)\n",
    "\n",
    "print(person.get_name())\n",
    "print(person.get_age())\n",
    "\n",
    "person.set_name(\"Jane\")\n",
    "person.set_age(30)\n",
    "\n",
    "print(person.get_name())\n",
    "print(person.get_age())"
   ]
  },
  {
   "cell_type": "markdown",
   "id": "21f7cc11-94d2-436e-aec1-ae22d8c4faf0",
   "metadata": {},
   "source": [
    "### Q5.What is method overriding in python? Write a python code to demonstrate method overriding."
   ]
  },
  {
   "cell_type": "markdown",
   "id": "54a5f56d-bf33-4cb5-bf39-1f7343c73c6e",
   "metadata": {},
   "source": [
    "### Ans:\n",
    "### Method overriding in Python is a concept in object-oriented programming where a subclass provides a different implementation for a method that is already defined in its parent class."
   ]
  },
  {
   "cell_type": "code",
   "execution_count": null,
   "id": "6e4cfeee-2e9a-417d-bf59-311c4cede407",
   "metadata": {},
   "outputs": [],
   "source": [
    "class Animal:\n",
    "    def sound(self):\n",
    "        return \"Animal sound\"\n",
    "\n",
    "class Dog(Animal):\n",
    "    def sound(self):\n",
    "        return \"Bark\"\n",
    "\n",
    "class Cat(Animal):\n",
    "    def sound(self):\n",
    "        return \"Meow\"\n",
    "\n",
    "# Create instances of the classes\n",
    "animal = Animal()\n",
    "dog = Dog()\n",
    "cat = Cat()\n",
    "\n",
    "# Call the sound method on each instance\n",
    "print(animal.sound())   # Output: Animal sound\n",
    "print(dog.sound())      # Output: Bark\n",
    "print(cat.sound())      # Output: Meow\n"
   ]
  }
 ],
 "metadata": {
  "kernelspec": {
   "display_name": "Python 3 (ipykernel)",
   "language": "python",
   "name": "python3"
  },
  "language_info": {
   "codemirror_mode": {
    "name": "ipython",
    "version": 3
   },
   "file_extension": ".py",
   "mimetype": "text/x-python",
   "name": "python",
   "nbconvert_exporter": "python",
   "pygments_lexer": "ipython3",
   "version": "3.10.8"
  }
 },
 "nbformat": 4,
 "nbformat_minor": 5
}
