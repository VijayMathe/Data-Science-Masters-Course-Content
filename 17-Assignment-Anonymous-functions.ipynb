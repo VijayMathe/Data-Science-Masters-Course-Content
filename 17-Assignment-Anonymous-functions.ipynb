{
 "cells": [
  {
   "cell_type": "markdown",
   "id": "61a23822-db36-4177-859f-35a4cc96021f",
   "metadata": {},
   "source": [
    "## Q1. Create a python program to sort the given list of tuples based on integer value using a lambda function.\n",
    "## [('Sachin Tendulkar', 34357), ('Ricky Ponting', 27483), ('Jack Kallis', 25534), ('Virat Kohli', 24936)]"
   ]
  },
  {
   "cell_type": "code",
   "execution_count": 12,
   "id": "931b0ca1-c87a-4692-9151-c951af007b6e",
   "metadata": {},
   "outputs": [],
   "source": [
    "L = [('Sachin Tendulkar', 34357), ('Ricky Ponting', 27483), ('Jack Kallis', 25534), ('Virat Kohli', 24936)]"
   ]
  },
  {
   "cell_type": "code",
   "execution_count": 13,
   "id": "31d53aa8-36ea-4b62-ab04-97606ee311e2",
   "metadata": {},
   "outputs": [
    {
     "name": "stdout",
     "output_type": "stream",
     "text": [
      "None\n"
     ]
    }
   ],
   "source": [
    "result = L.sort(key = lambda x: x[1])\n",
    "print(result)"
   ]
  },
  {
   "cell_type": "markdown",
   "id": "c6711189-d9c5-498d-8e5f-a7bd58bf7acd",
   "metadata": {},
   "source": [
    "## Q2. Write a Python Program to find the squares of all the numbers in the given list of integers using lambda and map functions.\n",
    "## [1, 2, 3, 4, 5, 6, 7, 8, 9, 10]"
   ]
  },
  {
   "cell_type": "code",
   "execution_count": 4,
   "id": "0c28a81c-9924-4e42-9764-9a9c50069c6c",
   "metadata": {},
   "outputs": [],
   "source": [
    "li = [1, 2, 3, 4, 5, 6, 7, 8, 9, 10]"
   ]
  },
  {
   "cell_type": "code",
   "execution_count": 7,
   "id": "1a7b323d-76ae-437f-9638-502ead9b80dc",
   "metadata": {},
   "outputs": [
    {
     "data": {
      "text/plain": [
       "[1, 4, 9, 16, 25, 36, 49, 64, 81, 100]"
      ]
     },
     "execution_count": 7,
     "metadata": {},
     "output_type": "execute_result"
    }
   ],
   "source": [
    "list(map(func, li))"
   ]
  },
  {
   "cell_type": "markdown",
   "id": "704a42cd-19a2-4179-999e-bd416764146b",
   "metadata": {},
   "source": [
    "## Q3. Write a python program to convert the given list of integers into a tuple of strings. Use map and lambda functions\n",
    "## Given String: [1, 2, 3, 4, 5, 6, 7, 8, 9, 10]\n",
    "## Expected output: ('1', '2', '3', '4', '5', '6', '7', '8', '9', '10')"
   ]
  },
  {
   "cell_type": "code",
   "execution_count": 13,
   "id": "4261d851-74ec-44f0-88a3-c0186e694d78",
   "metadata": {},
   "outputs": [],
   "source": [
    "lis = [1, 2, 3, 4, 5, 6, 7, 8, 9, 10]"
   ]
  },
  {
   "cell_type": "code",
   "execution_count": 14,
   "id": "cadbcdd9-687a-401f-ad0b-996e16cbae35",
   "metadata": {},
   "outputs": [],
   "source": [
    "funct = lambda x : str(x)"
   ]
  },
  {
   "cell_type": "code",
   "execution_count": 15,
   "id": "51684f6b-ae7b-417f-890f-4c7776ea54ae",
   "metadata": {},
   "outputs": [
    {
     "data": {
      "text/plain": [
       "['1', '2', '3', '4', '5', '6', '7', '8', '9', '10']"
      ]
     },
     "execution_count": 15,
     "metadata": {},
     "output_type": "execute_result"
    }
   ],
   "source": [
    "list(map(funct, lis))"
   ]
  },
  {
   "cell_type": "markdown",
   "id": "4a76fe46-eba5-47fc-8659-4335ed6facf2",
   "metadata": {},
   "source": [
    "## Q4. Write a python program using reduce function to compute the product of a list containing numbers from 1 to 25."
   ]
  },
  {
   "cell_type": "code",
   "execution_count": 69,
   "id": "9e561932-eadf-4b9f-8017-f74fc0dd6ed4",
   "metadata": {},
   "outputs": [],
   "source": [
    "from functools import reduce"
   ]
  },
  {
   "cell_type": "code",
   "execution_count": 70,
   "id": "c6b3fbd8-b9c5-4be6-8e79-c5c1f9ad1479",
   "metadata": {},
   "outputs": [],
   "source": [
    "List = [1, 2, 3, 4, 5, 6, 7, 8, 9, 10, 11, 12, 13, 14, 15, 16, 17, 18, 19, 20, 21, 22, 23, 24, 25]"
   ]
  },
  {
   "cell_type": "code",
   "execution_count": 73,
   "id": "643d35ea-6b49-4b05-975c-794dbaec4efb",
   "metadata": {},
   "outputs": [
    {
     "data": {
      "text/plain": [
       "15511210043330985984000000"
      ]
     },
     "execution_count": 73,
     "metadata": {},
     "output_type": "execute_result"
    }
   ],
   "source": [
    "reduce(lambda x, y : x*y, List)"
   ]
  },
  {
   "cell_type": "markdown",
   "id": "eb7e4068-e1be-4c61-aee1-782aab3d975b",
   "metadata": {},
   "source": [
    "## Q5. Write a python program to filter the numbers in a given list that are divisible by 2 and 3 using the filter function.\n",
    "## [2, 3, 6, 9, 27, 60, 90, 120, 55, 46]"
   ]
  },
  {
   "cell_type": "code",
   "execution_count": 80,
   "id": "7d3d55b3-34f4-4279-b24f-d9c4e9196426",
   "metadata": {},
   "outputs": [],
   "source": [
    "Lis = [2, 3, 6, 9, 27, 60, 90, 120, 55, 46]"
   ]
  },
  {
   "cell_type": "code",
   "execution_count": 81,
   "id": "e321b68b-00f0-426a-a683-6d6700058f39",
   "metadata": {},
   "outputs": [
    {
     "data": {
      "text/plain": [
       "[6, 60, 90, 120]"
      ]
     },
     "execution_count": 81,
     "metadata": {},
     "output_type": "execute_result"
    }
   ],
   "source": [
    "list(filter(lambda x : x % 2 == 0 and x % 3 == 0, Lis))"
   ]
  },
  {
   "cell_type": "markdown",
   "id": "a9cd9bb1-254f-46fa-b916-759b4da8acd4",
   "metadata": {},
   "source": [
    "## Q6. Write a python program to find palindromes in the given list of strings using lambda and filter function.\n",
    "## ['python', 'php', 'aba', 'radar', 'level']"
   ]
  },
  {
   "cell_type": "code",
   "execution_count": 2,
   "id": "15c12fb4-8b51-4223-941c-3d719dfe4427",
   "metadata": {},
   "outputs": [
    {
     "name": "stdout",
     "output_type": "stream",
     "text": [
      "['php', 'aba', 'radar', 'level']\n"
     ]
    }
   ],
   "source": [
    "list1 = [\"python\", \"php\", \"aba\", \"radar\", \"level\"]\n",
    "res = list(filter(lambda x : (x == \"\".join(reversed(x))), list1));\n",
    "print(res)"
   ]
  },
  {
   "cell_type": "code",
   "execution_count": null,
   "id": "6992ee4a-44b1-4b5c-b751-1c969d836e63",
   "metadata": {},
   "outputs": [],
   "source": []
  }
 ],
 "metadata": {
  "kernelspec": {
   "display_name": "Python 3 (ipykernel)",
   "language": "python",
   "name": "python3"
  },
  "language_info": {
   "codemirror_mode": {
    "name": "ipython",
    "version": 3
   },
   "file_extension": ".py",
   "mimetype": "text/x-python",
   "name": "python",
   "nbconvert_exporter": "python",
   "pygments_lexer": "ipython3",
   "version": "3.10.8"
  }
 },
 "nbformat": 4,
 "nbformat_minor": 5
}
